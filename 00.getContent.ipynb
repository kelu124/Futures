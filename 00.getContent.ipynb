{
 "cells": [
  {
   "cell_type": "code",
   "execution_count": 2,
   "id": "01c8b299",
   "metadata": {},
   "outputs": [
    {
     "name": "stdout",
     "output_type": "stream",
     "text": [
      "The autoreload extension is already loaded. To reload it, use:\n",
      "  %reload_ext autoreload\n"
     ]
    }
   ],
   "source": [
    "%load_ext autoreload\n",
    "%autoreload 2\n",
    "\n",
    "import helpers as s"
   ]
  },
  {
   "cell_type": "markdown",
   "id": "afraid-dealing",
   "metadata": {},
   "source": [
    "# Get archives"
   ]
  },
  {
   "cell_type": "code",
   "execution_count": 5,
   "id": "inside-produce",
   "metadata": {},
   "outputs": [
    {
     "name": "stdout",
     "output_type": "stream",
     "text": [
      "24\n"
     ]
    }
   ],
   "source": [
    "BASE_URL = \"substack.kghosh.me\"\n",
    "pages = s.get_cache(BASE_URL)"
   ]
  },
  {
   "cell_type": "code",
   "execution_count": 8,
   "id": "convinced-glenn",
   "metadata": {},
   "outputs": [
    {
     "data": {
      "text/html": [
       "<div>\n",
       "<style scoped>\n",
       "    .dataframe tbody tr th:only-of-type {\n",
       "        vertical-align: middle;\n",
       "    }\n",
       "\n",
       "    .dataframe tbody tr th {\n",
       "        vertical-align: top;\n",
       "    }\n",
       "\n",
       "    .dataframe thead th {\n",
       "        text-align: right;\n",
       "    }\n",
       "</style>\n",
       "<table border=\"1\" class=\"dataframe\">\n",
       "  <thead>\n",
       "    <tr style=\"text-align: right;\">\n",
       "      <th></th>\n",
       "      <th>page</th>\n",
       "      <th>url</th>\n",
       "      <th>hash</th>\n",
       "    </tr>\n",
       "  </thead>\n",
       "  <tbody>\n",
       "    <tr>\n",
       "      <th>0</th>\n",
       "      <td>.cache/20231005</td>\n",
       "      <td>b'https://substack.com/redirect/d15ca0c2-d206-...</td>\n",
       "      <td>387cc7d6dcac314087dfc35f2091b410</td>\n",
       "    </tr>\n",
       "    <tr>\n",
       "      <th>1</th>\n",
       "      <td>.cache/20231005</td>\n",
       "      <td>b'https://www.businessinsider.com/social-media...</td>\n",
       "      <td>73a2bffc6e94204086528949ae1205e7</td>\n",
       "    </tr>\n",
       "    <tr>\n",
       "      <th>2</th>\n",
       "      <td>.cache/20231005</td>\n",
       "      <td>b'https://timeleft.com/how-it-works/'</td>\n",
       "      <td>c9a5565872275abe991e0dd742c7e51a</td>\n",
       "    </tr>\n",
       "    <tr>\n",
       "      <th>3</th>\n",
       "      <td>.cache/20231005</td>\n",
       "      <td>b'https://www.bain.com/insights/better-with-ag...</td>\n",
       "      <td>73f1352a504ec78d7c92fa6f9b7c6922</td>\n",
       "    </tr>\n",
       "    <tr>\n",
       "      <th>4</th>\n",
       "      <td>.cache/20231005</td>\n",
       "      <td>b'https://laetitiaatwork.substack.com/p/what-f...</td>\n",
       "      <td>d6b48e83bcc0c6e8e7c4328f27d65d0b</td>\n",
       "    </tr>\n",
       "    <tr>\n",
       "      <th>...</th>\n",
       "      <td>...</td>\n",
       "      <td>...</td>\n",
       "      <td>...</td>\n",
       "    </tr>\n",
       "    <tr>\n",
       "      <th>2128</th>\n",
       "      <td>.cache/20240310</td>\n",
       "      <td>b'https://harpers.org/archive/2013/04/untitled...</td>\n",
       "      <td>ac130bc41410180fe7c286ee0365897a</td>\n",
       "    </tr>\n",
       "    <tr>\n",
       "      <th>2129</th>\n",
       "      <td>.cache/20240310</td>\n",
       "      <td>b'https://arstechnica.com/information-technolo...</td>\n",
       "      <td>3b1f8558dd4d35b81f17be6e7cdcd3a7</td>\n",
       "    </tr>\n",
       "    <tr>\n",
       "      <th>2130</th>\n",
       "      <td>.cache/20240310</td>\n",
       "      <td>b'https://novataxa.blogspot.com/2024/03/relict...</td>\n",
       "      <td>43086b62c7185012efb65c4619370c41</td>\n",
       "    </tr>\n",
       "    <tr>\n",
       "      <th>2131</th>\n",
       "      <td>.cache/20240310</td>\n",
       "      <td>b'https://substackcdn.com/image/fetch/f_auto,q...</td>\n",
       "      <td>12092f97bcd974187491d7f313c56e40</td>\n",
       "    </tr>\n",
       "    <tr>\n",
       "      <th>2132</th>\n",
       "      <td>.cache/20240310</td>\n",
       "      <td>b'https://www.youtube.com/watch?v=pktz3rPM2QI'</td>\n",
       "      <td>c92133fb31511f3e8a4b29ac964f64a3</td>\n",
       "    </tr>\n",
       "  </tbody>\n",
       "</table>\n",
       "<p>2093 rows × 3 columns</p>\n",
       "</div>"
      ],
      "text/plain": [
       "                 page                                                url  \\\n",
       "0     .cache/20231005  b'https://substack.com/redirect/d15ca0c2-d206-...   \n",
       "1     .cache/20231005  b'https://www.businessinsider.com/social-media...   \n",
       "2     .cache/20231005              b'https://timeleft.com/how-it-works/'   \n",
       "3     .cache/20231005  b'https://www.bain.com/insights/better-with-ag...   \n",
       "4     .cache/20231005  b'https://laetitiaatwork.substack.com/p/what-f...   \n",
       "...               ...                                                ...   \n",
       "2128  .cache/20240310  b'https://harpers.org/archive/2013/04/untitled...   \n",
       "2129  .cache/20240310  b'https://arstechnica.com/information-technolo...   \n",
       "2130  .cache/20240310  b'https://novataxa.blogspot.com/2024/03/relict...   \n",
       "2131  .cache/20240310  b'https://substackcdn.com/image/fetch/f_auto,q...   \n",
       "2132  .cache/20240310     b'https://www.youtube.com/watch?v=pktz3rPM2QI'   \n",
       "\n",
       "                                  hash  \n",
       "0     387cc7d6dcac314087dfc35f2091b410  \n",
       "1     73a2bffc6e94204086528949ae1205e7  \n",
       "2     c9a5565872275abe991e0dd742c7e51a  \n",
       "3     73f1352a504ec78d7c92fa6f9b7c6922  \n",
       "4     d6b48e83bcc0c6e8e7c4328f27d65d0b  \n",
       "...                                ...  \n",
       "2128  ac130bc41410180fe7c286ee0365897a  \n",
       "2129  3b1f8558dd4d35b81f17be6e7cdcd3a7  \n",
       "2130  43086b62c7185012efb65c4619370c41  \n",
       "2131  12092f97bcd974187491d7f313c56e40  \n",
       "2132  c92133fb31511f3e8a4b29ac964f64a3  \n",
       "\n",
       "[2093 rows x 3 columns]"
      ]
     },
     "execution_count": 8,
     "metadata": {},
     "output_type": "execute_result"
    }
   ],
   "source": [
    "s.getlinks()"
   ]
  },
  {
   "cell_type": "code",
   "execution_count": 9,
   "id": "satisfactory-priest",
   "metadata": {},
   "outputs": [
    {
     "name": "stdout",
     "output_type": "stream",
     "text": [
      "b'https://autonomy.work/wp-content/uploads/2023/02/The-results-are-in-The-UKs-four-day-week-pilot.pdf?utm_source=substack&utm_medium=email' error.\n",
      "0ba076c00e627c9307ffe4245720fd98 saved.\n",
      "b'https://archive.ph/oQkAq' error.\n",
      "b86599746d0857a5b52e54e4b0538a4e saved.\n",
      "b'http://370 New Words to the Dictionary' error.\n",
      "2a619bdc5a324f06d912b571039836ef saved.\n",
      "b'https://d1a.com/perspective/fashion-purposefully-inconvenient-wire-headphones-cash-gen-z-sustainability?utm_source=substack&utm_medium=email' error.\n",
      "c64d5801459e6dd44ce5d167e28dd577 saved.\n",
      "b'https://jdmeier.com/satya-nadella-on-copilot/' error.\n",
      "c5bf91d513f7a2458c01e233d30e2463 saved.\n",
      "b'https://www.seattletimes.com/business/amazon/amazon-cuts-several-hundred-jobs-in-its-alexa-division' error.\n",
      "cc6c5f896ede1e347ecb6f17b9c5b770 saved.\n",
      "b'https://www.octopusintelligence.com/list-of-competitive-intelligence-osint-image-tools-to-analyse-images/?utm_source=substack&utm_medium=email' error.\n",
      "e9f58ea180417b5a47e5959cd180e9b5 saved.\n",
      "b'http://Kytch devices' error.\n",
      "b44fed50dde89044dbdf57dd83378fc8 saved.\n",
      "b'https://www.coololdgames.com/card-games/rummy/tonk/' error.\n",
      "4f5f786e103b90c45f08b85d9a0d8dc5 saved.\n",
      "b'https://www.imf.org/en/Publications/Staff-Discussion-Notes/Issues/2024/01/14/Gen-AI-Artificial-Intelligence-and-the-Future-of-Work-542379?utm_source=substack&utm_medium=email' error.\n",
      "705d166e871c835a8351b0d3edef4e78 saved.\n",
      "b'https://www.nasdaq.com/articles/canadas-blueberry-farms-dont-have-enough-bees-everyone-should-be-worried' error.\n",
      "0e37d73a6e36fd80ee5af50978897b86 saved.\n",
      "b'https://archive.ph/X14An' error.\n",
      "e6910fa9836fd3a9f04742ff9450de5c saved.\n",
      "b'https://www.nplusonemag.com/issue-44/the-intellectual-situation/why-is-everything-so-ugly/#rf1-34098' error.\n",
      "e95bdf2864f66c3a2397fdb9bb7dac45 saved.\n",
      "b'https://www.seattletimes.com/business/amazon/amazons-turnover-rate-amid-pandemic-is-at-least-double-the-average-for-retail-and-warehousing-industries/' error.\n",
      "a14bb86fb1a1261ba61770de581995f0 saved.\n",
      "b'https://misfitsarchitecture.com/2023/08/27/holes-in-buildings/?ref=thebrowser.com&utm_source=substack&utm_medium=email' error.\n",
      "f28009863232a7c852c1b8f3937dc87c saved.\n",
      "b'https://www.imf.org/-/media/Files/Publications/SDN/2024/English/SDNEA2024001.ashx' error.\n",
      "403e5c695a24458e65b67a07c9e02691 saved.\n"
     ]
    }
   ],
   "source": [
    "s.pages_content(\"data/urls.parquet.gzip\")"
   ]
  },
  {
   "cell_type": "code",
   "execution_count": null,
   "id": "692d2b15",
   "metadata": {},
   "outputs": [],
   "source": [
    "\n",
    "s.download_pages(archivepath='.archive')"
   ]
  },
  {
   "cell_type": "code",
   "execution_count": null,
   "id": "c8abae99",
   "metadata": {},
   "outputs": [],
   "source": [
    "s.createSeeds()"
   ]
  },
  {
   "cell_type": "code",
   "execution_count": null,
   "id": "66c820c3",
   "metadata": {},
   "outputs": [],
   "source": [
    "s.do_signals()"
   ]
  },
  {
   "cell_type": "code",
   "execution_count": null,
   "id": "ad71726d",
   "metadata": {},
   "outputs": [],
   "source": [
    "s.do_meta()"
   ]
  }
 ],
 "metadata": {
  "kernelspec": {
   "display_name": "Python 3 (ipykernel)",
   "language": "python",
   "name": "python3"
  },
  "language_info": {
   "codemirror_mode": {
    "name": "ipython",
    "version": 3
   },
   "file_extension": ".py",
   "mimetype": "text/x-python",
   "name": "python",
   "nbconvert_exporter": "python",
   "pygments_lexer": "ipython3",
   "version": "3.10.12"
  }
 },
 "nbformat": 4,
 "nbformat_minor": 5
}
