{
 "cells": [
  {
   "cell_type": "code",
   "execution_count": 4,
   "id": "chinese-brook",
   "metadata": {},
   "outputs": [],
   "source": [
    "# https://adrien.barbaresi.eu/blog/trafilatura-main-text-content-python.html\n",
    "\n",
    "import requests\n",
    "import bs4\n",
    "from bs4 import BeautifulSoup\n",
    "import os\n"
   ]
  },
  {
   "cell_type": "markdown",
   "id": "afraid-dealing",
   "metadata": {},
   "source": [
    "# Get archives"
   ]
  },
  {
   "cell_type": "code",
   "execution_count": 5,
   "id": "inside-produce",
   "metadata": {},
   "outputs": [
    {
     "name": "stdout",
     "output_type": "stream",
     "text": [
      "12 [<a class=\"post-preview-title newsletter\" href=\"https://kghosh.substack.com/p/20230521\">20230521</a>, <a class=\"post-preview-title newsletter\" href=\"https://kghosh.substack.com/p/20230513\">20230513</a>, <a class=\"post-preview-title newsletter\" href=\"https://kghosh.substack.com/p/20230505\">20230505</a>, <a class=\"post-preview-title newsletter\" href=\"https://kghosh.substack.com/p/20230423\">20230423</a>, <a class=\"post-preview-title newsletter\" href=\"https://kghosh.substack.com/p/20230416\">20230416</a>, <a class=\"post-preview-title newsletter\" href=\"https://kghosh.substack.com/p/fully-homomorphic-encryption\">Fully Homomorphic Encryption</a>, <a class=\"post-preview-title newsletter\" href=\"https://kghosh.substack.com/p/20230408\">20230408</a>, <a class=\"post-preview-title newsletter\" href=\"https://kghosh.substack.com/p/20230401\">20230401</a>, <a class=\"post-preview-title newsletter\" href=\"https://kghosh.substack.com/p/when-the-tide-of-ai-generated-texts\">When the Tide of AI-generated Texts Rises</a>, <a class=\"post-preview-title newsletter\" href=\"https://kghosh.substack.com/p/20230325\">20230325</a>, <a class=\"post-preview-title newsletter\" href=\"https://kghosh.substack.com/p/20230319\">20230319</a>, <a class=\"post-preview-title newsletter\" href=\"https://kghosh.substack.com/p/20230312\">20230312</a>]\n"
     ]
    },
    {
     "data": {
      "text/plain": [
       "(12,\n",
       " ['https://kghosh.substack.com/p/20230312',\n",
       "  'https://kghosh.substack.com/p/20230505',\n",
       "  'https://kghosh.substack.com/p/20230521',\n",
       "  'https://kghosh.substack.com/p/fully-homomorphic-encryption',\n",
       "  'https://kghosh.substack.com/p/20230416',\n",
       "  'https://kghosh.substack.com/p/20230408',\n",
       "  'https://kghosh.substack.com/p/20230325',\n",
       "  'https://kghosh.substack.com/p/20230423',\n",
       "  'https://kghosh.substack.com/p/when-the-tide-of-ai-generated-texts',\n",
       "  'https://kghosh.substack.com/p/20230513',\n",
       "  'https://kghosh.substack.com/p/20230319',\n",
       "  'https://kghosh.substack.com/p/20230401'])"
      ]
     },
     "execution_count": 5,
     "metadata": {},
     "output_type": "execute_result"
    }
   ],
   "source": [
    "page_url = \"https://kghosh.substack.com/archive\"\n",
    "\n",
    "page_sourced = requests.get(page_url).content \n",
    "\n",
    "html_content = BeautifulSoup(page_sourced, \"html.parser\")\n",
    "# #main > div.archive-page.typography.use-theme-bg > div > div > div.portable-archive-list > div:nth-child(19) > div.post-preview-content > a.post-preview-title.newsletter\n",
    "links = html_content.findAll('a', class_=\"post-preview-title newsletter\")\n",
    "print(len(links),links) \n",
    "pages = [i.get('href') for i in links if (not (i.get('href') is None))]\n",
    "\n",
    "pages = [ i for i in pages  if \"https://kghosh.substack.com/p/\" in i ]\n",
    "pages = list(set([ i for i in pages  if not i.endswith(\"comments\") ]))\n",
    "len(pages), pages"
   ]
  },
  {
   "cell_type": "code",
   "execution_count": 6,
   "id": "functional-gregory",
   "metadata": {},
   "outputs": [
    {
     "name": "stdout",
     "output_type": "stream",
     "text": [
      "20230312 exists.\n",
      "20230505 exists.\n",
      "20230521 saved\n",
      "fully-homomorphic-encryption exists.\n",
      "20230416 exists.\n",
      "20230408 exists.\n",
      "20230325 exists.\n",
      "20230423 exists.\n",
      "when-the-tide-of-ai-generated-texts exists.\n",
      "20230513 exists.\n",
      "20230319 exists.\n",
      "20230401 exists.\n"
     ]
    }
   ],
   "source": [
    "for page in pages:\n",
    "    name = page.split(\"/\")[-1]\n",
    "\n",
    "    if not os.path.exists(\".cache/\"+name):\n",
    "        page_sourced = requests.get(page).content \n",
    "        html_content = BeautifulSoup(page_sourced, \"html.parser\")\n",
    "        content = html_content.findAll('div', class_=\"body markup\")\n",
    "\n",
    "        with open(\".cache/\"+name, 'w') as f:\n",
    "            f.write(str(content))\n",
    "        print(name,\"saved\")\n",
    "    else:\n",
    "        print(name,\"exists.\")"
   ]
  },
  {
   "cell_type": "code",
   "execution_count": 7,
   "id": "cordless-macedonia",
   "metadata": {},
   "outputs": [],
   "source": [
    "import glob\n",
    "import pandas as pd\n",
    "\n",
    "\n",
    "cached_pages = glob.glob(\".cache/*\")\n"
   ]
  },
  {
   "cell_type": "code",
   "execution_count": 8,
   "id": "29fdcbf7",
   "metadata": {},
   "outputs": [
    {
     "name": "stdout",
     "output_type": "stream",
     "text": [
      "There are 45 pages saved.\n"
     ]
    },
    {
     "data": {
      "text/plain": [
       "['.cache/20220118', '.cache/20220128', '.cache/20220212']"
      ]
     },
     "execution_count": 8,
     "metadata": {},
     "output_type": "execute_result"
    }
   ],
   "source": [
    "print(\"There are\",len(cached_pages),'pages saved.')\n",
    "cached_pages.sort()\n",
    "cached_pages[:3]"
   ]
  },
  {
   "cell_type": "code",
   "execution_count": 9,
   "id": "married-equation",
   "metadata": {},
   "outputs": [
    {
     "name": "stdout",
     "output_type": "stream",
     "text": [
      ".cache/20230505 ['https://lareviewofbooks.org/article/the-flat-circle-on-jenny-odells-saving-time/?utm_source=substack&utm_medium=email', 'https://robwalker.substack.com/p/every-single-x?utm_source=substack&utm_medium=email', 'https://www.japantimes.co.jp/news/2023/04/20/national/chatgpt-yokosuka-trial/?utm_source=substack&utm_medium=email', 'https://www.atlasobscura.com/foods/mad-honey-red-hallucinogen?utm_source=Gastro%20Obscura%20Weekly%20E-mail&utm_campaign=8ce7161ff5-GASTRO_EMAIL_CAMPAIGN_2023_04_25&utm_medium=email&utm_term=0_2418498528-8ce7161ff5-76241438&mc_cid=8ce7161ff5&mc_eid=9fe71235bc', 'https://studyfinds.org/third-adults-sleep-comfort-object-childhood/?utm_source=substack&utm_medium=email', 'https://psyche.co/guides/how-to-wander-in-a-world-that-values-purpose?utm_source=substack&utm_medium=email', 'https://www.wired.com/story/an-ominous-heating-event-is-unfolding-in-the-oceans/', 'https://consequence.net/2023/04/half-vinyl-buyers-record-player-study/', 'https://www.salon.com/2022/12/10/nibblerids-provora-new-branch-on-tree-of-life/', 'https://today.ucsd.edu/story/study-finds-chatgpt-outperforms-physicians-in-high-quality-empathetic-answers-to-patient-questions', 'https://www.technologyreview.com/2023/04/17/1071137/denmark-teachers-apps-student-mood-audit-software/?truid=&utm_source=the_download&utm_medium=email&utm_campaign=the_download.unpaid.engagement&utm_term=&utm_content=04-17-2023&mc_cid=6cac3e76a5&mc_eid=a2c3c6d032', 'https://www.sciencedirect.com/science/article/abs/pii/S0166497221000924?via%3Dihub', \"https://news.yahoo.com/telfar-announces-first-ever-reverse-191427710.html?guccounter=1&guce_referrer=aHR0cHM6Ly93d3cuZ29vZ2xlLmNvbS8&guce_referrer_sig=AQAAAFHrjtUhm3I6aF7t4zNYYSQSLtFcVAVFN-mE1Wu4feHqYPWnagocjh2Et8iCSVUyT-jfDsiSZ1HPR5_na-de71rwJcTYbIjmkiUDnEDTBz48za8s-Yp6gPcv-MCp11D_qW74ud0YPnJsOTLlI-bH7cn7LIPd1vizoQM1QrV3lr4A#:~:text=For%20the%20first%20time%20ever,customers%20to%20choose%20the%20prices.&text=See%20the%20guidelines%20below%3A,more%20than%2050%25%20off).&text=The%20reverse%20sale's%20intention%20is,demand%20and%20scarcity%20and%20value.\", 'https://www.ecb.europa.eu/pub/pdf/scpwps/ecb.wp2502~675f29f90c.en.pdf?utm_source=substack&utm_medium=email', 'https://interestingengineering.com/science/laser-powered-lightsail-could-reach-alpha-centauri-in-20-years?utm_source=Twitter&utm_medium=content&utm_campaign=organic&utm_content=Apr26', 'https://www.palladiummag.com/2023/04/27/britain-is-dead/', 'https://towardsdatascience.com/how-large-language-models-changed-my-entire-osint-workflow-35960099e258', 'https://www.vice.com/en/article/epzyva/ai-chatgpt-tokens-words-break-reddit', 'https://arstechnica.com/information-technology/2023/04/china-slaps-security-reviews-on-ai-products-as-alibaba-unveils-chatgpt-challenger/?mc_cid=b71f549f27&mc_eid=794406189d', 'https://arstechnica.com/gadgets/2023/04/old-phones-can-be-single-board-computers-as-this-mini-music-server-proves/', 'https://www.vice.com/en/article/n7ebkz/writers-are-becoming-ai-prompt-engineers-a-job-which-may-or-may-not-exist?mc_cid=b71f549f27&mc_eid=794406189d', 'https://www.wired.com/story/status-work-generative-artificial-intelligence', 'https://medium.com/singapore-gds/integrating-chatgpt-with-internal-knowledge-base-and-question-answer-platform-36a3283d6334', 'https://medium.com/@peter.lawrence_47665/knowledge-graphs-large-language-models-the-ability-for-users-to-ask-their-own-questions-e4afc348fa72', 'https://github.com/sahbic/profile-gpt?mc_cid=b71f549f27&mc_eid=794406189d', 'https://substackcdn.com/image/fetch/f_auto,q_auto:good,fl_progressive:steep/https%3A%2F%2Fsubstack-post-media.s3.amazonaws.com%2Fpublic%2Fimages%2F2e35f05e-a7bf-4b8c-b0a9-8b37b44c58c1_800x531.jpeg', 'https://www.google.com/url?sa=i&url=https%3A%2F%2Fobservation.org%2Fobservation%2F203219597%2F&psig=AOvVaw15-EM0jnGr36An6JbGScfR&ust=1682875274392000&source=images&cd=vfe&ved=2ahUKEwivntyIzc_-AhVEmycCHWDuB30Qjhx6BAgAEA0']\n",
      ".cache/20230513 ['https://signalvnoise.com/posts/934-ira-glass-entropy-and-software-development', 'https://www.realsimple.com/work-life/money/saving/geographic-arbitrage?utm_source=substack&utm_medium=email', 'https://arxiv.org/pdf/2305.01056.pdf', 'https://www.forbes.com/sites/simonchandler/2020/02/17/ikea-becomes-first-retailer-to-let-customers-pay-using-time/?mc_cid=1f2ef6e59f&mc_eid=e7ac5ace4d&sh=4592d033557b&utm_source=substack&utm_medium=email', 'https://www.noemamag.com/apocalyptic-infrastructures/?ref=dixit.net&utm_source=substack&utm_medium=email', 'https://www.permaculturedesignmagazine.com/what-is-permaculture', 'https://www.wsj.com/articles/the-u-s-military-has-an-explosive-problem-6e1a1049?mod=hp_lead_pos7&utm_source=substack&utm_medium=email', 'https://www.wired.com/story/the-untold-story-of-solarwinds-the-boldest-supply-chain-hack-ever/?mc_cid=1fb19f5898&mc_eid=a2c3c6d032&utm_source=substack&utm_medium=email', 'https://www.vanmoof.com/blog/en/tv-bike-box', 'https://www.bbc.com/news/science-environment-65557469', 'https://www.bloomberg.com/news/articles/2023-05-01/ibm-to-pause-hiring-for-back-office-jobs-that-ai-could-kill?leadSource=uverify%20wall&utm_source=substack&utm_medium=email', 'https://laneform.com/?utm_source=substack&utm_medium=email', 'https://www.washingtonpost.com/technology/2023/05/05/ai-spam-websites-books-chatgpt/', 'https://www.theregister.com/2023/05/12/eu_cyber_resilience_act/', 'https://arstechnica.com/science/2023/05/qubits-used-to-confirm-that-the-universe-doesnt-keep-reality-local/', 'https://arxiv.org/pdf/2305.06424.pdf', 'https://www.europarl.europa.eu/news/en/press-room/20230505IPR84904/ai-act-a-step-closer-to-the-first-rules-on-artificial-intelligence', 'https://www.nature.com/articles/d41586-023-01569-x', 'https://gandalf.lakera.ai/', 'https://substackcdn.com/image/fetch/f_auto,q_auto:good,fl_progressive:steep/https%3A%2F%2Fsubstack-post-media.s3.amazonaws.com%2Fpublic%2Fimages%2F6de8b4b3-ed3b-4286-9ab3-6c49fcab39fd_600x450.jpeg']\n",
      ".cache/20230521 ['https://rishad.substack.com/p/on-reading?utm_source=substack&utm_medium=email', 'https://grist.org/business-technology/none-of-the-worlds-top-industries-would-be-profitable-if-they-paid-for-the-natural-capital-they-use/', 'https://www.nasa.gov/feature/jpl/new-study-of-uranus-large-moons-shows-4-may-hold-water', 'https://en.wikipedia.org/wiki/The_Seven_Basic_Plots?utm_source=substack&utm_medium=email', 'https://dynomight.net/procrastination/', 'https://www.wired.com/story/internet-connection-records-uk-surveillance/', 'https://petapixel.com/2023/05/18/supreme-court-rules-andy-warhols-prince-art-is-copyright-infringement/', 'https://physics.stackexchange.com/questions/764460/why-is-my-dryer-radioactive', 'https://www.bbc.com/news/technology-65622403', 'https://www.technologyreview.com/2023/04/27/1072102/the-future-of-generative-ai-is-niche-not-generalized/', 'https://www.vice.com/en/article/qjvb4x/palantir-demos-ai-to-fight-wars-but-says-it-will-be-totally-ethical-dont-worry-about-it?mc_cid=3d7d10c54d&mc_eid=794406189d', 'https://medium.com/@anthony.mensier/brief-introduction-to-llms-and-their-transformer-logics-for-defense-content-analysis-5bbd422cbeef', 'https://news.ycombinator.com/item?id=35846386', 'https://www.thetimes.co.uk/article/ai-will-could-religions-to-to-control-humans-warns-sapiens-author-harari-fhbzgbv7b', 'https://www.reuters.com/technology/openai-chief-goes-before-us-congress-propose-licenses-building-ai-2023-05-16/', 'https://danielmiessler.com/blog/ais-next-big-thing-is-digital-assistants/?mc_cid=488d8cc09a&mc_eid=794406189d', 'https://www.newcivilengineer.com/opinion/why-we-must-do-better-when-it-comes-to-our-own-productivity-28-04-2023/', 'https://www.postcrafts.com/', 'https://simonwillison.net/2023/May/4/no-moat/', 'https://www.bbc.com/news/world-us-canada-65452940', 'https://assistedeverything.substack.com/p/the-three-hills-model-for-evaluating', 'https://www.theguardian.com/world/2003/jun/24/usa.science', 'https://blog.opensource.org/another-issue-with-the-cyber-resilience-act-european-standards-bodies-are-inaccessible-to-open-source-projects/', 'https://towardsdatascience.com/knowledge-graph-completion-with-pykeen-and-neo4j-6bca734edf43', 'https://towardsdatascience.com/getting-started-with-langchain-a-beginners-guide-to-building-llm-powered-applications-95fc8898732c', 'https://bootcamp.uxdesign.cc/a-comprehensive-and-hands-on-guide-to-autonomous-agents-with-gpt-b58d54724d50', 'https://arxiv.org/pdf/2002.00937.pdf', 'https://www.fantasticfiction.com/c/orson-scott-card/dragons-of-light.htm', 'https://www.goodreads.com/book/show/307403.The_Dreaming_Jewels', 'https://www.goodreads.com/book/show/34094401-the-xip-huz', 'https://www.goodreads.com/book/show/54614599-first-person-singular', 'https://substackcdn.com/image/fetch/f_auto,q_auto:good,fl_progressive:steep/https%3A%2F%2Fsubstack-post-media.s3.amazonaws.com%2Fpublic%2Fimages%2F3213e1f6-dbb0-4ebf-a23f-56df03e7ece1_407x316.png', 'https://en.wikipedia.org/wiki/Rhizome_(philosophy)']\n"
     ]
    }
   ],
   "source": [
    "URLs = []\n",
    "for page in cached_pages:\n",
    "    with open(page) as fp:\n",
    "        html_content = BeautifulSoup(fp, 'html.parser')  \n",
    "    content = html_content.findAll('a')\n",
    "    content = [i.get('href') for i in content if (not (i.get('href') is None))]\n",
    "    for link in content:\n",
    "        URLs.append([name,link])\n",
    "    if \"202305\" in page:\n",
    "        print(page,content) "
   ]
  },
  {
   "cell_type": "code",
   "execution_count": 10,
   "id": "convinced-glenn",
   "metadata": {},
   "outputs": [
    {
     "data": {
      "text/html": [
       "<div>\n",
       "<style scoped>\n",
       "    .dataframe tbody tr th:only-of-type {\n",
       "        vertical-align: middle;\n",
       "    }\n",
       "\n",
       "    .dataframe tbody tr th {\n",
       "        vertical-align: top;\n",
       "    }\n",
       "\n",
       "    .dataframe thead th {\n",
       "        text-align: right;\n",
       "    }\n",
       "</style>\n",
       "<table border=\"1\" class=\"dataframe\">\n",
       "  <thead>\n",
       "    <tr style=\"text-align: right;\">\n",
       "      <th></th>\n",
       "      <th>page</th>\n",
       "      <th>url</th>\n",
       "      <th>hash</th>\n",
       "    </tr>\n",
       "  </thead>\n",
       "  <tbody>\n",
       "    <tr>\n",
       "      <th>0</th>\n",
       "      <td>20230401</td>\n",
       "      <td>b'https://www.gov.wales/sites/default/files/pu...</td>\n",
       "      <td>3b92dc627d73b0d586fcff194b697c89</td>\n",
       "    </tr>\n",
       "    <tr>\n",
       "      <th>1</th>\n",
       "      <td>20230401</td>\n",
       "      <td>b'https://www.theguardian.com/world/2023/feb/1...</td>\n",
       "      <td>b3b0e79abac9ac8ba36e389c1d09621d</td>\n",
       "    </tr>\n",
       "    <tr>\n",
       "      <th>2</th>\n",
       "      <td>20230401</td>\n",
       "      <td>b'https://twitter.com/TrungTPhan/status/162664...</td>\n",
       "      <td>5d265f36c41b6d01ca52ab0f99ee8e95</td>\n",
       "    </tr>\n",
       "    <tr>\n",
       "      <th>3</th>\n",
       "      <td>20230401</td>\n",
       "      <td>b'https://www.futuregenerations.wales/about-us...</td>\n",
       "      <td>3938700a79bbde32972657f9eb7b1b69</td>\n",
       "    </tr>\n",
       "    <tr>\n",
       "      <th>4</th>\n",
       "      <td>20230401</td>\n",
       "      <td>b'https://www.bbc.com/future/article/20230215-...</td>\n",
       "      <td>32228bbf929d81d39a1808dd9b7c4493</td>\n",
       "    </tr>\n",
       "    <tr>\n",
       "      <th>...</th>\n",
       "      <td>...</td>\n",
       "      <td>...</td>\n",
       "      <td>...</td>\n",
       "    </tr>\n",
       "    <tr>\n",
       "      <th>1049</th>\n",
       "      <td>20230401</td>\n",
       "      <td>b'https://web.yammer.com/main/org/mottmac.com/...</td>\n",
       "      <td>fc70437f7665556e8d27c5a9653763a6</td>\n",
       "    </tr>\n",
       "    <tr>\n",
       "      <th>1050</th>\n",
       "      <td>20230401</td>\n",
       "      <td>b'https://www.kaggle.com/code/concretemlteam/t...</td>\n",
       "      <td>cde046296faf786f02951f73b9b25417</td>\n",
       "    </tr>\n",
       "    <tr>\n",
       "      <th>1051</th>\n",
       "      <td>20230401</td>\n",
       "      <td>b'https://substackcdn.com/image/fetch/f_auto,q...</td>\n",
       "      <td>f0a23dcd98c2fdf0a3fd523a04e7c255</td>\n",
       "    </tr>\n",
       "    <tr>\n",
       "      <th>1052</th>\n",
       "      <td>20230401</td>\n",
       "      <td>b'https://substackcdn.com/image/fetch/f_auto,q...</td>\n",
       "      <td>d256bfc733bfe7fe3f55726967800605</td>\n",
       "    </tr>\n",
       "    <tr>\n",
       "      <th>1053</th>\n",
       "      <td>20230401</td>\n",
       "      <td>b'https://bronasbooks.com/2022/01/17/the-libra...</td>\n",
       "      <td>228ce5d138c39687cacf2eae975950d7</td>\n",
       "    </tr>\n",
       "  </tbody>\n",
       "</table>\n",
       "<p>1039 rows × 3 columns</p>\n",
       "</div>"
      ],
      "text/plain": [
       "          page                                                url  \\\n",
       "0     20230401  b'https://www.gov.wales/sites/default/files/pu...   \n",
       "1     20230401  b'https://www.theguardian.com/world/2023/feb/1...   \n",
       "2     20230401  b'https://twitter.com/TrungTPhan/status/162664...   \n",
       "3     20230401  b'https://www.futuregenerations.wales/about-us...   \n",
       "4     20230401  b'https://www.bbc.com/future/article/20230215-...   \n",
       "...        ...                                                ...   \n",
       "1049  20230401  b'https://web.yammer.com/main/org/mottmac.com/...   \n",
       "1050  20230401  b'https://www.kaggle.com/code/concretemlteam/t...   \n",
       "1051  20230401  b'https://substackcdn.com/image/fetch/f_auto,q...   \n",
       "1052  20230401  b'https://substackcdn.com/image/fetch/f_auto,q...   \n",
       "1053  20230401  b'https://bronasbooks.com/2022/01/17/the-libra...   \n",
       "\n",
       "                                  hash  \n",
       "0     3b92dc627d73b0d586fcff194b697c89  \n",
       "1     b3b0e79abac9ac8ba36e389c1d09621d  \n",
       "2     5d265f36c41b6d01ca52ab0f99ee8e95  \n",
       "3     3938700a79bbde32972657f9eb7b1b69  \n",
       "4     32228bbf929d81d39a1808dd9b7c4493  \n",
       "...                                ...  \n",
       "1049  fc70437f7665556e8d27c5a9653763a6  \n",
       "1050  cde046296faf786f02951f73b9b25417  \n",
       "1051  f0a23dcd98c2fdf0a3fd523a04e7c255  \n",
       "1052  d256bfc733bfe7fe3f55726967800605  \n",
       "1053  228ce5d138c39687cacf2eae975950d7  \n",
       "\n",
       "[1039 rows x 3 columns]"
      ]
     },
     "execution_count": 10,
     "metadata": {},
     "output_type": "execute_result"
    }
   ],
   "source": [
    "import hashlib\n",
    "\n",
    "df = pd.DataFrame(URLs)\n",
    "df.columns = [\"page\",\"url\"]\n",
    "df = df.drop_duplicates(subset=[\"url\"])\n",
    "df[\"url\"] = df.url.apply(lambda x: str(x).encode('utf-8'))\n",
    "\n",
    "df[\"hash\"] = df.url.apply(lambda x: hashlib.md5(str(x).encode('utf-8')).hexdigest())\n",
    "df.to_parquet(\"urls.parquet.gzip\",  engine='pyarrow', compression='gzip')\n",
    "df"
   ]
  },
  {
   "cell_type": "code",
   "execution_count": null,
   "id": "satisfactory-priest",
   "metadata": {},
   "outputs": [],
   "source": []
  }
 ],
 "metadata": {
  "kernelspec": {
   "display_name": "Python 3 (ipykernel)",
   "language": "python",
   "name": "python3"
  },
  "language_info": {
   "codemirror_mode": {
    "name": "ipython",
    "version": 3
   },
   "file_extension": ".py",
   "mimetype": "text/x-python",
   "name": "python",
   "nbconvert_exporter": "python",
   "pygments_lexer": "ipython3",
   "version": "3.10.6"
  }
 },
 "nbformat": 4,
 "nbformat_minor": 5
}
