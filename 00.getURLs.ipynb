{
 "cells": [
  {
   "cell_type": "code",
   "execution_count": 57,
   "id": "chinese-brook",
   "metadata": {},
   "outputs": [],
   "source": [
    "# https://adrien.barbaresi.eu/blog/trafilatura-main-text-content-python.html\n",
    "\n",
    "import requests\n",
    "import bs4\n",
    "from bs4 import BeautifulSoup\n",
    "import os\n"
   ]
  },
  {
   "cell_type": "markdown",
   "id": "afraid-dealing",
   "metadata": {},
   "source": [
    "# Get archives"
   ]
  },
  {
   "cell_type": "code",
   "execution_count": 79,
   "id": "inside-produce",
   "metadata": {},
   "outputs": [
    {
     "name": "stdout",
     "output_type": "stream",
     "text": [
      "11 [<a class=\"post-preview-title newsletter\" href=\"https://kghosh.substack.com/p/20221002\">20221002</a>, <a class=\"post-preview-title newsletter\" href=\"https://kghosh.substack.com/p/20220922\">20220922</a>, <a class=\"post-preview-title newsletter\" href=\"https://kghosh.substack.com/p/20220917\">20220917</a>, <a class=\"post-preview-title newsletter\" href=\"https://kghosh.substack.com/p/borges-babel-movies-a-short-story\">Borges Babel Movies - a short story</a>, <a class=\"post-preview-title newsletter\" href=\"https://kghosh.substack.com/p/20220904\">20220904</a>, <a class=\"post-preview-title newsletter\" href=\"https://kghosh.substack.com/p/20220828\">20220828</a>, <a class=\"post-preview-title newsletter\" href=\"https://kghosh.substack.com/p/20220824\">20220824</a>, <a class=\"post-preview-title newsletter\" href=\"https://kghosh.substack.com/p/20220721\">20220721</a>, <a class=\"post-preview-title newsletter\" href=\"https://kghosh.substack.com/p/20220717\">20220717</a>, <a class=\"post-preview-title newsletter\" href=\"https://kghosh.substack.com/p/20220711\">20220711</a>, <a class=\"post-preview-title newsletter\" href=\"https://kghosh.substack.com/p/20220626\">20220626</a>]\n"
     ]
    },
    {
     "data": {
      "text/plain": [
       "(11,\n",
       " ['https://kghosh.substack.com/p/20221002',\n",
       "  'https://kghosh.substack.com/p/20220922',\n",
       "  'https://kghosh.substack.com/p/20220917',\n",
       "  'https://kghosh.substack.com/p/borges-babel-movies-a-short-story',\n",
       "  'https://kghosh.substack.com/p/20220904',\n",
       "  'https://kghosh.substack.com/p/20220828',\n",
       "  'https://kghosh.substack.com/p/20220824',\n",
       "  'https://kghosh.substack.com/p/20220721',\n",
       "  'https://kghosh.substack.com/p/20220717',\n",
       "  'https://kghosh.substack.com/p/20220711',\n",
       "  'https://kghosh.substack.com/p/20220626'])"
      ]
     },
     "execution_count": 79,
     "metadata": {},
     "output_type": "execute_result"
    }
   ],
   "source": [
    "page_url = \"https://kghosh.substack.com/archive\"\n",
    "\n",
    "page_sourced = requests.get(page_url).content \n",
    "\n",
    "html_content = BeautifulSoup(page_sourced, \"html.parser\")\n",
    "# #main > div.archive-page.typography.use-theme-bg > div > div > div.portable-archive-list > div:nth-child(19) > div.post-preview-content > a.post-preview-title.newsletter\n",
    "links = html_content.findAll('a', class_=\"post-preview-title newsletter\")\n",
    "print(len(links),links) \n",
    "pages = [i.get('href') for i in links if (not (i.get('href') is None))]\n",
    "\n",
    "pages = [ i for i in pages  if \"https://kghosh.substack.com/p/\" in i ]\n",
    "pages = list(set([ i for i in pages  if not i.endswith(\"comments\") ]))\n",
    "len(pages), pages"
   ]
  },
  {
   "cell_type": "code",
   "execution_count": 88,
   "id": "functional-gregory",
   "metadata": {},
   "outputs": [
    {
     "name": "stdout",
     "output_type": "stream",
     "text": [
      "20220626 exists.\n",
      "20220828 exists.\n",
      "20220711 exists.\n",
      "20220917 exists.\n",
      "20221002 exists.\n",
      "borges-babel-movies-a-short-story exists.\n",
      "20220721 exists.\n",
      "20220904 exists.\n",
      "20220922 exists.\n",
      "20220810 exists.\n",
      "20220717 exists.\n",
      "20220824 exists.\n"
     ]
    }
   ],
   "source": [
    "for page in pages:\n",
    "    name = page.split(\"/\")[-1]\n",
    "\n",
    "    if not os.path.exists(\".cache/\"+name):\n",
    "        page_sourced = requests.get(page).content \n",
    "        html_content = BeautifulSoup(page_sourced, \"html.parser\")\n",
    "        content = html_content.findAll('div', class_=\"body markup\")\n",
    "\n",
    "        with open(\".cache/\"+name, 'w') as f:\n",
    "            f.write(str(content))\n",
    "        print(name,\"saved\")\n",
    "    else:\n",
    "        print(name,\"exists.\")"
   ]
  },
  {
   "cell_type": "code",
   "execution_count": 89,
   "id": "cordless-macedonia",
   "metadata": {},
   "outputs": [],
   "source": [
    "import glob\n",
    "import pandas as pd\n",
    "\n",
    "\n",
    "cached_pages = glob.glob(\".cache/*\")\n"
   ]
  },
  {
   "cell_type": "code",
   "execution_count": 99,
   "id": "married-equation",
   "metadata": {},
   "outputs": [
    {
     "name": "stdout",
     "output_type": "stream",
     "text": [
      "['https://spectrum.ieee.org/tesla-autopilot-data-ownership', 'https://themarkup.org/the-breakdown/2022/07/27/who-is-collecting-data-from-your-car?utm_source=newsletter&utm_medium=email&utm_campaign=newsletter_axioswhatsnext&stream=science', 'https://www.cnil.fr/en/qa-cnils-formal-notices-concerning-use-google-analytics', 'https://techcrunch.com/2022/07/18/instagrams-buy-products-directly-dms/', 'https://twitter.com/Wendigoon8/status/1549839412531531780', 'https://www.foreground.com.au/environment/designing-without-depletion-joseph-grima/', 'https://substackcdn.com/image/fetch/f_auto,q_auto:good,fl_progressive:steep/https%3A%2F%2Fbucketeer-e05bbc84-baa3-437e-9518-adb32be77984.s3.amazonaws.com%2Fpublic%2Fimages%2F9a5e2655-4740-41df-8066-4b9788624724_2268x1792.jpeg?utm_source=substack&utm_medium=email', 'https://substackcdn.com/image/fetch/f_auto,q_auto:good,fl_progressive:steep/https%3A%2F%2Fbucketeer-e05bbc84-baa3-437e-9518-adb32be77984.s3.amazonaws.com%2Fpublic%2Fimages%2Fbdbbe840-bd49-4aab-94fa-94b19e1733a5_3000x2049.jpeg?utm_source=substack&utm_medium=email', 'https://images.wur.nl/digital/collection/coll13/search/page/1', 'https://theconversation.com/botanists-are-disappearing-just-when-the-world-needs-them-most-186849', 'https://www.lunasec.io/docs/blog/how-to-build-an-open-source-business-in-2021-part-1/', 'https://humanlibrary.org/', 'https://usbeketrica.com/fr/article/mad-skills-quand-votre-boite-veut-que-vous-soyez-bizarre-mais-pas-trop-quand-meme?utm_medium=email&utm_source=substack', 'https://www.theguardian.com/technology/2022/jun/23/amazon-alexa-could-turn-dead-loved-ones-digital-assistant', 'https://www.aljazeera.com/features/2022/7/20/the-indian-woman-who-married-herself', 'https://www.gnu.org/philosophy/who-does-that-server-really-serve.en.html', 'https://richardslaughter.com.au/wp-content/uploads/2018/03/Mapping_the_Future_1996.pdf?utm_source=substack&utm_medium=email', 'https://www.nytimes.com/2017/04/18/opinion/youre-too-busy-you-need-a-shultz-hour.html', 'https://www.mining.com/the-looming-copper-crunch-and-why-recycling-cant-fix-it/', 'https://www.cnet.com/tech/mobile/how-apples-daisy-iphone-recycling-robot-works/', 'https://news.mit.edu/2022/ultrasound-stickers-0728', 'https://tech.marksblogg.com/pretty-maps-in-python.html', 'https://hydrabus.com/hydrausb3-v1-0-specifications/?v=1ee0bf89c5d1', 'https://openai.com/dall-e-2/', 'https://en.wikipedia.org/wiki/Echopraxia_(novel)', 'https://en.wikipedia.org/wiki/Bicameral_mentality', 'https://lecultedapophis.com/2021/08/21/la-nuit-du-faune-romain-lucazeau/', 'https://substackcdn.com/image/fetch/f_auto,q_auto:good,fl_progressive:steep/https%3A%2F%2Fbucketeer-e05bbc84-baa3-437e-9518-adb32be77984.s3.amazonaws.com%2Fpublic%2Fimages%2F241b0219-6662-4953-9d8e-69b6576a117b_1024x1024.png']\n",
      "['https://wcva.cymru/wp-content/uploads/2021/03/BUILDING-BETTER-FUTURES-Toolkit.pdf', 'https://www.vox.com/recode/23170900/leaked-amazon-memo-warehouses-hiring-shortage', 'https://www.seattletimes.com/business/amazon/amazons-turnover-rate-amid-pandemic-is-at-least-double-the-average-for-retail-and-warehousing-industries/', 'https://www.theguardian.com/world/2022/jun/28/italian-hairdressers-face-fines-for-shampooing-amid-heatwave-castenaso-bologna', 'https://www.nasdaq.com/articles/canadas-blueberry-farms-dont-have-enough-bees-everyone-should-be-worried', 'https://www.newscientist.com/article/2326521-ai-that-detects-chicken-distress-calls-could-improve-farm-conditions', 'https://fiftytwo.in/story/man-of-culture/', 'https://www.gov.uk/government/publications/systems-thinking-for-civil-servants/introduction', 'https://www.gov.uk/government/publications/systems-thinking-for-civil-servants/case-studies', 'https://www.lefigaro.fr/actualite-france/idealistes-hedonistes-ou-profiteurs-ces-francais-qui-ne-veulent-plus-travailler-20220701', 'https://justtwothings.substack.com/p/7-july-2022-hip-hop-culture', 'https://www.coursehero.com/file/22905866/Coordinating-Neglect', 'https://www.entrepreneur.com/article/240254', 'https://www.theatlantic.com/technology/archive/2022/06/gen-z-internet-anonymity-instagram-tumblr/661316/', 'https://mikoverse.com/', 'https://jingdaily.com/balabala-virtual-child-idol-gu-yu', 'https://www.bbc.com/news/world-asia-51470599', 'https://mashable.com/article/best-of-dating-top-trends-2022', 'http://www.dkriesel.com/en/blog/2013/0802_xerox-workcentres_are_switching_written_numbers_when_scanning', 'https://www.esa.int/Science_Exploration/Space_Science/Gaia/Gaia_sees_strange_stars_in_most_detailed_Milky_Way_survey_to_date', 'https://substackcdn.com/image/fetch/f_auto,q_auto:good,fl_progressive:steep/https%3A%2F%2Fbucketeer-e05bbc84-baa3-437e-9518-adb32be77984.s3.amazonaws.com%2Fpublic%2Fimages%2F133fd1c5-21b4-489d-be7a-34920e9a274d_1678x1253.jpeg', 'https://reallifemag.com/fair-game/', 'https://www.microsoft.com/en-us/research/group/customer-insights-research/articles/when-discussing-inclusive-design-dont-leave-out-users-with-invisible-disabilities/']\n",
      "['https://substack.com/redirect/80c8d4c1-6749-4e68-b5d7-94f07ec2a249?r=1fskip', 'https://www.mckinsey.com/industries/life-sciences/our-insights/the-bio-revolution-innovations-transforming-economies-societies-and-our-lives?utm_source=substack&utm_medium=email', 'https://www.stellamccartney.com/gb/en/stellas-world/the-worlds-first-mylo-garments-created-from-vegan-mushroom-leather.html', 'https://www.thetimes.co.uk/article/psychedelics-used-to-treat-depression-trials-lsfvm5psf', 'https://www.cnet.com/science/biology/scientists-create-cyborg-cockroaches-controlled-by-solar-powered-backpacks', 'https://torontolife.com/city/inside-the-weird-world-of-cryotherapy-biocharging-and-fecal-transplants/', 'https://subconscious.substack.com/p/simple-seeds?utm_source=email', 'https://subconscious.substack.com/p/possibility-space', 'https://rishad.substack.com/p/re-thinking-strategy?utm_source=email', 'https://blogs.worldbank.org/digital-development/digital-regulation-handbook-guide-digital-transformation', 'https://www.optica.org/en-us/about/newsroom/news_releases/2022/september/lensless_camera_creates_3d_images_from_single_expo/', 'http://misc-stuff.terraaeon.com/articles/slide-rule-prices.html', 'https://medium.com/@aplaceofmind/the-big-convergence-is-coming-we-will-program-in-text-files-a8ef37f111b1', 'https://www.ft.com/content/fc4eeb5c-479a-4daf-9f8b-808ee937530f?accessToken=zwAAAYLpCrEnkdP8TutcR5pNr9Ofi4CO6TdTDw.MEYCIQCNQr_wppuyYZH3h-lNMMh7iUu_XHBZ-iIA80bovlhUSQIhAIDuqogdsLDF1ulmUWhvUA3SwsLfJaGzZwOkTRvddUXA&sharetype=gift&token=10d8ed78-59ae-4227-9e1d-caa4bf88d2fa&utm_source=substack&utm_medium=email', 'https://mondaynote.com/apples-next-big-thing-a-business-model-change-e9b0145500c9', 'https://www.gallup.com/workplace/398306/quiet-quitting-real.aspx', 'https://www.custommarketinsights.com/report/open-source-intelligence-market/?utm_source=substack&utm_medium=email', 'https://www.bellingcat.com/resources/2022/08/12/these-are-the-tools-open-source-researchers-say-they-need/?utm_source=substack&utm_medium=email', 'https://twitter.com/TrentTelenko/status/1507056013245128716?s=20&t=WtKRfDx_RHCqzE6mLuvYOA&mc_cid=4454d81e20&mc_eid=1e79b50c11&utm_source=substack&utm_medium=email', 'https://blog.google/around-the-globe/google-europe/eco-friendly-routing-in-europe/', 'https://www.inputmag.com/style/secondhand-shopping-is-at-all-time-high-thanks-to-the-recession', 'https://www.themarginalian.org/2012/09/11/richard-feynman-lectures-on-physics/#:~:text=If%2C%20in%20some%20cataclysm%2C%20all,information%20in%20the%20fewest%20words%3F', 'https://rishad.substack.com/p/architecting-joy?utm_source=email', 'https://www.theatlantic.com/science/archive/2022/09/why-cats-purr-vocalization-science/671358/', 'https://www.migros.ch/en/content/coffeeb?utm_source=substack&utm_medium=email', 'https://www.letterheady.com/random', 'http://370 New Words to the Dictionary', 'https://github.com/kelu124/awesome-ai-art-image-synthesis', 'https://martinholstein.substack.com/p/la-musique-du-corps', 'https://en.wikipedia.org/wiki/Nope_(film)', 'https://en.wikipedia.org/wiki/Morbius_(film)', 'https://substackcdn.com/image/fetch/f_auto,q_auto:good,fl_progressive:steep/https%3A%2F%2Fbucketeer-e05bbc84-baa3-437e-9518-adb32be77984.s3.amazonaws.com%2Fpublic%2Fimages%2F32436d14-1612-478a-8326-7eca93c103c3_1024x1024.png']\n",
      "['https://www.goodreads.com/book/show/28048.Hope_in_the_Dark', 'https://www.mckinsey.com/Business-Functions/McKinsey-Digital/Our-Insights/Three-new-mandates-for-capturing-a-digital-transformations-full-value', 'https://www.novaxia.fr/actualites/un-milliard-deuros-pour-creer-des-lieux-dinnovation-dedies-aux-life-sciences-en-france-oxford-properties-et-novaxia-concluent-un-partenariat-strategique/', 'https://www.cs.utexas.edu/users/dahlin/bookshelf/hamming.html', 'https://irchiver.com/?utm_source=substack&utm_medium=email', 'https://edition.cnn.com/style/article/maldives-floating-city-spc-intl/index.html', 'https://gabygoldberg.medium.com/curators-are-the-new-creators-the-business-model-of-good-taste-5852727d4b54', 'https://sariazout.medium.com/the-rise-of-community-curated-knowledge-networks-c8787294b0af', 'https://www.danieldavis.com/generative-design-doomed-to-fail/', 'https://europe.autonews.com/guest-columnist/why-car-subscriptions-are-key-solution-future-automotive', 'https://www.nytimes.com/2014/04/23/nyregion/with-farm-robotics-the-cows-decide-when-its-milking-time.html', 'https://ethz.ch/en/news-and-events/eth-news/news/2020/02/cybathlon-2020-start.html', 'https://www.researchgate.net/publication/358571489_Digital_Twins_Potentials_Limitations_and_Ethical_Issues', 'https://www.cnbc.com/2022/06/18/bitcoin-price-drops-below-18600-as-sell-off-accelerates.html', 'https://www.marca.com/en/world-cup/2022/06/21/62b1b8e446163f7e7a8b45af.html', 'https://restofworld.org/2022/rising-fuel-food-costs-gig-workers/', 'https://futureparty.com/stories/public-library-coworking-space', 'https://www.cnbc.com/2022/06/22/amazon-demonstrates-alexa-mimicking-the-voice-of-a-deceased-relative.html', 'https://www.bbc.com/future/article/20220616-the-new-sonar-built-from-sealife-noises', 'https://www.theguardian.com/world/2022/jun/21/dont-swipe-write-japanese-city-encourages-daters-to-send-love-letters', 'https://substackcdn.com/image/fetch/f_auto,q_auto:good,fl_progressive:steep/https%3A%2F%2Fbucketeer-e05bbc84-baa3-437e-9518-adb32be77984.s3.amazonaws.com%2Fpublic%2Fimages%2Fadfffa78-77c1-4a41-b652-2cc7c2131ffa_795x397.png', 'https://www.coursera.org/learn/anticipate', 'https://www.coursera.org/specializations/futures-thinking', 'https://github.com/kelu124/Kilsyth', 'https://fishdraw.glitch.me/', 'https://www.opensourceimaging.org/', 'https://itigic.com/minix-the-hidden-operating-system-in-intel-hardware/', 'https://www.dezeen.com/2022/06/12/villa-m-triptyque-philippe-starck-coloco-paris-hotel/']\n",
      "['https://kghosh.substack.com?utm_source=substack&utm_campaign=publication_embed&utm_medium=web', 'https://substackcdn.com/image/fetch/f_auto,q_auto:good,fl_progressive:steep/https%3A%2F%2Fbucketeer-e05bbc84-baa3-437e-9518-adb32be77984.s3.amazonaws.com%2Fpublic%2Fimages%2F05236cf0-2d26-4ef7-bebd-732adbfb50c3_512x512.png', 'https://en.wikipedia.org/wiki/Club-Mate', 'https://www.kurzweilai.net/ultrasonic-wireless-neural-dust-sensors-monitor-nerves-muscles-in-real-time', 'https://www.femis.fr/sacre-phd-programme-psl', 'https://digitalnative.substack.com/p/the-long-tail-the-internet-and-the?']\n",
      "['https://www.bloomberg.com/news/articles/2022-08-16/zinc-surges-as-trafigura-owned-smelter-to-halt-production', 'https://www.tomshardware.com/news/michigan-man-builds-own-isp', 'https://www.treehugger.com/adaptive-reuse-architectural-challenge-of-present-6385136', 'https://www-domusweb-it.cdn.ampproject.org/c/s/www.domusweb.it/en/architecture/2022/07/26/is-artificial-intelligence-the-architect-of-the-future.amp.html', 'https://www.newyorker.com/books/page-turner/is-publishing-about-art-or-commerce-penguin-random-house-simon-schuster-antitrust', 'https://twitter.com/KeatonPatti/status/1558924838223327233', 'https://hackaday.com/2022/08/12/remove-a-speakers-voice-from-a-recording-using-ultrasound/', 'https://www.newyorker.com/magazine/2022/08/01/is-selling-shares-in-yourself-the-way-of-the-future', 'https://www.thenewatlantis.com/publications/hell-is-ourselves', 'https://www.sourcesjournal.org/articles/our-technology-sicknessand-how-to-heal-it', 'https://www.protocol.com/newsletters/sourcecode/micro-subscriptions', 'https://hpjansson.org/blag/2022/08/16/adventure-game-graphics-with-dall-e-2/', 'https://www.technollama.co.uk/dall%c2%b7e-goes-commercial-but-what-about-copyright?utm_source=pocket_mylist', 'https://kghosh.substack.com/p/20220810', 'https://www.axios.com/2022/07/13/artificial-intelligence-chatbots-dead-relatives-grandma', 'https://mobile.twitter.com/sam__goree/status/1546908994521993218', 'https://stability.ai/blog/stable-diffusion-public-release', 'https://huggingface.co/spaces/stabilityai/stable-diffusion', 'https://en.wikipedia.org/wiki/Project_Hail_Mary', 'https://en.wikipedia.org/wiki/The_Lifecycle_of_Software_Objects', 'https://substackcdn.com/image/fetch/f_auto,q_auto:good,fl_progressive:steep/https%3A%2F%2Fbucketeer-e05bbc84-baa3-437e-9518-adb32be77984.s3.amazonaws.com%2Fpublic%2Fimages%2F1ee87249-840d-4d52-b03e-0f82e500a6ca_792x576.jpeg', 'https://jacobmcmurray.com/The-Lifecycle-of-Software-Objects-Ted-Chiang', 'https://zine.kleinkleinklein.com/p/ai-spot-meta-trends']\n",
      "['https://news.ycombinator.com/item?id=32611247', 'https://peabee.substack.com/p/17-one-kitchen-hundreds-of-internet', 'https://www.chemistryworld.com/podcasts/low-background-steel/3009874.article', 'https://bigthink.com/strange-maps/derinkuyu-underground-city/', 'https://psychedelicspotlight.com/do-you-even-trip-bro-on-psychedelic-masculinity/', 'https://www.techspot.com/news/95774-end-moore-law-forced-youtube-make-own-video.html', 'https://www.marindie.com/digital-products/', 'https://opg.optica.org/boe/fulltext.cfm?uri=boe-13-9-4684&id=491326', 'https://freedom-to-tinker.com/2022/08/03/the-anomaly-of-cheap-complexity/', 'https://www.theatlantic.com/culture/archive/2021/06/information-efficiency-history-filing-cabinet/619106/?utm_source=substack&utm_medium=email', 'https://www.federalreserve.gov/econres/notes/feds-notes/long-covid-cognitive-impairment-and-the-stalled-decline-in-disability-rates-20220805.htm', 'https://knowablemagazine.org/article/health-disease/2022/long-covid-parallel-pandemic', 'https://blog.seekwell.io/gpt3', 'https://huggingface.co/spaces/stabilityai/stable-diffusion', 'https://substackcdn.com/image/fetch/f_auto,q_auto:good,fl_progressive:steep/https%3A%2F%2Fbucketeer-e05bbc84-baa3-437e-9518-adb32be77984.s3.amazonaws.com%2Fpublic%2Fimages%2Fd36b24f9-6688-43f1-a983-f10d34e1626d_780x470.jpeg', 'https://en.wikipedia.org/wiki/Valeriepieris_circle', 'https://edition.cnn.com/2022/08/28/us/california-water-restriction-enforcement-elam/index.html']\n",
      "['https://en.wikipedia.org/wiki/R/K_selection_theory', 'https://subconscious.substack.com/p/is-open-source-r-selected?utm_source=substack&utm_medium=email', 'https://www.foodsecurityportal.org/tools/COVID-19-food-trade-policy-tracker', 'https://www.hrw.org/news/2022/05/20/reimagine-global-food-systems-prevent-hunger-and-protect-rights?utm_source=substack&utm_medium=email', 'https://www.theguardian.com/news/2022/jul/10/uber-files-leak-reveals-global-lobbying-campaign', 'https://whyisthisinteresting.substack.com/p/the-matchbook-edition-4f7', 'https://thebulletin.org/2022/07/are-cities-ready-for-extreme-heat', 'https://www.scientificamerican.com/article/seville-launches-world-rsquo-s-first-program-to-name-and-rank-heat-waves/', 'https://www.sheffieldtribune.co.uk/p/from-130-burnt-out-cars-to-sheffields?utm_source=substack&utm_medium=email', 'https://www.fastcompany.com/90769791/an-abandoned-berlin-airport-is-being-transformed-into-climate-neutral-car-free-neighborhood?utm_source=substack&utm_medium=email', 'https://www.businessinsider.com/gen-z-hates-remote-work-office-jobs-work-from-home-2022-7', 'https://daily.jstor.org/how-we-all-got-in-debt/?utm_source=substack&utm_medium=email', 'https://www.nytimes.com/2017/09/28/magazine/the-mind-of-john-mcphee.html', 'https://www.rmit.edu.au/news/all-news/2022/feb/sound-waves-stem-cells', 'https://openai.com/dall-e-2', 'https://en.wikipedia.org/wiki/Blindsight_(Watts_novel)', 'https://substackcdn.com/image/fetch/f_auto,q_auto:good,fl_progressive:steep/https%3A%2F%2Fbucketeer-e05bbc84-baa3-437e-9518-adb32be77984.s3.amazonaws.com%2Fpublic%2Fimages%2F8efb9920-c26c-4436-ba1b-04582673909b_1489x1151.png', 'https://tindie.us5.list-manage.com/track/click?u=7aa035bfbcb82bedd3f3c334b&id=b27035d41c&e=f865fd673a', 'https://tindie.us5.list-manage.com/track/click?u=7aa035bfbcb82bedd3f3c334b&id=f4a8747e19&e=f865fd673a', 'https://tindie.us5.list-manage.com/track/click?u=7aa035bfbcb82bedd3f3c334b&id=5ad5430f2f&e=f865fd673a', 'https://tindie.us5.list-manage.com/track/click?u=7aa035bfbcb82bedd3f3c334b&id=efae3ab3eb&e=f865fd673a', 'https://tindie.us5.list-manage.com/track/click?u=7aa035bfbcb82bedd3f3c334b&id=31040de424&e=f865fd673a', 'https://tindie.us5.list-manage.com/track/click?u=7aa035bfbcb82bedd3f3c334b&id=cf945301f1&e=f865fd673a', 'https://tindie.us5.list-manage.com/track/click?u=7aa035bfbcb82bedd3f3c334b&id=a5d8bc1a5f&e=f865fd673a']\n",
      "['https://www.goodreads.com/work/quotes/48237590', 'https://www.huckmag.com/perspectives/the-real-reasons-young-people-are-choosing-sobriety/', 'https://theface.com/life/student-accommodation-crisis-glasgow-portsmouth-housing-shortage-students-freshers', 'https://nonobvious.com/content/trends/revivalism/', 'https://nonobvious.com/non-obvious-trends/about/megatrends/', 'https://zine.kleinkleinklein.com/p/creator-paradox?utm_source=email&publication_id=260920&post_id=72887832#details', 'https://experimentalhistory.substack.com/p/pop-culture-has-become-an-oligopoly?utm_source=substack&utm_medium=email', 'https://www.theguardian.com/world/2022/sep/17/museums-on-prescription-brussels-tests-cultural-visits-to-treat-anxiety', 'https://www.lemonde.fr/campus/article/2022/09/22/ralentir-ou-perir-la-decroissance-theme-de-rentree-a-hec_6142734_4401467.html?utm_term=Autofeed&utm_medium=Social&utm_source=Twitter#Echobox=1663848304', 'https://www.washingtonpost.com/opinions/2022/09/12/worker-shortage-public-sector-crisis/', 'https://www.forbes.com/sites/alexandralevine/2022/09/16/algospeak-social-media-survey/', 'https://rishad.substack.com/p/identifying-growing-and-recruiting?utm_source=email', 'https://randhindi.substack.com/p/im-investing-in-chipiron', 'https://consensys.net/blog/press-release/ethereum-blockchain-eliminates-99-99-of-its-carbon-footprint-overnight-after-a-successful-merge-according-to-new-report/?utm_source=substack&utm_medium=email', 'https://www.smithsonianmag.com/smart-news/the-followers-influencer-photos-surveillance-footage-180980825/', 'https://cba.mit.edu/events/03.11.ASE/docs/VonNeumann.pdf', 'https://www.colorado.edu/ecenter/2021/11/04/plastic-eating-mushrooms', 'https://retr0.id/notice/ANqlvFZD1eIqjmRiFc', 'https://www.fastcompany.com/90783637/this-new-wind-turbine-concept-isnt-like-any-youve-seen-before', 'https://jeromeaparis.substack.com/p/financing-offshore-wind-part-1', 'https://www.hsgac.senate.gov/media/majority-media/peters-and-portman-introduce-bipartisan-legislation-to-help-secure-open-source-software_', 'https://www.grubstreet.com/2021/08/blank-street-nyc-coffee-cart-startup.html', 'https://news.artnet.com/art-world/a-i-should-exclude-living-artists-from-its-database-says-one-painter-whose-works-were-used-to-fuel-image-generators-2178352', 'https://arstechnica.com/information-technology/2022/09/artist-receives-first-known-us-copyright-registration-for-generative-ai-art/', 'https://openart.ai/', 'https://bookshome.net/', 'https://flipperzero.one/', 'https://en.wikipedia.org/wiki/Everything_Everywhere_All_at_Once', 'https://www.goodreads.com/book/show/28209634-autonomous', 'https://osintfr.com/fr/category/podcast/', 'https://substackcdn.com/image/fetch/f_auto,q_auto:good,fl_progressive:steep/https%3A%2F%2Fbucketeer-e05bbc84-baa3-437e-9518-adb32be77984.s3.amazonaws.com%2Fpublic%2Fimages%2F37e3f39b-f41d-45c9-9d7c-05e65787ae87_662x666.png']\n",
      "['https://www.cbr.com/bruce-willis-sells-deepfake-likeness/', 'https://www.autocar.co.uk/car-news/consumer/cost-public-ev-charging-rises-more-42-four-months', 'https://www.nytimes.com/2022/09/26/business/factory-jobs-workers-rebound.html', 'https://www.bloomberg.com/news/articles/2021-10-22/how-paris-will-become-100-cyclable', 'https://2012.osmz.ru/#15/24.8472/89.3763', 'https://www.fao.org/3/cb9910en/cb9910en.pdf?utm_source=substack&utm_medium=email', 'https://techpandemic.theglassroom.org/#', 'https://www.bloomberg.com/news/articles/2022-09-30/palantir-had-plan-to-crack-uk-health-system-buying-our-way-in', 'https://www.vice.com/en/article/y3pnkw/us-military-bought-mass-monitoring-augury-team-cymru-browsing-email-data', 'https://bostonreview.net/articles/the-banality-of-surveillance/', 'https://www.economist.com/business/2022/05/30/corporate-espionage-is-entering-a-new-era', 'https://www.peacetalksinternational.com/post/conflict', 'https://rishad.substack.com/p/a-new-esg', 'https://www.bytebase.com/blog/30saas-services-behind-startup', 'https://www.cbr.com/bruce-willis-sells-deepfake-likeness/', 'https://www.yahoo.com/entertainment/bruce-willis-did-not-sell-204712986.html?guccounter=1', 'https://www.theverge.com/2022/9/29/23378210/meta-text-to-video-ai-generation-make-a-video-model-dall-e', 'https://guytevet.github.io/mdm-page/', 'https://www.ethswarm.org/The-Book-of-Swarm.pdf', 'https://www.axios.com/2022/09/27/taiwanese-citizens-training-cyber-war-china?utm_source=newsletter&utm_medium=email&utm_campaign=newsletter_axiosam&stream=top', 'https://hakaimagazine.com/features/in-the-mind-of-a-whale/', 'https://hakaimagazine.com/features/philadephias-diatom-archive-is-a-way-way-way-back-machine/', 'https://eu.patagonia.com/gb/en/ownership/?utm_source=substack&utm_medium=email', 'https://www.youtube.com/watch?v=uV1C-41tq64', 'https://nesslabs.com/chaos-surfing', 'https://www.theverge.com/2022/9/28/23375663/amazon-kindle-scribe-e-ink-tablet-stylus-event-price', 'https://thewalrus.ca/how-do-you-make-the-perfect-toy/', 'https://www.goodreads.com/book/show/45046566-a-desolation-called-peace?from_choice=true', 'https://substackcdn.com/image/fetch/f_auto,q_auto:good,fl_progressive:steep/https%3A%2F%2Fbucketeer-e05bbc84-baa3-437e-9518-adb32be77984.s3.amazonaws.com%2Fpublic%2Fimages%2F3b381458-d7d9-49fb-adbe-ff98e132401b_1622x711.jpeg', 'https://twitter.com/VilleSinkkonen/status/1104130659289890818/photo/1']\n",
      "['https://www.bbc.com/news/world-62149522', 'http://spiegel.de/international/europe/a-stress-test-for-solidarity-looming-natural-gas-shortages-has-the-eu-scrambling-for-solutions-a-c3e1cdb9-e11b-4f7a-bdbc-f252e1ebe013', 'https://spectrum.ieee.org/nuclear-submarine', 'https://themarkup.org/privacy/2021/04/01/the-little-known-data-broker-industry-is-spending-big-bucks-lobbying-congress', 'https://www.theguardian.com/news/2022/jul/11/uber-files-whistleblower-lobbyist-mark-macgann', 'https://www.theguardian.com/news/2022/jul/10/uber-files-leak-reveals-global-lobbying-campaign', 'https://www.thedrive.com/news/bmw-is-charging-a-subscription-fee-for-heated-seats-again', 'https://edition.cnn.com/style/article/magic-mirror-cincinnati-art-museum-scn/index.html', 'https://www.naturalism.org/philosophy/death/death-nothingness-and-subjectivity', 'https://superamit.substack.com/p/short-stories-how-much-do-you-make', 'https://github.com/readme/guides/publishing-your-work', 'https://www.swyx.io/learn-in-public/', 'https://www.solimanwrites.com/writing-the-most-misunderstood-activity/', 'https://lethain.com/work-on-what-matters/', 'https://darkstar.mirror.xyz/KrLZCyWKpAwRutLskTyBebFZJ4ByvlaJeszAmF9qxjo', 'https://www.fastcompany.com/34512/war-talent', 'https://www.pocketgamer.biz/interview/79190/unity-ironsource-john-riccitiello-marc-whitten-merger/', 'https://blog.mollywhite.net/is-acceptably-non-dystopian-self-sovereign-identity-even-possible/', 'https://en.wikipedia.org/wiki/Blindsight_(Watts_novel)', 'https://en.wikipedia.org/wiki/Blindsight', 'https://substackcdn.com/image/fetch/f_auto,q_auto:good,fl_progressive:steep/https%3A%2F%2Fbucketeer-e05bbc84-baa3-437e-9518-adb32be77984.s3.amazonaws.com%2Fpublic%2Fimages%2F14026b70-0cfd-4b62-b221-fbcd05c1124d_1280x957.jpeg']\n",
      "['http://svn.cacert.org/CAcert/CAcert_Inc/Board/oss/oss_sabotage.html', 'https://cybernews.com/cyber-war/hackers-created-an-enormous-traffic-jam-in-moscow/', 'https://www.theverge.com/2022/8/12/23303006/amazon-care-ginger-mental-health-therapy', 'https://www.bloomberg.com/news/articles/2022-08-23/heat-waves-drive-demand-for-air-conditioned-clothing', 'https://www.indiegogo.com/projects/ucoolity-wearable-air-conditioner-cooling-vest--2?utm_source=cordial&utm_medium=email&utm_campaign=220903_perks_2022-09-03#/', 'https://www.bbc.com/news/world-europe-62717599', 'https://www.kurzweilai.net/ultrasonic-wireless-neural-dust-sensors-monitor-nerves-muscles-in-real-time', 'https://www.nytimes.com/2022/09/01/technology/apple-watch-children-kids.html', 'https://farsight.cifs.dk/how-futurists-use-science-fiction-to-model-future-threats/', 'https://www.pmi.org/learning/library/characterizing-unknown-unknowns-6077?utm_source=substack&utm_medium=email', 'https://www.scottsantens.com/the-toothpaste-argument-for-universal-basic-income-ubi-gotz-werner/', 'http://abc.net.au/news/2022-09-02/asd-50-cent-code-cracked-by-14yo-tasmanian-boy/101401978', 'https://link.springer.com/article/10.1007/s00300-020-02675-6', 'https://www.ribbonfarm.com/2009/07/07/the-epic-story-of-container-shipping/', 'https://www.opinionx.co/blog/mvps', 'https://medium.com/geekculture/run-stable-diffusion-in-your-local-computer-heres-a-step-by-step-guide-af128397d424', 'https://www.goodreads.com/book/show/37794149-a-memory-called-empire', 'https://www.dunod.com/histoire-geographie-et-sciences-politiques/empire-algorithmes-une-geopolitique-du-controle-ere', 'https://en.wikipedia.org/wiki/Bigbug', 'https://www.monde-diplomatique.fr/mav/184/', 'https://www.goodreads.com/fr/book/show/25478648-le-sentiment-du-fer', 'https://en.wikipedia.org/wiki/Three_Thousand_Years_of_Longing', 'https://www.goodreads.com/book/show/45154547-a-desolation-called-peace', 'https://kenliu.name/blog/book/the-paper-menagerie-and-other-stories/', 'https://substackcdn.com/image/fetch/f_auto,q_auto:good,fl_progressive:steep/https%3A%2F%2Fbucketeer-e05bbc84-baa3-437e-9518-adb32be77984.s3.amazonaws.com%2Fpublic%2Fimages%2F19aebe23-74a3-4068-95f5-81ed18f6a4ed_1044x783.png']\n"
     ]
    }
   ],
   "source": [
    "URLs = []\n",
    "for page in cached_pages:\n",
    "    with open(page) as fp:\n",
    "        html_content = BeautifulSoup(fp, 'html.parser')  \n",
    "    content = html_content.findAll('a')\n",
    "    content = [i.get('href') for i in content if (not (i.get('href') is None))]\n",
    "    for link in content:\n",
    "        URLs.append([name,link])\n",
    "    print(content) "
   ]
  },
  {
   "cell_type": "code",
   "execution_count": 113,
   "id": "convinced-glenn",
   "metadata": {},
   "outputs": [
    {
     "data": {
      "text/html": [
       "<div>\n",
       "<style scoped>\n",
       "    .dataframe tbody tr th:only-of-type {\n",
       "        vertical-align: middle;\n",
       "    }\n",
       "\n",
       "    .dataframe tbody tr th {\n",
       "        vertical-align: top;\n",
       "    }\n",
       "\n",
       "    .dataframe thead th {\n",
       "        text-align: right;\n",
       "    }\n",
       "</style>\n",
       "<table border=\"1\" class=\"dataframe\">\n",
       "  <thead>\n",
       "    <tr style=\"text-align: right;\">\n",
       "      <th></th>\n",
       "      <th>page</th>\n",
       "      <th>url</th>\n",
       "      <th>hash</th>\n",
       "    </tr>\n",
       "  </thead>\n",
       "  <tbody>\n",
       "    <tr>\n",
       "      <th>0</th>\n",
       "      <td>20220824</td>\n",
       "      <td>b'https://spectrum.ieee.org/tesla-autopilot-da...</td>\n",
       "      <td>aa8144a7a9cdc5baa399df0daa112f75</td>\n",
       "    </tr>\n",
       "    <tr>\n",
       "      <th>1</th>\n",
       "      <td>20220824</td>\n",
       "      <td>b'https://themarkup.org/the-breakdown/2022/07/...</td>\n",
       "      <td>fe7e41280ce4475f799785a436070868</td>\n",
       "    </tr>\n",
       "    <tr>\n",
       "      <th>2</th>\n",
       "      <td>20220824</td>\n",
       "      <td>b'https://www.cnil.fr/en/qa-cnils-formal-notic...</td>\n",
       "      <td>903096f9f71209541fb6fabd6220b72b</td>\n",
       "    </tr>\n",
       "    <tr>\n",
       "      <th>3</th>\n",
       "      <td>20220824</td>\n",
       "      <td>b'https://techcrunch.com/2022/07/18/instagrams...</td>\n",
       "      <td>fd5ff8626bba470fb179c76d3153d165</td>\n",
       "    </tr>\n",
       "    <tr>\n",
       "      <th>4</th>\n",
       "      <td>20220824</td>\n",
       "      <td>b'https://twitter.com/Wendigoon8/status/154983...</td>\n",
       "      <td>a95cf828f35be5e3739324cfde416207</td>\n",
       "    </tr>\n",
       "    <tr>\n",
       "      <th>...</th>\n",
       "      <td>...</td>\n",
       "      <td>...</td>\n",
       "      <td>...</td>\n",
       "    </tr>\n",
       "    <tr>\n",
       "      <th>283</th>\n",
       "      <td>20220824</td>\n",
       "      <td>b'https://www.goodreads.com/fr/book/show/25478...</td>\n",
       "      <td>38438ce40cddf2d58499fd70b4ffc7a6</td>\n",
       "    </tr>\n",
       "    <tr>\n",
       "      <th>284</th>\n",
       "      <td>20220824</td>\n",
       "      <td>b'https://en.wikipedia.org/wiki/Three_Thousand...</td>\n",
       "      <td>51b141d1f32190e4f3c60c8fa01ddb46</td>\n",
       "    </tr>\n",
       "    <tr>\n",
       "      <th>285</th>\n",
       "      <td>20220824</td>\n",
       "      <td>b'https://www.goodreads.com/book/show/45154547...</td>\n",
       "      <td>48cdce80ccaf0dc29c895755ae7f51c0</td>\n",
       "    </tr>\n",
       "    <tr>\n",
       "      <th>286</th>\n",
       "      <td>20220824</td>\n",
       "      <td>b'https://kenliu.name/blog/book/the-paper-mena...</td>\n",
       "      <td>6349bb23de426f5481fb2427dbc79efb</td>\n",
       "    </tr>\n",
       "    <tr>\n",
       "      <th>287</th>\n",
       "      <td>20220824</td>\n",
       "      <td>b'https://substackcdn.com/image/fetch/f_auto,q...</td>\n",
       "      <td>0637378bfd5702dcc28e96b8c25365c9</td>\n",
       "    </tr>\n",
       "  </tbody>\n",
       "</table>\n",
       "<p>283 rows × 3 columns</p>\n",
       "</div>"
      ],
      "text/plain": [
       "         page                                                url  \\\n",
       "0    20220824  b'https://spectrum.ieee.org/tesla-autopilot-da...   \n",
       "1    20220824  b'https://themarkup.org/the-breakdown/2022/07/...   \n",
       "2    20220824  b'https://www.cnil.fr/en/qa-cnils-formal-notic...   \n",
       "3    20220824  b'https://techcrunch.com/2022/07/18/instagrams...   \n",
       "4    20220824  b'https://twitter.com/Wendigoon8/status/154983...   \n",
       "..        ...                                                ...   \n",
       "283  20220824  b'https://www.goodreads.com/fr/book/show/25478...   \n",
       "284  20220824  b'https://en.wikipedia.org/wiki/Three_Thousand...   \n",
       "285  20220824  b'https://www.goodreads.com/book/show/45154547...   \n",
       "286  20220824  b'https://kenliu.name/blog/book/the-paper-mena...   \n",
       "287  20220824  b'https://substackcdn.com/image/fetch/f_auto,q...   \n",
       "\n",
       "                                 hash  \n",
       "0    aa8144a7a9cdc5baa399df0daa112f75  \n",
       "1    fe7e41280ce4475f799785a436070868  \n",
       "2    903096f9f71209541fb6fabd6220b72b  \n",
       "3    fd5ff8626bba470fb179c76d3153d165  \n",
       "4    a95cf828f35be5e3739324cfde416207  \n",
       "..                                ...  \n",
       "283  38438ce40cddf2d58499fd70b4ffc7a6  \n",
       "284  51b141d1f32190e4f3c60c8fa01ddb46  \n",
       "285  48cdce80ccaf0dc29c895755ae7f51c0  \n",
       "286  6349bb23de426f5481fb2427dbc79efb  \n",
       "287  0637378bfd5702dcc28e96b8c25365c9  \n",
       "\n",
       "[283 rows x 3 columns]"
      ]
     },
     "execution_count": 113,
     "metadata": {},
     "output_type": "execute_result"
    }
   ],
   "source": [
    "import hashlib\n",
    "\n",
    "df = pd.DataFrame(URLs)\n",
    "df.columns = [\"page\",\"url\"]\n",
    "df = df.drop_duplicates(subset=[\"url\"])\n",
    "df[\"url\"] = df.url.apply(lambda x: str(x).encode('utf-8'))\n",
    "\n",
    "df[\"hash\"] = df.url.apply(lambda x: hashlib.md5(str(x).encode('utf-8')).hexdigest())\n",
    "df.to_parquet(\"urls.parquet.gzip\",  engine='pyarrow', compression='gzip')\n",
    "df"
   ]
  }
 ],
 "metadata": {
  "kernelspec": {
   "display_name": "Python 3",
   "language": "python",
   "name": "python3"
  },
  "language_info": {
   "codemirror_mode": {
    "name": "ipython",
    "version": 3
   },
   "file_extension": ".py",
   "mimetype": "text/x-python",
   "name": "python",
   "nbconvert_exporter": "python",
   "pygments_lexer": "ipython3",
   "version": "3.6.9"
  }
 },
 "nbformat": 4,
 "nbformat_minor": 5
}
