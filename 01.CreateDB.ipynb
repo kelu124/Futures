{
 "cells": [
  {
   "cell_type": "code",
   "execution_count": 25,
   "metadata": {},
   "outputs": [
    {
     "name": "stdout",
     "output_type": "stream",
     "text": [
      "The autoreload extension is already loaded. To reload it, use:\n",
      "  %reload_ext autoreload\n"
     ]
    }
   ],
   "source": [
    "%load_ext autoreload\n",
    "%autoreload 2\n",
    "\n",
    "import helpers as s"
   ]
  },
  {
   "cell_type": "code",
   "execution_count": 43,
   "metadata": {},
   "outputs": [],
   "source": [
    "import os, openai, datetime, hashlib, re\n",
    "import time\n",
    "from langchain.document_loaders import DataFrameLoader\n",
    "from langchain.vectorstores import Chroma\n",
    "\n",
    "from langchain.text_splitter import CharacterTextSplitter\n",
    "from langchain.embeddings import OpenAIEmbeddings\n",
    "from langchain.chains.question_answering import load_qa_chain\n",
    "from langchain.chat_models import ChatOpenAI\n",
    "from langchain.vectorstores import Chroma\n",
    "from chromadb.utils.embedding_functions import OpenAIEmbeddingFunction\n",
    "\n",
    "import pandas as pd\n",
    "\n",
    "\n",
    "from dotenv import load_dotenv\n",
    "load_dotenv()"
   ]
  },
  {
   "cell_type": "code",
   "execution_count": 31,
   "metadata": {},
   "outputs": [],
   "source": [
    "df = pd.read_parquet('data/articles.parquet.gzip')\n",
    "df.columns=  [\"src\",\"content\",\"LEN\"]\n",
    "df = df[(df.LEN > 1500) & (df.LEN < 30000)].reset_index(drop=True)\n",
    "titles = pd.read_parquet(\"data/titles.parquet.gzip\")\n",
    "df = df.merge(titles,on=\"src\",how=\"left\")\n",
    "mt = pd.read_parquet(\"data/metatags.parquet.gzip\")\n",
    "df = df.merge(mt,on=\"src\",how=\"left\")\n",
    "df.to_parquet(\"data/consolidated.parquet.gzip\",compression=\"gzip\")"
   ]
  },
  {
   "cell_type": "code",
   "execution_count": 32,
   "metadata": {},
   "outputs": [],
   "source": [
    "for x in df.columns:\n",
    "    df[x] = df[x].astype(str)"
   ]
  },
  {
   "cell_type": "code",
   "execution_count": 33,
   "metadata": {},
   "outputs": [
    {
     "name": "stdout",
     "output_type": "stream",
     "text": [
      "OPENAI_API_KEY is ready\n"
     ]
    }
   ],
   "source": [
    "if os.getenv(\"OAI\") is not None:\n",
    "    openai.api_key = os.getenv(\"OAI\")\n",
    "    print (\"OPENAI_API_KEY is ready\")\n",
    "else:\n",
    "    print (\"OPENAI_API_KEY environment variable not found\")\n",
    "\n",
    "embeddings = OpenAIEmbeddings(openai_api_key=os.getenv(\"OAI\"))\n"
   ]
  },
  {
   "cell_type": "code",
   "execution_count": 34,
   "metadata": {},
   "outputs": [],
   "source": [
    "df_loader = DataFrameLoader(df, page_content_column=\"content\")"
   ]
  },
  {
   "cell_type": "code",
   "execution_count": 35,
   "metadata": {},
   "outputs": [
    {
     "data": {
      "text/plain": [
       "Document(page_content='Today’s post is the final one in my series on goals. The rest of the posts in this series are here. Recent editions ICYMI:\\nMetacognition: A Critical Leadership & Career Skill\\nMost Performance Reviews are biased\\nBeware of Existential Asymmetry\\nIn my previous edition titled Good Goals Gone Bad, I highlighted how an exclusive focus on pre-determined, outcome-focused goals often blinds us to the emergent. At its worse, this can even lead to disengagement and burnout.\\nSo I was gratified to come across a particularly poignant and revelatory piece of writing from Nobel laureate physicist Richard Feynman, which captures many of the key points I made about positivist vs constructionist approach to goals.\\nA Nobel Prize for piddling around\\nThe young Feynman was going through a depressive phase and was disengaged with his work at the time. It included some major imposter syndrome as well.\\nDuring this period I would get offers from different places universities and industry with salaries higher than my own. And each time I got something like that I would get a little more depressed.\\nI would say to myself, \"Look, they\\'re giving me these wonderful offers, but they don\\'t realize that I\\'m burned out! Of course I can\\'t accept them. They expect me to accomplish something, and I can\\'t accomplish anything! I have no ideas. . .\"\\nOne offer in particular bothered him the most:\\nInstitute for Advanced Study! Special exception! A position better than Einstein, even! It was ideal; it was perfect; it was absurd!\\nIt was absurd. The other offers had made me feel worse, up to a point. They were expecting me to accomplish something. But this offer was so ridiculous, so impossible for me ever to live up to, so ridiculously out of proportion. The other ones were just mistakes; this was an absurdity!\\nHe was burdened by the positivist expectations he’d imposed on himself. While others might not have intended it that way, his experience of it very much was. And this took a toll.\\nWhat turned it around for him was doing a complete 180 and reframing it as play instead of wilting under the pressure of positivism.\\nAnd then I thought to myself, \"You know, what they think of you is so fantastic, it\\'s impossible to live up to it. You have no responsibility to live up to it!\"\\nIt was a brilliant idea: You have no responsibility to live up to what other people think you ought to accomplish. I have no responsibility to be like they expect me to be. It\\'s their mistake, not my failing.\\nHe doubled down on this notion of engaging with his original naiveté that rekindled his passion for physics. While it was aimless from an outsider’s perspective, it set in motion the process that ultimately led to him winning the Nobel Prize.\\nThen I had another thought: Physics disgusts me a little bit now, but I used to enjoy doing physics. Why did I enjoy it?\\nI used to play with it. I used to do whatever I felt like doing it didn\\'t have to do with whether it was important for the development of nuclear physics, but whether it was interesting and amusing for me to play with. …\\nSo I got this new attitude. Now that I am burned out and I\\'ll never accomplish anything, I\\'ve got this nice position at the university teaching classes which I rather enjoy, and just like I read the Arabian Nights for pleasure, I\\'m going to play with physics, whenever I want to, without worrying about any importance whatsoever.\\nWithin a week I was in the cafeteria and some guy, fooling around, throws a plate in the air. As the plate went up in the air I saw it wobble, and I noticed the red medallion of Cornell on the plate going around. It was pretty obvious to me that the medallion went around faster than the wobbling.\\nI had nothing to do, so I start to figure out the motion of the rotating plate. I discover that when the angle is very slight, the medallion rotates twice as fast as the wobble rate two to one. It came out of a complicated equation! Then I thought, \"Is there some way I can see in a more fundamental way, by looking at the forces or the dynamics, why it\\'s two to one?\"\\nI don\\'t remember how I did it, but I ultimately worked out what the motion of the mass particles is, and how all the accelerations balance to make it come out two to one.\\nI still remember going to Hans Bethe and saying, \"Hey, Hans! I noticed something interesting. Here the plate goes around so, and the reason it\\'s two to one is. . .\" and I showed him the accelerations.\\nHe says, \"Feynman, that\\'s pretty interesting, but what\\'s the importance of it? Why are you doing it?\"\\n\"Hah!\" I say. \"There\\'s no importance whatsoever. I\\'m just doing it for the fun of it.\" His reaction didn\\'t discourage me; I had made up my mind I was going to enjoy physics and do whatever I liked.\\nI went on to work out equations of wobbles. Then I thought about how electron orbits start to move in relativity. Then there\\'s the Dirac Equation in electrodynamics. And then quantum electrodynamics. And before I knew it (it was a very short time) I was \"playing\" working, really with the same old problem that I loved so much, that I had stopped working on when I went to Los Alamos: my thesis type problems; all those old fashioned, wonderful things.\\nHans Bethe’s question of “what’s the importance of it? Why are you doing it?” is classic positivist goal-thinking which trips up many of us. Unlike Feynman, in our case it’s not someone else but we ourselves doing the questioning.\\nFeynman ends the piece with these iconic words:\\nThere was no importance to what I was doing, but ultimately there was. The diagrams and the whole business that I got the Nobel Prize for came from that piddling around with the wobbling plate.\\n— from Surely You’re Joking, Mr. Feynman\\nThis leads us to the key point in this edition: the oblique approach to goals.\\nThe Direct (D) vs The Oblique (O)\\nIn one of my all-time-favorite books, Obliquity, John Kay highlights the differences between a direct approach vs an oblique approach to decision-making and problem-solving:\\nIn obliquity there are no predictable connections between intentions and outcomes. Oblique problem solvers do not evaluate all available alternatives: they make successive choices from a narrow range of options.\\nEffective decision makers are distinguished not so much by the superior extent of their knowledge as by their being aware of its limitations. Problem solving is iterative and adaptive rather than direct. Good decision makers are not identified by their ability to provide compelling accounts of how they reached their conclusions.\\nThe most complex systems come into being, and function, without anyone having knowledge of the whole. Good decision makers are eclectic and tend to regard consistency as a mark of stubbornness, or ideological blindness, rather than as a virtue.\\nRationality is not defined by good processes; irrationality lies in persisting with methods and actions that plainly do not work—including the methods and actions that commonly masquerade as rationality.\\nHe highlights the differences between the approaches along 9 key dimensions:\\nIntentionality\\nWhat happens is what we intend to happen. (D)\\nOutcomes arise through complex processes whose totality no one fully grasps. (O)\\nLimited comparison\\nActions are selected after scanning all available alternatives. (D)\\nActions are chosen from a constricted subset of options by successive limited comparison. (O)\\nInformation\\nDecisions are made on the basis of fullest possible information. (D)\\nDecisions are made after recognizing that only limited knowledge of the world is or can be available. (O)\\nEclecticism\\nGood decisions are made through explicit statement of objectives and a clear view of the world. (D)\\nGood decision making is eclectic in its use of models, narratives and sources of evidence. (O)\\nAdaptation\\nThe best outcome is achieved through conscious processes of maximization. (D)\\nGood outcomes are derived through continual (but often unsuccessful) adaptation to constantly changing circumstances. (O)\\nExpertise\\nRules can be defined that allow people (or machines) to find solutions. (D)\\nThe expert can do things that others can’t — and can only rarely learn. (O)\\nDirection\\nOrder is achieved by a directing mind. (D)\\nOrder often emerges spontaneously. (O)\\nConsistency\\nThe rational decision maker is consistent. (D)\\nConsistency is a minor, and possibly dangerous, virtue. (O)\\nProcess rationality\\nGood decisions are the product of a structured and careful process of calculation. (D)\\nGood decisions are the outcome of good judgment. (O)\\nNotice how the standard approach to goals, OKRs, and strategy, especially in corporate setups, is steeped in the philosophy of directness while trying to minimize uncertainty, but which also means ignoring the opportunity of obliquity.\\nThis spills over into our personal endeavors as well.\\nJeff Bezos calls the oblique approach “wandering”, and also the primary reason failure is built into Amazon’s philosophy. A certain amount of naïveté is almost a requirement in order to pull off anything unconventional.\\nMy point is not that the direct approach is wrong, but that we over-index on it at the cost of equally effective, and often what we actually need, oblique approaches. It’s worthwhile to spend some time with your goals and consider if you have obliquity built into your strategy, or if you are actively trying to eliminate it.\\n⚡️Announcement! ⚡️\\nNext week, I’m starting a new series on what I call Organizational Stagecraft. It’s often the missing piece that stops well-deserving, conscientious folks from reaching their full potential in careers, despite being excellent at what they do.\\nIf you’ve ever told yourself “I don’t like to play politics” or “My work should speak for itself”, you’ll find this series useful.\\nI’m also building out a cohort program on Organizational Stagecraft. Stay tuned and watch for updates in this space.', metadata={'src': '8733778acc3402584c9653dbe872bf8c', 'LEN': '9862', 'title': 'The Power of Oblique Goals', 'keywords': \"['goals' 'post' 'series' 'focus' 'burnout' 'positivist approach'\\n 'constructionist approach' 'depression' 'imposter syndrome' 'physics']\", 'themes': \"['Goal setting' 'Mental Health' 'Career development']\", 'summary': \"This blog post concludes a series on goals and highlights the importance of balancing pre-determined, outcome-focused goals with emergent possibilities to avoid burnout. It references Nobel laureate physicist Richard Feynman's experience with depressive phases and imposter syndrome, and discusses how his reframing of his work as play rekindled his passion for physics and ultimately led to his Nobel Prize. The post explores the concept of obliquity, or an indirect approach, to decision-making and problem-solving, and emphasizes the need to incorporate oblique approaches into personal and corporate goal setting. The post also announces an upcoming series on Organizational Stagecraft and a cohort program on the same topic.\", 'origin': '20230303', 'url': 'https://thelsweekly.substack.com/p/feynman-obliquity'})"
      ]
     },
     "metadata": {},
     "output_type": "display_data"
    }
   ],
   "source": [
    "df_document = df_loader.load()\n",
    "display(df_document[1])"
   ]
  },
  {
   "cell_type": "code",
   "execution_count": 36,
   "metadata": {},
   "outputs": [
    {
     "name": "stdout",
     "output_type": "stream",
     "text": [
      "1410\n"
     ]
    }
   ],
   "source": [
    "text_splitter = CharacterTextSplitter(separator='\\n\\n',chunk_size=2000, chunk_overlap=200)\n",
    "chunked_documents = text_splitter.split_documents(df_document)\n",
    "print(len(chunked_documents))"
   ]
  },
  {
   "cell_type": "code",
   "execution_count": 38,
   "metadata": {},
   "outputs": [
    {
     "name": "stdout",
     "output_type": "stream",
     "text": [
      "Continue on the DB\n",
      "1410 elements already stored.\n"
     ]
    }
   ],
   "source": [
    "base_path = \"./DB/\"\n",
    "\n",
    "if not os.path.isfile(base_path+\"chroma.sqlite3\"):\n",
    "    print(\"Start a new DB\")\n",
    "    vectordb = Chroma.from_documents(\n",
    "        documents=[chunked_documents[0]],\n",
    "        embedding=embeddings,\n",
    "        persist_directory=base_path\n",
    "    )\n",
    "    vectordb.persist()\n",
    "else:\n",
    "    print(\"Continue on the DB\")\n",
    "    vectordb = Chroma(persist_directory=base_path,embedding_function=embeddings)\n",
    "    print(len(vectordb.get()[\"ids\"]),\"elements already stored.\")\n",
    "    LSDOCS = vectordb.get()[\"documents\"]"
   ]
  },
  {
   "cell_type": "code",
   "execution_count": 39,
   "metadata": {},
   "outputs": [
    {
     "name": "stdout",
     "output_type": "stream",
     "text": [
      "Already 1410 documents.\n",
      "Adding 1410 documents.\n"
     ]
    }
   ],
   "source": [
    "print(\"Already\",len(vectordb.get()[\"documents\"]),\"documents.\")\n",
    "print(\"Adding\",len(chunked_documents),\"documents.\")\n",
    "\n",
    "if vectordb:\n",
    "    LSDOCS = vectordb.get()[\"documents\"]\n",
    "else:\n",
    "    LSDOCS = []\n",
    "    \n",
    "for doc in chunked_documents:\n",
    "    # Check if the text already exists somewhere\n",
    "    if not doc.page_content in LSDOCS:\n",
    "        vectordb.add_documents(\n",
    "            documents=[doc], \n",
    "            embedding=embeddings, \n",
    "            persist_directory=base_path\n",
    "        )\n",
    "        # Ugly hack to avoid reaching token per min limit \n",
    "        # So it sleeps 1s between page\n",
    "        time.sleep(0.2)\n",
    "        vectordb.persist()\n",
    "    else:\n",
    "        0\n",
    "        #print(\"Item already in the DB\",doc.page_content[:100].replace(\"\\n\",\" \"))\n",
    "LSDOCS = vectordb.get()[\"documents\"]\n",
    "vectordb.persist()"
   ]
  },
  {
   "cell_type": "code",
   "execution_count": 40,
   "metadata": {},
   "outputs": [],
   "source": [
    "embeddings = OpenAIEmbeddings()\n",
    "base_path = \"./DB/\"\n",
    "vectordb = Chroma(persist_directory=base_path,embedding_function=embeddings)\n",
    "def create_agent_chain(llm):\n",
    "    chain = load_qa_chain(llm, chain_type=\"stuff\")#,verbose=True)\n",
    "    return chain"
   ]
  },
  {
   "cell_type": "code",
   "execution_count": 57,
   "metadata": {},
   "outputs": [],
   "source": [
    "def get_llm_response(query,vectordb,temperature=0.1,k=10,seed=\"\",overwrite=False,tag={}):\n",
    "    F = datetime.datetime.now().strftime(\"%Y%m%d-%H%M%S\")\n",
    "    Q = query+\",\"+str(temperature)+\",\"+str(k)+str(seed)+str(tag)\n",
    "    Q = hashlib.md5(Q.encode()).hexdigest()\n",
    "    print(Q)\n",
    "    FILE = \"cache/\"+Q+\".md\"\n",
    "    if os.path.isfile(FILE) and not overwrite:\n",
    "        with open(FILE,\"r\") as f:\n",
    "            A =f.read()\n",
    "            answer = A.split(\"\\n\\n---\\n\\n>A:\\n\")[-1].strip()\n",
    "            docs = A.split(\"\\n\\n---\\n\\n>A:\\n\")[-2].split(\"\\n\\n---\\n\\nD:\\n\")[-1].strip()\n",
    "            docs = re.findall(\"\\'url\\': \\'(.*?)\\'}\", docs, re.DOTALL)\n",
    "    else:\n",
    "        llm = ChatOpenAI(\n",
    "            # models : https://platform.openai.com/docs/models\n",
    "            temperature=temperature,\n",
    "            model=\"gpt-3.5-turbo-0125\"\n",
    "        )\n",
    "        chain = create_agent_chain(llm)\n",
    "        if tag:\n",
    "            retriever = vectordb.as_retriever(search_kwargs={\"filter\":tag,\"k\":k})\n",
    "            matching_docs = retriever.get_relevant_documents(query)\n",
    "\n",
    "            #matching_docs = vectordb.similarity_search(query,k,search_kwargs={'filter': tag})\n",
    "        else:\n",
    "            matching_docs = vectordb.similarity_search(query,k)\n",
    "        answer = chain.run(input_documents=matching_docs, question=query)\n",
    "        docs = [x.metadata[\"url\"] for x in matching_docs]\n",
    "        with open(FILE,\"w\") as f:\n",
    "            f.write(\">Q:\\n\"+query +\"\\n\\n---\\n\\nD:\\n\"+str(matching_docs)+ \"\\n\\n---\\n\\n>A:\\n\"+answer)\n",
    "    return answer, docs"
   ]
  },
  {
   "cell_type": "code",
   "execution_count": 58,
   "metadata": {},
   "outputs": [
    {
     "name": "stdout",
     "output_type": "stream",
     "text": [
      "c24af503fe0ed08792f7f093aa96f8da\n",
      "Digital twins are virtual models or replicas of physical objects, processes, or systems. They are created using real-time data from sensors and other sources to simulate the behavior and characteristics of the physical counterpart. Digital twins are used for monitoring, analyzing, and optimizing the performance of the physical object or system. They can help in predicting maintenance needs, improving efficiency, and testing different scenarios without impacting the actual physical object. In the context of the text provided, digital twins are being used to monitor the behavior of the 3D-printed steel bridge in Amsterdam and refine the design of similar structures in the future. \n",
      " \n",
      "* https://jyx.jyu.fi/handle/123456789/87497?locale-attribute=en\n",
      "* https://www.absolutdata.com/blog/why-scaling-customer-driven-marketing-requires-digital-twins-absolutdata/\n",
      "* https://www.mckinsey.com/capabilities/mckinsey-digital/our-insights/ten-unsung-digital-and-ai-ideas-shaping-business?stcr=1A960BE6F70641558E007A8186850401&cid=other-eml-alt-mip-mck&hlkid=a8fdc2ccd9e942d0a59f715b21d57aee&hctky=11456228&hdpid=6cadf31a-accb-460d-be4f-5fd25e3432d0\n",
      "* https://danielmiessler.com/blog/ais-next-big-thing-is-digital-assistants/?mc_cid=488d8cc09a&mc_eid=794406189d\n",
      "* https://www.ingenia.org.uk/ingenia/issue-94/3d-printing-a-bridge-with-a-twin\n"
     ]
    }
   ],
   "source": [
    "answer, matching_docs = get_llm_response(\"What are digital twins? \",vectordb,temperature=0.05,k=5)\n",
    "print(answer,\"\\n\",\"\\n* \"+\"\\n* \".join(matching_docs))"
   ]
  },
  {
   "cell_type": "code",
   "execution_count": 69,
   "metadata": {},
   "outputs": [
    {
     "name": "stdout",
     "output_type": "stream",
     "text": [
      "62a5bae52266a680c6a13bd3ef8dc48c The Bio Revolution: Advances in Biology and Their Impact on Society\n",
      "99e803820e0c09fbc3163a5a26ff49bb Paradigm Shift: Holobionts in Biology\n",
      "21110afd93356cd60bb66cf8f6ffdfdb Exploring the Effectiveness of Living Labs\n",
      "b1f6991b9b718672751c9427c3f5b794 Cyborg Botany: Augmented Plants as Sensors, Displays and Actuators\n",
      "115b59fc3f0d7b148482545adb1a8038 Google DeepMind Discovers 2.2 Million Crystal Structures Through AI\n"
     ]
    }
   ],
   "source": [
    "B = vectordb.similarity_search(\"biology innovation\",5)\n",
    "for b in list(B):\n",
    "    print(b.metadata[\"src\"],b.metadata[\"title\"])"
   ]
  }
 ],
 "metadata": {
  "kernelspec": {
   "display_name": "venv",
   "language": "python",
   "name": "python3"
  },
  "language_info": {
   "codemirror_mode": {
    "name": "ipython",
    "version": 3
   },
   "file_extension": ".py",
   "mimetype": "text/x-python",
   "name": "python",
   "nbconvert_exporter": "python",
   "pygments_lexer": "ipython3",
   "version": "3.10.12"
  }
 },
 "nbformat": 4,
 "nbformat_minor": 2
}
