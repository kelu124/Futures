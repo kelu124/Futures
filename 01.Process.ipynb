{
 "cells": [
  {
   "cell_type": "code",
   "execution_count": 1,
   "id": "academic-infection",
   "metadata": {},
   "outputs": [],
   "source": [
    "import pandas as pd\n",
    "\n",
    "import requests\n",
    "import bs4\n",
    "from bs4 import BeautifulSoup\n",
    "import os"
   ]
  },
  {
   "cell_type": "code",
   "execution_count": 2,
   "id": "particular-officer",
   "metadata": {},
   "outputs": [
    {
     "data": {
      "text/html": [
       "<div>\n",
       "<style scoped>\n",
       "    .dataframe tbody tr th:only-of-type {\n",
       "        vertical-align: middle;\n",
       "    }\n",
       "\n",
       "    .dataframe tbody tr th {\n",
       "        vertical-align: top;\n",
       "    }\n",
       "\n",
       "    .dataframe thead th {\n",
       "        text-align: right;\n",
       "    }\n",
       "</style>\n",
       "<table border=\"1\" class=\"dataframe\">\n",
       "  <thead>\n",
       "    <tr style=\"text-align: right;\">\n",
       "      <th></th>\n",
       "      <th>page</th>\n",
       "      <th>url</th>\n",
       "      <th>hash</th>\n",
       "    </tr>\n",
       "  </thead>\n",
       "  <tbody>\n",
       "    <tr>\n",
       "      <th>0</th>\n",
       "      <td>20221117</td>\n",
       "      <td>b'https://www.jgballard.ca/non_fiction/jgb_fic...</td>\n",
       "      <td>8ebb431ce8d949d5a1ecb52bbd42a69f</td>\n",
       "    </tr>\n",
       "    <tr>\n",
       "      <th>1</th>\n",
       "      <td>20221117</td>\n",
       "      <td>b'https://hakaimagazine.com/features/greenland...</td>\n",
       "      <td>6c6a5e8d50e3045323cf202ba5b17ea9</td>\n",
       "    </tr>\n",
       "    <tr>\n",
       "      <th>2</th>\n",
       "      <td>20221117</td>\n",
       "      <td>b'https://www.theverge.com/2022/10/25/23422359...</td>\n",
       "      <td>99ffe526026a0494fc25d44aba64bd70</td>\n",
       "    </tr>\n",
       "    <tr>\n",
       "      <th>3</th>\n",
       "      <td>20221117</td>\n",
       "      <td>b'https://www.axa.com/en/magazine/2022-future-...</td>\n",
       "      <td>792ea5817e7c3331760ac18e3090869b</td>\n",
       "    </tr>\n",
       "    <tr>\n",
       "      <th>4</th>\n",
       "      <td>20221117</td>\n",
       "      <td>b'https://www.rentcafe.com/blog/rental-market/...</td>\n",
       "      <td>8bff520dc945204951b32a6c4b10571e</td>\n",
       "    </tr>\n",
       "    <tr>\n",
       "      <th>...</th>\n",
       "      <td>...</td>\n",
       "      <td>...</td>\n",
       "      <td>...</td>\n",
       "    </tr>\n",
       "    <tr>\n",
       "      <th>438</th>\n",
       "      <td>20221117</td>\n",
       "      <td>b'https://www.goodreads.com/fr/book/show/25478...</td>\n",
       "      <td>38438ce40cddf2d58499fd70b4ffc7a6</td>\n",
       "    </tr>\n",
       "    <tr>\n",
       "      <th>439</th>\n",
       "      <td>20221117</td>\n",
       "      <td>b'https://en.wikipedia.org/wiki/Three_Thousand...</td>\n",
       "      <td>51b141d1f32190e4f3c60c8fa01ddb46</td>\n",
       "    </tr>\n",
       "    <tr>\n",
       "      <th>440</th>\n",
       "      <td>20221117</td>\n",
       "      <td>b'https://www.goodreads.com/book/show/45154547...</td>\n",
       "      <td>48cdce80ccaf0dc29c895755ae7f51c0</td>\n",
       "    </tr>\n",
       "    <tr>\n",
       "      <th>441</th>\n",
       "      <td>20221117</td>\n",
       "      <td>b'https://kenliu.name/blog/book/the-paper-mena...</td>\n",
       "      <td>6349bb23de426f5481fb2427dbc79efb</td>\n",
       "    </tr>\n",
       "    <tr>\n",
       "      <th>442</th>\n",
       "      <td>20221117</td>\n",
       "      <td>b'https://substackcdn.com/image/fetch/f_auto,q...</td>\n",
       "      <td>0637378bfd5702dcc28e96b8c25365c9</td>\n",
       "    </tr>\n",
       "  </tbody>\n",
       "</table>\n",
       "<p>434 rows × 3 columns</p>\n",
       "</div>"
      ],
      "text/plain": [
       "         page                                                url  \\\n",
       "0    20221117  b'https://www.jgballard.ca/non_fiction/jgb_fic...   \n",
       "1    20221117  b'https://hakaimagazine.com/features/greenland...   \n",
       "2    20221117  b'https://www.theverge.com/2022/10/25/23422359...   \n",
       "3    20221117  b'https://www.axa.com/en/magazine/2022-future-...   \n",
       "4    20221117  b'https://www.rentcafe.com/blog/rental-market/...   \n",
       "..        ...                                                ...   \n",
       "438  20221117  b'https://www.goodreads.com/fr/book/show/25478...   \n",
       "439  20221117  b'https://en.wikipedia.org/wiki/Three_Thousand...   \n",
       "440  20221117  b'https://www.goodreads.com/book/show/45154547...   \n",
       "441  20221117  b'https://kenliu.name/blog/book/the-paper-mena...   \n",
       "442  20221117  b'https://substackcdn.com/image/fetch/f_auto,q...   \n",
       "\n",
       "                                 hash  \n",
       "0    8ebb431ce8d949d5a1ecb52bbd42a69f  \n",
       "1    6c6a5e8d50e3045323cf202ba5b17ea9  \n",
       "2    99ffe526026a0494fc25d44aba64bd70  \n",
       "3    792ea5817e7c3331760ac18e3090869b  \n",
       "4    8bff520dc945204951b32a6c4b10571e  \n",
       "..                                ...  \n",
       "438  38438ce40cddf2d58499fd70b4ffc7a6  \n",
       "439  51b141d1f32190e4f3c60c8fa01ddb46  \n",
       "440  48cdce80ccaf0dc29c895755ae7f51c0  \n",
       "441  6349bb23de426f5481fb2427dbc79efb  \n",
       "442  0637378bfd5702dcc28e96b8c25365c9  \n",
       "\n",
       "[434 rows x 3 columns]"
      ]
     },
     "execution_count": 2,
     "metadata": {},
     "output_type": "execute_result"
    }
   ],
   "source": [
    "df = pd.read_parquet(\"urls.parquet.gzip\")\n",
    "df"
   ]
  },
  {
   "cell_type": "code",
   "execution_count": null,
   "id": "limited-globe",
   "metadata": {},
   "outputs": [],
   "source": [
    "headers = {'User-Agent': 'Mozilla/5.0 (X11; Linux x86_64) AppleWebKit/537.11 (KHTML, like Gecko) Chrome/23.0.1271.64 Safari/537.11',\n",
    "'Accept-Charset': 'utf-8',\n",
    "'Connection': 'keep-alive'}\n",
    "\n",
    "for ix, row in df.sample(frac=1).iterrows():\n",
    "    #print(row[\"url\"])\n",
    "    if not os.path.exists(\".archive/\"+row[\"hash\"]):\n",
    "        try:\n",
    "            r = requests.get(row[\"url\"], timeout=10, headers=headers)\n",
    "            with open(\".archive/\"+row[\"hash\"], \"wb\") as f:\n",
    "                f.write(r.content)\n",
    "        except:\n",
    "            pass\n",
    "        print(row[\"hash\"],\"saved.\")\n",
    "    else:\n",
    "        0"
   ]
  },
  {
   "cell_type": "code",
   "execution_count": 4,
   "id": "missing-dependence",
   "metadata": {},
   "outputs": [
    {
     "name": "stdout",
     "output_type": "stream",
     "text": [
      "b'https://www.newscientist.com/article/2326521-ai-that-detects-chicken-distress-calls-could-improve-farm-conditions'\n"
     ]
    }
   ],
   "source": [
    "print(row[\"url\"])"
   ]
  },
  {
   "cell_type": "code",
   "execution_count": null,
   "id": "other-aviation",
   "metadata": {},
   "outputs": [],
   "source": []
  }
 ],
 "metadata": {
  "kernelspec": {
   "display_name": "Python 3",
   "language": "python",
   "name": "python3"
  },
  "language_info": {
   "codemirror_mode": {
    "name": "ipython",
    "version": 3
   },
   "file_extension": ".py",
   "mimetype": "text/x-python",
   "name": "python",
   "nbconvert_exporter": "python",
   "pygments_lexer": "ipython3",
   "version": "3.6.9"
  }
 },
 "nbformat": 4,
 "nbformat_minor": 5
}
