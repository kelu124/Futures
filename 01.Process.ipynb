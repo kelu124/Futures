{
 "cells": [
  {
   "cell_type": "code",
   "execution_count": 1,
   "id": "academic-infection",
   "metadata": {},
   "outputs": [],
   "source": [
    "import pandas as pd\n",
    "\n",
    "import requests\n",
    "import bs4\n",
    "from bs4 import BeautifulSoup\n",
    "import os"
   ]
  },
  {
   "cell_type": "code",
   "execution_count": 2,
   "id": "particular-officer",
   "metadata": {},
   "outputs": [
    {
     "data": {
      "text/html": [
       "<div>\n",
       "<style scoped>\n",
       "    .dataframe tbody tr th:only-of-type {\n",
       "        vertical-align: middle;\n",
       "    }\n",
       "\n",
       "    .dataframe tbody tr th {\n",
       "        vertical-align: top;\n",
       "    }\n",
       "\n",
       "    .dataframe thead th {\n",
       "        text-align: right;\n",
       "    }\n",
       "</style>\n",
       "<table border=\"1\" class=\"dataframe\">\n",
       "  <thead>\n",
       "    <tr style=\"text-align: right;\">\n",
       "      <th></th>\n",
       "      <th>page</th>\n",
       "      <th>url</th>\n",
       "      <th>hash</th>\n",
       "    </tr>\n",
       "  </thead>\n",
       "  <tbody>\n",
       "    <tr>\n",
       "      <th>0</th>\n",
       "      <td>20221106</td>\n",
       "      <td>b'https://www.jgballard.ca/non_fiction/jgb_fic...</td>\n",
       "      <td>8ebb431ce8d949d5a1ecb52bbd42a69f</td>\n",
       "    </tr>\n",
       "    <tr>\n",
       "      <th>1</th>\n",
       "      <td>20221106</td>\n",
       "      <td>b'https://hakaimagazine.com/features/greenland...</td>\n",
       "      <td>6c6a5e8d50e3045323cf202ba5b17ea9</td>\n",
       "    </tr>\n",
       "    <tr>\n",
       "      <th>2</th>\n",
       "      <td>20221106</td>\n",
       "      <td>b'https://www.theverge.com/2022/10/25/23422359...</td>\n",
       "      <td>99ffe526026a0494fc25d44aba64bd70</td>\n",
       "    </tr>\n",
       "    <tr>\n",
       "      <th>3</th>\n",
       "      <td>20221106</td>\n",
       "      <td>b'https://www.axa.com/en/magazine/2022-future-...</td>\n",
       "      <td>792ea5817e7c3331760ac18e3090869b</td>\n",
       "    </tr>\n",
       "    <tr>\n",
       "      <th>4</th>\n",
       "      <td>20221106</td>\n",
       "      <td>b'https://www.rentcafe.com/blog/rental-market/...</td>\n",
       "      <td>8bff520dc945204951b32a6c4b10571e</td>\n",
       "    </tr>\n",
       "    <tr>\n",
       "      <th>...</th>\n",
       "      <td>...</td>\n",
       "      <td>...</td>\n",
       "      <td>...</td>\n",
       "    </tr>\n",
       "    <tr>\n",
       "      <th>486</th>\n",
       "      <td>20221106</td>\n",
       "      <td>b'https://knowablemagazine.org/article/health-...</td>\n",
       "      <td>c47cb1fe2b4ae786edcfe793f7c528c2</td>\n",
       "    </tr>\n",
       "    <tr>\n",
       "      <th>487</th>\n",
       "      <td>20221106</td>\n",
       "      <td>b'https://blog.seekwell.io/gpt3'</td>\n",
       "      <td>492f4356567de26e0afe1f008454e899</td>\n",
       "    </tr>\n",
       "    <tr>\n",
       "      <th>489</th>\n",
       "      <td>20221106</td>\n",
       "      <td>b'https://substackcdn.com/image/fetch/f_auto,q...</td>\n",
       "      <td>07a77cb65e9b99211c078e05f90f6eca</td>\n",
       "    </tr>\n",
       "    <tr>\n",
       "      <th>490</th>\n",
       "      <td>20221106</td>\n",
       "      <td>b'https://en.wikipedia.org/wiki/Valeriepieris_...</td>\n",
       "      <td>6ab95ef7d3a59b67b7851af561ed903b</td>\n",
       "    </tr>\n",
       "    <tr>\n",
       "      <th>491</th>\n",
       "      <td>20221106</td>\n",
       "      <td>b'https://edition.cnn.com/2022/08/28/us/califo...</td>\n",
       "      <td>9655c5d49c7e5cbfaedaca59cba73875</td>\n",
       "    </tr>\n",
       "  </tbody>\n",
       "</table>\n",
       "<p>483 rows × 3 columns</p>\n",
       "</div>"
      ],
      "text/plain": [
       "         page                                                url  \\\n",
       "0    20221106  b'https://www.jgballard.ca/non_fiction/jgb_fic...   \n",
       "1    20221106  b'https://hakaimagazine.com/features/greenland...   \n",
       "2    20221106  b'https://www.theverge.com/2022/10/25/23422359...   \n",
       "3    20221106  b'https://www.axa.com/en/magazine/2022-future-...   \n",
       "4    20221106  b'https://www.rentcafe.com/blog/rental-market/...   \n",
       "..        ...                                                ...   \n",
       "486  20221106  b'https://knowablemagazine.org/article/health-...   \n",
       "487  20221106                   b'https://blog.seekwell.io/gpt3'   \n",
       "489  20221106  b'https://substackcdn.com/image/fetch/f_auto,q...   \n",
       "490  20221106  b'https://en.wikipedia.org/wiki/Valeriepieris_...   \n",
       "491  20221106  b'https://edition.cnn.com/2022/08/28/us/califo...   \n",
       "\n",
       "                                 hash  \n",
       "0    8ebb431ce8d949d5a1ecb52bbd42a69f  \n",
       "1    6c6a5e8d50e3045323cf202ba5b17ea9  \n",
       "2    99ffe526026a0494fc25d44aba64bd70  \n",
       "3    792ea5817e7c3331760ac18e3090869b  \n",
       "4    8bff520dc945204951b32a6c4b10571e  \n",
       "..                                ...  \n",
       "486  c47cb1fe2b4ae786edcfe793f7c528c2  \n",
       "487  492f4356567de26e0afe1f008454e899  \n",
       "489  07a77cb65e9b99211c078e05f90f6eca  \n",
       "490  6ab95ef7d3a59b67b7851af561ed903b  \n",
       "491  9655c5d49c7e5cbfaedaca59cba73875  \n",
       "\n",
       "[483 rows x 3 columns]"
      ]
     },
     "execution_count": 2,
     "metadata": {},
     "output_type": "execute_result"
    }
   ],
   "source": [
    "df = pd.read_parquet(\"urls.parquet.gzip\")\n",
    "df"
   ]
  },
  {
   "cell_type": "code",
   "execution_count": 10,
   "id": "limited-globe",
   "metadata": {},
   "outputs": [
    {
     "name": "stdout",
     "output_type": "stream",
     "text": [
      "b'http://370 New Words to the Dictionary' error.\n",
      "2a619bdc5a324f06d912b571039836ef saved.\n",
      "b'https://www.seattletimes.com/business/amazon/amazons-turnover-rate-amid-pandemic-is-at-least-double-the-average-for-retail-and-warehousing-industries/' error.\n",
      "a14bb86fb1a1261ba61770de581995f0 saved.\n",
      "b'http://Kytch devices' error.\n",
      "b44fed50dde89044dbdf57dd83378fc8 saved.\n",
      "b'https://www.nasdaq.com/articles/canadas-blueberry-farms-dont-have-enough-bees-everyone-should-be-worried' error.\n",
      "0e37d73a6e36fd80ee5af50978897b86 saved.\n"
     ]
    }
   ],
   "source": [
    "headers = {'User-Agent': 'Mozilla/5.0 (X11; Linux x86_64) AppleWebKit/537.11 (KHTML, like Gecko) Chrome/23.0.1271.64 Safari/537.11',\n",
    "'Accept-Charset': 'utf-8',\n",
    "'Connection': 'keep-alive'}\n",
    "session = requests.Session()\n",
    "DICO = {}\n",
    "\n",
    "for ix, row in df.sample(frac=1).iterrows():\n",
    "    #print(row[\"url\"])\n",
    "    if not os.path.exists(\".archive/\"+row[\"hash\"]+\".type\"):\n",
    "        try:\n",
    "            response = session.head(row[\"url\"], timeout=10, headers=headers)\n",
    "            contentType = response.headers['content-type']\n",
    "        except:\n",
    "            contentType = \"error\"\n",
    "        with open(\".archive/\"+row[\"hash\"]+\".type\", \"w\") as f:\n",
    "            f.write(contentType)\n",
    "        #print(row[\"hash\"],row[\"url\"],contentType)\n",
    "        \n",
    "    if not os.path.exists(\".archive/\"+row[\"hash\"]):\n",
    "        try:\n",
    "            r = requests.get(row[\"url\"], timeout=10, headers=headers)\n",
    "            with open(\".archive/\"+row[\"hash\"], \"wb\") as f:\n",
    "                f.write(r.content)\n",
    "        except:\n",
    "            print(row[\"url\"],\"error.\")\n",
    "            pass\n",
    "        print(row[\"hash\"],\"saved.\")\n",
    "    else:\n",
    "        0"
   ]
  },
  {
   "cell_type": "code",
   "execution_count": 7,
   "id": "missing-dependence",
   "metadata": {},
   "outputs": [
    {
     "name": "stdout",
     "output_type": "stream",
     "text": [
      "b'https://www.bbc.com/future/article/20221011-the-moorish-invention-that-tamed-spains-mountains'\n"
     ]
    }
   ],
   "source": [
    "print(row[\"url\"])"
   ]
  },
  {
   "cell_type": "code",
   "execution_count": null,
   "id": "other-aviation",
   "metadata": {},
   "outputs": [],
   "source": []
  }
 ],
 "metadata": {
  "kernelspec": {
   "display_name": "Python 3 (ipykernel)",
   "language": "python",
   "name": "python3"
  },
  "language_info": {
   "codemirror_mode": {
    "name": "ipython",
    "version": 3
   },
   "file_extension": ".py",
   "mimetype": "text/x-python",
   "name": "python",
   "nbconvert_exporter": "python",
   "pygments_lexer": "ipython3",
   "version": "3.10.6"
  }
 },
 "nbformat": 4,
 "nbformat_minor": 5
}
