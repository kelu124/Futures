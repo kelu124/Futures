{
 "cells": [
  {
   "cell_type": "code",
   "execution_count": 5,
   "metadata": {},
   "outputs": [
    {
     "name": "stdout",
     "output_type": "stream",
     "text": [
      "The autoreload extension is already loaded. To reload it, use:\n",
      "  %reload_ext autoreload\n"
     ]
    }
   ],
   "source": [
    "%load_ext autoreload\n",
    "%autoreload 2"
   ]
  },
  {
   "cell_type": "code",
   "execution_count": 6,
   "metadata": {},
   "outputs": [],
   "source": [
    "from writers import getStories\n"
   ]
  },
  {
   "cell_type": "code",
   "execution_count": 7,
   "metadata": {},
   "outputs": [],
   "source": [
    "#from rich import print"
   ]
  },
  {
   "cell_type": "code",
   "execution_count": 16,
   "metadata": {},
   "outputs": [
    {
     "name": "stdout",
     "output_type": "stream",
     "text": [
      "--> 20240908\n",
      "\n",
      "# The Box of Possibilities\n",
      "\n",
      "Margo was the last person you’d expect to be a travel influencer. With the self-control of a hyperactive squirrel on espresso and a penchant for packing enough shoes for a two-day trip to the grocery store, she had somehow managed to become a beacon of luggage-free travel. A feat not accomplished by her own virtue, mind you, but rather the result of a catastrophic ink spill on her favorite suitcase, a tragically ironic incident that led her to discover a new world of renting clothes in Japan. \n",
      "\n",
      "\"Rent-a-Robe, Margo!\" she exclaimed to her friend Lisa, who was still trying to figure out why the universe had deemed it necessary to include Margo in her life. \"It’s the future! Just think about it—no more lugging around your entire wardrobe while simultaneously trying to convince the airline that your 75-pound bag is actually just a 'heavy-duty carry-on'.\"^1\n",
      "\n",
      "Lisa sighed, wondering if it was too late to change her flight to a different dimension. Margo, however, was already deep in her phone, scrolling through her latest obsession: a viral game called One Million Checkboxes. The premise? Check or uncheck a million boxes and interact with others doing the same, creating emergent behaviors that felt more like a bizarre social experiment than a typical game. It was all the rage, and Margo had managed to rope Lisa into it.\n",
      "\n",
      "\"I checked the 'Become a minimalist' box,\" Margo said, her eyes sparkling with chaotic delight. \"But I think I accidentally unchecked my self-control box in the process.\"^2\n",
      "\n",
      "While they pondered the merits of self-control—an elusive trait that seemed to play hide-and-seek with Margo—she noticed a peculiar vending machine on the street. It was adorned with a bright neon sign reading “Scented Mists for Dogs.” Margo’s fingers twitched with the urge to buy a €99 bottle of \"Fefé\" for her neighbor’s poodle. \"I mean, if Dolce & Gabbana can do it for dogs, why not for humans? I could start my own line of luxury sprays for stressed-out travelers!\"^3\n",
      "\n",
      "But Lisa, ever the rational one, interjected. “What would you even call it? ‘Eau de Overpacking’?”\n",
      "\n",
      "They burst into laughter, and Margo’s laughter echoed like a joyous proclamation against the absurdity of their lives—two women navigating a world increasingly driven by AI companionship and fractionalized employment. As they strolled down the bustling streets, Margo mused about the future of work, where each job would be crafted like a bespoke suit, tailored to the whims and fancies of the individual. “Can you imagine a world where we all work for ourselves and just check in with the company like we’re playing a game?” she exclaimed, eyes wide with the spark of revolution.\n",
      "\n",
      "\"Sounds like a recipe for chaos,\" Lisa replied, but her heart wasn't entirely in it. Perhaps Margo was on to something. After all, weren’t they already living in a world where reality blurred with the digital, and emotions were processed by empathetic kiosks as if they were mere data points?^4 \n",
      "\n",
      "Suddenly, Margo stopped in her tracks. \"What if we all just stopped trying to conform? What if we packed lighter, emotionally and physically?\" \n",
      "\n",
      "Lisa glanced at Margo, pondering the absurdity of such a thought. “You mean like a world where we trade our baggage for digital liveness and let AI handle the heavy lifting?”\n",
      "\n",
      "“Exactly!” Margo’s voice soared. “Imagine a society where we’re more than just our thoughts, where we can explore our essence without the weight of expectations!”^5\n",
      "\n",
      "And as they continued their walk, Margo envisioned their future: a place where travel was no longer about the destination but the connection, where life was a series of checked boxes leading to the next adventure, and where the only thing weighing them down was the joy of spontaneity. \n",
      "\n",
      "As she reached for her phone to check her flight, she accidentally checked the box labeled “Emotional Clarity.” The universe, it seemed, had a sense of humor, and Margo was more than ready to embrace its quirky embrace. \n",
      "\n",
      "---\n",
      "1. This is the kind of logic that makes you wonder why they don't just hand out free therapy sessions at the airport.\n",
      "   \n",
      "2. Perhaps that explains why her life resembled a circus without a tent.\n",
      "\n",
      "3. Because nothing says \"luxury\" quite like a mist that smells like 'I-just-got-back-from-the-gym.'\n",
      "\n",
      "4. If only they could apply a little of that empathy to the airlines.\n",
      "\n",
      "5. Which, coincidentally, is what her last therapist said before Margo opted for a career in travel.\n"
     ]
    }
   ],
   "source": [
    "df = getStories()\n",
    "s = \"20240908\"\n",
    "story_details = df[df.post == s].iloc[0]\n",
    "title, story = story_details.title, story_details.story\n",
    "\n",
    "\n",
    "print(\"--> \"+s+\"\\n\\n# \"+title+\"\\n\\n\"+story)"
   ]
  }
 ],
 "metadata": {
  "kernelspec": {
   "display_name": ".venv",
   "language": "python",
   "name": "python3"
  },
  "language_info": {
   "codemirror_mode": {
    "name": "ipython",
    "version": 3
   },
   "file_extension": ".py",
   "mimetype": "text/x-python",
   "name": "python",
   "nbconvert_exporter": "python",
   "pygments_lexer": "ipython3",
   "version": "3.11.0"
  }
 },
 "nbformat": 4,
 "nbformat_minor": 2
}
