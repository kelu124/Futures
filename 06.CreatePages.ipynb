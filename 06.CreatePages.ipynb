{
 "cells": [
  {
   "cell_type": "code",
   "execution_count": 1,
   "metadata": {},
   "outputs": [],
   "source": [
    "%load_ext autoreload\n",
    "%autoreload 2\n",
    "\n",
    "import helpers as s\n",
    "\n",
    "import OAI"
   ]
  },
  {
   "cell_type": "code",
   "execution_count": 2,
   "metadata": {},
   "outputs": [
    {
     "data": {
      "text/plain": [
       "True"
      ]
     },
     "execution_count": 2,
     "metadata": {},
     "output_type": "execute_result"
    }
   ],
   "source": [
    "import os, openai, datetime, hashlib, re\n",
    "import time\n",
    "from langchain.document_loaders import DataFrameLoader\n",
    "from langchain.vectorstores import Chroma\n",
    "\n",
    "from langchain.text_splitter import CharacterTextSplitter\n",
    "from langchain.embeddings import OpenAIEmbeddings\n",
    "from langchain.chains.question_answering import load_qa_chain\n",
    "from langchain.chat_models import ChatOpenAI\n",
    "from langchain.vectorstores import Chroma\n",
    "from chromadb.utils.embedding_functions import OpenAIEmbeddingFunction\n",
    "\n",
    "import pandas as pd\n",
    "\n",
    "\n",
    "from dotenv import load_dotenv\n",
    "load_dotenv()"
   ]
  },
  {
   "cell_type": "code",
   "execution_count": 3,
   "metadata": {},
   "outputs": [
    {
     "name": "stdout",
     "output_type": "stream",
     "text": [
      "OPENAI_API_KEY is ready\n"
     ]
    },
    {
     "name": "stderr",
     "output_type": "stream",
     "text": [
      "/home/kelu/projets/substack/venv/lib/python3.10/site-packages/langchain_core/_api/deprecation.py:117: LangChainDeprecationWarning: The class `langchain_community.embeddings.openai.OpenAIEmbeddings` was deprecated in langchain-community 0.0.9 and will be removed in 0.2.0. An updated version of the class exists in the langchain-openai package and should be used instead. To use it run `pip install -U langchain-openai` and import as `from langchain_openai import OpenAIEmbeddings`.\n",
      "  warn_deprecated(\n"
     ]
    }
   ],
   "source": [
    "if os.getenv(\"OAI\") is not None:\n",
    "    openai.api_key = os.getenv(\"OAI\")\n",
    "    print (\"OPENAI_API_KEY is ready\")\n",
    "else:\n",
    "    print (\"OPENAI_API_KEY environment variable not found\")\n",
    "\n",
    "embeddings = OpenAIEmbeddings(openai_api_key=os.getenv(\"OAI\"))\n"
   ]
  },
  {
   "cell_type": "code",
   "execution_count": 4,
   "metadata": {},
   "outputs": [],
   "source": [
    "signals = pd.read_parquet(\"data/signals.parquet.gzip\")\n",
    "metatags = pd.read_parquet(\"data/metatags.parquet.gzip\")"
   ]
  },
  {
   "cell_type": "code",
   "execution_count": 5,
   "metadata": {},
   "outputs": [],
   "source": [
    "df = pd.read_parquet('data/articles.parquet.gzip')\n",
    "df.columns=  [\"src\",\"content\",\"LEN\"]\n",
    "df = df[(df.LEN > 1500) & (df.LEN < 30000)].reset_index(drop=True)\n",
    "titles = pd.read_parquet(\"data/titles.parquet.gzip\")\n",
    "df = df.merge(titles,on=\"src\",how=\"left\")\n",
    "mt = pd.read_parquet(\"data/metatags.parquet.gzip\")\n",
    "df = df.merge(mt,on=\"src\",how=\"left\")\n",
    "df.to_parquet(\"data/consolidated.parquet.gzip\",compression=\"gzip\")"
   ]
  },
  {
   "cell_type": "code",
   "execution_count": 6,
   "metadata": {},
   "outputs": [],
   "source": [
    "def intersection(lst1, lst2):\n",
    "    lst3 = [value for value in lst1 if value in lst2]\n",
    "    return lst3"
   ]
  },
  {
   "cell_type": "code",
   "execution_count": 7,
   "metadata": {},
   "outputs": [
    {
     "data": {
      "text/plain": [
       "1115"
      ]
     },
     "execution_count": 7,
     "metadata": {},
     "output_type": "execute_result"
    }
   ],
   "source": [
    "articles = intersection(metatags.src.unique(), signals.src.unique() )\n",
    "signals = signals[signals.src.isin(articles)]\n",
    "metatags = metatags[metatags.src.isin(articles)]\n",
    "len(articles)"
   ]
  },
  {
   "cell_type": "markdown",
   "metadata": {},
   "source": [
    "It takes 4 mins for 1000 articles. Approx."
   ]
  },
  {
   "cell_type": "code",
   "execution_count": 8,
   "metadata": {},
   "outputs": [
    {
     "name": "stdout",
     "output_type": "stream",
     "text": [
      "Continue on the DB\n",
      "1410 elements already stored.\n"
     ]
    }
   ],
   "source": [
    "base_path = \"./DB/\"\n",
    "\n",
    "if not os.path.isfile(base_path+\"chroma.sqlite3\"):\n",
    "    print(\"Start a new DB\")\n",
    "    vectordb = Chroma.from_documents(\n",
    "        documents=[chunked_documents[0]],\n",
    "        embedding=embeddings,\n",
    "        persist_directory=base_path\n",
    "    )\n",
    "    vectordb.persist()\n",
    "else:\n",
    "    print(\"Continue on the DB\")\n",
    "    vectordb = Chroma(persist_directory=base_path,embedding_function=embeddings)\n",
    "    print(len(vectordb.get()[\"ids\"]),\"elements already stored.\")\n",
    "    LSDOCS = vectordb.get()[\"documents\"]"
   ]
  },
  {
   "cell_type": "code",
   "execution_count": 9,
   "metadata": {},
   "outputs": [],
   "source": [
    "def getClosest(txt):\n",
    "    B = vectordb.similarity_search(txt,6)\n",
    "    L = []\n",
    "    X = []\n",
    "    for b in list(B):\n",
    "        #print(b.metadata[\"src\"],b.metadata[\"title\"])\n",
    "        L.append([b.metadata[\"src\"],b.metadata[\"title\"]])\n",
    "        X.append(b.metadata[\"src\"])\n",
    "    return X"
   ]
  },
  {
   "cell_type": "code",
   "execution_count": 10,
   "metadata": {},
   "outputs": [
    {
     "data": {
      "text/html": [
       "<div>\n",
       "<style scoped>\n",
       "    .dataframe tbody tr th:only-of-type {\n",
       "        vertical-align: middle;\n",
       "    }\n",
       "\n",
       "    .dataframe tbody tr th {\n",
       "        vertical-align: top;\n",
       "    }\n",
       "\n",
       "    .dataframe thead th {\n",
       "        text-align: right;\n",
       "    }\n",
       "</style>\n",
       "<table border=\"1\" class=\"dataframe\">\n",
       "  <thead>\n",
       "    <tr style=\"text-align: right;\">\n",
       "      <th></th>\n",
       "      <th>src</th>\n",
       "      <th>keywords</th>\n",
       "      <th>themes</th>\n",
       "      <th>summary</th>\n",
       "      <th>origin</th>\n",
       "      <th>url</th>\n",
       "      <th>closest</th>\n",
       "    </tr>\n",
       "  </thead>\n",
       "  <tbody>\n",
       "    <tr>\n",
       "      <th>0</th>\n",
       "      <td>c94f72ff677c7517a836417c1f1df620</td>\n",
       "      <td>[AI, work, consultants, tasks, performance, Ja...</td>\n",
       "      <td>[Impact of AI on work, The Jagged Frontier of ...</td>\n",
       "      <td>In this post, the author discusses the impact ...</td>\n",
       "      <td>20230927</td>\n",
       "      <td>b'https://www.oneusefulthing.org/p/centaurs-an...</td>\n",
       "      <td>[c94f72ff677c7517a836417c1f1df620, c63bd059cb5...</td>\n",
       "    </tr>\n",
       "    <tr>\n",
       "      <th>2</th>\n",
       "      <td>656239ad8ab36ce06ac4ee6258b5381d</td>\n",
       "      <td>[Atlas for The Blind, 1837, blind, embossed, p...</td>\n",
       "      <td>[education, disabilities, geography]</td>\n",
       "      <td>The Atlas for the Blind, published in 1837, wa...</td>\n",
       "      <td>20230616</td>\n",
       "      <td>b'https://www.davidrumsey.com/blog/2012/5/21/a...</td>\n",
       "      <td>[656239ad8ab36ce06ac4ee6258b5381d, a4764a55658...</td>\n",
       "    </tr>\n",
       "    <tr>\n",
       "      <th>3</th>\n",
       "      <td>94960bd3c0ad4c594fd56651f4087128</td>\n",
       "      <td>[drinking habits, generation sensible, alcohol...</td>\n",
       "      <td>[sober movement, reasons for going sober, impa...</td>\n",
       "      <td>The trend of young people turning away from al...</td>\n",
       "      <td>20220922</td>\n",
       "      <td>b'https://www.huckmag.com/perspectives/the-rea...</td>\n",
       "      <td>[94960bd3c0ad4c594fd56651f4087128, d64c4666be4...</td>\n",
       "    </tr>\n",
       "    <tr>\n",
       "      <th>4</th>\n",
       "      <td>d2a5e5d3dad76d8880d6d322b26a8ab9</td>\n",
       "      <td>[startup, plastic-eating enzymes, waste, Epoch...</td>\n",
       "      <td>[Sustainability, Plastic waste, Synthetic biol...</td>\n",
       "      <td>Epoch Biodesign, a startup, has raised $11m to...</td>\n",
       "      <td>20230108</td>\n",
       "      <td>b'https://sifted.eu/articles/epoch-biodesign-e...</td>\n",
       "      <td>[d2a5e5d3dad76d8880d6d322b26a8ab9, 652e3b2a7f8...</td>\n",
       "    </tr>\n",
       "    <tr>\n",
       "      <th>5</th>\n",
       "      <td>5c135d085a6d575c9d112244b2a873fb</td>\n",
       "      <td>[proprietary software, computing freedom, Serv...</td>\n",
       "      <td>[proprietary software, computing freedom, SaaSS]</td>\n",
       "      <td>In this article, Richard Stallman discusses th...</td>\n",
       "      <td>20220810</td>\n",
       "      <td>b'https://www.gnu.org/philosophy/who-does-that...</td>\n",
       "      <td>[5c135d085a6d575c9d112244b2a873fb, 62f0c80f009...</td>\n",
       "    </tr>\n",
       "    <tr>\n",
       "      <th>...</th>\n",
       "      <td>...</td>\n",
       "      <td>...</td>\n",
       "      <td>...</td>\n",
       "      <td>...</td>\n",
       "      <td>...</td>\n",
       "      <td>...</td>\n",
       "      <td>...</td>\n",
       "    </tr>\n",
       "    <tr>\n",
       "      <th>1398</th>\n",
       "      <td>c346127b59f55385f443e5e27e93bc78</td>\n",
       "      <td>[private equity acquisition, quality of care, ...</td>\n",
       "      <td>[private equity acquisition of hospitals, hosp...</td>\n",
       "      <td>private equity acquisition of hospitals is ass...</td>\n",
       "      <td>20240204</td>\n",
       "      <td>b'https://jamanetwork.com/journals/jama/articl...</td>\n",
       "      <td>[c346127b59f55385f443e5e27e93bc78, 86944a8ff63...</td>\n",
       "    </tr>\n",
       "    <tr>\n",
       "      <th>1399</th>\n",
       "      <td>012558fa97aeed65d7ca86de4a6c1cbd</td>\n",
       "      <td>[Department of Defense, Chief Digital and Arti...</td>\n",
       "      <td>[Bias detection in AI systems, Crowdsourced au...</td>\n",
       "      <td>The Department of Defense (DoD) Chief Digital ...</td>\n",
       "      <td>20240210</td>\n",
       "      <td>b'https://www.defense.gov/News/Releases/Releas...</td>\n",
       "      <td>[012558fa97aeed65d7ca86de4a6c1cbd, fab122d29ae...</td>\n",
       "    </tr>\n",
       "    <tr>\n",
       "      <th>1403</th>\n",
       "      <td>a6bfcabefea560d7dfefd5aab87f047c</td>\n",
       "      <td>[physicist, nanoscience lab, cooling paint, vi...</td>\n",
       "      <td>[nanoscience, structural color, environmentall...</td>\n",
       "      <td>Debashis Chanda and his team at the University...</td>\n",
       "      <td>20230408</td>\n",
       "      <td>b'https://www.wired.com/story/lightest-paint-i...</td>\n",
       "      <td>[a6bfcabefea560d7dfefd5aab87f047c, 8e1b3608f46...</td>\n",
       "    </tr>\n",
       "    <tr>\n",
       "      <th>1404</th>\n",
       "      <td>5d04744a3bee2ab6564f5e2ff60136d8</td>\n",
       "      <td>[knowledge graphs, unstructured text, LLMs, da...</td>\n",
       "      <td>[Knowledge extraction, Unstructured data proce...</td>\n",
       "      <td>This blog post discusses the use of Large Lang...</td>\n",
       "      <td>20231017</td>\n",
       "      <td>b'https://medium.com/neo4j/construct-knowledge...</td>\n",
       "      <td>[5d04744a3bee2ab6564f5e2ff60136d8, 69aa55d9702...</td>\n",
       "    </tr>\n",
       "    <tr>\n",
       "      <th>1406</th>\n",
       "      <td>382e9ebc1e518ee49e541da1e6b5f8af</td>\n",
       "      <td>[OpenAI, large language model, ChatGPT, global...</td>\n",
       "      <td>[AI research, AI ethics and governance, regula...</td>\n",
       "      <td>OpenAI's introduction of its large language mo...</td>\n",
       "      <td>20230604</td>\n",
       "      <td>b'https://spectrum.ieee.org/ai-ethics-governance'</td>\n",
       "      <td>[382e9ebc1e518ee49e541da1e6b5f8af, b30a4282af9...</td>\n",
       "    </tr>\n",
       "  </tbody>\n",
       "</table>\n",
       "<p>1115 rows × 7 columns</p>\n",
       "</div>"
      ],
      "text/plain": [
       "                                   src  \\\n",
       "0     c94f72ff677c7517a836417c1f1df620   \n",
       "2     656239ad8ab36ce06ac4ee6258b5381d   \n",
       "3     94960bd3c0ad4c594fd56651f4087128   \n",
       "4     d2a5e5d3dad76d8880d6d322b26a8ab9   \n",
       "5     5c135d085a6d575c9d112244b2a873fb   \n",
       "...                                ...   \n",
       "1398  c346127b59f55385f443e5e27e93bc78   \n",
       "1399  012558fa97aeed65d7ca86de4a6c1cbd   \n",
       "1403  a6bfcabefea560d7dfefd5aab87f047c   \n",
       "1404  5d04744a3bee2ab6564f5e2ff60136d8   \n",
       "1406  382e9ebc1e518ee49e541da1e6b5f8af   \n",
       "\n",
       "                                               keywords  \\\n",
       "0     [AI, work, consultants, tasks, performance, Ja...   \n",
       "2     [Atlas for The Blind, 1837, blind, embossed, p...   \n",
       "3     [drinking habits, generation sensible, alcohol...   \n",
       "4     [startup, plastic-eating enzymes, waste, Epoch...   \n",
       "5     [proprietary software, computing freedom, Serv...   \n",
       "...                                                 ...   \n",
       "1398  [private equity acquisition, quality of care, ...   \n",
       "1399  [Department of Defense, Chief Digital and Arti...   \n",
       "1403  [physicist, nanoscience lab, cooling paint, vi...   \n",
       "1404  [knowledge graphs, unstructured text, LLMs, da...   \n",
       "1406  [OpenAI, large language model, ChatGPT, global...   \n",
       "\n",
       "                                                 themes  \\\n",
       "0     [Impact of AI on work, The Jagged Frontier of ...   \n",
       "2                  [education, disabilities, geography]   \n",
       "3     [sober movement, reasons for going sober, impa...   \n",
       "4     [Sustainability, Plastic waste, Synthetic biol...   \n",
       "5      [proprietary software, computing freedom, SaaSS]   \n",
       "...                                                 ...   \n",
       "1398  [private equity acquisition of hospitals, hosp...   \n",
       "1399  [Bias detection in AI systems, Crowdsourced au...   \n",
       "1403  [nanoscience, structural color, environmentall...   \n",
       "1404  [Knowledge extraction, Unstructured data proce...   \n",
       "1406  [AI research, AI ethics and governance, regula...   \n",
       "\n",
       "                                                summary    origin  \\\n",
       "0     In this post, the author discusses the impact ...  20230927   \n",
       "2     The Atlas for the Blind, published in 1837, wa...  20230616   \n",
       "3     The trend of young people turning away from al...  20220922   \n",
       "4     Epoch Biodesign, a startup, has raised $11m to...  20230108   \n",
       "5     In this article, Richard Stallman discusses th...  20220810   \n",
       "...                                                 ...       ...   \n",
       "1398  private equity acquisition of hospitals is ass...  20240204   \n",
       "1399  The Department of Defense (DoD) Chief Digital ...  20240210   \n",
       "1403  Debashis Chanda and his team at the University...  20230408   \n",
       "1404  This blog post discusses the use of Large Lang...  20231017   \n",
       "1406  OpenAI's introduction of its large language mo...  20230604   \n",
       "\n",
       "                                                    url  \\\n",
       "0     b'https://www.oneusefulthing.org/p/centaurs-an...   \n",
       "2     b'https://www.davidrumsey.com/blog/2012/5/21/a...   \n",
       "3     b'https://www.huckmag.com/perspectives/the-rea...   \n",
       "4     b'https://sifted.eu/articles/epoch-biodesign-e...   \n",
       "5     b'https://www.gnu.org/philosophy/who-does-that...   \n",
       "...                                                 ...   \n",
       "1398  b'https://jamanetwork.com/journals/jama/articl...   \n",
       "1399  b'https://www.defense.gov/News/Releases/Releas...   \n",
       "1403  b'https://www.wired.com/story/lightest-paint-i...   \n",
       "1404  b'https://medium.com/neo4j/construct-knowledge...   \n",
       "1406  b'https://spectrum.ieee.org/ai-ethics-governance'   \n",
       "\n",
       "                                                closest  \n",
       "0     [c94f72ff677c7517a836417c1f1df620, c63bd059cb5...  \n",
       "2     [656239ad8ab36ce06ac4ee6258b5381d, a4764a55658...  \n",
       "3     [94960bd3c0ad4c594fd56651f4087128, d64c4666be4...  \n",
       "4     [d2a5e5d3dad76d8880d6d322b26a8ab9, 652e3b2a7f8...  \n",
       "5     [5c135d085a6d575c9d112244b2a873fb, 62f0c80f009...  \n",
       "...                                                 ...  \n",
       "1398  [c346127b59f55385f443e5e27e93bc78, 86944a8ff63...  \n",
       "1399  [012558fa97aeed65d7ca86de4a6c1cbd, fab122d29ae...  \n",
       "1403  [a6bfcabefea560d7dfefd5aab87f047c, 8e1b3608f46...  \n",
       "1404  [5d04744a3bee2ab6564f5e2ff60136d8, 69aa55d9702...  \n",
       "1406  [382e9ebc1e518ee49e541da1e6b5f8af, b30a4282af9...  \n",
       "\n",
       "[1115 rows x 7 columns]"
      ]
     },
     "execution_count": 10,
     "metadata": {},
     "output_type": "execute_result"
    }
   ],
   "source": [
    "metatags[\"closest\"] = \"\"\n",
    "metatags[\"closest\"] = metatags[\"summary\"].apply(lambda x: getClosest(x))\n",
    "metatags"
   ]
  },
  {
   "cell_type": "code",
   "execution_count": 11,
   "metadata": {},
   "outputs": [],
   "source": [
    "metatags.to_parquet(\"data/pages_metatags_with_closest.parquet.gzip\", compression=\"gzip\")"
   ]
  },
  {
   "cell_type": "markdown",
   "metadata": {},
   "source": [
    "# Closest done"
   ]
  },
  {
   "cell_type": "code",
   "execution_count": 12,
   "metadata": {},
   "outputs": [
    {
     "data": {
      "text/html": [
       "<div>\n",
       "<style scoped>\n",
       "    .dataframe tbody tr th:only-of-type {\n",
       "        vertical-align: middle;\n",
       "    }\n",
       "\n",
       "    .dataframe tbody tr th {\n",
       "        vertical-align: top;\n",
       "    }\n",
       "\n",
       "    .dataframe thead th {\n",
       "        text-align: right;\n",
       "    }\n",
       "</style>\n",
       "<table border=\"1\" class=\"dataframe\">\n",
       "  <thead>\n",
       "    <tr style=\"text-align: right;\">\n",
       "      <th></th>\n",
       "      <th>src</th>\n",
       "      <th>keywords</th>\n",
       "      <th>themes</th>\n",
       "      <th>summary</th>\n",
       "      <th>origin</th>\n",
       "      <th>url</th>\n",
       "      <th>closest</th>\n",
       "      <th>kwsl</th>\n",
       "      <th>title</th>\n",
       "    </tr>\n",
       "  </thead>\n",
       "  <tbody>\n",
       "    <tr>\n",
       "      <th>0</th>\n",
       "      <td>c94f72ff677c7517a836417c1f1df620</td>\n",
       "      <td>[AI, work, consultants, tasks, performance, Ja...</td>\n",
       "      <td>[Impact of AI on work, The Jagged Frontier of ...</td>\n",
       "      <td>In this post, the author discusses the impact ...</td>\n",
       "      <td>20230927</td>\n",
       "      <td>b'https://www.oneusefulthing.org/p/centaurs-an...</td>\n",
       "      <td>[c94f72ff677c7517a836417c1f1df620, c63bd059cb5...</td>\n",
       "      <td>[ai, work, consultants, tasks, performance, ja...</td>\n",
       "      <td>Centaurs and Cyborgs on the Jagged Frontier</td>\n",
       "    </tr>\n",
       "    <tr>\n",
       "      <th>1</th>\n",
       "      <td>656239ad8ab36ce06ac4ee6258b5381d</td>\n",
       "      <td>[Atlas for The Blind, 1837, blind, embossed, p...</td>\n",
       "      <td>[education, disabilities, geography]</td>\n",
       "      <td>The Atlas for the Blind, published in 1837, wa...</td>\n",
       "      <td>20230616</td>\n",
       "      <td>b'https://www.davidrumsey.com/blog/2012/5/21/a...</td>\n",
       "      <td>[656239ad8ab36ce06ac4ee6258b5381d, a4764a55658...</td>\n",
       "      <td>[atlas for the blind, 1837, blind, embossed, p...</td>\n",
       "      <td>Atlas for The Blind 1837</td>\n",
       "    </tr>\n",
       "    <tr>\n",
       "      <th>2</th>\n",
       "      <td>94960bd3c0ad4c594fd56651f4087128</td>\n",
       "      <td>[drinking habits, generation sensible, alcohol...</td>\n",
       "      <td>[sober movement, reasons for going sober, impa...</td>\n",
       "      <td>The trend of young people turning away from al...</td>\n",
       "      <td>20220922</td>\n",
       "      <td>b'https://www.huckmag.com/perspectives/the-rea...</td>\n",
       "      <td>[94960bd3c0ad4c594fd56651f4087128, d64c4666be4...</td>\n",
       "      <td>[drinking habits, generation sensible, alcohol...</td>\n",
       "      <td>The Rise of Sober Generation</td>\n",
       "    </tr>\n",
       "    <tr>\n",
       "      <th>3</th>\n",
       "      <td>d2a5e5d3dad76d8880d6d322b26a8ab9</td>\n",
       "      <td>[startup, plastic-eating enzymes, waste, Epoch...</td>\n",
       "      <td>[Sustainability, Plastic waste, Synthetic biol...</td>\n",
       "      <td>Epoch Biodesign, a startup, has raised $11m to...</td>\n",
       "      <td>20230108</td>\n",
       "      <td>b'https://sifted.eu/articles/epoch-biodesign-e...</td>\n",
       "      <td>[d2a5e5d3dad76d8880d6d322b26a8ab9, 652e3b2a7f8...</td>\n",
       "      <td>[startup, plastic-eating enzymes, waste, epoch...</td>\n",
       "      <td>Startup Raises $11m to Develop Plastic-Eating ...</td>\n",
       "    </tr>\n",
       "    <tr>\n",
       "      <th>4</th>\n",
       "      <td>5c135d085a6d575c9d112244b2a873fb</td>\n",
       "      <td>[proprietary software, computing freedom, Serv...</td>\n",
       "      <td>[proprietary software, computing freedom, SaaSS]</td>\n",
       "      <td>In this article, Richard Stallman discusses th...</td>\n",
       "      <td>20220810</td>\n",
       "      <td>b'https://www.gnu.org/philosophy/who-does-that...</td>\n",
       "      <td>[5c135d085a6d575c9d112244b2a873fb, 62f0c80f009...</td>\n",
       "      <td>[proprietary software, computing freedom, serv...</td>\n",
       "      <td>The Dangers of Service as a Software Substitut...</td>\n",
       "    </tr>\n",
       "    <tr>\n",
       "      <th>...</th>\n",
       "      <td>...</td>\n",
       "      <td>...</td>\n",
       "      <td>...</td>\n",
       "      <td>...</td>\n",
       "      <td>...</td>\n",
       "      <td>...</td>\n",
       "      <td>...</td>\n",
       "      <td>...</td>\n",
       "      <td>...</td>\n",
       "    </tr>\n",
       "    <tr>\n",
       "      <th>1110</th>\n",
       "      <td>c346127b59f55385f443e5e27e93bc78</td>\n",
       "      <td>[private equity acquisition, quality of care, ...</td>\n",
       "      <td>[private equity acquisition of hospitals, hosp...</td>\n",
       "      <td>private equity acquisition of hospitals is ass...</td>\n",
       "      <td>20240204</td>\n",
       "      <td>b'https://jamanetwork.com/journals/jama/articl...</td>\n",
       "      <td>[c346127b59f55385f443e5e27e93bc78, 86944a8ff63...</td>\n",
       "      <td>[private equity acquisition, quality of care, ...</td>\n",
       "      <td>Quality of Care and Patient Outcomes After Pri...</td>\n",
       "    </tr>\n",
       "    <tr>\n",
       "      <th>1111</th>\n",
       "      <td>012558fa97aeed65d7ca86de4a6c1cbd</td>\n",
       "      <td>[Department of Defense, Chief Digital and Arti...</td>\n",
       "      <td>[Bias detection in AI systems, Crowdsourced au...</td>\n",
       "      <td>The Department of Defense (DoD) Chief Digital ...</td>\n",
       "      <td>20240210</td>\n",
       "      <td>b'https://www.defense.gov/News/Releases/Releas...</td>\n",
       "      <td>[012558fa97aeed65d7ca86de4a6c1cbd, fab122d29ae...</td>\n",
       "      <td>[department of defense, chief digital and arti...</td>\n",
       "      <td>DoD Launches AI Bias Bounty Exercises</td>\n",
       "    </tr>\n",
       "    <tr>\n",
       "      <th>1112</th>\n",
       "      <td>a6bfcabefea560d7dfefd5aab87f047c</td>\n",
       "      <td>[physicist, nanoscience lab, cooling paint, vi...</td>\n",
       "      <td>[nanoscience, structural color, environmentall...</td>\n",
       "      <td>Debashis Chanda and his team at the University...</td>\n",
       "      <td>20230408</td>\n",
       "      <td>b'https://www.wired.com/story/lightest-paint-i...</td>\n",
       "      <td>[a6bfcabefea560d7dfefd5aab87f047c, 8e1b3608f46...</td>\n",
       "      <td>[physicist, nanoscience lab, cooling paint, vi...</td>\n",
       "      <td>Revolutionary Light and Cool Structural Paint</td>\n",
       "    </tr>\n",
       "    <tr>\n",
       "      <th>1113</th>\n",
       "      <td>5d04744a3bee2ab6564f5e2ff60136d8</td>\n",
       "      <td>[knowledge graphs, unstructured text, LLMs, da...</td>\n",
       "      <td>[Knowledge extraction, Unstructured data proce...</td>\n",
       "      <td>This blog post discusses the use of Large Lang...</td>\n",
       "      <td>20231017</td>\n",
       "      <td>b'https://medium.com/neo4j/construct-knowledge...</td>\n",
       "      <td>[5d04744a3bee2ab6564f5e2ff60136d8, 69aa55d9702...</td>\n",
       "      <td>[knowledge graphs, unstructured text, llms, da...</td>\n",
       "      <td>Extracting Knowledge from Unstructured Text</td>\n",
       "    </tr>\n",
       "    <tr>\n",
       "      <th>1114</th>\n",
       "      <td>382e9ebc1e518ee49e541da1e6b5f8af</td>\n",
       "      <td>[OpenAI, large language model, ChatGPT, global...</td>\n",
       "      <td>[AI research, AI ethics and governance, regula...</td>\n",
       "      <td>OpenAI's introduction of its large language mo...</td>\n",
       "      <td>20230604</td>\n",
       "      <td>b'https://spectrum.ieee.org/ai-ethics-governance'</td>\n",
       "      <td>[382e9ebc1e518ee49e541da1e6b5f8af, b30a4282af9...</td>\n",
       "      <td>[openai, large language model, chatgpt, global...</td>\n",
       "      <td>Challenges and Concerns in AI Deployment</td>\n",
       "    </tr>\n",
       "  </tbody>\n",
       "</table>\n",
       "<p>1115 rows × 9 columns</p>\n",
       "</div>"
      ],
      "text/plain": [
       "                                   src  \\\n",
       "0     c94f72ff677c7517a836417c1f1df620   \n",
       "1     656239ad8ab36ce06ac4ee6258b5381d   \n",
       "2     94960bd3c0ad4c594fd56651f4087128   \n",
       "3     d2a5e5d3dad76d8880d6d322b26a8ab9   \n",
       "4     5c135d085a6d575c9d112244b2a873fb   \n",
       "...                                ...   \n",
       "1110  c346127b59f55385f443e5e27e93bc78   \n",
       "1111  012558fa97aeed65d7ca86de4a6c1cbd   \n",
       "1112  a6bfcabefea560d7dfefd5aab87f047c   \n",
       "1113  5d04744a3bee2ab6564f5e2ff60136d8   \n",
       "1114  382e9ebc1e518ee49e541da1e6b5f8af   \n",
       "\n",
       "                                               keywords  \\\n",
       "0     [AI, work, consultants, tasks, performance, Ja...   \n",
       "1     [Atlas for The Blind, 1837, blind, embossed, p...   \n",
       "2     [drinking habits, generation sensible, alcohol...   \n",
       "3     [startup, plastic-eating enzymes, waste, Epoch...   \n",
       "4     [proprietary software, computing freedom, Serv...   \n",
       "...                                                 ...   \n",
       "1110  [private equity acquisition, quality of care, ...   \n",
       "1111  [Department of Defense, Chief Digital and Arti...   \n",
       "1112  [physicist, nanoscience lab, cooling paint, vi...   \n",
       "1113  [knowledge graphs, unstructured text, LLMs, da...   \n",
       "1114  [OpenAI, large language model, ChatGPT, global...   \n",
       "\n",
       "                                                 themes  \\\n",
       "0     [Impact of AI on work, The Jagged Frontier of ...   \n",
       "1                  [education, disabilities, geography]   \n",
       "2     [sober movement, reasons for going sober, impa...   \n",
       "3     [Sustainability, Plastic waste, Synthetic biol...   \n",
       "4      [proprietary software, computing freedom, SaaSS]   \n",
       "...                                                 ...   \n",
       "1110  [private equity acquisition of hospitals, hosp...   \n",
       "1111  [Bias detection in AI systems, Crowdsourced au...   \n",
       "1112  [nanoscience, structural color, environmentall...   \n",
       "1113  [Knowledge extraction, Unstructured data proce...   \n",
       "1114  [AI research, AI ethics and governance, regula...   \n",
       "\n",
       "                                                summary    origin  \\\n",
       "0     In this post, the author discusses the impact ...  20230927   \n",
       "1     The Atlas for the Blind, published in 1837, wa...  20230616   \n",
       "2     The trend of young people turning away from al...  20220922   \n",
       "3     Epoch Biodesign, a startup, has raised $11m to...  20230108   \n",
       "4     In this article, Richard Stallman discusses th...  20220810   \n",
       "...                                                 ...       ...   \n",
       "1110  private equity acquisition of hospitals is ass...  20240204   \n",
       "1111  The Department of Defense (DoD) Chief Digital ...  20240210   \n",
       "1112  Debashis Chanda and his team at the University...  20230408   \n",
       "1113  This blog post discusses the use of Large Lang...  20231017   \n",
       "1114  OpenAI's introduction of its large language mo...  20230604   \n",
       "\n",
       "                                                    url  \\\n",
       "0     b'https://www.oneusefulthing.org/p/centaurs-an...   \n",
       "1     b'https://www.davidrumsey.com/blog/2012/5/21/a...   \n",
       "2     b'https://www.huckmag.com/perspectives/the-rea...   \n",
       "3     b'https://sifted.eu/articles/epoch-biodesign-e...   \n",
       "4     b'https://www.gnu.org/philosophy/who-does-that...   \n",
       "...                                                 ...   \n",
       "1110  b'https://jamanetwork.com/journals/jama/articl...   \n",
       "1111  b'https://www.defense.gov/News/Releases/Releas...   \n",
       "1112  b'https://www.wired.com/story/lightest-paint-i...   \n",
       "1113  b'https://medium.com/neo4j/construct-knowledge...   \n",
       "1114  b'https://spectrum.ieee.org/ai-ethics-governance'   \n",
       "\n",
       "                                                closest  \\\n",
       "0     [c94f72ff677c7517a836417c1f1df620, c63bd059cb5...   \n",
       "1     [656239ad8ab36ce06ac4ee6258b5381d, a4764a55658...   \n",
       "2     [94960bd3c0ad4c594fd56651f4087128, d64c4666be4...   \n",
       "3     [d2a5e5d3dad76d8880d6d322b26a8ab9, 652e3b2a7f8...   \n",
       "4     [5c135d085a6d575c9d112244b2a873fb, 62f0c80f009...   \n",
       "...                                                 ...   \n",
       "1110  [c346127b59f55385f443e5e27e93bc78, 86944a8ff63...   \n",
       "1111  [012558fa97aeed65d7ca86de4a6c1cbd, fab122d29ae...   \n",
       "1112  [a6bfcabefea560d7dfefd5aab87f047c, 8e1b3608f46...   \n",
       "1113  [5d04744a3bee2ab6564f5e2ff60136d8, 69aa55d9702...   \n",
       "1114  [382e9ebc1e518ee49e541da1e6b5f8af, b30a4282af9...   \n",
       "\n",
       "                                                   kwsl  \\\n",
       "0     [ai, work, consultants, tasks, performance, ja...   \n",
       "1     [atlas for the blind, 1837, blind, embossed, p...   \n",
       "2     [drinking habits, generation sensible, alcohol...   \n",
       "3     [startup, plastic-eating enzymes, waste, epoch...   \n",
       "4     [proprietary software, computing freedom, serv...   \n",
       "...                                                 ...   \n",
       "1110  [private equity acquisition, quality of care, ...   \n",
       "1111  [department of defense, chief digital and arti...   \n",
       "1112  [physicist, nanoscience lab, cooling paint, vi...   \n",
       "1113  [knowledge graphs, unstructured text, llms, da...   \n",
       "1114  [openai, large language model, chatgpt, global...   \n",
       "\n",
       "                                                  title  \n",
       "0           Centaurs and Cyborgs on the Jagged Frontier  \n",
       "1                              Atlas for The Blind 1837  \n",
       "2                          The Rise of Sober Generation  \n",
       "3     Startup Raises $11m to Develop Plastic-Eating ...  \n",
       "4     The Dangers of Service as a Software Substitut...  \n",
       "...                                                 ...  \n",
       "1110  Quality of Care and Patient Outcomes After Pri...  \n",
       "1111              DoD Launches AI Bias Bounty Exercises  \n",
       "1112      Revolutionary Light and Cool Structural Paint  \n",
       "1113        Extracting Knowledge from Unstructured Text  \n",
       "1114           Challenges and Concerns in AI Deployment  \n",
       "\n",
       "[1115 rows x 9 columns]"
      ]
     },
     "execution_count": 12,
     "metadata": {},
     "output_type": "execute_result"
    }
   ],
   "source": [
    "metatags = pd.read_parquet(\"data/pages_metatags_with_closest.parquet.gzip\")\n",
    "metatags[\"kwsl\"] = metatags[\"keywords\"].apply(lambda lst: [x.lower().replace('\"','') for x in lst])\n",
    "metatags = metatags.merge(df[[\"src\",\"title\"]],on=\"src\",how=\"left\")\n",
    "metatags"
   ]
  },
  {
   "cell_type": "code",
   "execution_count": 13,
   "metadata": {},
   "outputs": [
    {
     "data": {
      "text/plain": [
       "array(['feeb207dfea30efb1d5bf73503fd22a4',\n",
       "       'df59e2cf3380ffd9aeac9a3e01073300',\n",
       "       'ed237776f4979a2104f62c4985fbeba8',\n",
       "       'c42a95f16678ed3834840d48f8e775a3',\n",
       "       '767b74c90576473294b2c47568c0e355',\n",
       "       '5cf4407dc6fa3889e047c658e27c4ccf'], dtype=object)"
      ]
     },
     "execution_count": 13,
     "metadata": {},
     "output_type": "execute_result"
    }
   ],
   "source": [
    "metatags[metatags.src == \"feeb207dfea30efb1d5bf73503fd22a4\"][\"closest\"].iloc[0]"
   ]
  },
  {
   "cell_type": "code",
   "execution_count": 14,
   "metadata": {},
   "outputs": [],
   "source": [
    "for ix, row in metatags.iterrows():\n",
    "    try:\n",
    "        ID = row[\"src\"]\n",
    "        TXT = \"# __\"+row[\"title\"] +\"__, from ([\"+row.origin+\"](https://kghosh.substack.com/p/\"+row.origin+\").)\\n\\n\"\n",
    "        TXT += \"__[External link](\"+str(row.url)[2:-1]+\")__\\n\\n\"\n",
    "        TXT += \"\\n\\n## Summary\\n\\n\"\n",
    "        TXT += row[\"summary\"] + \"\\n\\n## Keywords\\n\\n\"\n",
    "        TXT += \"* \"+\"\\n* \".join(row[\"keywords\"])\n",
    "        TXT += \"\\n\\n## Themes\\n\\n\"\n",
    "        TXT += \"* \"+\"\\n* \".join(row[\"themes\"])\n",
    "        TXT += \"\\n\\n## Signals\\n\\n\"    \n",
    "        SIG = signals[signals.src == ID]\n",
    "        TXT += SIG[list(SIG.columns)[:-1]].to_markdown(index=False)\n",
    "        if 1:\n",
    "            TXT += \"\\n\\n## Closest\\n\\n\"\n",
    "            TXT += \"* \"+\"\\n* \".join([ \"[\"+df.loc[df[\"src\"] == x,\"title\"].iloc[0]+\"](\"+x+\")\" for x in row[\"closest\"][1:]])\n",
    "        with open(\"docs/\"+ID+\".md\", \"w\") as f:\n",
    "            f.write(TXT) \n",
    "    except:\n",
    "        print(\"Error with\",row[\"src\"])\n"
   ]
  },
  {
   "cell_type": "markdown",
   "metadata": {},
   "source": [
    "# Now creating index"
   ]
  },
  {
   "cell_type": "code",
   "execution_count": 15,
   "metadata": {},
   "outputs": [],
   "source": [
    "import random"
   ]
  },
  {
   "cell_type": "code",
   "execution_count": 16,
   "metadata": {},
   "outputs": [
    {
     "name": "stdout",
     "output_type": "stream",
     "text": [
      "2763\n"
     ]
    },
    {
     "data": {
      "text/plain": [
       "['Microsoft teams',\n",
       " 'Transition to digital media',\n",
       " 'Value creation in ai',\n",
       " 'Reentering the workforce in retirement',\n",
       " 'Impact des simulateurs de vie',\n",
       " 'Image generation',\n",
       " 'Api updates',\n",
       " 'Bioacoustics',\n",
       " 'Open source businesses',\n",
       " 'Community gatherings']"
      ]
     },
     "execution_count": 16,
     "metadata": {},
     "output_type": "execute_result"
    }
   ],
   "source": [
    "allkw = []\n",
    "for kw in metatags.themes:# keywords: #as an alternative\n",
    "    allkw = allkw+list(kw)\n",
    "KW = list(set(allkw))\n",
    "KW = list(set([x.capitalize().replace('\"','') for x in KW]))\n",
    "KW = [x for x in KW if not x.isnumeric()]\n",
    "KW.sort()\n",
    "print(len(KW))\n",
    "random.shuffle(KW)\n",
    "KW[:10]"
   ]
  },
  {
   "cell_type": "code",
   "execution_count": 17,
   "metadata": {},
   "outputs": [],
   "source": [
    "h = OAI.Helper(\"local_seeds_classif\") "
   ]
  },
  {
   "cell_type": "code",
   "execution_count": 18,
   "metadata": {},
   "outputs": [
    {
     "ename": "FileNotFoundError",
     "evalue": "[Errno 2] No such file or directory: 'categories_small.csv'",
     "output_type": "error",
     "traceback": [
      "\u001b[0;31m---------------------------------------------------------------------------\u001b[0m",
      "\u001b[0;31mFileNotFoundError\u001b[0m                         Traceback (most recent call last)",
      "Cell \u001b[0;32mIn[18], line 1\u001b[0m\n\u001b[0;32m----> 1\u001b[0m \u001b[38;5;28;01mwith\u001b[39;00m \u001b[38;5;28;43mopen\u001b[39;49m\u001b[43m(\u001b[49m\u001b[38;5;124;43m\"\u001b[39;49m\u001b[38;5;124;43mcategories_small.csv\u001b[39;49m\u001b[38;5;124;43m\"\u001b[39;49m\u001b[43m,\u001b[49m\u001b[38;5;124;43m\"\u001b[39;49m\u001b[38;5;124;43mr\u001b[39;49m\u001b[38;5;124;43m\"\u001b[39;49m\u001b[43m)\u001b[49m \u001b[38;5;28;01mas\u001b[39;00m f:\n\u001b[1;32m      2\u001b[0m     ALL \u001b[38;5;241m=\u001b[39m f\u001b[38;5;241m.\u001b[39mread()\u001b[38;5;241m.\u001b[39msplit(\u001b[38;5;124m\"\u001b[39m\u001b[38;5;130;01m\\n\u001b[39;00m\u001b[38;5;124m\"\u001b[39m)\n\u001b[1;32m      3\u001b[0m ALL\u001b[38;5;241m.\u001b[39msort()\n",
      "File \u001b[0;32m~/projets/substack/venv/lib/python3.10/site-packages/IPython/core/interactiveshell.py:324\u001b[0m, in \u001b[0;36m_modified_open\u001b[0;34m(file, *args, **kwargs)\u001b[0m\n\u001b[1;32m    317\u001b[0m \u001b[38;5;28;01mif\u001b[39;00m file \u001b[38;5;129;01min\u001b[39;00m {\u001b[38;5;241m0\u001b[39m, \u001b[38;5;241m1\u001b[39m, \u001b[38;5;241m2\u001b[39m}:\n\u001b[1;32m    318\u001b[0m     \u001b[38;5;28;01mraise\u001b[39;00m \u001b[38;5;167;01mValueError\u001b[39;00m(\n\u001b[1;32m    319\u001b[0m         \u001b[38;5;124mf\u001b[39m\u001b[38;5;124m\"\u001b[39m\u001b[38;5;124mIPython won\u001b[39m\u001b[38;5;124m'\u001b[39m\u001b[38;5;124mt let you open fd=\u001b[39m\u001b[38;5;132;01m{\u001b[39;00mfile\u001b[38;5;132;01m}\u001b[39;00m\u001b[38;5;124m by default \u001b[39m\u001b[38;5;124m\"\u001b[39m\n\u001b[1;32m    320\u001b[0m         \u001b[38;5;124m\"\u001b[39m\u001b[38;5;124mas it is likely to crash IPython. If you know what you are doing, \u001b[39m\u001b[38;5;124m\"\u001b[39m\n\u001b[1;32m    321\u001b[0m         \u001b[38;5;124m\"\u001b[39m\u001b[38;5;124myou can use builtins\u001b[39m\u001b[38;5;124m'\u001b[39m\u001b[38;5;124m open.\u001b[39m\u001b[38;5;124m\"\u001b[39m\n\u001b[1;32m    322\u001b[0m     )\n\u001b[0;32m--> 324\u001b[0m \u001b[38;5;28;01mreturn\u001b[39;00m \u001b[43mio_open\u001b[49m\u001b[43m(\u001b[49m\u001b[43mfile\u001b[49m\u001b[43m,\u001b[49m\u001b[43m \u001b[49m\u001b[38;5;241;43m*\u001b[39;49m\u001b[43margs\u001b[49m\u001b[43m,\u001b[49m\u001b[43m \u001b[49m\u001b[38;5;241;43m*\u001b[39;49m\u001b[38;5;241;43m*\u001b[39;49m\u001b[43mkwargs\u001b[49m\u001b[43m)\u001b[49m\n",
      "\u001b[0;31mFileNotFoundError\u001b[0m: [Errno 2] No such file or directory: 'categories_small.csv'"
     ]
    }
   ],
   "source": [
    "with open(\"categories_small.csv\",\"r\") as f:\n",
    "    ALL = f.read().split(\"\\n\")\n",
    "ALL.sort()\n",
    "ALL"
   ]
  },
  {
   "cell_type": "code",
   "execution_count": null,
   "metadata": {},
   "outputs": [],
   "source": [
    "metatags"
   ]
  },
  {
   "cell_type": "code",
   "execution_count": 23,
   "metadata": {},
   "outputs": [
    {
     "ename": "JSONDecodeError",
     "evalue": "Expecting value: line 1 column 1 (char 0)",
     "output_type": "error",
     "traceback": [
      "\u001b[0;31m---------------------------------------------------------------------------\u001b[0m",
      "\u001b[0;31mJSONDecodeError\u001b[0m                           Traceback (most recent call last)",
      "Cell \u001b[0;32mIn[23], line 3\u001b[0m\n\u001b[1;32m      1\u001b[0m \u001b[38;5;28;01mimport\u001b[39;00m \u001b[38;5;21;01mjson\u001b[39;00m\n\u001b[1;32m      2\u001b[0m \u001b[38;5;28;01mwith\u001b[39;00m \u001b[38;5;28mopen\u001b[39m(\u001b[38;5;124m\"\u001b[39m\u001b[38;5;124mdata/categories_ax.json\u001b[39m\u001b[38;5;124m\"\u001b[39m,\u001b[38;5;124m\"\u001b[39m\u001b[38;5;124mr\u001b[39m\u001b[38;5;124m\"\u001b[39m) \u001b[38;5;28;01mas\u001b[39;00m f:\n\u001b[0;32m----> 3\u001b[0m     ax \u001b[38;5;241m=\u001b[39m \u001b[43mjson\u001b[49m\u001b[38;5;241;43m.\u001b[39;49m\u001b[43mloads\u001b[49m\u001b[43m(\u001b[49m\u001b[43mf\u001b[49m\u001b[38;5;241;43m.\u001b[39;49m\u001b[43mread\u001b[49m\u001b[43m(\u001b[49m\u001b[43m)\u001b[49m\u001b[43m)\u001b[49m\n\u001b[1;32m      4\u001b[0m \u001b[38;5;28;01mwith\u001b[39;00m \u001b[38;5;28mopen\u001b[39m(\u001b[38;5;124m\"\u001b[39m\u001b[38;5;124mdata/categories_bx.json\u001b[39m\u001b[38;5;124m\"\u001b[39m,\u001b[38;5;124m\"\u001b[39m\u001b[38;5;124mr\u001b[39m\u001b[38;5;124m\"\u001b[39m) \u001b[38;5;28;01mas\u001b[39;00m f:\n\u001b[1;32m      5\u001b[0m     bx \u001b[38;5;241m=\u001b[39m json\u001b[38;5;241m.\u001b[39mloads(f\u001b[38;5;241m.\u001b[39mread())\n",
      "File \u001b[0;32m/usr/lib/python3.10/json/__init__.py:346\u001b[0m, in \u001b[0;36mloads\u001b[0;34m(s, cls, object_hook, parse_float, parse_int, parse_constant, object_pairs_hook, **kw)\u001b[0m\n\u001b[1;32m    341\u001b[0m     s \u001b[38;5;241m=\u001b[39m s\u001b[38;5;241m.\u001b[39mdecode(detect_encoding(s), \u001b[38;5;124m'\u001b[39m\u001b[38;5;124msurrogatepass\u001b[39m\u001b[38;5;124m'\u001b[39m)\n\u001b[1;32m    343\u001b[0m \u001b[38;5;28;01mif\u001b[39;00m (\u001b[38;5;28mcls\u001b[39m \u001b[38;5;129;01mis\u001b[39;00m \u001b[38;5;28;01mNone\u001b[39;00m \u001b[38;5;129;01mand\u001b[39;00m object_hook \u001b[38;5;129;01mis\u001b[39;00m \u001b[38;5;28;01mNone\u001b[39;00m \u001b[38;5;129;01mand\u001b[39;00m\n\u001b[1;32m    344\u001b[0m         parse_int \u001b[38;5;129;01mis\u001b[39;00m \u001b[38;5;28;01mNone\u001b[39;00m \u001b[38;5;129;01mand\u001b[39;00m parse_float \u001b[38;5;129;01mis\u001b[39;00m \u001b[38;5;28;01mNone\u001b[39;00m \u001b[38;5;129;01mand\u001b[39;00m\n\u001b[1;32m    345\u001b[0m         parse_constant \u001b[38;5;129;01mis\u001b[39;00m \u001b[38;5;28;01mNone\u001b[39;00m \u001b[38;5;129;01mand\u001b[39;00m object_pairs_hook \u001b[38;5;129;01mis\u001b[39;00m \u001b[38;5;28;01mNone\u001b[39;00m \u001b[38;5;129;01mand\u001b[39;00m \u001b[38;5;129;01mnot\u001b[39;00m kw):\n\u001b[0;32m--> 346\u001b[0m     \u001b[38;5;28;01mreturn\u001b[39;00m \u001b[43m_default_decoder\u001b[49m\u001b[38;5;241;43m.\u001b[39;49m\u001b[43mdecode\u001b[49m\u001b[43m(\u001b[49m\u001b[43ms\u001b[49m\u001b[43m)\u001b[49m\n\u001b[1;32m    347\u001b[0m \u001b[38;5;28;01mif\u001b[39;00m \u001b[38;5;28mcls\u001b[39m \u001b[38;5;129;01mis\u001b[39;00m \u001b[38;5;28;01mNone\u001b[39;00m:\n\u001b[1;32m    348\u001b[0m     \u001b[38;5;28mcls\u001b[39m \u001b[38;5;241m=\u001b[39m JSONDecoder\n",
      "File \u001b[0;32m/usr/lib/python3.10/json/decoder.py:337\u001b[0m, in \u001b[0;36mJSONDecoder.decode\u001b[0;34m(self, s, _w)\u001b[0m\n\u001b[1;32m    332\u001b[0m \u001b[38;5;28;01mdef\u001b[39;00m \u001b[38;5;21mdecode\u001b[39m(\u001b[38;5;28mself\u001b[39m, s, _w\u001b[38;5;241m=\u001b[39mWHITESPACE\u001b[38;5;241m.\u001b[39mmatch):\n\u001b[1;32m    333\u001b[0m \u001b[38;5;250m    \u001b[39m\u001b[38;5;124;03m\"\"\"Return the Python representation of ``s`` (a ``str`` instance\u001b[39;00m\n\u001b[1;32m    334\u001b[0m \u001b[38;5;124;03m    containing a JSON document).\u001b[39;00m\n\u001b[1;32m    335\u001b[0m \n\u001b[1;32m    336\u001b[0m \u001b[38;5;124;03m    \"\"\"\u001b[39;00m\n\u001b[0;32m--> 337\u001b[0m     obj, end \u001b[38;5;241m=\u001b[39m \u001b[38;5;28;43mself\u001b[39;49m\u001b[38;5;241;43m.\u001b[39;49m\u001b[43mraw_decode\u001b[49m\u001b[43m(\u001b[49m\u001b[43ms\u001b[49m\u001b[43m,\u001b[49m\u001b[43m \u001b[49m\u001b[43midx\u001b[49m\u001b[38;5;241;43m=\u001b[39;49m\u001b[43m_w\u001b[49m\u001b[43m(\u001b[49m\u001b[43ms\u001b[49m\u001b[43m,\u001b[49m\u001b[43m \u001b[49m\u001b[38;5;241;43m0\u001b[39;49m\u001b[43m)\u001b[49m\u001b[38;5;241;43m.\u001b[39;49m\u001b[43mend\u001b[49m\u001b[43m(\u001b[49m\u001b[43m)\u001b[49m\u001b[43m)\u001b[49m\n\u001b[1;32m    338\u001b[0m     end \u001b[38;5;241m=\u001b[39m _w(s, end)\u001b[38;5;241m.\u001b[39mend()\n\u001b[1;32m    339\u001b[0m     \u001b[38;5;28;01mif\u001b[39;00m end \u001b[38;5;241m!=\u001b[39m \u001b[38;5;28mlen\u001b[39m(s):\n",
      "File \u001b[0;32m/usr/lib/python3.10/json/decoder.py:355\u001b[0m, in \u001b[0;36mJSONDecoder.raw_decode\u001b[0;34m(self, s, idx)\u001b[0m\n\u001b[1;32m    353\u001b[0m     obj, end \u001b[38;5;241m=\u001b[39m \u001b[38;5;28mself\u001b[39m\u001b[38;5;241m.\u001b[39mscan_once(s, idx)\n\u001b[1;32m    354\u001b[0m \u001b[38;5;28;01mexcept\u001b[39;00m \u001b[38;5;167;01mStopIteration\u001b[39;00m \u001b[38;5;28;01mas\u001b[39;00m err:\n\u001b[0;32m--> 355\u001b[0m     \u001b[38;5;28;01mraise\u001b[39;00m JSONDecodeError(\u001b[38;5;124m\"\u001b[39m\u001b[38;5;124mExpecting value\u001b[39m\u001b[38;5;124m\"\u001b[39m, s, err\u001b[38;5;241m.\u001b[39mvalue) \u001b[38;5;28;01mfrom\u001b[39;00m \u001b[38;5;28;01mNone\u001b[39;00m\n\u001b[1;32m    356\u001b[0m \u001b[38;5;28;01mreturn\u001b[39;00m obj, end\n",
      "\u001b[0;31mJSONDecodeError\u001b[0m: Expecting value: line 1 column 1 (char 0)"
     ]
    }
   ],
   "source": [
    "import json\n",
    "with open(\"data/categories_ax.json\",\"r\") as f:\n",
    "    ax = json.loads(f.read())\n",
    "with open(\"data/categories_bx.json\",\"r\") as f:\n",
    "    bx = json.loads(f.read())"
   ]
  },
  {
   "cell_type": "code",
   "execution_count": null,
   "metadata": {},
   "outputs": [],
   "source": [
    "\n",
    "for ix, row in metatags.iterrows():\n",
    "    if ix < 100000: # useless\n",
    "        ax[row[\"src\"]] = {}\n",
    "        if row[\"src\"] not in ax.keys():\n",
    "            PROMPT = \"You are given a text below. You need to pick the five most relevant themes of this text from the list of keywords below:\\n\\n* \"+\"\\n*\".join(ALL)+\"\\n\\n\\nAnswer only with 3 items of this list, separated by commas\"\n",
    "            ANS =  h.ask(PROMPT,row[\"summary\"],src=\"tag\",v=\"gpt-3.5-turbo-0125\")\n",
    "            LST = [x.strip() for x in ANS.split(\",\") if x.strip() in ALL]\n",
    "            ax[row[\"src\"]] = LST\n",
    "            for x in LST:\n",
    "                if x not in bx.keys():\n",
    "                    bx[x] = []\n",
    "                bx[x].append(row[\"src\"])"
   ]
  },
  {
   "cell_type": "code",
   "execution_count": 22,
   "metadata": {},
   "outputs": [
    {
     "ename": "NameError",
     "evalue": "name 'ax' is not defined",
     "output_type": "error",
     "traceback": [
      "\u001b[0;31m---------------------------------------------------------------------------\u001b[0m",
      "\u001b[0;31mNameError\u001b[0m                                 Traceback (most recent call last)",
      "Cell \u001b[0;32mIn[22], line 3\u001b[0m\n\u001b[1;32m      1\u001b[0m \u001b[38;5;28;01mimport\u001b[39;00m \u001b[38;5;21;01mjson\u001b[39;00m\n\u001b[1;32m      2\u001b[0m \u001b[38;5;28;01mwith\u001b[39;00m \u001b[38;5;28mopen\u001b[39m(\u001b[38;5;124m\"\u001b[39m\u001b[38;5;124mdata/categories_ax.json\u001b[39m\u001b[38;5;124m\"\u001b[39m,\u001b[38;5;124m\"\u001b[39m\u001b[38;5;124mw\u001b[39m\u001b[38;5;124m\"\u001b[39m) \u001b[38;5;28;01mas\u001b[39;00m f:\n\u001b[0;32m----> 3\u001b[0m     f\u001b[38;5;241m.\u001b[39mwrite(json\u001b[38;5;241m.\u001b[39mdumps(\u001b[43max\u001b[49m))\n\u001b[1;32m      4\u001b[0m \u001b[38;5;28;01mwith\u001b[39;00m \u001b[38;5;28mopen\u001b[39m(\u001b[38;5;124m\"\u001b[39m\u001b[38;5;124mdata/categories_bx.json\u001b[39m\u001b[38;5;124m\"\u001b[39m,\u001b[38;5;124m\"\u001b[39m\u001b[38;5;124mw\u001b[39m\u001b[38;5;124m\"\u001b[39m) \u001b[38;5;28;01mas\u001b[39;00m f:\n\u001b[1;32m      5\u001b[0m     f\u001b[38;5;241m.\u001b[39mwrite(json\u001b[38;5;241m.\u001b[39mdumps(bx))\n",
      "\u001b[0;31mNameError\u001b[0m: name 'ax' is not defined"
     ]
    }
   ],
   "source": [
    "import json\n",
    "with open(\"data/categories_ax.json\",\"w\") as f:\n",
    "    f.write(json.dumps(ax))\n",
    "with open(\"data/categories_bx.json\",\"w\") as f:\n",
    "    f.write(json.dumps(bx))"
   ]
  },
  {
   "cell_type": "code",
   "execution_count": 20,
   "metadata": {},
   "outputs": [
    {
     "data": {
      "text/plain": [
       "'ABCDEFGHIJKLMNOPQRSTUVWXYZ'"
      ]
     },
     "execution_count": 20,
     "metadata": {},
     "output_type": "execute_result"
    }
   ],
   "source": [
    "import string\n",
    "LETTERS = string.ascii_uppercase\n",
    "LETTERS"
   ]
  },
  {
   "cell_type": "code",
   "execution_count": 21,
   "metadata": {},
   "outputs": [
    {
     "ename": "NameError",
     "evalue": "name 'bx' is not defined",
     "output_type": "error",
     "traceback": [
      "\u001b[0;31m---------------------------------------------------------------------------\u001b[0m",
      "\u001b[0;31mNameError\u001b[0m                                 Traceback (most recent call last)",
      "Cell \u001b[0;32mIn[21], line 1\u001b[0m\n\u001b[0;32m----> 1\u001b[0m \u001b[43mbx\u001b[49m[\u001b[38;5;124m'\u001b[39m\u001b[38;5;124mEpidemic Outbreaks and Response\u001b[39m\u001b[38;5;124m'\u001b[39m][\u001b[38;5;241m0\u001b[39m]\n",
      "\u001b[0;31mNameError\u001b[0m: name 'bx' is not defined"
     ]
    }
   ],
   "source": [
    "bx['Epidemic Outbreaks and Response'][0]"
   ]
  },
  {
   "cell_type": "code",
   "execution_count": 24,
   "metadata": {},
   "outputs": [
    {
     "ename": "NameError",
     "evalue": "name 'bx' is not defined",
     "output_type": "error",
     "traceback": [
      "\u001b[0;31m---------------------------------------------------------------------------\u001b[0m",
      "\u001b[0;31mNameError\u001b[0m                                 Traceback (most recent call last)",
      "Cell \u001b[0;32mIn[24], line 6\u001b[0m\n\u001b[1;32m      2\u001b[0m INDEX \u001b[38;5;241m+\u001b[39m\u001b[38;5;241m=\u001b[39m \u001b[38;5;124m\"\u001b[39m\u001b[38;5;124mThis page tries to capture the information obtained in my [tech watch](https://substack.kghosh.me/). The different links and pages are captured below, trying to catalogue different weak signals.\u001b[39m\u001b[38;5;124m\"\u001b[39m \n\u001b[1;32m      5\u001b[0m \u001b[38;5;28;01mfor\u001b[39;00m letter \u001b[38;5;129;01min\u001b[39;00m LETTERS:\n\u001b[0;32m----> 6\u001b[0m     kws \u001b[38;5;241m=\u001b[39m [x \u001b[38;5;28;01mfor\u001b[39;00m x \u001b[38;5;129;01min\u001b[39;00m \u001b[38;5;28mlist\u001b[39m(\u001b[43mbx\u001b[49m\u001b[38;5;241m.\u001b[39mkeys()) \u001b[38;5;28;01mif\u001b[39;00m x[\u001b[38;5;241m0\u001b[39m] \u001b[38;5;241m==\u001b[39m letter]\n\u001b[1;32m      8\u001b[0m     \u001b[38;5;28;01mif\u001b[39;00m \u001b[38;5;28mlen\u001b[39m(kws):\n\u001b[1;32m      9\u001b[0m         INDEX \u001b[38;5;241m+\u001b[39m\u001b[38;5;241m=\u001b[39m \u001b[38;5;124m\"\u001b[39m\u001b[38;5;130;01m\\n\u001b[39;00m\u001b[38;5;130;01m\\n\u001b[39;00m\u001b[38;5;124m## Letter \u001b[39m\u001b[38;5;124m'\u001b[39m\u001b[38;5;124m\"\u001b[39m\u001b[38;5;241m+\u001b[39mletter\u001b[38;5;241m.\u001b[39mupper()\u001b[38;5;241m+\u001b[39m\u001b[38;5;124m\"\u001b[39m\u001b[38;5;124m'\u001b[39m\u001b[38;5;124m \u001b[39m\u001b[38;5;130;01m\\n\u001b[39;00m\u001b[38;5;130;01m\\n\u001b[39;00m\u001b[38;5;124m\"\u001b[39m\n",
      "\u001b[0;31mNameError\u001b[0m: name 'bx' is not defined"
     ]
    }
   ],
   "source": [
    "INDEX  = \"# Overview \\n\\n\"\n",
    "INDEX += \"This page tries to capture the information obtained in my [tech watch](https://substack.kghosh.me/). The different links and pages are captured below, trying to catalogue different weak signals.\" \n",
    "\n",
    "\n",
    "for letter in LETTERS:\n",
    "    kws = [x for x in list(bx.keys()) if x[0] == letter]\n",
    "\n",
    "    if len(kws):\n",
    "        INDEX += \"\\n\\n## Letter '\"+letter.upper()+\"' \\n\\n\"\n",
    "        for kw in kws:\n",
    "            INDEX += \"\\n### Category: __\"+kw+\"__: \\n\\n\"\n",
    "            lst = bx[kw] \n",
    "            for x in lst:\n",
    "                TITRE = df.loc[df.src == x,\"title\"].iloc[0]\n",
    "                INDEX += \"* [\"+TITRE+\"](\"+x+\")\\n\"\n",
    "\n",
    "INDEX += \"\\n\\n## Others\\n\\n\"\n",
    "for x in ax:\n",
    "    if len(ax[x]) == 0:\n",
    "        TITRE = df.loc[df.src == x,\"title\"].iloc[0]\n",
    "        INDEX += \"* [\"+TITRE+\"](\"+x+\")\\n\""
   ]
  },
  {
   "cell_type": "code",
   "execution_count": null,
   "metadata": {},
   "outputs": [],
   "source": [
    "with open(\"docs/index.md\", \"w\") as f:\n",
    "    f.write(INDEX) "
   ]
  }
 ],
 "metadata": {
  "kernelspec": {
   "display_name": "Python 3 (ipykernel)",
   "language": "python",
   "name": "python3"
  },
  "language_info": {
   "codemirror_mode": {
    "name": "ipython",
    "version": 3
   },
   "file_extension": ".py",
   "mimetype": "text/x-python",
   "name": "python",
   "nbconvert_exporter": "python",
   "pygments_lexer": "ipython3",
   "version": "3.10.12"
  },
  "vscode": {
   "interpreter": {
    "hash": "e7370f93d1d0cde622a1f8e1c04877d8463912d04d973331ad4851f04de6915a"
   }
  }
 },
 "nbformat": 4,
 "nbformat_minor": 4
}
