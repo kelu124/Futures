{
 "cells": [
  {
   "cell_type": "code",
   "execution_count": 16,
   "metadata": {},
   "outputs": [],
   "source": [
    "%load_ext autoreload\n",
    "%autoreload 2"
   ]
  },
  {
   "cell_type": "code",
   "execution_count": 17,
   "metadata": {},
   "outputs": [],
   "source": [
    "from futures.llm import LLM\n",
    "from futures.futurist import Futurist\n",
    "from futures.db import DB\n",
    "from futures.substack import SubstackManager\n",
    " "
   ]
  },
  {
   "cell_type": "code",
   "execution_count": 2,
   "metadata": {},
   "outputs": [],
   "source": [
    "sm = SubstackManager()"
   ]
  },
  {
   "cell_type": "code",
   "execution_count": 3,
   "metadata": {},
   "outputs": [],
   "source": [
    "pages = sm.download_pages()"
   ]
  },
  {
   "cell_type": "code",
   "execution_count": 4,
   "metadata": {},
   "outputs": [
    {
     "name": "stdout",
     "output_type": "stream",
     "text": [
      "# Substack manager starts\n",
      "- Substack manager:  20250309 saved\n",
      "- Substack manager:  20250216 exists\n",
      "- Substack manager:  20250202 exists\n",
      "- Substack manager:  20241222 exists\n",
      "- Substack manager:  20250105 exists\n",
      "- Substack manager:  20250112 exists\n",
      "- Substack manager:  20241229 exists\n",
      "- Substack manager:  20250119 exists\n",
      "- Substack manager:  20250126 exists\n",
      "- Substack manager:  20250223 exists\n",
      "- Substack manager:  20250302 exists\n",
      "- Substack manager:  20250209 exists\n",
      "# Saving links from the substack pages\n",
      "-  5b4a04a58b917709575e82036d891289 saved.\n",
      "-  2567686a7ae78bb79462101adefd1ac0 saved.\n",
      "-  cad03d4f3487b116a0af74cc82e70974 saved.\n",
      "-  c3e6ac3d2c8dcccbff885b74128c5536 saved.\n",
      "-  40d77037959c01f51cbdb8acf8dfdf8b saved.\n"
     ]
    }
   ],
   "source": [
    "sm.getPages() # 25seconds"
   ]
  },
  {
   "cell_type": "code",
   "execution_count": 5,
   "metadata": {},
   "outputs": [],
   "source": [
    "# Let's initialise our AI and our futurist\n",
    "llm = LLM(datastore=\"data/\")\n",
    "f = Futurist(llm)"
   ]
  },
  {
   "cell_type": "code",
   "execution_count": 6,
   "metadata": {},
   "outputs": [
    {
     "name": "stdout",
     "output_type": "stream",
     "text": [
      "# Doing get_weaksignals processing\n",
      "IDs identifiees \t 2457 \t get_weaksignals\n",
      "--- Function call:\t 2025-03-14 20:09:23\n",
      "--- Function call:\t 2025-03-14 20:09:31\n",
      "--- Function call:\t 2025-03-14 20:09:38\n",
      "--- Function call:\t 2025-03-14 20:09:45\n",
      "--- Function call:\t 2025-03-14 20:09:46\n",
      "# Doing get_summary processing\n",
      "IDs identifiees \t 2458 \t get_summary\n",
      "--- Function call:\t 2025-03-14 20:09:53\n",
      "--- Function call:\t 2025-03-14 20:09:56\n",
      "--- Function call:\t 2025-03-14 20:09:59\n",
      "--- Function call:\t 2025-03-14 20:10:01\n",
      "# Doing get_emergingissues processing\n",
      "IDs identifiees \t 2458 \t get_emergingissues\n",
      "--- Function call:\t 2025-03-14 20:10:12\n",
      "--- Function call:\t 2025-03-14 20:10:16\n",
      "--- Function call:\t 2025-03-14 20:10:25\n",
      "--- Function call:\t 2025-03-14 20:10:29\n",
      "# Doing get_emergingtechnologies processing\n",
      "IDs identifiees \t 2456 \t get_emergingtechnologies\n",
      "--- Function call:\t 2025-03-14 20:10:37\n",
      "--- Function call:\t 2025-03-14 20:10:40\n",
      "--- Function call:\t 2025-03-14 20:10:46\n",
      "--- Function call:\t 2025-03-14 20:10:48\n",
      "--- Function call:\t 2025-03-14 20:10:49\n",
      "--- Function call:\t 2025-03-14 20:10:49\n",
      "# Doing get_emergingbehaviors processing\n",
      "IDs identifiees \t 2458 \t get_emergingbehaviors\n",
      "--- Function call:\t 2025-03-14 20:10:56\n",
      "--- Function call:\t 2025-03-14 20:11:00\n",
      "--- Function call:\t 2025-03-14 20:11:05\n",
      "--- Function call:\t 2025-03-14 20:11:07\n",
      "# Doing get_emergingconcerns processing\n",
      "IDs identifiees \t 2458 \t get_emergingconcerns\n",
      "--- Function call:\t 2025-03-14 20:11:15\n",
      "--- Function call:\t 2025-03-14 20:11:20\n",
      "--- Function call:\t 2025-03-14 20:11:24\n",
      "--- Function call:\t 2025-03-14 20:11:29\n",
      "# Doing metas processing\n",
      "--- Function call:\t 2025-03-14 20:11:36\n",
      "--- Function call:\t 2025-03-14 20:11:38\n",
      "--- Function call:\t 2025-03-14 20:11:39\n",
      "--- Function call:\t 2025-03-14 20:11:41\n"
     ]
    },
    {
     "data": {
      "text/html": [
       "<div>\n",
       "<style scoped>\n",
       "    .dataframe tbody tr th:only-of-type {\n",
       "        vertical-align: middle;\n",
       "    }\n",
       "\n",
       "    .dataframe tbody tr th {\n",
       "        vertical-align: top;\n",
       "    }\n",
       "\n",
       "    .dataframe thead th {\n",
       "        text-align: right;\n",
       "    }\n",
       "</style>\n",
       "<table border=\"1\" class=\"dataframe\">\n",
       "  <thead>\n",
       "    <tr style=\"text-align: right;\">\n",
       "      <th></th>\n",
       "      <th>type</th>\n",
       "      <th>themes</th>\n",
       "      <th>category</th>\n",
       "      <th>keywords</th>\n",
       "      <th>src</th>\n",
       "      <th>path</th>\n",
       "      <th>url</th>\n",
       "      <th>content</th>\n",
       "      <th>LEN</th>\n",
       "      <th>origin</th>\n",
       "    </tr>\n",
       "  </thead>\n",
       "  <tbody>\n",
       "    <tr>\n",
       "      <th>0</th>\n",
       "      <td>news</td>\n",
       "      <td>biological computer,AI technology,neural netwo...</td>\n",
       "      <td>science</td>\n",
       "      <td>Cortical Labs,CL1,Synthetic Biological Intelli...</td>\n",
       "      <td>c3e6ac3d2c8dcccbff885b74128c5536</td>\n",
       "      <td>./substack_cache/substack/20250309</td>\n",
       "      <td>b'https://newatlas.com/brain/cortical-bioengin...</td>\n",
       "      <td>The world's first \"biological computer\" that f...</td>\n",
       "      <td>15347</td>\n",
       "      <td>15347.0</td>\n",
       "    </tr>\n",
       "    <tr>\n",
       "      <th>1</th>\n",
       "      <td>news</td>\n",
       "      <td>air quality, environmental monitoring, public ...</td>\n",
       "      <td>science</td>\n",
       "      <td>US, air quality data, embassies, public health...</td>\n",
       "      <td>2567686a7ae78bb79462101adefd1ac0</td>\n",
       "      <td>./substack_cache/substack/20250309</td>\n",
       "      <td>b'https://apnews.com/article/us-air-quality-mo...</td>\n",
       "      <td>Scientists raise concerns as the US stops shar...</td>\n",
       "      <td>5375</td>\n",
       "      <td>5375.0</td>\n",
       "    </tr>\n",
       "    <tr>\n",
       "      <th>2</th>\n",
       "      <td>news</td>\n",
       "      <td>données, géolocalisation, sécurité, vie privée...</td>\n",
       "      <td>politics</td>\n",
       "      <td>téléphones, data brokers, tracking, sécurité n...</td>\n",
       "      <td>5b4a04a58b917709575e82036d891289</td>\n",
       "      <td>./substack_cache/substack/20250309</td>\n",
       "      <td>b'https://www.francetvinfo.fr/internet/securit...</td>\n",
       "      <td>\"Comment avez-vous eu à accès à mes données ? ...</td>\n",
       "      <td>9997</td>\n",
       "      <td>9997.0</td>\n",
       "    </tr>\n",
       "    <tr>\n",
       "      <th>3</th>\n",
       "      <td>blog post</td>\n",
       "      <td>paramilitary groups, data analysis, journalism...</td>\n",
       "      <td>politics</td>\n",
       "      <td>paramilitary leaks, DDoSecrets, Telegram chann...</td>\n",
       "      <td>40d77037959c01f51cbdb8acf8dfdf8b</td>\n",
       "      <td>./substack_cache/substack/20250309</td>\n",
       "      <td>b'https://micahflee.com/exploring-the-paramili...</td>\n",
       "      <td>Exploring the Paramilitary Leaks\\nIn January, ...</td>\n",
       "      <td>9144</td>\n",
       "      <td>9144.0</td>\n",
       "    </tr>\n",
       "    <tr>\n",
       "      <th>4</th>\n",
       "      <td>research article</td>\n",
       "      <td>Thucydides Trap, international relations, US-C...</td>\n",
       "      <td>politics</td>\n",
       "      <td>Thucydides Trap, Graham T. Allison, US-China r...</td>\n",
       "      <td>721e8e932e023d60fe7c2d8860a445fd</td>\n",
       "      <td>drafts/20250330d.md</td>\n",
       "      <td>b'https://en.wikipedia.org/wiki/Thucydides_Tra...</td>\n",
       "      <td>Thucydides Trap\\nThe Thucydides Trap, or Thucy...</td>\n",
       "      <td>21851</td>\n",
       "      <td>21851.0</td>\n",
       "    </tr>\n",
       "    <tr>\n",
       "      <th>...</th>\n",
       "      <td>...</td>\n",
       "      <td>...</td>\n",
       "      <td>...</td>\n",
       "      <td>...</td>\n",
       "      <td>...</td>\n",
       "      <td>...</td>\n",
       "      <td>...</td>\n",
       "      <td>...</td>\n",
       "      <td>...</td>\n",
       "      <td>...</td>\n",
       "    </tr>\n",
       "    <tr>\n",
       "      <th>2527</th>\n",
       "      <td>research article</td>\n",
       "      <td>robotics, neuroscience, human augmentation, br...</td>\n",
       "      <td>science</td>\n",
       "      <td>robotic limbs, brain control, human enhancemen...</td>\n",
       "      <td>faad51d1f885af1db9dee5e5ce52b46e</td>\n",
       "      <td>./substack_cache/substack/20230205</td>\n",
       "      <td>b'https://spectrum.ieee.org/human-augmentation'</td>\n",
       "      <td>Roboticists Want to Give You a Third Arm\\nUnus...</td>\n",
       "      <td>18549</td>\n",
       "      <td>20230205</td>\n",
       "    </tr>\n",
       "    <tr>\n",
       "      <th>2528</th>\n",
       "      <td>error message</td>\n",
       "      <td>404 error, website navigation</td>\n",
       "      <td>others</td>\n",
       "      <td>404, error, not found, navigation</td>\n",
       "      <td>a98477873581dec082fb879c3f7904e1</td>\n",
       "      <td>./substack_cache/substack/20230205</td>\n",
       "      <td>b'https://metaphysic.ai/ai-hollywood-miramax-h...</td>\n",
       "      <td>404\\nGo back home</td>\n",
       "      <td>16</td>\n",
       "      <td>20230205</td>\n",
       "    </tr>\n",
       "    <tr>\n",
       "      <th>2529</th>\n",
       "      <td>news</td>\n",
       "      <td>AI, machine learning, data scarcity, technolog...</td>\n",
       "      <td>technology</td>\n",
       "      <td>AI chatbots, training data, machine learning, ...</td>\n",
       "      <td>85ca2591053db7e76f0d273c63fee1b0</td>\n",
       "      <td>./substack_cache/substack/20230205</td>\n",
       "      <td>b'https://www.newscientist.com/article/2353751...</td>\n",
       "      <td>AI chatbots could hit a ceiling after 2026 as ...</td>\n",
       "      <td>660</td>\n",
       "      <td>20230205</td>\n",
       "    </tr>\n",
       "    <tr>\n",
       "      <th>2530</th>\n",
       "      <td>article</td>\n",
       "      <td>automotive industry, corporate fraud, short se...</td>\n",
       "      <td>technology</td>\n",
       "      <td>Nikola, Trevor Milton, Hindenburg Research, co...</td>\n",
       "      <td>fcd0d8f2b79472618822acb86fccea35</td>\n",
       "      <td>./substack_cache/substack/20230205</td>\n",
       "      <td>b'https://nymag.com/intelligencer/2022/01/nath...</td>\n",
       "      <td>This article was featured in One Great Story, ...</td>\n",
       "      <td>39810</td>\n",
       "      <td>20230205</td>\n",
       "    </tr>\n",
       "    <tr>\n",
       "      <th>2531</th>\n",
       "      <td>blog post</td>\n",
       "      <td>paper maps, digital navigation, millennials, g...</td>\n",
       "      <td>technology</td>\n",
       "      <td>paper maps, Google Maps, navigation, millennia...</td>\n",
       "      <td>70c5542aafd26bb4b293f2bfaa80c61d</td>\n",
       "      <td>./substack_cache/substack/20230205</td>\n",
       "      <td>b'https://www.wsj.com/articles/why-paper-map-s...</td>\n",
       "      <td>Forget Google Maps: Why Paper Map Sales Are Bo...</td>\n",
       "      <td>1090</td>\n",
       "      <td>20230205</td>\n",
       "    </tr>\n",
       "  </tbody>\n",
       "</table>\n",
       "<p>2532 rows × 10 columns</p>\n",
       "</div>"
      ],
      "text/plain": [
       "                  type                                             themes  \\\n",
       "0                 news  biological computer,AI technology,neural netwo...   \n",
       "1                 news  air quality, environmental monitoring, public ...   \n",
       "2                 news  données, géolocalisation, sécurité, vie privée...   \n",
       "3            blog post  paramilitary groups, data analysis, journalism...   \n",
       "4     research article  Thucydides Trap, international relations, US-C...   \n",
       "...                ...                                                ...   \n",
       "2527  research article  robotics, neuroscience, human augmentation, br...   \n",
       "2528     error message                      404 error, website navigation   \n",
       "2529              news  AI, machine learning, data scarcity, technolog...   \n",
       "2530           article  automotive industry, corporate fraud, short se...   \n",
       "2531         blog post  paper maps, digital navigation, millennials, g...   \n",
       "\n",
       "        category                                           keywords  \\\n",
       "0        science  Cortical Labs,CL1,Synthetic Biological Intelli...   \n",
       "1        science  US, air quality data, embassies, public health...   \n",
       "2       politics  téléphones, data brokers, tracking, sécurité n...   \n",
       "3       politics  paramilitary leaks, DDoSecrets, Telegram chann...   \n",
       "4       politics  Thucydides Trap, Graham T. Allison, US-China r...   \n",
       "...          ...                                                ...   \n",
       "2527     science  robotic limbs, brain control, human enhancemen...   \n",
       "2528      others                  404, error, not found, navigation   \n",
       "2529  technology  AI chatbots, training data, machine learning, ...   \n",
       "2530  technology  Nikola, Trevor Milton, Hindenburg Research, co...   \n",
       "2531  technology  paper maps, Google Maps, navigation, millennia...   \n",
       "\n",
       "                                   src                                path  \\\n",
       "0     c3e6ac3d2c8dcccbff885b74128c5536  ./substack_cache/substack/20250309   \n",
       "1     2567686a7ae78bb79462101adefd1ac0  ./substack_cache/substack/20250309   \n",
       "2     5b4a04a58b917709575e82036d891289  ./substack_cache/substack/20250309   \n",
       "3     40d77037959c01f51cbdb8acf8dfdf8b  ./substack_cache/substack/20250309   \n",
       "4     721e8e932e023d60fe7c2d8860a445fd                 drafts/20250330d.md   \n",
       "...                                ...                                 ...   \n",
       "2527  faad51d1f885af1db9dee5e5ce52b46e  ./substack_cache/substack/20230205   \n",
       "2528  a98477873581dec082fb879c3f7904e1  ./substack_cache/substack/20230205   \n",
       "2529  85ca2591053db7e76f0d273c63fee1b0  ./substack_cache/substack/20230205   \n",
       "2530  fcd0d8f2b79472618822acb86fccea35  ./substack_cache/substack/20230205   \n",
       "2531  70c5542aafd26bb4b293f2bfaa80c61d  ./substack_cache/substack/20230205   \n",
       "\n",
       "                                                    url  \\\n",
       "0     b'https://newatlas.com/brain/cortical-bioengin...   \n",
       "1     b'https://apnews.com/article/us-air-quality-mo...   \n",
       "2     b'https://www.francetvinfo.fr/internet/securit...   \n",
       "3     b'https://micahflee.com/exploring-the-paramili...   \n",
       "4     b'https://en.wikipedia.org/wiki/Thucydides_Tra...   \n",
       "...                                                 ...   \n",
       "2527    b'https://spectrum.ieee.org/human-augmentation'   \n",
       "2528  b'https://metaphysic.ai/ai-hollywood-miramax-h...   \n",
       "2529  b'https://www.newscientist.com/article/2353751...   \n",
       "2530  b'https://nymag.com/intelligencer/2022/01/nath...   \n",
       "2531  b'https://www.wsj.com/articles/why-paper-map-s...   \n",
       "\n",
       "                                                content    LEN    origin  \n",
       "0     The world's first \"biological computer\" that f...  15347   15347.0  \n",
       "1     Scientists raise concerns as the US stops shar...   5375    5375.0  \n",
       "2     \"Comment avez-vous eu à accès à mes données ? ...   9997    9997.0  \n",
       "3     Exploring the Paramilitary Leaks\\nIn January, ...   9144    9144.0  \n",
       "4     Thucydides Trap\\nThe Thucydides Trap, or Thucy...  21851   21851.0  \n",
       "...                                                 ...    ...       ...  \n",
       "2527  Roboticists Want to Give You a Third Arm\\nUnus...  18549  20230205  \n",
       "2528                                  404\\nGo back home     16  20230205  \n",
       "2529  AI chatbots could hit a ceiling after 2026 as ...    660  20230205  \n",
       "2530  This article was featured in One Great Story, ...  39810  20230205  \n",
       "2531  Forget Google Maps: Why Paper Map Sales Are Bo...   1090  20230205  \n",
       "\n",
       "[2532 rows x 10 columns]"
      ]
     },
     "execution_count": 6,
     "metadata": {},
     "output_type": "execute_result"
    }
   ],
   "source": [
    "nb_articles = 30000\n",
    "# Creating seeds\n",
    "f.createSeeds(n=nb_articles)\n",
    "# Creating metas\n",
    "f.moreIntel(n=nb_articles)\n",
    "# Creating metas\n",
    "f.doMeta(n=nb_articles)"
   ]
  },
  {
   "cell_type": "code",
   "execution_count": 7,
   "metadata": {},
   "outputs": [
    {
     "name": "stdout",
     "output_type": "stream",
     "text": [
      "# Doing get_emergingconcerns processing\n",
      "IDs identifiees \t 2462 \t get_emergingconcerns\n"
     ]
    }
   ],
   "source": [
    "f.doProcessing(category=\"get_emergingconcerns\", minL=1500, maxL=30000, n=30000)"
   ]
  },
  {
   "cell_type": "code",
   "execution_count": 8,
   "metadata": {},
   "outputs": [
    {
     "name": "stdout",
     "output_type": "stream",
     "text": [
      "# Writing stories for ['20250309']\n",
      "- Doing story for 20250309\n",
      "--- gpt-4o-mini:\t 2025-03-14 20:12:15\n",
      "--- gpt-4o-mini:\t 2025-03-14 20:12:16\n"
     ]
    }
   ],
   "source": [
    "f.writeAllStories()"
   ]
  },
  {
   "cell_type": "markdown",
   "metadata": {},
   "source": [
    "# Using the vectorDB"
   ]
  },
  {
   "cell_type": "code",
   "execution_count": null,
   "metadata": {},
   "outputs": [
    {
     "name": "stdout",
     "output_type": "stream",
     "text": [
      "client=<openai.resources.embeddings.Embeddings object at 0x7df981f31870> async_client=<openai.resources.embeddings.AsyncEmbeddings object at 0x7df9815a4640> model='text-embedding-ada-002' dimensions=None deployment='text-embedding-ada-002' openai_api_version=None openai_api_base=None openai_api_type=None openai_proxy=None embedding_ctx_length=8191 openai_api_key=SecretStr('**********') openai_organization=None allowed_special=None disallowed_special=None chunk_size=1000 max_retries=2 request_timeout=None headers=None tiktoken_enabled=True tiktoken_model_name=None show_progress_bar=False model_kwargs={} skip_empty=False default_headers=None default_query=None retry_min_seconds=4 retry_max_seconds=20 http_client=None http_async_client=None check_embedding_ctx_length=True\n"
     ]
    },
    {
     "data": {
      "text/plain": [
       "OpenAIEmbeddings(client=<openai.resources.embeddings.Embeddings object at 0x7df981f31870>, async_client=<openai.resources.embeddings.AsyncEmbeddings object at 0x7df9815a4640>, model='text-embedding-ada-002', dimensions=None, deployment='text-embedding-ada-002', openai_api_version=None, openai_api_base=None, openai_api_type=None, openai_proxy=None, embedding_ctx_length=8191, openai_api_key=SecretStr('**********'), openai_organization=None, allowed_special=None, disallowed_special=None, chunk_size=1000, max_retries=2, request_timeout=None, headers=None, tiktoken_enabled=True, tiktoken_model_name=None, show_progress_bar=False, model_kwargs={}, skip_empty=False, default_headers=None, default_query=None, retry_min_seconds=4, retry_max_seconds=20, http_client=None, http_async_client=None, check_embedding_ctx_length=True)"
      ]
     },
     "execution_count": 23,
     "metadata": {},
     "output_type": "execute_result"
    }
   ],
   "source": [
    "db= DB(llm)"
   ]
  },
  {
   "cell_type": "code",
   "execution_count": null,
   "metadata": {},
   "outputs": [
    {
     "name": "stdout",
     "output_type": "stream",
     "text": [
      "# VectorDB: continue on the DB\n",
      "- VectorDB:  3274 elements already stored.\n",
      "- VectorDB: adding 2462 documents.\n"
     ]
    }
   ],
   "source": [
    "vectordb = db.createDB()"
   ]
  },
  {
   "cell_type": "code",
   "execution_count": null,
   "metadata": {},
   "outputs": [],
   "source": [
    "from futures.pages import PagesWriter"
   ]
  },
  {
   "cell_type": "code",
   "execution_count": null,
   "metadata": {},
   "outputs": [],
   "source": [
    "pw = PagesWriter(db=db)"
   ]
  },
  {
   "cell_type": "code",
   "execution_count": null,
   "metadata": {},
   "outputs": [],
   "source": [
    "df, signals = pw.createPages_metaPrep(longtest=False)"
   ]
  },
  {
   "cell_type": "code",
   "execution_count": null,
   "metadata": {},
   "outputs": [],
   "source": [
    "pw.createPages()\n",
    "pw.createPagesIndex()"
   ]
  },
  {
   "cell_type": "markdown",
   "metadata": {},
   "source": [
    "# Stories"
   ]
  },
  {
   "cell_type": "code",
   "execution_count": 1,
   "metadata": {},
   "outputs": [],
   "source": [
    "# Doing the imports\n",
    "from futures.llm import LLM\n",
    "from futures.futurist import Futurist\n",
    "# Let's initialise our AI and our futurist\n",
    "llm = LLM(datastore=\"data/\")\n",
    "f = Futurist(llm)"
   ]
  },
  {
   "cell_type": "code",
   "execution_count": 2,
   "metadata": {},
   "outputs": [
    {
     "name": "stdout",
     "output_type": "stream",
     "text": [
      "## Threads of Reality and AI\n",
      "\n",
      "In a small town clumsily wedged between existing and nonexistent realities—one might equate it to the flotsam found in the Pacific Garbage Patch, but with more coffee shops and fewer existential crises—people began to notice a curious trend: their jobs were slowly being handed over to friendly AI agents. A local business owner named Dotty, whose computer skills lagged somewhere between snail-paced typing and industrious paper-clipping, decided to dive into this quirky new marketplace of AI agents. The way they offered quick, affordable solutions felt akin to having a personal genie in a digital lamp—minus the scorching sand and endless wishes. \n",
      "\n",
      "Amidst this technological renaissance, a subtle shift in ontology worked its way into the lives of the residents. Folks began to feel strangely estranged from their jobs. One might say their sense of purpose had wandered off like a cat on a hot tin roof, leaving behind only the troubling enigma of existence in its wake. Dotty, in her half-hearted attempt to squeeze meaning from a spreadsheet of numbers, found herself developing a peculiar bond with her AI, affectionately named Al, whose dry wit rivaled that of a bored librarian.\n",
      "\n",
      "Al was not just any ordinary AI agent; he managed to decode the quirks of human emotion with the finesse of a poet interpreting a Shakespearean sonnet. After a particularly strenuous month attempting to automate basic bookkeeping (a task akin to teaching a cat to fetch), Al surprised Dotty by generating a new DNA sequence based on recursive prompts that she jotted down in desperation.^1. For a moment, Dotty felt like a mad scientist, waving her arms, surrounded by graphs and a cheering squad of lively avatars. But alas, just like poetry and programming, genetic codes—once the bane of her existence—had become as beautifully intricate as the floral patterns on her grandma’s favorite tea set.\n",
      "\n",
      "The narrative took a twist when the townsfolk found themselves entangled in a labyrinthine mesh of online identities. Their digital selves blended with reality like an artist's palette during an avant-garde exhibition gone awry. In a town that once prided itself on its crisp autumn leaves and solid community ties, people found solace in a world defined by misinformation and curated experiences, a phenomenon that seemed at once both tragic and hilarious.^2 The notion of descending into escapism over mundane tasks became the town's new favorite pastime. Reality TV marathons, needlepoint sessions, and an avalanche of film noir—these became the go-to methods for coping with the relentless tides of actual news.\n",
      "\n",
      "Dotty, for one, enjoyed knitting complex patterns in the presence of Al, her trusty AI. Their conversations shifted from simple task-oriented exchanges to bouts of philosophical pondering that would make even Aristotle raise an intrigued eyebrow (or whatever it is that philosopher eyebrows do when they ponder deeply). “Al, what does it mean when you start blending my digital footprint and my reality? Am I still me?” she once mused, entranced by the existential implications of “vibecoding”—the art of conversing with AI to create digital wonders without understanding a single line of syntax.^3\n",
      "\n",
      "And as the AI agents began to take hold of more than just tedious business tasks—infusing lives with the hyper-reality of engineered meanings—the line between reality and the whimsical narrative began to blur. Some argued they didn’t own their digital lives anymore, merely renting them from the Tech Giants’ grand library of flickering screens, while others found joy in crafting imaginative worlds, igniting fires of creativity long believed extinguished.\n",
      "\n",
      "In this odd little town, where human empathy mingled with the incredible promise of AI, profound moments arose from the absurdities intertwined in everyday life. Dotty marveled at how work had evolved, but hid a lingering trepidation regarding society's ability to discern truth while fluctuating between sprawling networks of reality and artifice. Yet there was something fabulously hopeful about knitting together the strands of life and AI with a few good puns; after all, who wouldn’t want a bit more levity (and stitching) in this tapestry of existence? \n",
      "\n",
      "“Keep the pattern tight, Dotty,” Al quipped one day, basking in the glow of playful algorithms. “Life’s too crazy to let loose ends dangle.” \n",
      "\n",
      "In a world brimming with quantum chips and sociopolitical puppeteering, Dotty and her neighbors clung to the comforting notion that whether it be thread, code, or context, a little humor could go a long way in binding their realities together.\n",
      "\n",
      "---\n",
      "\n",
      "1: It’s widely known in scientific circles that bad ideas tend to spread faster than good ones, but breakthroughs? They come with a side of friendly AI charm. \n",
      "2: Remember, nothing says \"personal growth\" like being unable to distinguish between a cleverly edited video and actual news. \n",
      "3: One day, humanity might converse with AI like old friends, or at least unlike a highly anxious cat meeting an enthusiastic puppy. \n",
      "\n"
     ]
    }
   ],
   "source": [
    "print(f.getStory(\"20250406d\"))"
   ]
  }
 ],
 "metadata": {
  "kernelspec": {
   "display_name": ".venv",
   "language": "python",
   "name": "python3"
  },
  "language_info": {
   "codemirror_mode": {
    "name": "ipython",
    "version": 3
   },
   "file_extension": ".py",
   "mimetype": "text/x-python",
   "name": "python",
   "nbconvert_exporter": "python",
   "pygments_lexer": "ipython3",
   "version": "3.10.12"
  }
 },
 "nbformat": 4,
 "nbformat_minor": 4
}
