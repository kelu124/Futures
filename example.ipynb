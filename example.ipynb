{
 "cells": [
  {
   "cell_type": "code",
   "execution_count": 19,
   "metadata": {},
   "outputs": [],
   "source": [
    "%load_ext autoreload\n",
    "%autoreload 2"
   ]
  },
  {
   "cell_type": "code",
   "execution_count": 1,
   "metadata": {},
   "outputs": [],
   "source": [
    "from futures.llm import LLM\n",
    "from futures.futurist import Futurist\n",
    "from futures.db import DB\n",
    "from futures.substack import SubstackManager\n",
    " "
   ]
  },
  {
   "cell_type": "code",
   "execution_count": 2,
   "metadata": {},
   "outputs": [],
   "source": [
    "sm = SubstackManager()"
   ]
  },
  {
   "cell_type": "code",
   "execution_count": 3,
   "metadata": {},
   "outputs": [],
   "source": [
    "pages = sm.download_pages()"
   ]
  },
  {
   "cell_type": "code",
   "execution_count": 4,
   "metadata": {},
   "outputs": [
    {
     "name": "stdout",
     "output_type": "stream",
     "text": [
      "# Substack manager starts\n"
     ]
    },
    {
     "name": "stdout",
     "output_type": "stream",
     "text": [
      "- Substack manager:  20250330 exists\n",
      "- Substack manager:  20250323 exists\n",
      "- Substack manager:  20250406 exists\n",
      "- Substack manager:  20250316 exists\n",
      "- Substack manager:  20250302 exists\n",
      "- Substack manager:  20250427 exists\n",
      "- Substack manager:  20250413 exists\n",
      "- Substack manager:  20250420 exists\n",
      "- Substack manager:  20250511 exists\n",
      "- Substack manager:  20250309 exists\n",
      "- Substack manager:  20250504 exists\n",
      "- Substack manager:  20250518 saved\n",
      "# Saving links from the substack pages\n",
      "-  f7831b6c009e52aafb0bb1038a363109 saved.\n",
      "-  a502d071e94b19f24b5f4da9fd0b0478 saved.\n",
      "-  267f911762a6190163bdc2caa3490748 saved.\n",
      "-  07005d650133e030a360d7dd67c68a1f saved.\n",
      "-  6e6fd35db9a997d30ff93c9e4ab9cca1 saved.\n"
     ]
    }
   ],
   "source": [
    "sm.getPages() # 25seconds"
   ]
  },
  {
   "cell_type": "code",
   "execution_count": 5,
   "metadata": {},
   "outputs": [],
   "source": [
    "# Let's initialise our AI and our futurist\n",
    "llm = LLM(datastore=\"data/\")\n",
    "f = Futurist(llm)"
   ]
  },
  {
   "cell_type": "code",
   "execution_count": 6,
   "metadata": {},
   "outputs": [
    {
     "name": "stdout",
     "output_type": "stream",
     "text": [
      "# Doing get_weaksignals processing\n",
      "IDs identifiees \t 2665 \t get_weaksignals\n",
      "--- Function call:\t 2025-05-18 17:45:09\n",
      "# Doing get_summary processing\n",
      "IDs identifiees \t 2666 \t get_summary\n",
      "# Doing get_emergingissues processing\n",
      "IDs identifiees \t 2666 \t get_emergingissues\n",
      "# Doing get_emergingtechnologies processing\n",
      "IDs identifiees \t 2664 \t get_emergingtechnologies\n",
      "--- Function call:\t 2025-05-18 17:45:19\n",
      "--- Function call:\t 2025-05-18 17:45:20\n",
      "# Doing get_emergingbehaviors processing\n",
      "IDs identifiees \t 2666 \t get_emergingbehaviors\n",
      "# Doing get_emergingconcerns processing\n",
      "IDs identifiees \t 2666 \t get_emergingconcerns\n",
      "# Doing metas processing\n"
     ]
    },
    {
     "data": {
      "text/html": [
       "<div>\n",
       "<style scoped>\n",
       "    .dataframe tbody tr th:only-of-type {\n",
       "        vertical-align: middle;\n",
       "    }\n",
       "\n",
       "    .dataframe tbody tr th {\n",
       "        vertical-align: top;\n",
       "    }\n",
       "\n",
       "    .dataframe thead th {\n",
       "        text-align: right;\n",
       "    }\n",
       "</style>\n",
       "<table border=\"1\" class=\"dataframe\">\n",
       "  <thead>\n",
       "    <tr style=\"text-align: right;\">\n",
       "      <th></th>\n",
       "      <th>type</th>\n",
       "      <th>themes</th>\n",
       "      <th>category</th>\n",
       "      <th>keywords</th>\n",
       "      <th>src</th>\n",
       "      <th>path</th>\n",
       "      <th>url</th>\n",
       "      <th>content</th>\n",
       "      <th>LEN</th>\n",
       "      <th>origin</th>\n",
       "    </tr>\n",
       "  </thead>\n",
       "  <tbody>\n",
       "    <tr>\n",
       "      <th>0</th>\n",
       "      <td>blog post</td>\n",
       "      <td>sinkhole, sewer inspection, drone technology, ...</td>\n",
       "      <td>infrastructures</td>\n",
       "      <td>Fraser, Michigan, sinkhole, sewer, drone, insp...</td>\n",
       "      <td>28bac8b91bfd9b9da233b9f828cd5220</td>\n",
       "      <td>./substack_cache/substack/20250511</td>\n",
       "      <td>b'https://www.wired.com/story/poop-drones-are-...</td>\n",
       "      <td>On the morning of Christmas Eve 2016, resident...</td>\n",
       "      <td>7388</td>\n",
       "      <td>7388.0</td>\n",
       "    </tr>\n",
       "    <tr>\n",
       "      <th>1</th>\n",
       "      <td>blog post</td>\n",
       "      <td>AI, technology, ethics, job market, environmen...</td>\n",
       "      <td>technology</td>\n",
       "      <td>AI resistance, environmental concerns, job mar...</td>\n",
       "      <td>d6b9f82c326ceb5994d94d5d5d68f0ee</td>\n",
       "      <td>drafts/20250601d.md</td>\n",
       "      <td>b'https://www.bbc.com/news/articles/c15q5qzdjqxo'</td>\n",
       "      <td>The people refusing to use AI\\nNothing has con...</td>\n",
       "      <td>5242</td>\n",
       "      <td>5242.0</td>\n",
       "    </tr>\n",
       "    <tr>\n",
       "      <th>2</th>\n",
       "      <td>blog post</td>\n",
       "      <td>efficiency, innovation, creativity, curiosity,...</td>\n",
       "      <td>others</td>\n",
       "      <td>productivity, exploration, childlike wonder, a...</td>\n",
       "      <td>b08992d0830a341605227920fa7a3a45</td>\n",
       "      <td>drafts/20250601d.md</td>\n",
       "      <td>b'https://www.leadingsapiens.com/leonardo-da-v...</td>\n",
       "      <td>Modern organizations worship at the altar of e...</td>\n",
       "      <td>15148</td>\n",
       "      <td>15148.0</td>\n",
       "    </tr>\n",
       "    <tr>\n",
       "      <th>3</th>\n",
       "      <td>blog post</td>\n",
       "      <td>philosophie,hypnocratie,manipulation de la con...</td>\n",
       "      <td>science</td>\n",
       "      <td>Apolline Guillot,Jianwei Xun,intelligence arti...</td>\n",
       "      <td>765d35585e856e908f95ba2ef2d2c222</td>\n",
       "      <td>drafts/20250601d.md</td>\n",
       "      <td>b'https://www.philonomist.com/fr/article/hypno...</td>\n",
       "      <td>Et si nous étions les cobayes d’une expérience...</td>\n",
       "      <td>13364</td>\n",
       "      <td>13364.0</td>\n",
       "    </tr>\n",
       "    <tr>\n",
       "      <th>4</th>\n",
       "      <td>news</td>\n",
       "      <td>catholic church, child abuse, law, religious f...</td>\n",
       "      <td>politics</td>\n",
       "      <td>Washington state, excommunication, confession,...</td>\n",
       "      <td>f8cff4ea59965b635525b0610b078877</td>\n",
       "      <td>drafts/20250601d.md</td>\n",
       "      <td>b'https://www.newsweek.com/catholic-church-exc...</td>\n",
       "      <td>🎙️ Voice is AI-generated. Inconsistencies may ...</td>\n",
       "      <td>6201</td>\n",
       "      <td>6201.0</td>\n",
       "    </tr>\n",
       "    <tr>\n",
       "      <th>...</th>\n",
       "      <td>...</td>\n",
       "      <td>...</td>\n",
       "      <td>...</td>\n",
       "      <td>...</td>\n",
       "      <td>...</td>\n",
       "      <td>...</td>\n",
       "      <td>...</td>\n",
       "      <td>...</td>\n",
       "      <td>...</td>\n",
       "      <td>...</td>\n",
       "    </tr>\n",
       "    <tr>\n",
       "      <th>2731</th>\n",
       "      <td>research article</td>\n",
       "      <td>robotics, neuroscience, human augmentation, br...</td>\n",
       "      <td>science</td>\n",
       "      <td>robotic limbs, brain control, human enhancemen...</td>\n",
       "      <td>faad51d1f885af1db9dee5e5ce52b46e</td>\n",
       "      <td>./substack_cache/substack/20230205</td>\n",
       "      <td>b'https://spectrum.ieee.org/human-augmentation'</td>\n",
       "      <td>Roboticists Want to Give You a Third Arm\\nUnus...</td>\n",
       "      <td>18549</td>\n",
       "      <td>20230205</td>\n",
       "    </tr>\n",
       "    <tr>\n",
       "      <th>2732</th>\n",
       "      <td>error message</td>\n",
       "      <td>404 error, website navigation</td>\n",
       "      <td>others</td>\n",
       "      <td>404, error, not found, navigation</td>\n",
       "      <td>a98477873581dec082fb879c3f7904e1</td>\n",
       "      <td>./substack_cache/substack/20230205</td>\n",
       "      <td>b'https://metaphysic.ai/ai-hollywood-miramax-h...</td>\n",
       "      <td>404\\nGo back home</td>\n",
       "      <td>16</td>\n",
       "      <td>20230205</td>\n",
       "    </tr>\n",
       "    <tr>\n",
       "      <th>2733</th>\n",
       "      <td>news</td>\n",
       "      <td>AI, machine learning, data scarcity, technolog...</td>\n",
       "      <td>technology</td>\n",
       "      <td>AI chatbots, training data, machine learning, ...</td>\n",
       "      <td>85ca2591053db7e76f0d273c63fee1b0</td>\n",
       "      <td>./substack_cache/substack/20230205</td>\n",
       "      <td>b'https://www.newscientist.com/article/2353751...</td>\n",
       "      <td>AI chatbots could hit a ceiling after 2026 as ...</td>\n",
       "      <td>660</td>\n",
       "      <td>20230205</td>\n",
       "    </tr>\n",
       "    <tr>\n",
       "      <th>2734</th>\n",
       "      <td>article</td>\n",
       "      <td>automotive industry, corporate fraud, short se...</td>\n",
       "      <td>technology</td>\n",
       "      <td>Nikola, Trevor Milton, Hindenburg Research, co...</td>\n",
       "      <td>fcd0d8f2b79472618822acb86fccea35</td>\n",
       "      <td>./substack_cache/substack/20230205</td>\n",
       "      <td>b'https://nymag.com/intelligencer/2022/01/nath...</td>\n",
       "      <td>This article was featured in One Great Story, ...</td>\n",
       "      <td>39810</td>\n",
       "      <td>20230205</td>\n",
       "    </tr>\n",
       "    <tr>\n",
       "      <th>2735</th>\n",
       "      <td>blog post</td>\n",
       "      <td>paper maps, digital navigation, millennials, g...</td>\n",
       "      <td>technology</td>\n",
       "      <td>paper maps, Google Maps, navigation, millennia...</td>\n",
       "      <td>70c5542aafd26bb4b293f2bfaa80c61d</td>\n",
       "      <td>./substack_cache/substack/20230205</td>\n",
       "      <td>b'https://www.wsj.com/articles/why-paper-map-s...</td>\n",
       "      <td>Forget Google Maps: Why Paper Map Sales Are Bo...</td>\n",
       "      <td>1090</td>\n",
       "      <td>20230205</td>\n",
       "    </tr>\n",
       "  </tbody>\n",
       "</table>\n",
       "<p>2736 rows × 10 columns</p>\n",
       "</div>"
      ],
      "text/plain": [
       "                  type                                             themes  \\\n",
       "0            blog post  sinkhole, sewer inspection, drone technology, ...   \n",
       "1            blog post  AI, technology, ethics, job market, environmen...   \n",
       "2            blog post  efficiency, innovation, creativity, curiosity,...   \n",
       "3            blog post  philosophie,hypnocratie,manipulation de la con...   \n",
       "4                 news  catholic church, child abuse, law, religious f...   \n",
       "...                ...                                                ...   \n",
       "2731  research article  robotics, neuroscience, human augmentation, br...   \n",
       "2732     error message                      404 error, website navigation   \n",
       "2733              news  AI, machine learning, data scarcity, technolog...   \n",
       "2734           article  automotive industry, corporate fraud, short se...   \n",
       "2735         blog post  paper maps, digital navigation, millennials, g...   \n",
       "\n",
       "             category                                           keywords  \\\n",
       "0     infrastructures  Fraser, Michigan, sinkhole, sewer, drone, insp...   \n",
       "1          technology  AI resistance, environmental concerns, job mar...   \n",
       "2              others  productivity, exploration, childlike wonder, a...   \n",
       "3             science  Apolline Guillot,Jianwei Xun,intelligence arti...   \n",
       "4            politics  Washington state, excommunication, confession,...   \n",
       "...               ...                                                ...   \n",
       "2731          science  robotic limbs, brain control, human enhancemen...   \n",
       "2732           others                  404, error, not found, navigation   \n",
       "2733       technology  AI chatbots, training data, machine learning, ...   \n",
       "2734       technology  Nikola, Trevor Milton, Hindenburg Research, co...   \n",
       "2735       technology  paper maps, Google Maps, navigation, millennia...   \n",
       "\n",
       "                                   src                                path  \\\n",
       "0     28bac8b91bfd9b9da233b9f828cd5220  ./substack_cache/substack/20250511   \n",
       "1     d6b9f82c326ceb5994d94d5d5d68f0ee                 drafts/20250601d.md   \n",
       "2     b08992d0830a341605227920fa7a3a45                 drafts/20250601d.md   \n",
       "3     765d35585e856e908f95ba2ef2d2c222                 drafts/20250601d.md   \n",
       "4     f8cff4ea59965b635525b0610b078877                 drafts/20250601d.md   \n",
       "...                                ...                                 ...   \n",
       "2731  faad51d1f885af1db9dee5e5ce52b46e  ./substack_cache/substack/20230205   \n",
       "2732  a98477873581dec082fb879c3f7904e1  ./substack_cache/substack/20230205   \n",
       "2733  85ca2591053db7e76f0d273c63fee1b0  ./substack_cache/substack/20230205   \n",
       "2734  fcd0d8f2b79472618822acb86fccea35  ./substack_cache/substack/20230205   \n",
       "2735  70c5542aafd26bb4b293f2bfaa80c61d  ./substack_cache/substack/20230205   \n",
       "\n",
       "                                                    url  \\\n",
       "0     b'https://www.wired.com/story/poop-drones-are-...   \n",
       "1     b'https://www.bbc.com/news/articles/c15q5qzdjqxo'   \n",
       "2     b'https://www.leadingsapiens.com/leonardo-da-v...   \n",
       "3     b'https://www.philonomist.com/fr/article/hypno...   \n",
       "4     b'https://www.newsweek.com/catholic-church-exc...   \n",
       "...                                                 ...   \n",
       "2731    b'https://spectrum.ieee.org/human-augmentation'   \n",
       "2732  b'https://metaphysic.ai/ai-hollywood-miramax-h...   \n",
       "2733  b'https://www.newscientist.com/article/2353751...   \n",
       "2734  b'https://nymag.com/intelligencer/2022/01/nath...   \n",
       "2735  b'https://www.wsj.com/articles/why-paper-map-s...   \n",
       "\n",
       "                                                content    LEN    origin  \n",
       "0     On the morning of Christmas Eve 2016, resident...   7388    7388.0  \n",
       "1     The people refusing to use AI\\nNothing has con...   5242    5242.0  \n",
       "2     Modern organizations worship at the altar of e...  15148   15148.0  \n",
       "3     Et si nous étions les cobayes d’une expérience...  13364   13364.0  \n",
       "4     🎙️ Voice is AI-generated. Inconsistencies may ...   6201    6201.0  \n",
       "...                                                 ...    ...       ...  \n",
       "2731  Roboticists Want to Give You a Third Arm\\nUnus...  18549  20230205  \n",
       "2732                                  404\\nGo back home     16  20230205  \n",
       "2733  AI chatbots could hit a ceiling after 2026 as ...    660  20230205  \n",
       "2734  This article was featured in One Great Story, ...  39810  20230205  \n",
       "2735  Forget Google Maps: Why Paper Map Sales Are Bo...   1090  20230205  \n",
       "\n",
       "[2736 rows x 10 columns]"
      ]
     },
     "execution_count": 6,
     "metadata": {},
     "output_type": "execute_result"
    }
   ],
   "source": [
    "nb_articles = 30000\n",
    "# Creating seeds\n",
    "f.createSeeds(n=nb_articles)\n",
    "# Creating metas\n",
    "f.moreIntel(n=nb_articles)\n",
    "# Creating metas\n",
    "f.doMeta(n=nb_articles)"
   ]
  },
  {
   "cell_type": "code",
   "execution_count": 7,
   "metadata": {},
   "outputs": [
    {
     "name": "stdout",
     "output_type": "stream",
     "text": [
      "# Doing get_emergingconcerns processing\n",
      "IDs identifiees \t 2666 \t get_emergingconcerns\n"
     ]
    }
   ],
   "source": [
    "f.doProcessing(category=\"get_emergingconcerns\", minL=1500, maxL=30000, n=30000)"
   ]
  },
  {
   "cell_type": "code",
   "execution_count": 8,
   "metadata": {},
   "outputs": [
    {
     "name": "stdout",
     "output_type": "stream",
     "text": [
      "# Writing stories for ['20250518']\n",
      "- Doing story for 20250518\n",
      "--- gpt-4o-mini:\t 2025-05-18 17:45:40\n",
      "--- gpt-4o-mini:\t 2025-05-18 17:45:40\n"
     ]
    }
   ],
   "source": [
    "f.writeAllStories()"
   ]
  },
  {
   "cell_type": "markdown",
   "metadata": {},
   "source": [
    "# Using the vectorDB"
   ]
  },
  {
   "cell_type": "code",
   "execution_count": 9,
   "metadata": {},
   "outputs": [
    {
     "name": "stdout",
     "output_type": "stream",
     "text": [
      "client=<openai.resources.embeddings.Embeddings object at 0x75645e134d30> async_client=<openai.resources.embeddings.AsyncEmbeddings object at 0x75645c21d270> model='text-embedding-ada-002' dimensions=None deployment='text-embedding-ada-002' openai_api_version=None openai_api_base=None openai_api_type=None openai_proxy=None embedding_ctx_length=8191 openai_api_key=SecretStr('**********') openai_organization=None allowed_special=None disallowed_special=None chunk_size=1000 max_retries=2 request_timeout=None headers=None tiktoken_enabled=True tiktoken_model_name=None show_progress_bar=False model_kwargs={} skip_empty=False default_headers=None default_query=None retry_min_seconds=4 retry_max_seconds=20 http_client=None http_async_client=None check_embedding_ctx_length=True\n"
     ]
    }
   ],
   "source": [
    "db= DB(llm)"
   ]
  },
  {
   "cell_type": "code",
   "execution_count": 10,
   "metadata": {},
   "outputs": [
    {
     "name": "stdout",
     "output_type": "stream",
     "text": [
      "# VectorDB: continue on the DB\n",
      "- VectorDB:  3512 elements already stored.\n",
      "- VectorDB: adding 2666 documents.\n"
     ]
    }
   ],
   "source": [
    "vectordb = db.createDB()"
   ]
  },
  {
   "cell_type": "code",
   "execution_count": 11,
   "metadata": {},
   "outputs": [],
   "source": [
    "from futures.pages import PagesWriter"
   ]
  },
  {
   "cell_type": "code",
   "execution_count": 12,
   "metadata": {},
   "outputs": [],
   "source": [
    "pw = PagesWriter(db=db)"
   ]
  },
  {
   "cell_type": "code",
   "execution_count": 13,
   "metadata": {},
   "outputs": [],
   "source": [
    "df, signals = pw.createPages_metaPrep(longtest=False)"
   ]
  },
  {
   "cell_type": "code",
   "execution_count": 14,
   "metadata": {},
   "outputs": [],
   "source": [
    "pw.createPages()\n",
    "pw.createPagesIndex()"
   ]
  },
  {
   "cell_type": "markdown",
   "metadata": {},
   "source": [
    "# Stories"
   ]
  },
  {
   "cell_type": "code",
   "execution_count": 15,
   "metadata": {},
   "outputs": [],
   "source": [
    "# Doing the imports\n",
    "from futures.llm import LLM\n",
    "from futures.futurist import Futurist\n",
    "# Let's initialise our AI and our futurist\n",
    "llm = LLM(datastore=\"data/\")\n",
    "f = Futurist(llm)"
   ]
  },
  {
   "cell_type": "code",
   "execution_count": 16,
   "metadata": {},
   "outputs": [
    {
     "data": {
      "text/html": [
       "<div>\n",
       "<style scoped>\n",
       "    .dataframe tbody tr th:only-of-type {\n",
       "        vertical-align: middle;\n",
       "    }\n",
       "\n",
       "    .dataframe tbody tr th {\n",
       "        vertical-align: top;\n",
       "    }\n",
       "\n",
       "    .dataframe thead th {\n",
       "        text-align: right;\n",
       "    }\n",
       "</style>\n",
       "<table border=\"1\" class=\"dataframe\">\n",
       "  <thead>\n",
       "    <tr style=\"text-align: right;\">\n",
       "      <th></th>\n",
       "      <th>src</th>\n",
       "      <th>title</th>\n",
       "      <th>story</th>\n",
       "    </tr>\n",
       "  </thead>\n",
       "  <tbody>\n",
       "    <tr>\n",
       "      <th>0</th>\n",
       "      <td>20250302</td>\n",
       "      <td>The Pickle Revolution</td>\n",
       "      <td>The last vestiges of human touch in the sprawl...</td>\n",
       "    </tr>\n",
       "    <tr>\n",
       "      <th>1</th>\n",
       "      <td>20250223</td>\n",
       "      <td>Threads of Tomorrow</td>\n",
       "      <td>The air hummed with the promises of the future...</td>\n",
       "    </tr>\n",
       "    <tr>\n",
       "      <th>2</th>\n",
       "      <td>20230927</td>\n",
       "      <td>Navigating the Jangled Nexus</td>\n",
       "      <td>“The AI consultant was three seconds away from...</td>\n",
       "    </tr>\n",
       "    <tr>\n",
       "      <th>3</th>\n",
       "      <td>20230612</td>\n",
       "      <td>Harvesting Bytes in Snailbrook</td>\n",
       "      <td>In Snailbrook, Texas—a quaint town, where peop...</td>\n",
       "    </tr>\n",
       "    <tr>\n",
       "      <th>4</th>\n",
       "      <td>20230616</td>\n",
       "      <td>Chaotic Symphony of the Green</td>\n",
       "      <td>In a world where digital landscapes blurred th...</td>\n",
       "    </tr>\n",
       "    <tr>\n",
       "      <th>...</th>\n",
       "      <td>...</td>\n",
       "      <td>...</td>\n",
       "      <td>...</td>\n",
       "    </tr>\n",
       "    <tr>\n",
       "      <th>154</th>\n",
       "      <td>20250504</td>\n",
       "      <td>The Illusion of Escape</td>\n",
       "      <td>The streets of Los Angeles were teeming with t...</td>\n",
       "    </tr>\n",
       "    <tr>\n",
       "      <th>155</th>\n",
       "      <td>20250427</td>\n",
       "      <td>Digital Parrots and Copper Dreams</td>\n",
       "      <td>In the bustling heart of downtown, the city th...</td>\n",
       "    </tr>\n",
       "    <tr>\n",
       "      <th>156</th>\n",
       "      <td>20250601d</td>\n",
       "      <td>Chewing on the Future</td>\n",
       "      <td>In the not-so-distant future, a small town was...</td>\n",
       "    </tr>\n",
       "    <tr>\n",
       "      <th>157</th>\n",
       "      <td>20250511</td>\n",
       "      <td>Crater of Reflections</td>\n",
       "      <td>As I stood at the edge of the crater, the comm...</td>\n",
       "    </tr>\n",
       "    <tr>\n",
       "      <th>158</th>\n",
       "      <td>20250518</td>\n",
       "      <td>Whispers of the Oak</td>\n",
       "      <td>In a quaint suburb where lawn gnomes outnumber...</td>\n",
       "    </tr>\n",
       "  </tbody>\n",
       "</table>\n",
       "<p>159 rows × 3 columns</p>\n",
       "</div>"
      ],
      "text/plain": [
       "           src                              title  \\\n",
       "0     20250302              The Pickle Revolution   \n",
       "1     20250223                Threads of Tomorrow   \n",
       "2     20230927       Navigating the Jangled Nexus   \n",
       "3     20230612     Harvesting Bytes in Snailbrook   \n",
       "4     20230616      Chaotic Symphony of the Green   \n",
       "..         ...                                ...   \n",
       "154   20250504             The Illusion of Escape   \n",
       "155   20250427  Digital Parrots and Copper Dreams   \n",
       "156  20250601d              Chewing on the Future   \n",
       "157   20250511              Crater of Reflections   \n",
       "158   20250518                Whispers of the Oak   \n",
       "\n",
       "                                                 story  \n",
       "0    The last vestiges of human touch in the sprawl...  \n",
       "1    The air hummed with the promises of the future...  \n",
       "2    “The AI consultant was three seconds away from...  \n",
       "3    In Snailbrook, Texas—a quaint town, where peop...  \n",
       "4    In a world where digital landscapes blurred th...  \n",
       "..                                                 ...  \n",
       "154  The streets of Los Angeles were teeming with t...  \n",
       "155  In the bustling heart of downtown, the city th...  \n",
       "156  In the not-so-distant future, a small town was...  \n",
       "157  As I stood at the edge of the crater, the comm...  \n",
       "158  In a quaint suburb where lawn gnomes outnumber...  \n",
       "\n",
       "[159 rows x 3 columns]"
      ]
     },
     "execution_count": 16,
     "metadata": {},
     "output_type": "execute_result"
    }
   ],
   "source": [
    "import pandas as pd\n",
    "pd.read_parquet(\"data/stories.parquet.gzip\")"
   ]
  },
  {
   "cell_type": "code",
   "execution_count": 17,
   "metadata": {},
   "outputs": [],
   "source": [
    "f.writeAllStories()"
   ]
  },
  {
   "cell_type": "code",
   "execution_count": 18,
   "metadata": {},
   "outputs": [
    {
     "name": "stdout",
     "output_type": "stream",
     "text": [
      "## Chewing on the Future\n",
      "\n",
      "In the not-so-distant future, a small town was set to witness a remarkable unveiling at a health expo: a chewing gum that could outsmart viruses, like a clever child tricking an adult into giving them candy. Scientists from distant lands had concocted this miraculous substance from the humble lablab bean, claiming it could neutralize influenza and herpes far better than any medicine, or at least that’s how it played out in the colorful brochures.^1 \n",
      "\n",
      "Maggie, a community college professor, eyed the gum with skepticism. As her students increasingly submitted assignments that were either penned by AIs or sounded suspiciously like they’d been regurgitated from a bot’s malfunctioning memory bank, she’d learned to be cautious. Those crafty little digital pests were now enrolling in her classes, swiping financial aid^2 like candy from a baby. “Isn’t it ironic,” she mused while clutching a packet of this promised viral repellent, “that we’re teaching real students while pretending to educate these cyber-ghosts?” \n",
      "\n",
      "But the gum was just one spectacle in a swirling sea of futuristic predictions. The Future Today Strategy Group (abbreviated as FTSG for those who realized ‘future today’ was an oxymoron) had launched its grand annual report, where it revealed the rise of metamaterials and neurosecurity, infiltrating the very fabric of society (making one wonder if one’s thoughts were truly one’s own).^3 Most folks were more concerned about the quantum sensors being prepped for launch into space – apparently, they could detect the weight of a feather in an earthquake, or so claimed the bright-eyed engineers.^4 \n",
      "\n",
      "In the midst of all this, Leonard, an enthusiastic neuroengineer, somehow found the time to blend ancient philosophies with cutting-edge technology. He was convinced he could harness quantum principles to keep neuroimplants safe from – dare I say – cognitive attacks operated by some shadowy organization aiming to manipulate the minds of humanity. “Why worry about a virus in your body,” he quipped during a presentation at the expo, “when a bot could hijack your brain’s operating system?”^5 \n",
      "\n",
      "Maggie, in classic form, couldn’t resist poking the nest of serious contemplation. “Not to dampen the spirit, Leonard, but isn’t it all a bit like putting lipstick on a bot? I mean, we’re so focused on securing our minds we forget to secure our edges. Who's to say we aren’t already in the grips of ‘Hypnocracy’?”^6 \n",
      "\n",
      "Just then, their conversation was interrupted by a flicker of alarm on her wristband – a personal quantum gravity gradiometer, courtesy of her tech-savvy neighbor. “We need to move. They’re measuring disturbances in consciousness.” He pointed toward the crowd swirling around the gum stall. \n",
      "\n",
      "Confusion created a wave of energy that seized the expo as more and more people tearfully submitted themselves to the gum, desperate for its viral defense – and perhaps in that moment, a false sense of security against the creeping realization that reality was as washboarded as their own perspectives. What she saw was more than just a health solution; it was a reflection of her generation’s thirst for certainty in a world that demanded pliability.\n",
      "\n",
      "As she gazed into the mass of humanity, lining up to chew their way to safety, she wondered if future innovations could ever replace the genuine experience of feeling – a realm not calculated but lived.\n",
      "\n",
      "But beneath that existential dread lay a glimmer of hope. Just as da Vinci had reminded humankind about the beauty of curiosity during his time, perhaps this era needed a touch of imaginative, imperfect engagement too – and really, who could argue about the importance of a good piece of gum? \n",
      "\n",
      "The expo buzzed on, a tapestry of innovation, confusion, and at the heart of it, a question: in a world saturated with advanced technologies, was it even feasible to protect the beautiful messiness of human experience? ^7 \n",
      "\n",
      "____\n",
      "\n",
      "^1 If it sounds too good to be true, it probably is, but let’s not rain on the gum parade just yet.  \n",
      "^2 Because what’s better than fraud? *Fraud with a side of tuition debt.  \n",
      "^3 Note to self: While convenience is key, sometimes the journey is a greater teacher than the destination.  \n",
      "^4 One can only admire the feather's audacity to demand representation, really.  \n",
      "^5 If only one could stake a claim to their thoughts at birth, right?  \n",
      "^6 ‘Hypnocracy’ makes for a compelling novel, but not so comfortable dinner conversation.  \n",
      "^7 Spoiler alert: it's not neat, it's life – chaos and all.\n"
     ]
    }
   ],
   "source": [
    "print(f.getStory(\"20250601d\"))"
   ]
  }
 ],
 "metadata": {
  "kernelspec": {
   "display_name": ".venv",
   "language": "python",
   "name": "python3"
  },
  "language_info": {
   "codemirror_mode": {
    "name": "ipython",
    "version": 3
   },
   "file_extension": ".py",
   "mimetype": "text/x-python",
   "name": "python",
   "nbconvert_exporter": "python",
   "pygments_lexer": "ipython3",
   "version": "3.10.12"
  }
 },
 "nbformat": 4,
 "nbformat_minor": 4
}
