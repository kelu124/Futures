{
 "cells": [
  {
   "cell_type": "code",
   "execution_count": 16,
   "metadata": {},
   "outputs": [],
   "source": [
    "%load_ext autoreload\n",
    "%autoreload 2"
   ]
  },
  {
   "cell_type": "code",
   "execution_count": 17,
   "metadata": {},
   "outputs": [],
   "source": [
    "from futures.llm import LLM\n",
    "from futures.futurist import Futurist\n",
    "from futures.db import DB\n",
    "from futures.substack import SubstackManager\n",
    " "
   ]
  },
  {
   "cell_type": "code",
   "execution_count": 2,
   "metadata": {},
   "outputs": [],
   "source": [
    "sm = SubstackManager()"
   ]
  },
  {
   "cell_type": "code",
   "execution_count": 3,
   "metadata": {},
   "outputs": [],
   "source": [
    "pages = sm.download_pages()"
   ]
  },
  {
   "cell_type": "code",
   "execution_count": 4,
   "metadata": {},
   "outputs": [
    {
     "name": "stdout",
     "output_type": "stream",
     "text": [
      "# Substack manager starts\n",
      "- Substack manager:  20250309 saved\n",
      "- Substack manager:  20250216 exists\n",
      "- Substack manager:  20250202 exists\n",
      "- Substack manager:  20241222 exists\n",
      "- Substack manager:  20250105 exists\n",
      "- Substack manager:  20250112 exists\n",
      "- Substack manager:  20241229 exists\n",
      "- Substack manager:  20250119 exists\n",
      "- Substack manager:  20250126 exists\n",
      "- Substack manager:  20250223 exists\n",
      "- Substack manager:  20250302 exists\n",
      "- Substack manager:  20250209 exists\n",
      "# Saving links from the substack pages\n",
      "-  5b4a04a58b917709575e82036d891289 saved.\n",
      "-  2567686a7ae78bb79462101adefd1ac0 saved.\n",
      "-  cad03d4f3487b116a0af74cc82e70974 saved.\n",
      "-  c3e6ac3d2c8dcccbff885b74128c5536 saved.\n",
      "-  40d77037959c01f51cbdb8acf8dfdf8b saved.\n"
     ]
    }
   ],
   "source": [
    "sm.getPages() # 25seconds"
   ]
  },
  {
   "cell_type": "code",
   "execution_count": 5,
   "metadata": {},
   "outputs": [],
   "source": [
    "# Let's initialise our AI and our futurist\n",
    "llm = LLM(datastore=\"data/\")\n",
    "f = Futurist(llm)"
   ]
  },
  {
   "cell_type": "code",
   "execution_count": 6,
   "metadata": {},
   "outputs": [
    {
     "name": "stdout",
     "output_type": "stream",
     "text": [
      "# Doing get_weaksignals processing\n",
      "IDs identifiees \t 2457 \t get_weaksignals\n",
      "--- Function call:\t 2025-03-14 20:09:23\n",
      "--- Function call:\t 2025-03-14 20:09:31\n",
      "--- Function call:\t 2025-03-14 20:09:38\n",
      "--- Function call:\t 2025-03-14 20:09:45\n",
      "--- Function call:\t 2025-03-14 20:09:46\n",
      "# Doing get_summary processing\n",
      "IDs identifiees \t 2458 \t get_summary\n",
      "--- Function call:\t 2025-03-14 20:09:53\n",
      "--- Function call:\t 2025-03-14 20:09:56\n",
      "--- Function call:\t 2025-03-14 20:09:59\n",
      "--- Function call:\t 2025-03-14 20:10:01\n",
      "# Doing get_emergingissues processing\n",
      "IDs identifiees \t 2458 \t get_emergingissues\n",
      "--- Function call:\t 2025-03-14 20:10:12\n",
      "--- Function call:\t 2025-03-14 20:10:16\n",
      "--- Function call:\t 2025-03-14 20:10:25\n",
      "--- Function call:\t 2025-03-14 20:10:29\n",
      "# Doing get_emergingtechnologies processing\n",
      "IDs identifiees \t 2456 \t get_emergingtechnologies\n",
      "--- Function call:\t 2025-03-14 20:10:37\n",
      "--- Function call:\t 2025-03-14 20:10:40\n",
      "--- Function call:\t 2025-03-14 20:10:46\n",
      "--- Function call:\t 2025-03-14 20:10:48\n",
      "--- Function call:\t 2025-03-14 20:10:49\n",
      "--- Function call:\t 2025-03-14 20:10:49\n",
      "# Doing get_emergingbehaviors processing\n",
      "IDs identifiees \t 2458 \t get_emergingbehaviors\n",
      "--- Function call:\t 2025-03-14 20:10:56\n",
      "--- Function call:\t 2025-03-14 20:11:00\n",
      "--- Function call:\t 2025-03-14 20:11:05\n",
      "--- Function call:\t 2025-03-14 20:11:07\n",
      "# Doing get_emergingconcerns processing\n",
      "IDs identifiees \t 2458 \t get_emergingconcerns\n",
      "--- Function call:\t 2025-03-14 20:11:15\n",
      "--- Function call:\t 2025-03-14 20:11:20\n",
      "--- Function call:\t 2025-03-14 20:11:24\n",
      "--- Function call:\t 2025-03-14 20:11:29\n",
      "# Doing metas processing\n",
      "--- Function call:\t 2025-03-14 20:11:36\n",
      "--- Function call:\t 2025-03-14 20:11:38\n",
      "--- Function call:\t 2025-03-14 20:11:39\n",
      "--- Function call:\t 2025-03-14 20:11:41\n"
     ]
    },
    {
     "data": {
      "text/html": [
       "<div>\n",
       "<style scoped>\n",
       "    .dataframe tbody tr th:only-of-type {\n",
       "        vertical-align: middle;\n",
       "    }\n",
       "\n",
       "    .dataframe tbody tr th {\n",
       "        vertical-align: top;\n",
       "    }\n",
       "\n",
       "    .dataframe thead th {\n",
       "        text-align: right;\n",
       "    }\n",
       "</style>\n",
       "<table border=\"1\" class=\"dataframe\">\n",
       "  <thead>\n",
       "    <tr style=\"text-align: right;\">\n",
       "      <th></th>\n",
       "      <th>type</th>\n",
       "      <th>themes</th>\n",
       "      <th>category</th>\n",
       "      <th>keywords</th>\n",
       "      <th>src</th>\n",
       "      <th>path</th>\n",
       "      <th>url</th>\n",
       "      <th>content</th>\n",
       "      <th>LEN</th>\n",
       "      <th>origin</th>\n",
       "    </tr>\n",
       "  </thead>\n",
       "  <tbody>\n",
       "    <tr>\n",
       "      <th>0</th>\n",
       "      <td>news</td>\n",
       "      <td>biological computer,AI technology,neural netwo...</td>\n",
       "      <td>science</td>\n",
       "      <td>Cortical Labs,CL1,Synthetic Biological Intelli...</td>\n",
       "      <td>c3e6ac3d2c8dcccbff885b74128c5536</td>\n",
       "      <td>./substack_cache/substack/20250309</td>\n",
       "      <td>b'https://newatlas.com/brain/cortical-bioengin...</td>\n",
       "      <td>The world's first \"biological computer\" that f...</td>\n",
       "      <td>15347</td>\n",
       "      <td>15347.0</td>\n",
       "    </tr>\n",
       "    <tr>\n",
       "      <th>1</th>\n",
       "      <td>news</td>\n",
       "      <td>air quality, environmental monitoring, public ...</td>\n",
       "      <td>science</td>\n",
       "      <td>US, air quality data, embassies, public health...</td>\n",
       "      <td>2567686a7ae78bb79462101adefd1ac0</td>\n",
       "      <td>./substack_cache/substack/20250309</td>\n",
       "      <td>b'https://apnews.com/article/us-air-quality-mo...</td>\n",
       "      <td>Scientists raise concerns as the US stops shar...</td>\n",
       "      <td>5375</td>\n",
       "      <td>5375.0</td>\n",
       "    </tr>\n",
       "    <tr>\n",
       "      <th>2</th>\n",
       "      <td>news</td>\n",
       "      <td>données, géolocalisation, sécurité, vie privée...</td>\n",
       "      <td>politics</td>\n",
       "      <td>téléphones, data brokers, tracking, sécurité n...</td>\n",
       "      <td>5b4a04a58b917709575e82036d891289</td>\n",
       "      <td>./substack_cache/substack/20250309</td>\n",
       "      <td>b'https://www.francetvinfo.fr/internet/securit...</td>\n",
       "      <td>\"Comment avez-vous eu à accès à mes données ? ...</td>\n",
       "      <td>9997</td>\n",
       "      <td>9997.0</td>\n",
       "    </tr>\n",
       "    <tr>\n",
       "      <th>3</th>\n",
       "      <td>blog post</td>\n",
       "      <td>paramilitary groups, data analysis, journalism...</td>\n",
       "      <td>politics</td>\n",
       "      <td>paramilitary leaks, DDoSecrets, Telegram chann...</td>\n",
       "      <td>40d77037959c01f51cbdb8acf8dfdf8b</td>\n",
       "      <td>./substack_cache/substack/20250309</td>\n",
       "      <td>b'https://micahflee.com/exploring-the-paramili...</td>\n",
       "      <td>Exploring the Paramilitary Leaks\\nIn January, ...</td>\n",
       "      <td>9144</td>\n",
       "      <td>9144.0</td>\n",
       "    </tr>\n",
       "    <tr>\n",
       "      <th>4</th>\n",
       "      <td>research article</td>\n",
       "      <td>Thucydides Trap, international relations, US-C...</td>\n",
       "      <td>politics</td>\n",
       "      <td>Thucydides Trap, Graham T. Allison, US-China r...</td>\n",
       "      <td>721e8e932e023d60fe7c2d8860a445fd</td>\n",
       "      <td>drafts/20250330d.md</td>\n",
       "      <td>b'https://en.wikipedia.org/wiki/Thucydides_Tra...</td>\n",
       "      <td>Thucydides Trap\\nThe Thucydides Trap, or Thucy...</td>\n",
       "      <td>21851</td>\n",
       "      <td>21851.0</td>\n",
       "    </tr>\n",
       "    <tr>\n",
       "      <th>...</th>\n",
       "      <td>...</td>\n",
       "      <td>...</td>\n",
       "      <td>...</td>\n",
       "      <td>...</td>\n",
       "      <td>...</td>\n",
       "      <td>...</td>\n",
       "      <td>...</td>\n",
       "      <td>...</td>\n",
       "      <td>...</td>\n",
       "      <td>...</td>\n",
       "    </tr>\n",
       "    <tr>\n",
       "      <th>2527</th>\n",
       "      <td>research article</td>\n",
       "      <td>robotics, neuroscience, human augmentation, br...</td>\n",
       "      <td>science</td>\n",
       "      <td>robotic limbs, brain control, human enhancemen...</td>\n",
       "      <td>faad51d1f885af1db9dee5e5ce52b46e</td>\n",
       "      <td>./substack_cache/substack/20230205</td>\n",
       "      <td>b'https://spectrum.ieee.org/human-augmentation'</td>\n",
       "      <td>Roboticists Want to Give You a Third Arm\\nUnus...</td>\n",
       "      <td>18549</td>\n",
       "      <td>20230205</td>\n",
       "    </tr>\n",
       "    <tr>\n",
       "      <th>2528</th>\n",
       "      <td>error message</td>\n",
       "      <td>404 error, website navigation</td>\n",
       "      <td>others</td>\n",
       "      <td>404, error, not found, navigation</td>\n",
       "      <td>a98477873581dec082fb879c3f7904e1</td>\n",
       "      <td>./substack_cache/substack/20230205</td>\n",
       "      <td>b'https://metaphysic.ai/ai-hollywood-miramax-h...</td>\n",
       "      <td>404\\nGo back home</td>\n",
       "      <td>16</td>\n",
       "      <td>20230205</td>\n",
       "    </tr>\n",
       "    <tr>\n",
       "      <th>2529</th>\n",
       "      <td>news</td>\n",
       "      <td>AI, machine learning, data scarcity, technolog...</td>\n",
       "      <td>technology</td>\n",
       "      <td>AI chatbots, training data, machine learning, ...</td>\n",
       "      <td>85ca2591053db7e76f0d273c63fee1b0</td>\n",
       "      <td>./substack_cache/substack/20230205</td>\n",
       "      <td>b'https://www.newscientist.com/article/2353751...</td>\n",
       "      <td>AI chatbots could hit a ceiling after 2026 as ...</td>\n",
       "      <td>660</td>\n",
       "      <td>20230205</td>\n",
       "    </tr>\n",
       "    <tr>\n",
       "      <th>2530</th>\n",
       "      <td>article</td>\n",
       "      <td>automotive industry, corporate fraud, short se...</td>\n",
       "      <td>technology</td>\n",
       "      <td>Nikola, Trevor Milton, Hindenburg Research, co...</td>\n",
       "      <td>fcd0d8f2b79472618822acb86fccea35</td>\n",
       "      <td>./substack_cache/substack/20230205</td>\n",
       "      <td>b'https://nymag.com/intelligencer/2022/01/nath...</td>\n",
       "      <td>This article was featured in One Great Story, ...</td>\n",
       "      <td>39810</td>\n",
       "      <td>20230205</td>\n",
       "    </tr>\n",
       "    <tr>\n",
       "      <th>2531</th>\n",
       "      <td>blog post</td>\n",
       "      <td>paper maps, digital navigation, millennials, g...</td>\n",
       "      <td>technology</td>\n",
       "      <td>paper maps, Google Maps, navigation, millennia...</td>\n",
       "      <td>70c5542aafd26bb4b293f2bfaa80c61d</td>\n",
       "      <td>./substack_cache/substack/20230205</td>\n",
       "      <td>b'https://www.wsj.com/articles/why-paper-map-s...</td>\n",
       "      <td>Forget Google Maps: Why Paper Map Sales Are Bo...</td>\n",
       "      <td>1090</td>\n",
       "      <td>20230205</td>\n",
       "    </tr>\n",
       "  </tbody>\n",
       "</table>\n",
       "<p>2532 rows × 10 columns</p>\n",
       "</div>"
      ],
      "text/plain": [
       "                  type                                             themes  \\\n",
       "0                 news  biological computer,AI technology,neural netwo...   \n",
       "1                 news  air quality, environmental monitoring, public ...   \n",
       "2                 news  données, géolocalisation, sécurité, vie privée...   \n",
       "3            blog post  paramilitary groups, data analysis, journalism...   \n",
       "4     research article  Thucydides Trap, international relations, US-C...   \n",
       "...                ...                                                ...   \n",
       "2527  research article  robotics, neuroscience, human augmentation, br...   \n",
       "2528     error message                      404 error, website navigation   \n",
       "2529              news  AI, machine learning, data scarcity, technolog...   \n",
       "2530           article  automotive industry, corporate fraud, short se...   \n",
       "2531         blog post  paper maps, digital navigation, millennials, g...   \n",
       "\n",
       "        category                                           keywords  \\\n",
       "0        science  Cortical Labs,CL1,Synthetic Biological Intelli...   \n",
       "1        science  US, air quality data, embassies, public health...   \n",
       "2       politics  téléphones, data brokers, tracking, sécurité n...   \n",
       "3       politics  paramilitary leaks, DDoSecrets, Telegram chann...   \n",
       "4       politics  Thucydides Trap, Graham T. Allison, US-China r...   \n",
       "...          ...                                                ...   \n",
       "2527     science  robotic limbs, brain control, human enhancemen...   \n",
       "2528      others                  404, error, not found, navigation   \n",
       "2529  technology  AI chatbots, training data, machine learning, ...   \n",
       "2530  technology  Nikola, Trevor Milton, Hindenburg Research, co...   \n",
       "2531  technology  paper maps, Google Maps, navigation, millennia...   \n",
       "\n",
       "                                   src                                path  \\\n",
       "0     c3e6ac3d2c8dcccbff885b74128c5536  ./substack_cache/substack/20250309   \n",
       "1     2567686a7ae78bb79462101adefd1ac0  ./substack_cache/substack/20250309   \n",
       "2     5b4a04a58b917709575e82036d891289  ./substack_cache/substack/20250309   \n",
       "3     40d77037959c01f51cbdb8acf8dfdf8b  ./substack_cache/substack/20250309   \n",
       "4     721e8e932e023d60fe7c2d8860a445fd                 drafts/20250330d.md   \n",
       "...                                ...                                 ...   \n",
       "2527  faad51d1f885af1db9dee5e5ce52b46e  ./substack_cache/substack/20230205   \n",
       "2528  a98477873581dec082fb879c3f7904e1  ./substack_cache/substack/20230205   \n",
       "2529  85ca2591053db7e76f0d273c63fee1b0  ./substack_cache/substack/20230205   \n",
       "2530  fcd0d8f2b79472618822acb86fccea35  ./substack_cache/substack/20230205   \n",
       "2531  70c5542aafd26bb4b293f2bfaa80c61d  ./substack_cache/substack/20230205   \n",
       "\n",
       "                                                    url  \\\n",
       "0     b'https://newatlas.com/brain/cortical-bioengin...   \n",
       "1     b'https://apnews.com/article/us-air-quality-mo...   \n",
       "2     b'https://www.francetvinfo.fr/internet/securit...   \n",
       "3     b'https://micahflee.com/exploring-the-paramili...   \n",
       "4     b'https://en.wikipedia.org/wiki/Thucydides_Tra...   \n",
       "...                                                 ...   \n",
       "2527    b'https://spectrum.ieee.org/human-augmentation'   \n",
       "2528  b'https://metaphysic.ai/ai-hollywood-miramax-h...   \n",
       "2529  b'https://www.newscientist.com/article/2353751...   \n",
       "2530  b'https://nymag.com/intelligencer/2022/01/nath...   \n",
       "2531  b'https://www.wsj.com/articles/why-paper-map-s...   \n",
       "\n",
       "                                                content    LEN    origin  \n",
       "0     The world's first \"biological computer\" that f...  15347   15347.0  \n",
       "1     Scientists raise concerns as the US stops shar...   5375    5375.0  \n",
       "2     \"Comment avez-vous eu à accès à mes données ? ...   9997    9997.0  \n",
       "3     Exploring the Paramilitary Leaks\\nIn January, ...   9144    9144.0  \n",
       "4     Thucydides Trap\\nThe Thucydides Trap, or Thucy...  21851   21851.0  \n",
       "...                                                 ...    ...       ...  \n",
       "2527  Roboticists Want to Give You a Third Arm\\nUnus...  18549  20230205  \n",
       "2528                                  404\\nGo back home     16  20230205  \n",
       "2529  AI chatbots could hit a ceiling after 2026 as ...    660  20230205  \n",
       "2530  This article was featured in One Great Story, ...  39810  20230205  \n",
       "2531  Forget Google Maps: Why Paper Map Sales Are Bo...   1090  20230205  \n",
       "\n",
       "[2532 rows x 10 columns]"
      ]
     },
     "execution_count": 6,
     "metadata": {},
     "output_type": "execute_result"
    }
   ],
   "source": [
    "nb_articles = 30000\n",
    "# Creating seeds\n",
    "f.createSeeds(n=nb_articles)\n",
    "# Creating metas\n",
    "f.moreIntel(n=nb_articles)\n",
    "# Creating metas\n",
    "f.doMeta(n=nb_articles)"
   ]
  },
  {
   "cell_type": "code",
   "execution_count": 7,
   "metadata": {},
   "outputs": [
    {
     "name": "stdout",
     "output_type": "stream",
     "text": [
      "# Doing get_emergingconcerns processing\n",
      "IDs identifiees \t 2462 \t get_emergingconcerns\n"
     ]
    }
   ],
   "source": [
    "f.doProcessing(category=\"get_emergingconcerns\", minL=1500, maxL=30000, n=30000)"
   ]
  },
  {
   "cell_type": "code",
   "execution_count": 8,
   "metadata": {},
   "outputs": [
    {
     "name": "stdout",
     "output_type": "stream",
     "text": [
      "# Writing stories for ['20250309']\n",
      "- Doing story for 20250309\n",
      "--- gpt-4o-mini:\t 2025-03-14 20:12:15\n",
      "--- gpt-4o-mini:\t 2025-03-14 20:12:16\n"
     ]
    }
   ],
   "source": [
    "f.writeAllStories()"
   ]
  },
  {
   "cell_type": "markdown",
   "metadata": {},
   "source": [
    "# Using the vectorDB"
   ]
  },
  {
   "cell_type": "code",
   "execution_count": null,
   "metadata": {},
   "outputs": [
    {
     "name": "stdout",
     "output_type": "stream",
     "text": [
      "client=<openai.resources.embeddings.Embeddings object at 0x7df981f31870> async_client=<openai.resources.embeddings.AsyncEmbeddings object at 0x7df9815a4640> model='text-embedding-ada-002' dimensions=None deployment='text-embedding-ada-002' openai_api_version=None openai_api_base=None openai_api_type=None openai_proxy=None embedding_ctx_length=8191 openai_api_key=SecretStr('**********') openai_organization=None allowed_special=None disallowed_special=None chunk_size=1000 max_retries=2 request_timeout=None headers=None tiktoken_enabled=True tiktoken_model_name=None show_progress_bar=False model_kwargs={} skip_empty=False default_headers=None default_query=None retry_min_seconds=4 retry_max_seconds=20 http_client=None http_async_client=None check_embedding_ctx_length=True\n"
     ]
    },
    {
     "data": {
      "text/plain": [
       "OpenAIEmbeddings(client=<openai.resources.embeddings.Embeddings object at 0x7df981f31870>, async_client=<openai.resources.embeddings.AsyncEmbeddings object at 0x7df9815a4640>, model='text-embedding-ada-002', dimensions=None, deployment='text-embedding-ada-002', openai_api_version=None, openai_api_base=None, openai_api_type=None, openai_proxy=None, embedding_ctx_length=8191, openai_api_key=SecretStr('**********'), openai_organization=None, allowed_special=None, disallowed_special=None, chunk_size=1000, max_retries=2, request_timeout=None, headers=None, tiktoken_enabled=True, tiktoken_model_name=None, show_progress_bar=False, model_kwargs={}, skip_empty=False, default_headers=None, default_query=None, retry_min_seconds=4, retry_max_seconds=20, http_client=None, http_async_client=None, check_embedding_ctx_length=True)"
      ]
     },
     "execution_count": 23,
     "metadata": {},
     "output_type": "execute_result"
    }
   ],
   "source": [
    "db= DB(llm)"
   ]
  },
  {
   "cell_type": "code",
   "execution_count": null,
   "metadata": {},
   "outputs": [
    {
     "name": "stdout",
     "output_type": "stream",
     "text": [
      "# VectorDB: continue on the DB\n",
      "- VectorDB:  3274 elements already stored.\n",
      "- VectorDB: adding 2462 documents.\n"
     ]
    }
   ],
   "source": [
    "vectordb = db.createDB()"
   ]
  },
  {
   "cell_type": "code",
   "execution_count": null,
   "metadata": {},
   "outputs": [],
   "source": [
    "from futures.pages import PagesWriter"
   ]
  },
  {
   "cell_type": "code",
   "execution_count": null,
   "metadata": {},
   "outputs": [],
   "source": [
    "pw = PagesWriter(db=db)"
   ]
  },
  {
   "cell_type": "code",
   "execution_count": null,
   "metadata": {},
   "outputs": [],
   "source": [
    "df, signals = pw.createPages_metaPrep(longtest=False)"
   ]
  },
  {
   "cell_type": "code",
   "execution_count": null,
   "metadata": {},
   "outputs": [],
   "source": [
    "pw.createPages()\n",
    "pw.createPagesIndex()"
   ]
  },
  {
   "cell_type": "markdown",
   "metadata": {},
   "source": [
    "# Stories"
   ]
  },
  {
   "cell_type": "code",
   "execution_count": null,
   "metadata": {},
   "outputs": [],
   "source": [
    "# Doing the imports\n",
    "from futures.llm import LLM\n",
    "from futures.futurist import Futurist\n",
    "# Let's initialise our AI and our futurist\n",
    "llm = LLM(datastore=\"data/\")\n",
    "f = Futurist(llm)"
   ]
  },
  {
   "cell_type": "code",
   "execution_count": null,
   "metadata": {},
   "outputs": [
    {
     "name": "stdout",
     "output_type": "stream",
     "text": [
      "## The Colors of Connection\n",
      "\n",
      "Sarah had always been a firm believer in the importance of color—not just any color, but *the right* colors. Dandelion yellow, in particular, had captured her heart ever since Crayola announced its revival^1. Every week, she would note the excitement among her friends in their shared community—a digital space that flourished despite the corporate saturation of the web. It was a cozy collective of DIY projects and emotional memes, a vibrant counter-narrative to a digital world filled with ads and algorithms^2.\n",
      "\n",
      "As the sun peeked through the curtains, a notification buzzed on her phone. “Privacy app now available!” her friend’s message read, followed by a link to *Protector*, an app that offered personal safety guards on demand. “Because Uber wasn’t enough; now, we can hire *protection* for our overpriced lattes,” Sarah muttered sarcastically. She quickly scrolled past it—what a time to be alive^3. Just two years ago, she had sat in a dilapidated café, discussing the idea of human connections after the isolating bow of the pandemic, where the Surgeon General declared loneliness a health crisis^4. \n",
      "\n",
      "But lo and behold, another crisis was brewing—one of ecological significance, or so the \"Regenerative Design\" report argued. Humans had pushed the planet too far, and now it was time to rethink city designs for a more sustainable ecosystem^5. She found the irony delectable—an online community bubbling with creativity while the real world required us to reconsider our relationships—not only with each other but with nature itself. \n",
      "\n",
      "“Hey, remember when we thought digital life would help lessen our environmental impact?” she texted her friend, Madru, who had recently become an outspoken advocate for ecological reform. As they chatted, their conversation floated towards AI, which had, perhaps ironically, led to both breakthroughs and setbacks. From revealing ancient civilizations hidden beneath the sands of the Dubain desert to dissecting how some misguided corporate strategies could undermine even the best intentions of third-party AIs in journalism^6, the pendulum swung precariously between promise and chaos.\n",
      "\n",
      "The chatter turned to the rising “decisions fatigue,” where options seemed limitless but paralyzed the mind like a thousand-choice jam buffet^7. “We have an abundance of everything except meaningful connections,” Madru remarked. “It’s easy to forget how enriching simple conversations can be.” \n",
      "\n",
      "This was precisely where Sarah found both solace and complexity—she started to curate her crayon collection enthusiastically, gathering vibrant colors like an archaeologist digging through time (albeit through a more tactile medium)^8. In search of comfort and creativity, she also casually upcycled old crayons into candles, noting how even old shades held memories of vibrant imagination. \n",
      "\n",
      "Yet as social platforms pivoted towards promoting the *detached* over the *tactile*, she felt an undercurrent of dread. What if they sourced their community safety tactics from cold algorithms, risking the warmth of genuine human connection for mere statistics? It was a thought that danced at the edge of her mind, begging the question—*could technology designed for protection bait a cost too dear to pay?* \n",
      "\n",
      "As she prepared to leave her apartment and embrace the sunlight, she couldn’t help but smile at the world ahead. For every byte traded in, perhaps there was a sketch worth making—a conscious call to action hidden in the shade of a retro crayon box, where youth and yellows bloomed anew. \"Days like these,\" she mused with a wink, \"are why we still need to connect the dots.” \n",
      "\n",
      "*Maybe, just maybe, the world was still blossoming.*\n"
     ]
    }
   ],
   "source": [
    "print(f.getStory(\"20250330d\"))"
   ]
  },
  {
   "cell_type": "code",
   "execution_count": null,
   "metadata": {},
   "outputs": [
    {
     "name": "stdout",
     "output_type": "stream",
     "text": [
      "## Beneath the Buzz\n",
      "\n",
      "The drone swarm hovered above the city like an army of hyperactive bees, each lightweight unit buzzing silently in formation. Clara, the controller, sipped her lukewarm coffee, her eyes darting between the screens displaying their intricate patterns. *“Good morning,”* she murmured as if they could respond, though she sometimes fancied that the whir of rotors was their own version of small talk. Thanks to a DARPA study, she’d learned that one human could efficiently oversee over a hundred of these mechanical minions without completely losing her marbles; a mere 3% of the time, she operated in a state of delightful chaos, like a librarian attempting to assist patrons during a tornado.\n",
      "\n",
      "Down below, the human world was less organized than her buzzing assistants. Recent headlines screamed about a mysterious illness that had emerged in Congo—“an outbreak stronger than a fast-food container's grip on morality,” Clara joked bitterly to herself. The thought of zoonotic diseases had once been abstract, but the reality of microbial horrors was catching up faster than society’s attempt to cycle through synthetic clothing. An alarming spike in such cases had many experts scratching their heads, worried about a future where fast food might be the only thing recognizable in the technofossils left behind. \n",
      "\n",
      "Meanwhile, in her quiet corner of the techy ecosystem, there was chatter about AI rewriting the rules of chip design, turning engineers into mere spectators. Clara pondered whether she, too, might find her job snatched away by some soulless algorithm optimized for human inefficiencies. After all, the average pay for KPMG partners had risen sharply, but at what cost? The winds of change seemed unfriendly to middle-class earners like her, desperate for a break from exorbitant housing costs. She could almost hear her dreams being sold off to the highest bidder.\n",
      "\n",
      "With a sigh, she refocused on her screens. It was funny, really; these drones were designed to solve logistical problems, yet they offered no true pathways away from a market that incentivized layoffs in the face of record profits. Sure, profits were trending up, but the \"people problem\" remained, like a stubborn grain of sand in one's shoe—uncomfortable but mostly ignored. \n",
      "\n",
      "Oh, and the news on cryptocurrency? Rumors of taxpayer dollars being funneled into digital coins had become a kind of online soap opera. “Exactly what we need,” she muttered dryly. “Taxpayers buying a slice of financial pie that doesn't even exist in the physical realm!” She half-expected her drone swarm to start issuing their own financial news.\n",
      "\n",
      "As she simultaneously monitored a drone's learning algorithm, Clara couldn’t help but trace a metaphorical map of her own life’s bifurcations. *This way leads to economic ruin, but the other way leads to… well, potentially just as many problems but perhaps with a side of adventure?* The notion made her chuckle. How easy it would be to get lost in increasingly absurd fates, like being swept away by a river bifurcation—stuck between choices, hoping for the best.\n",
      "\n",
      "Just then, an alert flashed across her screen: *“Drone swarm encountering a problem.”* \n",
      "\n",
      "“Great,” she murmured, foreshadowing an afternoon of operational firefighting. Somehow, managing robots seemed far less exhausting than contemplating her place between a collapsing economy, burgeoning technology, and attention-grabbing diseases. But she’d manage. After all, she could still sort the chaos of life as if she were organizing a library. With a caffeinated sigh, she reset her posture for the task ahead—a mix of acceptance and absurdity beckoning her forward like a beacon in the swirling storm of tomorrow.\n"
     ]
    }
   ],
   "source": [
    "print(f.getStory(\"20250316d\"))"
   ]
  }
 ],
 "metadata": {
  "kernelspec": {
   "display_name": ".venv",
   "language": "python",
   "name": "python3"
  },
  "language_info": {
   "codemirror_mode": {
    "name": "ipython",
    "version": 3
   },
   "file_extension": ".py",
   "mimetype": "text/x-python",
   "name": "python",
   "nbconvert_exporter": "python",
   "pygments_lexer": "ipython3",
   "version": "3.10.12"
  }
 },
 "nbformat": 4,
 "nbformat_minor": 4
}
