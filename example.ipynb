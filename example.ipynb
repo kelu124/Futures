{
 "cells": [
  {
   "cell_type": "code",
   "execution_count": 1,
   "metadata": {},
   "outputs": [],
   "source": [
    "%load_ext autoreload\n",
    "%autoreload 2"
   ]
  },
  {
   "cell_type": "code",
   "execution_count": 2,
   "metadata": {},
   "outputs": [],
   "source": [
    "from futures.llm import LLM\n",
    "from futures.futurist import Futurist\n",
    "from futures.db import DB\n",
    "from futures.substack import SubstackManager\n",
    " "
   ]
  },
  {
   "cell_type": "code",
   "execution_count": 3,
   "metadata": {},
   "outputs": [],
   "source": [
    "sm = SubstackManager()"
   ]
  },
  {
   "cell_type": "code",
   "execution_count": 4,
   "metadata": {},
   "outputs": [],
   "source": [
    "pages = sm.download_pages()"
   ]
  },
  {
   "cell_type": "code",
   "execution_count": 5,
   "metadata": {},
   "outputs": [
    {
     "name": "stdout",
     "output_type": "stream",
     "text": [
      "# Substack manager starts\n",
      "- Substack manager:  20250309 exists\n",
      "- Substack manager:  20250302 exists\n",
      "- Substack manager:  20250413 saved\n",
      "- Substack manager:  20250126 exists\n",
      "- Substack manager:  20250202 exists\n",
      "- Substack manager:  20250323 exists\n",
      "- Substack manager:  20250330 exists\n",
      "- Substack manager:  20250216 exists\n",
      "- Substack manager:  20250209 exists\n",
      "- Substack manager:  20250223 exists\n",
      "- Substack manager:  20250316 exists\n",
      "- Substack manager:  20250406 exists\n",
      "# Saving links from the substack pages\n",
      "-  3caea92879ee6c4da78e519186132ba6 saved.\n",
      "-  52c054ac55d08966cbfffba89cb4333d saved.\n",
      "b'https://papers.ssrn.com/sol3/papers.cfm?abstract_id=5188231' error.\n",
      "-  ff665943b74b1eae54ff73db9bc8a4ae saved.\n",
      "-  c067bb1706f5a91a03f8bdbba2e5f705 saved.\n",
      "-  dad12e7761f6cf56a5779061999f6a03 saved.\n",
      "-  09903f23aa8c82dec3e8094055df2f7b saved.\n",
      "-  3ee955e2149cdab540660e9513852dfb saved.\n",
      "-  01d99c80c2a7c79cb131a6b2038c8c8e saved.\n",
      "-  aedfc5daa90ddd6bccac686585173933 saved.\n",
      "-  fa6115ae1686f345d64fa1c0c3dfafd5 saved.\n",
      "-  0711171f5d7aa89eea7b5e69474ea39e saved.\n",
      "-  f8eb656424f2c559638121ba444f1d18 saved.\n",
      "-  7cb2bdaa032e5e159a3d8903c55653df saved.\n",
      "-  8ef50cfd87ff3eedbc028932b07520b3 saved.\n",
      "-  674fd490eecf9d22782edc66eaf63ac2 saved.\n",
      "-  7467a0de89537b8c66275d7469b5d388 saved.\n",
      "-  ff6a7e6476a99b890dea1c43adef31f9 saved.\n",
      "-  890fec1cb4fe9f3b99d9f686a0eb4f75 saved.\n",
      "-  aa3d3d5b1db934b3fc744a9762f5144b saved.\n",
      "-  3a3744ad7f733552d32aa69dc20bcb91 saved.\n",
      "-  036d251f4174f7f407504fbb77e9c7c5 saved.\n",
      "-  88d958b42141d5ddfae941e43db4eda7 saved.\n",
      "-  79b9837c5b7a1635cb7fa3586127b91f saved.\n",
      "-  16c8454fa1056e28e7ceac773e3ecc6f saved.\n",
      "-  0dcc4230d999a62397529a7eadbc0197 saved.\n",
      "-  2b36f22e8d73c79147e05ce435c682cc saved.\n",
      "-  0059f4b30ef565dcd5709056a6f8a85a saved.\n",
      "-  9b252f88a296e26d51e0801f7bdf1904 saved.\n",
      "-  4e8f282e50afedd2828379da96f9d627 saved.\n",
      "-  dff752bdc4a60d242f9040d19081c206 saved.\n"
     ]
    }
   ],
   "source": [
    "sm.getPages() # 25seconds"
   ]
  },
  {
   "cell_type": "code",
   "execution_count": 6,
   "metadata": {},
   "outputs": [],
   "source": [
    "# Let's initialise our AI and our futurist\n",
    "llm = LLM(datastore=\"data/\")\n",
    "f = Futurist(llm)"
   ]
  },
  {
   "cell_type": "code",
   "execution_count": 7,
   "metadata": {},
   "outputs": [
    {
     "name": "stdout",
     "output_type": "stream",
     "text": [
      "# Doing get_weaksignals processing\n",
      "IDs identifiees \t 2571 \t get_weaksignals\n",
      "--- Function call:\t 2025-04-13 22:20:18\n",
      "--- Function call:\t 2025-04-13 22:20:32\n",
      "--- Function call:\t 2025-04-13 22:20:41\n",
      "--- Function call:\t 2025-04-13 22:20:46\n",
      "--- Function call:\t 2025-04-13 22:20:52\n",
      "--- Function call:\t 2025-04-13 22:21:00\n",
      "--- Function call:\t 2025-04-13 22:21:14\n",
      "--- Function call:\t 2025-04-13 22:21:22\n",
      "--- Function call:\t 2025-04-13 22:21:35\n",
      "--- Function call:\t 2025-04-13 22:21:42\n",
      "--- Function call:\t 2025-04-13 22:21:49\n",
      "--- Function call:\t 2025-04-13 22:22:00\n",
      "--- Function call:\t 2025-04-13 22:22:05\n",
      "--- Function call:\t 2025-04-13 22:22:05\n",
      "# Doing get_summary processing\n",
      "IDs identifiees \t 2572 \t get_summary\n",
      "--- Function call:\t 2025-04-13 22:22:12\n",
      "--- Function call:\t 2025-04-13 22:22:15\n",
      "--- Function call:\t 2025-04-13 22:22:18\n",
      "--- Function call:\t 2025-04-13 22:22:21\n",
      "--- Function call:\t 2025-04-13 22:22:23\n",
      "--- Function call:\t 2025-04-13 22:22:26\n",
      "--- Function call:\t 2025-04-13 22:22:29\n",
      "--- Function call:\t 2025-04-13 22:22:33\n",
      "--- Function call:\t 2025-04-13 22:22:37\n",
      "--- Function call:\t 2025-04-13 22:22:39\n",
      "--- Function call:\t 2025-04-13 22:22:43\n",
      "--- Function call:\t 2025-04-13 22:22:46\n",
      "--- Function call:\t 2025-04-13 22:22:48\n",
      "# Doing get_emergingissues processing\n",
      "IDs identifiees \t 2572 \t get_emergingissues\n",
      "--- Function call:\t 2025-04-13 22:22:55\n",
      "--- Function call:\t 2025-04-13 22:23:00\n",
      "--- Function call:\t 2025-04-13 22:23:03\n",
      "--- Function call:\t 2025-04-13 22:23:07\n",
      "--- Function call:\t 2025-04-13 22:23:12\n",
      "--- Function call:\t 2025-04-13 22:23:17\n",
      "--- Function call:\t 2025-04-13 22:23:25\n",
      "--- Function call:\t 2025-04-13 22:23:28\n",
      "--- Function call:\t 2025-04-13 22:23:32\n",
      "--- Function call:\t 2025-04-13 22:23:36\n",
      "--- Function call:\t 2025-04-13 22:23:41\n",
      "--- Function call:\t 2025-04-13 22:23:44\n",
      "--- Function call:\t 2025-04-13 22:23:47\n",
      "# Doing get_emergingtechnologies processing\n",
      "IDs identifiees \t 2570 \t get_emergingtechnologies\n",
      "--- Function call:\t 2025-04-13 22:23:53\n",
      "--- Function call:\t 2025-04-13 22:23:55\n",
      "--- Function call:\t 2025-04-13 22:23:58\n",
      "--- Function call:\t 2025-04-13 22:24:00\n",
      "--- Function call:\t 2025-04-13 22:24:02\n",
      "--- Function call:\t 2025-04-13 22:24:03\n",
      "--- Function call:\t 2025-04-13 22:24:05\n",
      "--- Function call:\t 2025-04-13 22:24:08\n",
      "--- Function call:\t 2025-04-13 22:24:09\n",
      "--- Function call:\t 2025-04-13 22:24:12\n",
      "--- Function call:\t 2025-04-13 22:24:15\n",
      "--- Function call:\t 2025-04-13 22:24:18\n",
      "--- Function call:\t 2025-04-13 22:24:19\n",
      "--- Function call:\t 2025-04-13 22:24:20\n",
      "--- Function call:\t 2025-04-13 22:24:20\n",
      "# Doing get_emergingbehaviors processing\n",
      "IDs identifiees \t 2572 \t get_emergingbehaviors\n",
      "--- Function call:\t 2025-04-13 22:24:27\n",
      "--- Function call:\t 2025-04-13 22:24:34\n",
      "--- Function call:\t 2025-04-13 22:24:37\n",
      "--- Function call:\t 2025-04-13 22:24:41\n",
      "--- Function call:\t 2025-04-13 22:24:46\n",
      "--- Function call:\t 2025-04-13 22:24:50\n",
      "--- Function call:\t 2025-04-13 22:24:56\n",
      "--- Function call:\t 2025-04-13 22:25:02\n",
      "--- Function call:\t 2025-04-13 22:25:05\n",
      "--- Function call:\t 2025-04-13 22:25:09\n",
      "--- Function call:\t 2025-04-13 22:25:14\n",
      "--- Function call:\t 2025-04-13 22:25:23\n",
      "--- Function call:\t 2025-04-13 22:25:26\n",
      "# Doing get_emergingconcerns processing\n",
      "IDs identifiees \t 2572 \t get_emergingconcerns\n",
      "--- Function call:\t 2025-04-13 22:25:34\n",
      "--- Function call:\t 2025-04-13 22:25:39\n",
      "--- Function call:\t 2025-04-13 22:25:44\n",
      "--- Function call:\t 2025-04-13 22:25:48\n",
      "--- Function call:\t 2025-04-13 22:25:53\n",
      "--- Function call:\t 2025-04-13 22:25:59\n",
      "--- Function call:\t 2025-04-13 22:26:04\n",
      "--- Function call:\t 2025-04-13 22:26:11\n",
      "--- Function call:\t 2025-04-13 22:26:15\n",
      "--- Function call:\t 2025-04-13 22:26:20\n",
      "--- Function call:\t 2025-04-13 22:26:24\n",
      "--- Function call:\t 2025-04-13 22:26:30\n",
      "--- Function call:\t 2025-04-13 22:26:34\n",
      "# Doing metas processing\n",
      "--- Function call:\t 2025-04-13 22:26:41\n",
      "--- Function call:\t 2025-04-13 22:26:43\n",
      "--- Function call:\t 2025-04-13 22:26:44\n",
      "--- Function call:\t 2025-04-13 22:26:45\n",
      "--- Function call:\t 2025-04-13 22:26:47\n",
      "--- Function call:\t 2025-04-13 22:26:48\n",
      "--- Function call:\t 2025-04-13 22:26:50\n",
      "--- Function call:\t 2025-04-13 22:26:52\n",
      "--- Function call:\t 2025-04-13 22:26:54\n",
      "--- Function call:\t 2025-04-13 22:26:55\n",
      "--- Function call:\t 2025-04-13 22:26:57\n",
      "--- Function call:\t 2025-04-13 22:26:58\n",
      "--- Function call:\t 2025-04-13 22:27:00\n"
     ]
    },
    {
     "data": {
      "text/html": [
       "<div>\n",
       "<style scoped>\n",
       "    .dataframe tbody tr th:only-of-type {\n",
       "        vertical-align: middle;\n",
       "    }\n",
       "\n",
       "    .dataframe tbody tr th {\n",
       "        vertical-align: top;\n",
       "    }\n",
       "\n",
       "    .dataframe thead th {\n",
       "        text-align: right;\n",
       "    }\n",
       "</style>\n",
       "<table border=\"1\" class=\"dataframe\">\n",
       "  <thead>\n",
       "    <tr style=\"text-align: right;\">\n",
       "      <th></th>\n",
       "      <th>type</th>\n",
       "      <th>themes</th>\n",
       "      <th>category</th>\n",
       "      <th>keywords</th>\n",
       "      <th>src</th>\n",
       "      <th>path</th>\n",
       "      <th>url</th>\n",
       "      <th>content</th>\n",
       "      <th>LEN</th>\n",
       "      <th>origin</th>\n",
       "    </tr>\n",
       "  </thead>\n",
       "  <tbody>\n",
       "    <tr>\n",
       "      <th>0</th>\n",
       "      <td>blog post</td>\n",
       "      <td>technology, culture, startups, film, future tr...</td>\n",
       "      <td>technology</td>\n",
       "      <td>technology, startups, Poor Things, innovation,...</td>\n",
       "      <td>8ef50cfd87ff3eedbc028932b07520b3</td>\n",
       "      <td>drafts/20250504d .md</td>\n",
       "      <td>b'https://www.digitalnative.tech/p/crazy-ideas'</td>\n",
       "      <td>Weekly writing about how technology and people...</td>\n",
       "      <td>13930</td>\n",
       "      <td>13930.0</td>\n",
       "    </tr>\n",
       "    <tr>\n",
       "      <th>1</th>\n",
       "      <td>blog post</td>\n",
       "      <td>Dungeons &amp; Dragons, tabletop role-playing game...</td>\n",
       "      <td>others</td>\n",
       "      <td>Dungeons &amp; Dragons, tabletop role-playing game...</td>\n",
       "      <td>674fd490eecf9d22782edc66eaf63ac2</td>\n",
       "      <td>drafts/20250504d .md</td>\n",
       "      <td>b'https://www.businessinsider.com/dungeons-and...</td>\n",
       "      <td>Will Champion was 24 and working at a board ga...</td>\n",
       "      <td>11895</td>\n",
       "      <td>11895.0</td>\n",
       "    </tr>\n",
       "    <tr>\n",
       "      <th>2</th>\n",
       "      <td>blog post</td>\n",
       "      <td>typewriters, technology, nostalgia, small busi...</td>\n",
       "      <td>technology</td>\n",
       "      <td>typewriters, Mike Marr, Pawtucket, repair, sma...</td>\n",
       "      <td>7467a0de89537b8c66275d7469b5d388</td>\n",
       "      <td>drafts/20250504d .md</td>\n",
       "      <td>b'https://www.bbc.co.uk/future/article/2025032...</td>\n",
       "      <td>Pretty much every day, another customer clutch...</td>\n",
       "      <td>15206</td>\n",
       "      <td>15206.0</td>\n",
       "    </tr>\n",
       "    <tr>\n",
       "      <th>3</th>\n",
       "      <td>news</td>\n",
       "      <td>finance,greenwashing,sustainable investing</td>\n",
       "      <td>business</td>\n",
       "      <td>Deutsche Bank,DWS,greenwashing,fine,SEC,ESG</td>\n",
       "      <td>4e8f282e50afedd2828379da96f9d627</td>\n",
       "      <td>drafts/20250504d .md</td>\n",
       "      <td>b'https://www.esgtoday.com/deutsche-banks-dws-...</td>\n",
       "      <td>Deutsche Bank’s DWS Fined $27 Million for Gree...</td>\n",
       "      <td>1915</td>\n",
       "      <td>1915.0</td>\n",
       "    </tr>\n",
       "    <tr>\n",
       "      <th>4</th>\n",
       "      <td>research article</td>\n",
       "      <td>antibiotic resistance, microbiology, drug disc...</td>\n",
       "      <td>science</td>\n",
       "      <td>antibiotic, bacteria, resistance, microbiology...</td>\n",
       "      <td>fa6115ae1686f345d64fa1c0c3dfafd5</td>\n",
       "      <td>drafts/20250504d .md</td>\n",
       "      <td>b'https://www.nature.com/articles/d41586-025-0...</td>\n",
       "      <td>Thank you for visiting nature.com. You are usi...</td>\n",
       "      <td>2659</td>\n",
       "      <td>2659.0</td>\n",
       "    </tr>\n",
       "    <tr>\n",
       "      <th>...</th>\n",
       "      <td>...</td>\n",
       "      <td>...</td>\n",
       "      <td>...</td>\n",
       "      <td>...</td>\n",
       "      <td>...</td>\n",
       "      <td>...</td>\n",
       "      <td>...</td>\n",
       "      <td>...</td>\n",
       "      <td>...</td>\n",
       "      <td>...</td>\n",
       "    </tr>\n",
       "    <tr>\n",
       "      <th>2650</th>\n",
       "      <td>research article</td>\n",
       "      <td>robotics, neuroscience, human augmentation, br...</td>\n",
       "      <td>science</td>\n",
       "      <td>robotic limbs, brain control, human enhancemen...</td>\n",
       "      <td>faad51d1f885af1db9dee5e5ce52b46e</td>\n",
       "      <td>./substack_cache/substack/20230205</td>\n",
       "      <td>b'https://spectrum.ieee.org/human-augmentation'</td>\n",
       "      <td>Roboticists Want to Give You a Third Arm\\nUnus...</td>\n",
       "      <td>18549</td>\n",
       "      <td>20230205</td>\n",
       "    </tr>\n",
       "    <tr>\n",
       "      <th>2651</th>\n",
       "      <td>error message</td>\n",
       "      <td>404 error, website navigation</td>\n",
       "      <td>others</td>\n",
       "      <td>404, error, not found, navigation</td>\n",
       "      <td>a98477873581dec082fb879c3f7904e1</td>\n",
       "      <td>./substack_cache/substack/20230205</td>\n",
       "      <td>b'https://metaphysic.ai/ai-hollywood-miramax-h...</td>\n",
       "      <td>404\\nGo back home</td>\n",
       "      <td>16</td>\n",
       "      <td>20230205</td>\n",
       "    </tr>\n",
       "    <tr>\n",
       "      <th>2652</th>\n",
       "      <td>news</td>\n",
       "      <td>AI, machine learning, data scarcity, technolog...</td>\n",
       "      <td>technology</td>\n",
       "      <td>AI chatbots, training data, machine learning, ...</td>\n",
       "      <td>85ca2591053db7e76f0d273c63fee1b0</td>\n",
       "      <td>./substack_cache/substack/20230205</td>\n",
       "      <td>b'https://www.newscientist.com/article/2353751...</td>\n",
       "      <td>AI chatbots could hit a ceiling after 2026 as ...</td>\n",
       "      <td>660</td>\n",
       "      <td>20230205</td>\n",
       "    </tr>\n",
       "    <tr>\n",
       "      <th>2653</th>\n",
       "      <td>article</td>\n",
       "      <td>automotive industry, corporate fraud, short se...</td>\n",
       "      <td>technology</td>\n",
       "      <td>Nikola, Trevor Milton, Hindenburg Research, co...</td>\n",
       "      <td>fcd0d8f2b79472618822acb86fccea35</td>\n",
       "      <td>./substack_cache/substack/20230205</td>\n",
       "      <td>b'https://nymag.com/intelligencer/2022/01/nath...</td>\n",
       "      <td>This article was featured in One Great Story, ...</td>\n",
       "      <td>39810</td>\n",
       "      <td>20230205</td>\n",
       "    </tr>\n",
       "    <tr>\n",
       "      <th>2654</th>\n",
       "      <td>blog post</td>\n",
       "      <td>paper maps, digital navigation, millennials, g...</td>\n",
       "      <td>technology</td>\n",
       "      <td>paper maps, Google Maps, navigation, millennia...</td>\n",
       "      <td>70c5542aafd26bb4b293f2bfaa80c61d</td>\n",
       "      <td>./substack_cache/substack/20230205</td>\n",
       "      <td>b'https://www.wsj.com/articles/why-paper-map-s...</td>\n",
       "      <td>Forget Google Maps: Why Paper Map Sales Are Bo...</td>\n",
       "      <td>1090</td>\n",
       "      <td>20230205</td>\n",
       "    </tr>\n",
       "  </tbody>\n",
       "</table>\n",
       "<p>2655 rows × 10 columns</p>\n",
       "</div>"
      ],
      "text/plain": [
       "                  type                                             themes  \\\n",
       "0            blog post  technology, culture, startups, film, future tr...   \n",
       "1            blog post  Dungeons & Dragons, tabletop role-playing game...   \n",
       "2            blog post  typewriters, technology, nostalgia, small busi...   \n",
       "3                 news         finance,greenwashing,sustainable investing   \n",
       "4     research article  antibiotic resistance, microbiology, drug disc...   \n",
       "...                ...                                                ...   \n",
       "2650  research article  robotics, neuroscience, human augmentation, br...   \n",
       "2651     error message                      404 error, website navigation   \n",
       "2652              news  AI, machine learning, data scarcity, technolog...   \n",
       "2653           article  automotive industry, corporate fraud, short se...   \n",
       "2654         blog post  paper maps, digital navigation, millennials, g...   \n",
       "\n",
       "        category                                           keywords  \\\n",
       "0     technology  technology, startups, Poor Things, innovation,...   \n",
       "1         others  Dungeons & Dragons, tabletop role-playing game...   \n",
       "2     technology  typewriters, Mike Marr, Pawtucket, repair, sma...   \n",
       "3       business        Deutsche Bank,DWS,greenwashing,fine,SEC,ESG   \n",
       "4        science  antibiotic, bacteria, resistance, microbiology...   \n",
       "...          ...                                                ...   \n",
       "2650     science  robotic limbs, brain control, human enhancemen...   \n",
       "2651      others                  404, error, not found, navigation   \n",
       "2652  technology  AI chatbots, training data, machine learning, ...   \n",
       "2653  technology  Nikola, Trevor Milton, Hindenburg Research, co...   \n",
       "2654  technology  paper maps, Google Maps, navigation, millennia...   \n",
       "\n",
       "                                   src                                path  \\\n",
       "0     8ef50cfd87ff3eedbc028932b07520b3                drafts/20250504d .md   \n",
       "1     674fd490eecf9d22782edc66eaf63ac2                drafts/20250504d .md   \n",
       "2     7467a0de89537b8c66275d7469b5d388                drafts/20250504d .md   \n",
       "3     4e8f282e50afedd2828379da96f9d627                drafts/20250504d .md   \n",
       "4     fa6115ae1686f345d64fa1c0c3dfafd5                drafts/20250504d .md   \n",
       "...                                ...                                 ...   \n",
       "2650  faad51d1f885af1db9dee5e5ce52b46e  ./substack_cache/substack/20230205   \n",
       "2651  a98477873581dec082fb879c3f7904e1  ./substack_cache/substack/20230205   \n",
       "2652  85ca2591053db7e76f0d273c63fee1b0  ./substack_cache/substack/20230205   \n",
       "2653  fcd0d8f2b79472618822acb86fccea35  ./substack_cache/substack/20230205   \n",
       "2654  70c5542aafd26bb4b293f2bfaa80c61d  ./substack_cache/substack/20230205   \n",
       "\n",
       "                                                    url  \\\n",
       "0       b'https://www.digitalnative.tech/p/crazy-ideas'   \n",
       "1     b'https://www.businessinsider.com/dungeons-and...   \n",
       "2     b'https://www.bbc.co.uk/future/article/2025032...   \n",
       "3     b'https://www.esgtoday.com/deutsche-banks-dws-...   \n",
       "4     b'https://www.nature.com/articles/d41586-025-0...   \n",
       "...                                                 ...   \n",
       "2650    b'https://spectrum.ieee.org/human-augmentation'   \n",
       "2651  b'https://metaphysic.ai/ai-hollywood-miramax-h...   \n",
       "2652  b'https://www.newscientist.com/article/2353751...   \n",
       "2653  b'https://nymag.com/intelligencer/2022/01/nath...   \n",
       "2654  b'https://www.wsj.com/articles/why-paper-map-s...   \n",
       "\n",
       "                                                content    LEN    origin  \n",
       "0     Weekly writing about how technology and people...  13930   13930.0  \n",
       "1     Will Champion was 24 and working at a board ga...  11895   11895.0  \n",
       "2     Pretty much every day, another customer clutch...  15206   15206.0  \n",
       "3     Deutsche Bank’s DWS Fined $27 Million for Gree...   1915    1915.0  \n",
       "4     Thank you for visiting nature.com. You are usi...   2659    2659.0  \n",
       "...                                                 ...    ...       ...  \n",
       "2650  Roboticists Want to Give You a Third Arm\\nUnus...  18549  20230205  \n",
       "2651                                  404\\nGo back home     16  20230205  \n",
       "2652  AI chatbots could hit a ceiling after 2026 as ...    660  20230205  \n",
       "2653  This article was featured in One Great Story, ...  39810  20230205  \n",
       "2654  Forget Google Maps: Why Paper Map Sales Are Bo...   1090  20230205  \n",
       "\n",
       "[2655 rows x 10 columns]"
      ]
     },
     "execution_count": 7,
     "metadata": {},
     "output_type": "execute_result"
    }
   ],
   "source": [
    "nb_articles = 30000\n",
    "# Creating seeds\n",
    "f.createSeeds(n=nb_articles)\n",
    "# Creating metas\n",
    "f.moreIntel(n=nb_articles)\n",
    "# Creating metas\n",
    "f.doMeta(n=nb_articles)"
   ]
  },
  {
   "cell_type": "code",
   "execution_count": 8,
   "metadata": {},
   "outputs": [
    {
     "name": "stdout",
     "output_type": "stream",
     "text": [
      "# Doing get_emergingconcerns processing\n",
      "IDs identifiees \t 2585 \t get_emergingconcerns\n"
     ]
    }
   ],
   "source": [
    "f.doProcessing(category=\"get_emergingconcerns\", minL=1500, maxL=30000, n=30000)"
   ]
  },
  {
   "cell_type": "code",
   "execution_count": 23,
   "metadata": {},
   "outputs": [],
   "source": [
    "f.writeAllStories()"
   ]
  },
  {
   "cell_type": "markdown",
   "metadata": {},
   "source": [
    "# Using the vectorDB"
   ]
  },
  {
   "cell_type": "code",
   "execution_count": 10,
   "metadata": {},
   "outputs": [
    {
     "name": "stdout",
     "output_type": "stream",
     "text": [
      "client=<openai.resources.embeddings.Embeddings object at 0x77272e509d20> async_client=<openai.resources.embeddings.AsyncEmbeddings object at 0x77272cef84f0> model='text-embedding-ada-002' dimensions=None deployment='text-embedding-ada-002' openai_api_version=None openai_api_base=None openai_api_type=None openai_proxy=None embedding_ctx_length=8191 openai_api_key=SecretStr('**********') openai_organization=None allowed_special=None disallowed_special=None chunk_size=1000 max_retries=2 request_timeout=None headers=None tiktoken_enabled=True tiktoken_model_name=None show_progress_bar=False model_kwargs={} skip_empty=False default_headers=None default_query=None retry_min_seconds=4 retry_max_seconds=20 http_client=None http_async_client=None check_embedding_ctx_length=True\n"
     ]
    }
   ],
   "source": [
    "db= DB(llm)"
   ]
  },
  {
   "cell_type": "code",
   "execution_count": 11,
   "metadata": {},
   "outputs": [
    {
     "name": "stdout",
     "output_type": "stream",
     "text": [
      "# VectorDB: continue on the DB\n",
      "- VectorDB:  3418 elements already stored.\n",
      "- VectorDB: adding 2585 documents.\n"
     ]
    }
   ],
   "source": [
    "vectordb = db.createDB()"
   ]
  },
  {
   "cell_type": "code",
   "execution_count": 12,
   "metadata": {},
   "outputs": [],
   "source": [
    "from futures.pages import PagesWriter"
   ]
  },
  {
   "cell_type": "code",
   "execution_count": 13,
   "metadata": {},
   "outputs": [],
   "source": [
    "pw = PagesWriter(db=db)"
   ]
  },
  {
   "cell_type": "code",
   "execution_count": 14,
   "metadata": {},
   "outputs": [],
   "source": [
    "df, signals = pw.createPages_metaPrep(longtest=False)"
   ]
  },
  {
   "cell_type": "code",
   "execution_count": 15,
   "metadata": {},
   "outputs": [],
   "source": [
    "pw.createPages()\n",
    "pw.createPagesIndex()"
   ]
  },
  {
   "cell_type": "markdown",
   "metadata": {},
   "source": [
    "# Stories"
   ]
  },
  {
   "cell_type": "code",
   "execution_count": 16,
   "metadata": {},
   "outputs": [],
   "source": [
    "# Doing the imports\n",
    "from futures.llm import LLM\n",
    "from futures.futurist import Futurist\n",
    "# Let's initialise our AI and our futurist\n",
    "llm = LLM(datastore=\"data/\")\n",
    "f = Futurist(llm)"
   ]
  },
  {
   "cell_type": "code",
   "execution_count": 19,
   "metadata": {},
   "outputs": [],
   "source": [
    "f.writeAllStories()"
   ]
  },
  {
   "cell_type": "code",
   "execution_count": 22,
   "metadata": {},
   "outputs": [
    {
     "name": "stdout",
     "output_type": "stream",
     "text": [
      "No story for this ID\n"
     ]
    }
   ],
   "source": [
    "print(f.getStory(\"20250504d\"))"
   ]
  },
  {
   "cell_type": "code",
   "execution_count": 21,
   "metadata": {},
   "outputs": [
    {
     "name": "stdout",
     "output_type": "stream",
     "text": [
      "## Parrots and Paranoia: A Chaotic Symphony\n",
      "\n",
      "The city hummed with the sporadic cries of wild parrots, vibrant streaks of green and yellow flitting through the gray urban landscape. This wasn’t a nature documentary, but a reality since the rose-ringed parakeets had decided that the warm corners of London were simply too tempting to resist. Every morning, people stared slack-jawed at these avian anomalies, baffled that misfit pets had gone rogue, forming their own raucous society. Much like Matt Zajack's quirky Traffic Monitor that counted cyclists and pedestrians with the same zeal they displayed when attempting to cross the street *while arguing about the existence of God and bus timetables*, these parrots seemed determined to define the traffic patterns of the sky. \n",
      "\n",
      "Beneath all this avian splendor, a much darker narrative was unfolding. Jeffrey, a tech-savvy journalist whose phone screen glowed as if warning him of pending doom, had just received sensitive military communications via a distressed Signal group chat. “Is this a joke?” he mumbled, unsure if he was watching a dystopian film or living in it. The chat included an astounding variety of characters; members of the U.S. administration discussing strikes against Houthi targets—somehow his smartphone had transformed into little more than an electronic version of a cheap gossip column—alarming and absurd. His ensuing disbelief morphed into a rush to publish, bringing ethics into question faster than the parakeets could outsmart checkered cabs.\n",
      "\n",
      "Meanwhile, overlooking Jeffrey's frantic typing, a Swiss startup called Oxyle was resolutely dismantling the very chemicals that were slowly poisoning Europe. The piezoelectric catalyst they showcased could eliminate 99% of PFAS from wastewater streams. “We can clean the world!” their press release proclaimed, like a medieval squire boasting of dragon-slaying prowess. But with national security on the near horizon, who could afford to be that optimistic?\n",
      "\n",
      "Back at the bustling plaza, where one could see the Traffic Monitor and its crowd of enthusiasts preaching the virtues of biking before 10 AM, an alarming rise of hidden cameras were catching them mid-speech. They were flanked by law enforcement more interested in facial recognition stats than improving the community. “It's like being on reality TV, except all you get is a raise in paranoia,” laughed an unlikely, but determined, participant who claimed to communicate telepathically with the parrots, forming mental alliances that would take over the traffic system—one chirp at a time.\n",
      "\n",
      "And just when life felt overwhelming and too intertwined with the absurd, the oceans—mysterious and alarmingly expansive—were beckoning. The newly minted SWOT satellite was promising to reveal wonders and disasters lurking beneath the waves, from thriving coral ecosystems nestled under melting glaciers to the lost treasure of environmental significance. Jeffrey thought, perhaps, it would be safer to stay underwater, amidst the octopuses and icefish, where military chats and government surveillance could do no harm.\n",
      "\n",
      "As the sun dipped below the city skyline, casting an illusion of tranquility, Jeffrey sent the signal: a thumbs-up emoji, a neutralizing agent in his chaotic existence, hinting at a shift—where might and mischief couldn’t drown out the inevitable collective drive for understanding. Little did he know, while he was merely reacting to echoes from his phone, wild parrots outside were crafting their own intricate social networks, spawning deeper meanings of community amidst an absurdly chaotic world. \n",
      "\n",
      "*Footnote: One could argue that if they were like the parrots—adoringly loud but rather clueless—maybe humanity would have less to worry about; after all, ignorance must be bliss, especially if your only concern is finding the best breadcrumb in town.*\n"
     ]
    }
   ],
   "source": [
    "print(f.getStory(\"20250427d\"))"
   ]
  }
 ],
 "metadata": {
  "kernelspec": {
   "display_name": ".venv",
   "language": "python",
   "name": "python3"
  },
  "language_info": {
   "codemirror_mode": {
    "name": "ipython",
    "version": 3
   },
   "file_extension": ".py",
   "mimetype": "text/x-python",
   "name": "python",
   "nbconvert_exporter": "python",
   "pygments_lexer": "ipython3",
   "version": "3.10.12"
  }
 },
 "nbformat": 4,
 "nbformat_minor": 4
}
