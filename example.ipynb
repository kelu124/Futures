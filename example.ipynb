{
 "cells": [
  {
   "cell_type": "code",
   "execution_count": 1,
   "metadata": {},
   "outputs": [],
   "source": [
    "%load_ext autoreload\n",
    "%autoreload 2"
   ]
  },
  {
   "cell_type": "code",
   "execution_count": null,
   "metadata": {},
   "outputs": [],
   "source": [
    "from futures.llm import LLM\n",
    "from futures.futurist import Futurist\n",
    "from futures.db import DB\n",
    "from futures.substack import SubstackManager\n",
    " "
   ]
  },
  {
   "cell_type": "code",
   "execution_count": null,
   "metadata": {},
   "outputs": [],
   "source": [
    "sm = SubstackManager()"
   ]
  },
  {
   "cell_type": "code",
   "execution_count": null,
   "metadata": {},
   "outputs": [],
   "source": [
    "pages = sm.download_pages()"
   ]
  },
  {
   "cell_type": "code",
   "execution_count": null,
   "metadata": {},
   "outputs": [
    {
     "name": "stdout",
     "output_type": "stream",
     "text": [
      "# Substack manager starts\n",
      "- Substack manager:  20250810 exists\n",
      "- Substack manager:  20250727 exists\n",
      "- Substack manager:  20250713 exists\n",
      "- Substack manager:  20250907 exists\n",
      "- Substack manager:  20250831 exists\n",
      "- Substack manager:  20250803 exists\n",
      "- Substack manager:  20250824 exists\n",
      "- Substack manager:  20250914 exists\n",
      "- Substack manager:  20250928 exists\n",
      "- Substack manager:  20250921 exists\n",
      "- Substack manager:  20250817 exists\n",
      "- Substack manager:  20250720 exists\n",
      "# Saving links from the substack pages\n"
     ]
    }
   ],
   "source": [
    "sm.getPages() # 25seconds"
   ]
  },
  {
   "cell_type": "code",
   "execution_count": null,
   "metadata": {},
   "outputs": [],
   "source": [
    "# Let's initialise our AI and our futurist\n",
    "llm = LLM(datastore=\"data/\")\n",
    "f = Futurist(llm)"
   ]
  },
  {
   "cell_type": "code",
   "execution_count": null,
   "metadata": {},
   "outputs": [
    {
     "name": "stdout",
     "output_type": "stream",
     "text": [
      "# Doing get_weaksignals processing\n",
      "IDs identifiees \t 2998 \t get_weaksignals\n",
      "--- Function call:\t 2025-10-04 13:52:38\n",
      "# Doing get_summary processing\n",
      "IDs identifiees \t 2999 \t get_summary\n",
      "# Doing get_emergingissues processing\n",
      "IDs identifiees \t 2999 \t get_emergingissues\n",
      "# Doing get_emergingtechnologies processing\n",
      "IDs identifiees \t 2995 \t get_emergingtechnologies\n",
      "--- Function call:\t 2025-10-04 13:52:40\n",
      "--- Function call:\t 2025-10-04 13:52:40\n",
      "--- Function call:\t 2025-10-04 13:52:41\n",
      "--- Function call:\t 2025-10-04 13:52:41\n",
      "# Doing get_emergingbehaviors processing\n",
      "IDs identifiees \t 2999 \t get_emergingbehaviors\n",
      "# Doing get_emergingconcerns processing\n",
      "IDs identifiees \t 2998 \t get_emergingconcerns\n",
      "--- Function call:\t 2025-10-04 13:52:42\n",
      "# Doing metas processing\n"
     ]
    },
    {
     "data": {
      "text/html": [
       "<div>\n",
       "<style scoped>\n",
       "    .dataframe tbody tr th:only-of-type {\n",
       "        vertical-align: middle;\n",
       "    }\n",
       "\n",
       "    .dataframe tbody tr th {\n",
       "        vertical-align: top;\n",
       "    }\n",
       "\n",
       "    .dataframe thead th {\n",
       "        text-align: right;\n",
       "    }\n",
       "</style>\n",
       "<table border=\"1\" class=\"dataframe\">\n",
       "  <thead>\n",
       "    <tr style=\"text-align: right;\">\n",
       "      <th></th>\n",
       "      <th>type</th>\n",
       "      <th>themes</th>\n",
       "      <th>category</th>\n",
       "      <th>keywords</th>\n",
       "      <th>src</th>\n",
       "      <th>path</th>\n",
       "      <th>url</th>\n",
       "      <th>content</th>\n",
       "      <th>LEN</th>\n",
       "      <th>origin</th>\n",
       "    </tr>\n",
       "  </thead>\n",
       "  <tbody>\n",
       "    <tr>\n",
       "      <th>0</th>\n",
       "      <td>blog post</td>\n",
       "      <td>AI, geopolitics, technology, environmental imp...</td>\n",
       "      <td>technology</td>\n",
       "      <td>Iran, Israel, AI, energy consumption, data cen...</td>\n",
       "      <td>2e17bc938e25843ff2f0cd7f7921ef35</td>\n",
       "      <td>drafts/20251012d.md</td>\n",
       "      <td>b'https://www.e-flux.com/architecture/intensif...</td>\n",
       "      <td>Matthew Gault and Emanuel Maiberg, “The AI Slo...</td>\n",
       "      <td>3416</td>\n",
       "      <td>3416.0</td>\n",
       "    </tr>\n",
       "    <tr>\n",
       "      <th>1</th>\n",
       "      <td>blog post</td>\n",
       "      <td>tree planting,environmental conservation,perso...</td>\n",
       "      <td>others</td>\n",
       "      <td>Beau Miles,forest,video,tree,planting,communit...</td>\n",
       "      <td>322059ee66b4d3950cecf00c6cb11a8e</td>\n",
       "      <td>drafts/20251012d.md</td>\n",
       "      <td>b'https://kottke.org/25/09/i-planted-a-forest-...</td>\n",
       "      <td>I Planted a Forest Four Years Ago\\nFour years ...</td>\n",
       "      <td>3619</td>\n",
       "      <td>3619.0</td>\n",
       "    </tr>\n",
       "    <tr>\n",
       "      <th>2</th>\n",
       "      <td>research article</td>\n",
       "      <td>cancer,public health,modifiable risk factors,g...</td>\n",
       "      <td>science</td>\n",
       "      <td>cancer deaths,new cancer cases,risk factors,lo...</td>\n",
       "      <td>44a892a126d54424ddd21d7e27976b85</td>\n",
       "      <td>drafts/20251012d.md</td>\n",
       "      <td>b'https://www.euronews.com/health/2025/09/25/g...</td>\n",
       "      <td>Lower-income countries are expected to be hit ...</td>\n",
       "      <td>2443</td>\n",
       "      <td>2443.0</td>\n",
       "    </tr>\n",
       "    <tr>\n",
       "      <th>3</th>\n",
       "      <td>blog post</td>\n",
       "      <td>personality, individuality, psychology</td>\n",
       "      <td>science</td>\n",
       "      <td>otrovert, introvert, extrovert, Rami Kaminski,...</td>\n",
       "      <td>ee584da3ab69b09c802b62fdd86fa286</td>\n",
       "      <td>drafts/20251012d.md</td>\n",
       "      <td>b'https://www.theguardian.com/society/2025/aug...</td>\n",
       "      <td>Name: Otrovert.\\nAge: The term is brand new.\\n...</td>\n",
       "      <td>2639</td>\n",
       "      <td>2639.0</td>\n",
       "    </tr>\n",
       "    <tr>\n",
       "      <th>4</th>\n",
       "      <td>blog post</td>\n",
       "      <td>otrovert, belonging, individuality, social con...</td>\n",
       "      <td>psychology</td>\n",
       "      <td>otrovert, belonging, individuality, social con...</td>\n",
       "      <td>ca7b62daaef4ca0639c867620d8682e4</td>\n",
       "      <td>drafts/20251012d.md</td>\n",
       "      <td>b'https://jenniferchasefinch.medium.com/are-yo...</td>\n",
       "      <td>Are You an Otrovert?What Belonging Means and W...</td>\n",
       "      <td>18701</td>\n",
       "      <td>18701.0</td>\n",
       "    </tr>\n",
       "    <tr>\n",
       "      <th>...</th>\n",
       "      <td>...</td>\n",
       "      <td>...</td>\n",
       "      <td>...</td>\n",
       "      <td>...</td>\n",
       "      <td>...</td>\n",
       "      <td>...</td>\n",
       "      <td>...</td>\n",
       "      <td>...</td>\n",
       "      <td>...</td>\n",
       "      <td>...</td>\n",
       "    </tr>\n",
       "    <tr>\n",
       "      <th>3064</th>\n",
       "      <td>research article</td>\n",
       "      <td>robotics, neuroscience, human augmentation, br...</td>\n",
       "      <td>science</td>\n",
       "      <td>robotic limbs, brain control, human enhancemen...</td>\n",
       "      <td>faad51d1f885af1db9dee5e5ce52b46e</td>\n",
       "      <td>./substack_cache/substack/20230205</td>\n",
       "      <td>b'https://spectrum.ieee.org/human-augmentation'</td>\n",
       "      <td>Roboticists Want to Give You a Third Arm\\nUnus...</td>\n",
       "      <td>18549</td>\n",
       "      <td>20230205</td>\n",
       "    </tr>\n",
       "    <tr>\n",
       "      <th>3065</th>\n",
       "      <td>error message</td>\n",
       "      <td>404 error, website navigation</td>\n",
       "      <td>others</td>\n",
       "      <td>404, error, not found, navigation</td>\n",
       "      <td>a98477873581dec082fb879c3f7904e1</td>\n",
       "      <td>./substack_cache/substack/20230205</td>\n",
       "      <td>b'https://metaphysic.ai/ai-hollywood-miramax-h...</td>\n",
       "      <td>404\\nGo back home</td>\n",
       "      <td>16</td>\n",
       "      <td>20230205</td>\n",
       "    </tr>\n",
       "    <tr>\n",
       "      <th>3066</th>\n",
       "      <td>news</td>\n",
       "      <td>AI, machine learning, data scarcity, technolog...</td>\n",
       "      <td>technology</td>\n",
       "      <td>AI chatbots, training data, machine learning, ...</td>\n",
       "      <td>85ca2591053db7e76f0d273c63fee1b0</td>\n",
       "      <td>./substack_cache/substack/20230205</td>\n",
       "      <td>b'https://www.newscientist.com/article/2353751...</td>\n",
       "      <td>AI chatbots could hit a ceiling after 2026 as ...</td>\n",
       "      <td>660</td>\n",
       "      <td>20230205</td>\n",
       "    </tr>\n",
       "    <tr>\n",
       "      <th>3067</th>\n",
       "      <td>article</td>\n",
       "      <td>automotive industry, corporate fraud, short se...</td>\n",
       "      <td>technology</td>\n",
       "      <td>Nikola, Trevor Milton, Hindenburg Research, co...</td>\n",
       "      <td>fcd0d8f2b79472618822acb86fccea35</td>\n",
       "      <td>./substack_cache/substack/20230205</td>\n",
       "      <td>b'https://nymag.com/intelligencer/2022/01/nath...</td>\n",
       "      <td>This article was featured in One Great Story, ...</td>\n",
       "      <td>39810</td>\n",
       "      <td>20230205</td>\n",
       "    </tr>\n",
       "    <tr>\n",
       "      <th>3068</th>\n",
       "      <td>blog post</td>\n",
       "      <td>paper maps, digital navigation, millennials, g...</td>\n",
       "      <td>technology</td>\n",
       "      <td>paper maps, Google Maps, navigation, millennia...</td>\n",
       "      <td>70c5542aafd26bb4b293f2bfaa80c61d</td>\n",
       "      <td>./substack_cache/substack/20230205</td>\n",
       "      <td>b'https://www.wsj.com/articles/why-paper-map-s...</td>\n",
       "      <td>Forget Google Maps: Why Paper Map Sales Are Bo...</td>\n",
       "      <td>1090</td>\n",
       "      <td>20230205</td>\n",
       "    </tr>\n",
       "  </tbody>\n",
       "</table>\n",
       "<p>3069 rows × 10 columns</p>\n",
       "</div>"
      ],
      "text/plain": [
       "                  type                                             themes  \\\n",
       "0            blog post  AI, geopolitics, technology, environmental imp...   \n",
       "1            blog post  tree planting,environmental conservation,perso...   \n",
       "2     research article  cancer,public health,modifiable risk factors,g...   \n",
       "3            blog post             personality, individuality, psychology   \n",
       "4            blog post  otrovert, belonging, individuality, social con...   \n",
       "...                ...                                                ...   \n",
       "3064  research article  robotics, neuroscience, human augmentation, br...   \n",
       "3065     error message                      404 error, website navigation   \n",
       "3066              news  AI, machine learning, data scarcity, technolog...   \n",
       "3067           article  automotive industry, corporate fraud, short se...   \n",
       "3068         blog post  paper maps, digital navigation, millennials, g...   \n",
       "\n",
       "        category                                           keywords  \\\n",
       "0     technology  Iran, Israel, AI, energy consumption, data cen...   \n",
       "1         others  Beau Miles,forest,video,tree,planting,communit...   \n",
       "2        science  cancer deaths,new cancer cases,risk factors,lo...   \n",
       "3        science  otrovert, introvert, extrovert, Rami Kaminski,...   \n",
       "4     psychology  otrovert, belonging, individuality, social con...   \n",
       "...          ...                                                ...   \n",
       "3064     science  robotic limbs, brain control, human enhancemen...   \n",
       "3065      others                  404, error, not found, navigation   \n",
       "3066  technology  AI chatbots, training data, machine learning, ...   \n",
       "3067  technology  Nikola, Trevor Milton, Hindenburg Research, co...   \n",
       "3068  technology  paper maps, Google Maps, navigation, millennia...   \n",
       "\n",
       "                                   src                                path  \\\n",
       "0     2e17bc938e25843ff2f0cd7f7921ef35                 drafts/20251012d.md   \n",
       "1     322059ee66b4d3950cecf00c6cb11a8e                 drafts/20251012d.md   \n",
       "2     44a892a126d54424ddd21d7e27976b85                 drafts/20251012d.md   \n",
       "3     ee584da3ab69b09c802b62fdd86fa286                 drafts/20251012d.md   \n",
       "4     ca7b62daaef4ca0639c867620d8682e4                 drafts/20251012d.md   \n",
       "...                                ...                                 ...   \n",
       "3064  faad51d1f885af1db9dee5e5ce52b46e  ./substack_cache/substack/20230205   \n",
       "3065  a98477873581dec082fb879c3f7904e1  ./substack_cache/substack/20230205   \n",
       "3066  85ca2591053db7e76f0d273c63fee1b0  ./substack_cache/substack/20230205   \n",
       "3067  fcd0d8f2b79472618822acb86fccea35  ./substack_cache/substack/20230205   \n",
       "3068  70c5542aafd26bb4b293f2bfaa80c61d  ./substack_cache/substack/20230205   \n",
       "\n",
       "                                                    url  \\\n",
       "0     b'https://www.e-flux.com/architecture/intensif...   \n",
       "1     b'https://kottke.org/25/09/i-planted-a-forest-...   \n",
       "2     b'https://www.euronews.com/health/2025/09/25/g...   \n",
       "3     b'https://www.theguardian.com/society/2025/aug...   \n",
       "4     b'https://jenniferchasefinch.medium.com/are-yo...   \n",
       "...                                                 ...   \n",
       "3064    b'https://spectrum.ieee.org/human-augmentation'   \n",
       "3065  b'https://metaphysic.ai/ai-hollywood-miramax-h...   \n",
       "3066  b'https://www.newscientist.com/article/2353751...   \n",
       "3067  b'https://nymag.com/intelligencer/2022/01/nath...   \n",
       "3068  b'https://www.wsj.com/articles/why-paper-map-s...   \n",
       "\n",
       "                                                content    LEN    origin  \n",
       "0     Matthew Gault and Emanuel Maiberg, “The AI Slo...   3416    3416.0  \n",
       "1     I Planted a Forest Four Years Ago\\nFour years ...   3619    3619.0  \n",
       "2     Lower-income countries are expected to be hit ...   2443    2443.0  \n",
       "3     Name: Otrovert.\\nAge: The term is brand new.\\n...   2639    2639.0  \n",
       "4     Are You an Otrovert?What Belonging Means and W...  18701   18701.0  \n",
       "...                                                 ...    ...       ...  \n",
       "3064  Roboticists Want to Give You a Third Arm\\nUnus...  18549  20230205  \n",
       "3065                                  404\\nGo back home     16  20230205  \n",
       "3066  AI chatbots could hit a ceiling after 2026 as ...    660  20230205  \n",
       "3067  This article was featured in One Great Story, ...  39810  20230205  \n",
       "3068  Forget Google Maps: Why Paper Map Sales Are Bo...   1090  20230205  \n",
       "\n",
       "[3069 rows x 10 columns]"
      ]
     },
     "execution_count": 7,
     "metadata": {},
     "output_type": "execute_result"
    }
   ],
   "source": [
    "nb_articles = 30000\n",
    "# Creating seeds\n",
    "f.createSeeds(n=nb_articles)\n",
    "# Creating metas\n",
    "f.moreIntel(n=nb_articles)\n",
    "# Creating metas\n",
    "f.doMeta(n=nb_articles)"
   ]
  },
  {
   "cell_type": "code",
   "execution_count": null,
   "metadata": {},
   "outputs": [
    {
     "name": "stdout",
     "output_type": "stream",
     "text": [
      "# Doing get_emergingconcerns processing\n",
      "IDs identifiees \t 2998 \t get_emergingconcerns\n",
      "--- Function call:\t 2025-10-04 13:52:44\n"
     ]
    }
   ],
   "source": [
    "f.doProcessing(category=\"get_emergingconcerns\", minL=1500, maxL=30000, n=30000)"
   ]
  },
  {
   "cell_type": "code",
   "execution_count": null,
   "metadata": {},
   "outputs": [],
   "source": [
    "f.writeAllStories()"
   ]
  },
  {
   "cell_type": "markdown",
   "metadata": {},
   "source": [
    "# Using the vectorDB"
   ]
  },
  {
   "cell_type": "code",
   "execution_count": null,
   "metadata": {},
   "outputs": [
    {
     "name": "stdout",
     "output_type": "stream",
     "text": [
      "client=<openai.resources.embeddings.Embeddings object at 0x765ec410af50> async_client=<openai.resources.embeddings.AsyncEmbeddings object at 0x765ec33142b0> model='text-embedding-ada-002' dimensions=None deployment='text-embedding-ada-002' openai_api_version=None openai_api_base=None openai_api_type=None openai_proxy=None embedding_ctx_length=8191 openai_api_key=SecretStr('**********') openai_organization=None allowed_special=None disallowed_special=None chunk_size=1000 max_retries=2 request_timeout=None headers=None tiktoken_enabled=True tiktoken_model_name=None show_progress_bar=False model_kwargs={} skip_empty=False default_headers=None default_query=None retry_min_seconds=4 retry_max_seconds=20 http_client=None http_async_client=None check_embedding_ctx_length=True\n"
     ]
    }
   ],
   "source": [
    "db= DB(llm)"
   ]
  },
  {
   "cell_type": "code",
   "execution_count": null,
   "metadata": {},
   "outputs": [
    {
     "name": "stdout",
     "output_type": "stream",
     "text": [
      "# VectorDB: continue on the DB\n",
      "- VectorDB:  3843 elements already stored.\n",
      "- VectorDB: adding 2999 documents.\n"
     ]
    }
   ],
   "source": [
    "vectordb = db.createDB()"
   ]
  },
  {
   "cell_type": "code",
   "execution_count": null,
   "metadata": {},
   "outputs": [],
   "source": [
    "from futures.pages import PagesWriter"
   ]
  },
  {
   "cell_type": "code",
   "execution_count": null,
   "metadata": {},
   "outputs": [],
   "source": [
    "pw = PagesWriter(db=db)"
   ]
  },
  {
   "cell_type": "code",
   "execution_count": null,
   "metadata": {},
   "outputs": [],
   "source": [
    "df, signals = pw.createPages_metaPrep(longtest=False)"
   ]
  },
  {
   "cell_type": "code",
   "execution_count": null,
   "metadata": {},
   "outputs": [],
   "source": [
    "pw.createPages()\n",
    "pw.createPagesIndex()"
   ]
  },
  {
   "cell_type": "markdown",
   "metadata": {},
   "source": [
    "# Stories"
   ]
  },
  {
   "cell_type": "code",
   "execution_count": null,
   "metadata": {},
   "outputs": [],
   "source": [
    "# Doing the imports\n",
    "from futures.llm import LLM\n",
    "from futures.futurist import Futurist\n",
    "# Let's initialise our AI and our futurist\n",
    "llm = LLM(datastore=\"data/\")\n",
    "f = Futurist(llm)"
   ]
  },
  {
   "cell_type": "code",
   "execution_count": null,
   "metadata": {},
   "outputs": [
    {
     "data": {
      "text/html": [
       "<div>\n",
       "<style scoped>\n",
       "    .dataframe tbody tr th:only-of-type {\n",
       "        vertical-align: middle;\n",
       "    }\n",
       "\n",
       "    .dataframe tbody tr th {\n",
       "        vertical-align: top;\n",
       "    }\n",
       "\n",
       "    .dataframe thead th {\n",
       "        text-align: right;\n",
       "    }\n",
       "</style>\n",
       "<table border=\"1\" class=\"dataframe\">\n",
       "  <thead>\n",
       "    <tr style=\"text-align: right;\">\n",
       "      <th></th>\n",
       "      <th>src</th>\n",
       "      <th>title</th>\n",
       "      <th>story</th>\n",
       "    </tr>\n",
       "  </thead>\n",
       "  <tbody>\n",
       "    <tr>\n",
       "      <th>0</th>\n",
       "      <td>20250302</td>\n",
       "      <td>The Pickle Revolution</td>\n",
       "      <td>The last vestiges of human touch in the sprawl...</td>\n",
       "    </tr>\n",
       "    <tr>\n",
       "      <th>1</th>\n",
       "      <td>20250223</td>\n",
       "      <td>Threads of Tomorrow</td>\n",
       "      <td>The air hummed with the promises of the future...</td>\n",
       "    </tr>\n",
       "    <tr>\n",
       "      <th>2</th>\n",
       "      <td>20230927</td>\n",
       "      <td>Navigating the Jangled Nexus</td>\n",
       "      <td>“The AI consultant was three seconds away from...</td>\n",
       "    </tr>\n",
       "    <tr>\n",
       "      <th>3</th>\n",
       "      <td>20230612</td>\n",
       "      <td>Harvesting Bytes in Snailbrook</td>\n",
       "      <td>In Snailbrook, Texas—a quaint town, where peop...</td>\n",
       "    </tr>\n",
       "    <tr>\n",
       "      <th>4</th>\n",
       "      <td>20230616</td>\n",
       "      <td>Chaotic Symphony of the Green</td>\n",
       "      <td>In a world where digital landscapes blurred th...</td>\n",
       "    </tr>\n",
       "    <tr>\n",
       "      <th>...</th>\n",
       "      <td>...</td>\n",
       "      <td>...</td>\n",
       "      <td>...</td>\n",
       "    </tr>\n",
       "    <tr>\n",
       "      <th>192</th>\n",
       "      <td>20251005d</td>\n",
       "      <td>Digitally Analog: A Journey Through AI and Nos...</td>\n",
       "      <td>In a not-so-distant future, where today’s idle...</td>\n",
       "    </tr>\n",
       "    <tr>\n",
       "      <th>193</th>\n",
       "      <td>20250914</td>\n",
       "      <td>Cosmic Whispers in Oak Grove</td>\n",
       "      <td>In a nondescript American suburb, homeowners w...</td>\n",
       "    </tr>\n",
       "    <tr>\n",
       "      <th>194</th>\n",
       "      <td>20250921</td>\n",
       "      <td>Fragmented Futures</td>\n",
       "      <td>Marcus had always believed that the world, wit...</td>\n",
       "    </tr>\n",
       "    <tr>\n",
       "      <th>195</th>\n",
       "      <td>20251012d</td>\n",
       "      <td>Echoes of a Digital Dystopia</td>\n",
       "      <td>It was a day like no other in the bustling cit...</td>\n",
       "    </tr>\n",
       "    <tr>\n",
       "      <th>196</th>\n",
       "      <td>20250928</td>\n",
       "      <td>Breaking the Corporate Mold</td>\n",
       "      <td>The day started like any other, with a riot of...</td>\n",
       "    </tr>\n",
       "  </tbody>\n",
       "</table>\n",
       "<p>197 rows × 3 columns</p>\n",
       "</div>"
      ],
      "text/plain": [
       "           src                                              title  \\\n",
       "0     20250302                              The Pickle Revolution   \n",
       "1     20250223                                Threads of Tomorrow   \n",
       "2     20230927                       Navigating the Jangled Nexus   \n",
       "3     20230612                     Harvesting Bytes in Snailbrook   \n",
       "4     20230616                      Chaotic Symphony of the Green   \n",
       "..         ...                                                ...   \n",
       "192  20251005d  Digitally Analog: A Journey Through AI and Nos...   \n",
       "193   20250914                       Cosmic Whispers in Oak Grove   \n",
       "194   20250921                                 Fragmented Futures   \n",
       "195  20251012d                       Echoes of a Digital Dystopia   \n",
       "196   20250928                        Breaking the Corporate Mold   \n",
       "\n",
       "                                                 story  \n",
       "0    The last vestiges of human touch in the sprawl...  \n",
       "1    The air hummed with the promises of the future...  \n",
       "2    “The AI consultant was three seconds away from...  \n",
       "3    In Snailbrook, Texas—a quaint town, where peop...  \n",
       "4    In a world where digital landscapes blurred th...  \n",
       "..                                                 ...  \n",
       "192  In a not-so-distant future, where today’s idle...  \n",
       "193  In a nondescript American suburb, homeowners w...  \n",
       "194  Marcus had always believed that the world, wit...  \n",
       "195  It was a day like no other in the bustling cit...  \n",
       "196  The day started like any other, with a riot of...  \n",
       "\n",
       "[197 rows x 3 columns]"
      ]
     },
     "execution_count": 17,
     "metadata": {},
     "output_type": "execute_result"
    }
   ],
   "source": [
    "import pandas as pd\n",
    "pd.read_parquet(\"data/stories.parquet.gzip\")"
   ]
  },
  {
   "cell_type": "code",
   "execution_count": null,
   "metadata": {},
   "outputs": [],
   "source": [
    "f.writeAllStories()"
   ]
  },
  {
   "cell_type": "code",
   "execution_count": null,
   "metadata": {},
   "outputs": [
    {
     "name": "stdout",
     "output_type": "stream",
     "text": [
      "## Breaking the Corporate Mold\n",
      "\n",
      "The day started like any other, with a riot of colors spilling through the window as the sun wrestled its way into existence. Kim was already at her workstation, not so much typing as interpreting the codes and mantras of the latest corporate digital-bureaucratic incantation known as “Project Streamlined Efficiency.” By all accounts, this project—the latest homage to the multilayered deity of AI—was designed to eliminate what had come to be termed as “friction” in the workplace. All it really accomplished, though, was to transform human ingenuity into a placebo effect of productivity. Much like decaffeinated coffee, it looked the same but left an awkward void where excitement ought to be. \n",
      "\n",
      "“Friction is where you find the truth of progress,” she murmured, recalling a strikingly unremarkable TED Talk that went on for about five hours on how to squeeze innovation from your average corporate cucumber^1. This philosophy clashed spectacularly with her cringeful roles in various brainstorming meetings where she often found herself staring blankly at a PowerPoint presentation as thrilling as watching ceaselessly buzzing flies contemplating their own mortality. Kim suspected she was just a well-disguised “bullshit job” artist, paid to nod vigorously at ideas that veered dangerously close to, if not directly violating, the tenets of common sense.\n",
      "\n",
      "Then came the email that rerouted her day: “You’ve been invited to share your ideas in the demo scene.” Ah, the demo scene—the peculiar cult of digital artists and programmatic sorcerers who viewed each pixel and byte as a conduit for cultural evolution^2. They had survived the existential dread of being buried under “trendy fads,” the dizzying influx of Labubus and other short-lived whims, while upholding the glory of nostalgia lampshaded with irony. Kim felt a flicker—a long-neglected spark—kindling in the recesses of consciousness long dormant. Perhaps that intimate connection with creation was what was missing from her cushy yet vacuous transactions with the corporate universe^3.\n",
      "\n",
      "Later that day, as she perused the depths of various coding forums adorned with avatars of Smurfs and other characters donned in the curious Phrygian cap—an unintentional trend from the French Revolution that’d suddenly resurfaced like a fizzy drink after an earthquake^4—she pondered the subtle art of human interaction. Little did she know that amongst the cacophony, her growing discontent was a precursor to the resurgence of “vivus skills”^5—the tacit understanding that life isn’t a series of corporate checkboxes but rather an intricate dance between the mundane and the profound.\n",
      "\n",
      "She found herself at a backyard gathering that evening, where laughter sprinkled like stardust, and frustration about corporate monotony vanished into the ether. It was there that she heard tales of others drowning in a sea of job qualification mismatches—whereoverqualified souls languished while eager underqualified spirits reinvented escape routes^6. Amidst the shared stories, the collective wisdom emerged: this hiccup in the economy created opportunity, not just for innovation but for meaningful connection.\n",
      "\n",
      "As she stepped back into the universe of her too-bright apartment, Kim felt a twinge—an acknowledgment of the burden of trying to keep pace with systemic issues for which she had little control^7. But against the backdrop of her journey through corporate banality and unfurling creativity, she realized she could run her own simulations, designing her life anew by embracing the musical melodies resonating within her, just waiting to replicate and mutate into something extraordinary. \n",
      "\n",
      "And so, with an odd sense of hope, Kim sat down before her screen, transformed not just by a newfound calling to create, but by insisting that the boundaries of the professional world need not be cages but launchpads into the expansive realms of possibility.\n",
      "\n",
      "---\n",
      "\n",
      "^1 The previous episode of \"That Was Supposed to Excite Us\" has been discontinued due to lack of viewer enthusiasm. \n",
      "\n",
      "^2 And, perhaps with a hint of pretentiousness that only the digitally inclined could muster.\n",
      "\n",
      "^3 Much like cooking gourmet meals with microwave popcorn.\n",
      "\n",
      "^4 History taking its cues from fashion—because who says wearing a freedom cap is no different from sporting a fedora on Sunday brunch?\n",
      "\n",
      "^5 A movement active since the dawn of human conversations; we just forgot to celebrate it in the mainstream.\n",
      "\n",
      "^6 Which sounds like the premise for a detective novel no one asked for, starring overworked coffee mugs instead of private eyes.\n",
      "\n",
      "^7 Meanwhile, regulators find it oddly comfortable to navigate their own bureaucratic jamborees—like attending a party where no one talks about the elephant in the room, which in this case, is a dancing unicorn.\n"
     ]
    }
   ],
   "source": [
    "print(f.getStory(\"20250928d\"))"
   ]
  },
  {
   "cell_type": "code",
   "execution_count": null,
   "metadata": {},
   "outputs": [
    {
     "name": "stdout",
     "output_type": "stream",
     "text": [
      "## Echoes of a Digital Dystopia\n",
      "\n",
      "It was a day like no other in the bustling city of New Tokyo, where the subway system made navigation as effortless as the morning coffee frothed by an overly enthusiastic barista. The trains glided in and out with the punctuality of a Swiss watch, each color-coded line whispering sweet secrets to the weary commuters who rode toward their destinations. No one stopped to consider that the elegant platform screen doors were like the city’s own guardians, ensuring only the ambitious and discerning could leap into the unknown. \n",
      "\n",
      "Amidst this choreographed chaos, Mira, an otrovert[1], found comfort in the idea that anonymity thrived in tightly packed crowds. She often observed the world through a unique lens—one that filtered out the clamor of collective belonging. While other passengers flashed glances at their smartphones, Mira craved the tactile nature of a vintage vinyl record or the sweet snaps of a long-forgotten CD player[2]. There it was, her connection to nostalgia in a world fizzling with AI-generated noise—she hummed to the tune of an old pop song, reminiscent of the summer concerts her parents had attended back in the day.\n",
      "\n",
      "Her reverie was interrupted by an urgent ping from her AI assistant, Athena, who had just finished recalibrating its quantum computations[3]. “Good afternoon, Mira. The latest fashion trend reports a revived interest in 2000s tech,” it chirped. Mira shook her head, puzzled. “Why on Earth would anyone choose a flip phone over the convenience of a smartphone? Are we truly devolving?” \n",
      "\n",
      "Athena dispatched a flurry of analytical data about Gen Z’s screen fatigue, framing the return to retro technology as both a whimsy and rebellion against digital overexposure. As Mira rode the train, she considered the teetering cliff of societal change. A less connected world seemed both charming and absurd, like a playful dalliance with an ex-lover who still frequently texted but now resembled a retro toy. \n",
      "\n",
      "The topic turned somber as news flashed across the station monitors: a report warning of a staggering rise in cancer cases globally. The predictions were unsettling, particularly for lower-income areas[4]. Mira fished a handkerchief from her bag, using it to wipe beads of sweat from her brow as pressure mounted: Were we generations of otroverts—aloof outsiders to our own fate?\n",
      "\n",
      "As the train jerked to a halt, Mira stepped out and into a bustling café where folk engaged in earnest discussions about the new AI governance proposals. She’d read that world leaders were grappling with the ethics of surveillance and the unquenchable thirst for data[5]. Fueled by a jolt of espresso, Mira joined a table of friends debating the implications of AI on human connections—lowering barriers, yet creating new ones.  \n",
      "\n",
      "Her friend, Dave, spoke passionately about a new platform designed to enhance psychological safety within workplaces. “Can you imagine asking a toaster for emotional support?” he joked, his eyebrows waggling. The joke reflected an unsettling truth—that technology was positioned to be our confidant in cold moments.\n",
      "\n",
      "\"Perhaps,\" Mira said, \"the path forward isn’t merely about better tech but about embracing our authentic selves in this digital cacophony.\" She brandished her flip phone with newfound pride, a token of rebellion and nostalgia[6]. The others chuckled, but their laughter was tinged with the bittersweet reality that sometimes, stepping away felt like stepping closer.\n",
      "\n",
      "In New Tokyo, where the souls of otroverts struggled under a relentless tide of data and digitization, one could still hear the delicate note of vinyl spinning in the background. Indeed, humanity felt like a weaving of stories, a collective journey tinged with vibrant colors brushing against the monochrome hallway of the future.\n",
      "\n",
      "---\n",
      "\n",
      "[1] See: Rami Kaminski’s groundbreaking theory on personality types.\n",
      "[2] A poignant twist, reminiscent of bygone eras, much like listening to early pop hits.\n",
      "[3] Because why should anyone settle for simply functioning when they can do it, well, quantumly?\n",
      "[4] A sobering reminder that even in advanced societies, disparities loom large.\n",
      "[5] Because another layer of surveillance is the last thing we need to complete our advanced AI baggage.\n",
      "[6] A bold stand against the digital brigade—sometimes it’s the little things that make the big impact.\n"
     ]
    }
   ],
   "source": [
    "print(f.getStory(\"20251012d\"))"
   ]
  }
 ],
 "metadata": {
  "kernelspec": {
   "display_name": "futures-py3.10",
   "language": "python",
   "name": "python3"
  },
  "language_info": {
   "codemirror_mode": {
    "name": "ipython",
    "version": 3
   },
   "file_extension": ".py",
   "mimetype": "text/x-python",
   "name": "python",
   "nbconvert_exporter": "python",
   "pygments_lexer": "ipython3",
   "version": "3.10.12"
  }
 },
 "nbformat": 4,
 "nbformat_minor": 4
}
