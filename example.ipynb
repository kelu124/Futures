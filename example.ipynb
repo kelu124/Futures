{
 "cells": [
  {
   "cell_type": "code",
   "execution_count": 1,
   "metadata": {},
   "outputs": [],
   "source": [
    "%load_ext autoreload\n",
    "%autoreload 2"
   ]
  },
  {
   "cell_type": "code",
   "execution_count": 2,
   "metadata": {},
   "outputs": [],
   "source": [
    "from futures.llm import LLM\n",
    "from futures.futurist import Futurist\n",
    "from futures.db import DB\n",
    "from futures.substack import SubstackManager\n",
    " "
   ]
  },
  {
   "cell_type": "code",
   "execution_count": 3,
   "metadata": {},
   "outputs": [],
   "source": [
    "sm = SubstackManager()"
   ]
  },
  {
   "cell_type": "code",
   "execution_count": 4,
   "metadata": {},
   "outputs": [],
   "source": [
    "pages = sm.download_pages()"
   ]
  },
  {
   "cell_type": "code",
   "execution_count": 5,
   "metadata": {},
   "outputs": [
    {
     "name": "stdout",
     "output_type": "stream",
     "text": [
      "# Substack manager starts\n",
      "- Substack manager:  20250316 exists\n",
      "- Substack manager:  20250223 exists\n",
      "- Substack manager:  20250302 exists\n",
      "- Substack manager:  20250209 exists\n",
      "- Substack manager:  20250323 exists\n",
      "- Substack manager:  20250126 exists\n",
      "- Substack manager:  20250406 saved\n",
      "- Substack manager:  20250216 exists\n",
      "- Substack manager:  20250309 exists\n",
      "- Substack manager:  20250119 exists\n",
      "- Substack manager:  20250202 exists\n",
      "- Substack manager:  20250330 exists\n",
      "# Saving links from the substack pages\n",
      "-  9d42c850b3188fa657b08316a6cefb66 saved.\n",
      "-  32e91a01ba181534d1578186bfcc240a saved.\n",
      "-  424dd84488f34cb7d735777fe34b584e saved.\n",
      "-  c35c427f089d1f3c2ef177dc893e52ee saved.\n",
      "-  1897dff3d6431d49e94f4ed608ad1066 saved.\n",
      "-  fb8ea2adbf9060655c750ad3d45e62ab saved.\n",
      "-  660a40ff9f9b84e44ac720b50563da13 saved.\n",
      "-  022948cfca63c6c07ab9d18f953678fb saved.\n",
      "b'https://www.washingtonpost.com/technology/2025/03/24/23andme-dna-privacy-delete/' error.\n",
      "-  1b91002ee5b425f590ab9c00af4ce874 saved.\n",
      "-  e270655b9be8a586dc8c96e28fd502f3 saved.\n",
      "-  62a3dbd983dbf56254705f5567c8df55 saved.\n"
     ]
    }
   ],
   "source": [
    "sm.getPages() # 25seconds"
   ]
  },
  {
   "cell_type": "code",
   "execution_count": 6,
   "metadata": {},
   "outputs": [],
   "source": [
    "# Let's initialise our AI and our futurist\n",
    "llm = LLM(datastore=\"data/\")\n",
    "f = Futurist(llm)"
   ]
  },
  {
   "cell_type": "code",
   "execution_count": 7,
   "metadata": {},
   "outputs": [
    {
     "name": "stdout",
     "output_type": "stream",
     "text": [
      "# Doing get_weaksignals processing\n",
      "IDs identifiees \t 2563 \t get_weaksignals\n",
      "--- Function call:\t 2025-04-06 13:40:10\n",
      "--- Function call:\t 2025-04-06 13:40:17\n",
      "--- Function call:\t 2025-04-06 13:40:23\n",
      "--- Function call:\t 2025-04-06 13:40:30\n",
      "--- Function call:\t 2025-04-06 13:40:37\n",
      "--- Function call:\t 2025-04-06 13:40:43\n",
      "--- Function call:\t 2025-04-06 13:40:50\n",
      "--- Function call:\t 2025-04-06 13:40:56\n",
      "--- Function call:\t 2025-04-06 13:40:56\n",
      "# Doing get_summary processing\n",
      "IDs identifiees \t 2564 \t get_summary\n",
      "--- Function call:\t 2025-04-06 13:41:03\n",
      "--- Function call:\t 2025-04-06 13:41:07\n",
      "--- Function call:\t 2025-04-06 13:41:10\n",
      "--- Function call:\t 2025-04-06 13:41:13\n",
      "--- Function call:\t 2025-04-06 13:41:16\n",
      "--- Function call:\t 2025-04-06 13:41:19\n",
      "--- Function call:\t 2025-04-06 13:41:22\n",
      "--- Function call:\t 2025-04-06 13:41:25\n",
      "# Doing get_emergingissues processing\n",
      "IDs identifiees \t 2564 \t get_emergingissues\n",
      "--- Function call:\t 2025-04-06 13:41:31\n",
      "--- Function call:\t 2025-04-06 13:41:36\n",
      "--- Function call:\t 2025-04-06 13:41:41\n",
      "--- Function call:\t 2025-04-06 13:41:44\n",
      "--- Function call:\t 2025-04-06 13:41:48\n",
      "--- Function call:\t 2025-04-06 13:41:52\n",
      "--- Function call:\t 2025-04-06 13:41:56\n",
      "--- Function call:\t 2025-04-06 13:42:01\n",
      "# Doing get_emergingtechnologies processing\n",
      "IDs identifiees \t 2562 \t get_emergingtechnologies\n",
      "--- Function call:\t 2025-04-06 13:42:07\n",
      "--- Function call:\t 2025-04-06 13:42:09\n",
      "--- Function call:\t 2025-04-06 13:42:12\n",
      "--- Function call:\t 2025-04-06 13:42:14\n",
      "--- Function call:\t 2025-04-06 13:42:17\n",
      "--- Function call:\t 2025-04-06 13:42:20\n",
      "--- Function call:\t 2025-04-06 13:42:23\n",
      "--- Function call:\t 2025-04-06 13:42:26\n",
      "--- Function call:\t 2025-04-06 13:42:27\n",
      "--- Function call:\t 2025-04-06 13:42:28\n",
      "# Doing get_emergingbehaviors processing\n",
      "IDs identifiees \t 2564 \t get_emergingbehaviors\n",
      "--- Function call:\t 2025-04-06 13:42:33\n",
      "--- Function call:\t 2025-04-06 13:42:38\n",
      "--- Function call:\t 2025-04-06 13:42:46\n",
      "--- Function call:\t 2025-04-06 13:42:50\n",
      "--- Function call:\t 2025-04-06 13:42:56\n",
      "--- Function call:\t 2025-04-06 13:43:01\n",
      "--- Function call:\t 2025-04-06 13:43:05\n",
      "--- Function call:\t 2025-04-06 13:43:09\n",
      "# Doing get_emergingconcerns processing\n",
      "IDs identifiees \t 2564 \t get_emergingconcerns\n",
      "--- Function call:\t 2025-04-06 13:43:17\n",
      "--- Function call:\t 2025-04-06 13:43:22\n",
      "--- Function call:\t 2025-04-06 13:43:26\n",
      "--- Function call:\t 2025-04-06 13:43:30\n",
      "--- Function call:\t 2025-04-06 13:43:34\n",
      "--- Function call:\t 2025-04-06 13:43:39\n",
      "--- Function call:\t 2025-04-06 13:43:47\n",
      "--- Function call:\t 2025-04-06 13:43:55\n",
      "# Doing metas processing\n",
      "--- Function call:\t 2025-04-06 13:44:02\n",
      "--- Function call:\t 2025-04-06 13:44:03\n",
      "--- Function call:\t 2025-04-06 13:44:05\n",
      "--- Function call:\t 2025-04-06 13:44:06\n",
      "--- Function call:\t 2025-04-06 13:44:08\n",
      "--- Function call:\t 2025-04-06 13:44:09\n",
      "--- Function call:\t 2025-04-06 13:44:11\n",
      "--- Function call:\t 2025-04-06 13:44:12\n"
     ]
    },
    {
     "data": {
      "text/html": [
       "<div>\n",
       "<style scoped>\n",
       "    .dataframe tbody tr th:only-of-type {\n",
       "        vertical-align: middle;\n",
       "    }\n",
       "\n",
       "    .dataframe tbody tr th {\n",
       "        vertical-align: top;\n",
       "    }\n",
       "\n",
       "    .dataframe thead th {\n",
       "        text-align: right;\n",
       "    }\n",
       "</style>\n",
       "<table border=\"1\" class=\"dataframe\">\n",
       "  <thead>\n",
       "    <tr style=\"text-align: right;\">\n",
       "      <th></th>\n",
       "      <th>type</th>\n",
       "      <th>themes</th>\n",
       "      <th>category</th>\n",
       "      <th>keywords</th>\n",
       "      <th>src</th>\n",
       "      <th>path</th>\n",
       "      <th>url</th>\n",
       "      <th>content</th>\n",
       "      <th>LEN</th>\n",
       "      <th>origin</th>\n",
       "    </tr>\n",
       "  </thead>\n",
       "  <tbody>\n",
       "    <tr>\n",
       "      <th>0</th>\n",
       "      <td>news</td>\n",
       "      <td>scam centers, human trafficking, organized cri...</td>\n",
       "      <td>politics</td>\n",
       "      <td>Myanmar, Thailand, scam operations, human traf...</td>\n",
       "      <td>1b91002ee5b425f590ab9c00af4ce874</td>\n",
       "      <td>./substack_cache/substack/20250406</td>\n",
       "      <td>b'https://edition.cnn.com/2025/04/02/asia/myan...</td>\n",
       "      <td>Hundreds of men and women stand in rows, divid...</td>\n",
       "      <td>13234</td>\n",
       "      <td>13234.0</td>\n",
       "    </tr>\n",
       "    <tr>\n",
       "      <th>1</th>\n",
       "      <td>blog post</td>\n",
       "      <td>color perception, neuroscience, brain function...</td>\n",
       "      <td>science</td>\n",
       "      <td>color, purple, brain, eyesight, light spectrum...</td>\n",
       "      <td>1897dff3d6431d49e94f4ed608ad1066</td>\n",
       "      <td>./substack_cache/substack/20250406</td>\n",
       "      <td>b'https://www.snexplores.org/article/color-pur...</td>\n",
       "      <td>Purple exists only in our brains\\nThe color is...</td>\n",
       "      <td>6716</td>\n",
       "      <td>6716.0</td>\n",
       "    </tr>\n",
       "    <tr>\n",
       "      <th>2</th>\n",
       "      <td>blog post</td>\n",
       "      <td>life expectancy, wealth inequality, health dis...</td>\n",
       "      <td>science</td>\n",
       "      <td>life expectancy, wealth inequality, health dis...</td>\n",
       "      <td>9d42c850b3188fa657b08316a6cefb66</td>\n",
       "      <td>./substack_cache/substack/20250406</td>\n",
       "      <td>b'https://arstechnica.com/health/2025/04/wealt...</td>\n",
       "      <td>It's well-established that, on the whole, Amer...</td>\n",
       "      <td>1661</td>\n",
       "      <td>1661.0</td>\n",
       "    </tr>\n",
       "    <tr>\n",
       "      <th>3</th>\n",
       "      <td>blog post</td>\n",
       "      <td>silica gel, humidity control, global supply ch...</td>\n",
       "      <td>science</td>\n",
       "      <td>silica gel, desiccants, humidity, packaging te...</td>\n",
       "      <td>e270655b9be8a586dc8c96e28fd502f3</td>\n",
       "      <td>./substack_cache/substack/20250406</td>\n",
       "      <td>b'https://www.scopeofwork.net/silica-gel/'</td>\n",
       "      <td>I find them stuffed into the toes of a new pai...</td>\n",
       "      <td>9588</td>\n",
       "      <td>9588.0</td>\n",
       "    </tr>\n",
       "    <tr>\n",
       "      <th>4</th>\n",
       "      <td>research article</td>\n",
       "      <td>brain simulation, nematode, C. elegans, neuros...</td>\n",
       "      <td>science</td>\n",
       "      <td>C. elegans, brain simulation, connectome, neur...</td>\n",
       "      <td>32e91a01ba181534d1578186bfcc240a</td>\n",
       "      <td>./substack_cache/substack/20250406</td>\n",
       "      <td>b'https://asteriskmag.com/issues/09/we-can-mus...</td>\n",
       "      <td>Scientists have spent over 25 years trying — a...</td>\n",
       "      <td>19347</td>\n",
       "      <td>19347.0</td>\n",
       "    </tr>\n",
       "    <tr>\n",
       "      <th>...</th>\n",
       "      <td>...</td>\n",
       "      <td>...</td>\n",
       "      <td>...</td>\n",
       "      <td>...</td>\n",
       "      <td>...</td>\n",
       "      <td>...</td>\n",
       "      <td>...</td>\n",
       "      <td>...</td>\n",
       "      <td>...</td>\n",
       "      <td>...</td>\n",
       "    </tr>\n",
       "    <tr>\n",
       "      <th>2637</th>\n",
       "      <td>research article</td>\n",
       "      <td>robotics, neuroscience, human augmentation, br...</td>\n",
       "      <td>science</td>\n",
       "      <td>robotic limbs, brain control, human enhancemen...</td>\n",
       "      <td>faad51d1f885af1db9dee5e5ce52b46e</td>\n",
       "      <td>./substack_cache/substack/20230205</td>\n",
       "      <td>b'https://spectrum.ieee.org/human-augmentation'</td>\n",
       "      <td>Roboticists Want to Give You a Third Arm\\nUnus...</td>\n",
       "      <td>18549</td>\n",
       "      <td>20230205</td>\n",
       "    </tr>\n",
       "    <tr>\n",
       "      <th>2638</th>\n",
       "      <td>error message</td>\n",
       "      <td>404 error, website navigation</td>\n",
       "      <td>others</td>\n",
       "      <td>404, error, not found, navigation</td>\n",
       "      <td>a98477873581dec082fb879c3f7904e1</td>\n",
       "      <td>./substack_cache/substack/20230205</td>\n",
       "      <td>b'https://metaphysic.ai/ai-hollywood-miramax-h...</td>\n",
       "      <td>404\\nGo back home</td>\n",
       "      <td>16</td>\n",
       "      <td>20230205</td>\n",
       "    </tr>\n",
       "    <tr>\n",
       "      <th>2639</th>\n",
       "      <td>news</td>\n",
       "      <td>AI, machine learning, data scarcity, technolog...</td>\n",
       "      <td>technology</td>\n",
       "      <td>AI chatbots, training data, machine learning, ...</td>\n",
       "      <td>85ca2591053db7e76f0d273c63fee1b0</td>\n",
       "      <td>./substack_cache/substack/20230205</td>\n",
       "      <td>b'https://www.newscientist.com/article/2353751...</td>\n",
       "      <td>AI chatbots could hit a ceiling after 2026 as ...</td>\n",
       "      <td>660</td>\n",
       "      <td>20230205</td>\n",
       "    </tr>\n",
       "    <tr>\n",
       "      <th>2640</th>\n",
       "      <td>article</td>\n",
       "      <td>automotive industry, corporate fraud, short se...</td>\n",
       "      <td>technology</td>\n",
       "      <td>Nikola, Trevor Milton, Hindenburg Research, co...</td>\n",
       "      <td>fcd0d8f2b79472618822acb86fccea35</td>\n",
       "      <td>./substack_cache/substack/20230205</td>\n",
       "      <td>b'https://nymag.com/intelligencer/2022/01/nath...</td>\n",
       "      <td>This article was featured in One Great Story, ...</td>\n",
       "      <td>39810</td>\n",
       "      <td>20230205</td>\n",
       "    </tr>\n",
       "    <tr>\n",
       "      <th>2641</th>\n",
       "      <td>blog post</td>\n",
       "      <td>paper maps, digital navigation, millennials, g...</td>\n",
       "      <td>technology</td>\n",
       "      <td>paper maps, Google Maps, navigation, millennia...</td>\n",
       "      <td>70c5542aafd26bb4b293f2bfaa80c61d</td>\n",
       "      <td>./substack_cache/substack/20230205</td>\n",
       "      <td>b'https://www.wsj.com/articles/why-paper-map-s...</td>\n",
       "      <td>Forget Google Maps: Why Paper Map Sales Are Bo...</td>\n",
       "      <td>1090</td>\n",
       "      <td>20230205</td>\n",
       "    </tr>\n",
       "  </tbody>\n",
       "</table>\n",
       "<p>2642 rows × 10 columns</p>\n",
       "</div>"
      ],
      "text/plain": [
       "                  type                                             themes  \\\n",
       "0                 news  scam centers, human trafficking, organized cri...   \n",
       "1            blog post  color perception, neuroscience, brain function...   \n",
       "2            blog post  life expectancy, wealth inequality, health dis...   \n",
       "3            blog post  silica gel, humidity control, global supply ch...   \n",
       "4     research article  brain simulation, nematode, C. elegans, neuros...   \n",
       "...                ...                                                ...   \n",
       "2637  research article  robotics, neuroscience, human augmentation, br...   \n",
       "2638     error message                      404 error, website navigation   \n",
       "2639              news  AI, machine learning, data scarcity, technolog...   \n",
       "2640           article  automotive industry, corporate fraud, short se...   \n",
       "2641         blog post  paper maps, digital navigation, millennials, g...   \n",
       "\n",
       "        category                                           keywords  \\\n",
       "0       politics  Myanmar, Thailand, scam operations, human traf...   \n",
       "1        science  color, purple, brain, eyesight, light spectrum...   \n",
       "2        science  life expectancy, wealth inequality, health dis...   \n",
       "3        science  silica gel, desiccants, humidity, packaging te...   \n",
       "4        science  C. elegans, brain simulation, connectome, neur...   \n",
       "...          ...                                                ...   \n",
       "2637     science  robotic limbs, brain control, human enhancemen...   \n",
       "2638      others                  404, error, not found, navigation   \n",
       "2639  technology  AI chatbots, training data, machine learning, ...   \n",
       "2640  technology  Nikola, Trevor Milton, Hindenburg Research, co...   \n",
       "2641  technology  paper maps, Google Maps, navigation, millennia...   \n",
       "\n",
       "                                   src                                path  \\\n",
       "0     1b91002ee5b425f590ab9c00af4ce874  ./substack_cache/substack/20250406   \n",
       "1     1897dff3d6431d49e94f4ed608ad1066  ./substack_cache/substack/20250406   \n",
       "2     9d42c850b3188fa657b08316a6cefb66  ./substack_cache/substack/20250406   \n",
       "3     e270655b9be8a586dc8c96e28fd502f3  ./substack_cache/substack/20250406   \n",
       "4     32e91a01ba181534d1578186bfcc240a  ./substack_cache/substack/20250406   \n",
       "...                                ...                                 ...   \n",
       "2637  faad51d1f885af1db9dee5e5ce52b46e  ./substack_cache/substack/20230205   \n",
       "2638  a98477873581dec082fb879c3f7904e1  ./substack_cache/substack/20230205   \n",
       "2639  85ca2591053db7e76f0d273c63fee1b0  ./substack_cache/substack/20230205   \n",
       "2640  fcd0d8f2b79472618822acb86fccea35  ./substack_cache/substack/20230205   \n",
       "2641  70c5542aafd26bb4b293f2bfaa80c61d  ./substack_cache/substack/20230205   \n",
       "\n",
       "                                                    url  \\\n",
       "0     b'https://edition.cnn.com/2025/04/02/asia/myan...   \n",
       "1     b'https://www.snexplores.org/article/color-pur...   \n",
       "2     b'https://arstechnica.com/health/2025/04/wealt...   \n",
       "3            b'https://www.scopeofwork.net/silica-gel/'   \n",
       "4     b'https://asteriskmag.com/issues/09/we-can-mus...   \n",
       "...                                                 ...   \n",
       "2637    b'https://spectrum.ieee.org/human-augmentation'   \n",
       "2638  b'https://metaphysic.ai/ai-hollywood-miramax-h...   \n",
       "2639  b'https://www.newscientist.com/article/2353751...   \n",
       "2640  b'https://nymag.com/intelligencer/2022/01/nath...   \n",
       "2641  b'https://www.wsj.com/articles/why-paper-map-s...   \n",
       "\n",
       "                                                content    LEN    origin  \n",
       "0     Hundreds of men and women stand in rows, divid...  13234   13234.0  \n",
       "1     Purple exists only in our brains\\nThe color is...   6716    6716.0  \n",
       "2     It's well-established that, on the whole, Amer...   1661    1661.0  \n",
       "3     I find them stuffed into the toes of a new pai...   9588    9588.0  \n",
       "4     Scientists have spent over 25 years trying — a...  19347   19347.0  \n",
       "...                                                 ...    ...       ...  \n",
       "2637  Roboticists Want to Give You a Third Arm\\nUnus...  18549  20230205  \n",
       "2638                                  404\\nGo back home     16  20230205  \n",
       "2639  AI chatbots could hit a ceiling after 2026 as ...    660  20230205  \n",
       "2640  This article was featured in One Great Story, ...  39810  20230205  \n",
       "2641  Forget Google Maps: Why Paper Map Sales Are Bo...   1090  20230205  \n",
       "\n",
       "[2642 rows x 10 columns]"
      ]
     },
     "execution_count": 7,
     "metadata": {},
     "output_type": "execute_result"
    }
   ],
   "source": [
    "nb_articles = 30000\n",
    "# Creating seeds\n",
    "f.createSeeds(n=nb_articles)\n",
    "# Creating metas\n",
    "f.moreIntel(n=nb_articles)\n",
    "# Creating metas\n",
    "f.doMeta(n=nb_articles)"
   ]
  },
  {
   "cell_type": "code",
   "execution_count": 8,
   "metadata": {},
   "outputs": [
    {
     "name": "stdout",
     "output_type": "stream",
     "text": [
      "# Doing get_emergingconcerns processing\n",
      "IDs identifiees \t 2572 \t get_emergingconcerns\n"
     ]
    }
   ],
   "source": [
    "f.doProcessing(category=\"get_emergingconcerns\", minL=1500, maxL=30000, n=30000)"
   ]
  },
  {
   "cell_type": "code",
   "execution_count": 9,
   "metadata": {},
   "outputs": [
    {
     "name": "stdout",
     "output_type": "stream",
     "text": [
      "# Writing stories for ['20250406']\n",
      "- Doing story for 20250406\n",
      "--- gpt-4o-mini:\t 2025-04-06 13:44:43\n",
      "--- gpt-4o-mini:\t 2025-04-06 13:44:43\n"
     ]
    }
   ],
   "source": [
    "f.writeAllStories()"
   ]
  },
  {
   "cell_type": "markdown",
   "metadata": {},
   "source": [
    "# Using the vectorDB"
   ]
  },
  {
   "cell_type": "code",
   "execution_count": 10,
   "metadata": {},
   "outputs": [
    {
     "name": "stdout",
     "output_type": "stream",
     "text": [
      "client=<openai.resources.embeddings.Embeddings object at 0x7a6208ded720> async_client=<openai.resources.embeddings.AsyncEmbeddings object at 0x7a6208142230> model='text-embedding-ada-002' dimensions=None deployment='text-embedding-ada-002' openai_api_version=None openai_api_base=None openai_api_type=None openai_proxy=None embedding_ctx_length=8191 openai_api_key=SecretStr('**********') openai_organization=None allowed_special=None disallowed_special=None chunk_size=1000 max_retries=2 request_timeout=None headers=None tiktoken_enabled=True tiktoken_model_name=None show_progress_bar=False model_kwargs={} skip_empty=False default_headers=None default_query=None retry_min_seconds=4 retry_max_seconds=20 http_client=None http_async_client=None check_embedding_ctx_length=True\n"
     ]
    }
   ],
   "source": [
    "db= DB(llm)"
   ]
  },
  {
   "cell_type": "code",
   "execution_count": 11,
   "metadata": {},
   "outputs": [
    {
     "name": "stdout",
     "output_type": "stream",
     "text": [
      "# VectorDB: continue on the DB\n",
      "- VectorDB:  3410 elements already stored.\n",
      "- VectorDB: adding 2572 documents.\n"
     ]
    }
   ],
   "source": [
    "vectordb = db.createDB()"
   ]
  },
  {
   "cell_type": "code",
   "execution_count": 12,
   "metadata": {},
   "outputs": [],
   "source": [
    "from futures.pages import PagesWriter"
   ]
  },
  {
   "cell_type": "code",
   "execution_count": 13,
   "metadata": {},
   "outputs": [],
   "source": [
    "pw = PagesWriter(db=db)"
   ]
  },
  {
   "cell_type": "code",
   "execution_count": 14,
   "metadata": {},
   "outputs": [],
   "source": [
    "df, signals = pw.createPages_metaPrep(longtest=False)"
   ]
  },
  {
   "cell_type": "code",
   "execution_count": 15,
   "metadata": {},
   "outputs": [],
   "source": [
    "pw.createPages()\n",
    "pw.createPagesIndex()"
   ]
  },
  {
   "cell_type": "markdown",
   "metadata": {},
   "source": [
    "# Stories"
   ]
  },
  {
   "cell_type": "code",
   "execution_count": 16,
   "metadata": {},
   "outputs": [],
   "source": [
    "# Doing the imports\n",
    "from futures.llm import LLM\n",
    "from futures.futurist import Futurist\n",
    "# Let's initialise our AI and our futurist\n",
    "llm = LLM(datastore=\"data/\")\n",
    "f = Futurist(llm)"
   ]
  },
  {
   "cell_type": "code",
   "execution_count": 17,
   "metadata": {},
   "outputs": [
    {
     "name": "stdout",
     "output_type": "stream",
     "text": [
      "## Burning Connections\n",
      "\n",
      "The stars were falling, burning bright as they tore through Earth's atmosphere—a daily spectacle in 2025, as old Starlink satellites, once beacons of connectivity, re-entered the atmosphere, casting trails over the city like some flaming fairy dust from the heavens. It was a sight that had become all too common, igniting discussions in coffee shops about how these celestial calamities were compromised electrical connections rather than glorious hardware, and how they added to the pollution of our sky like some metallic confetti of a dying age.^1\n",
      "\n",
      "Meanwhile, on the ground, the walls of the city whispered tales of “freedom cities”—daring innovations drafted by young, progressive conservatives craving an escape from regulations that, according to them, only fettered creativity. One particularly lively enclave was gathering game developers and car-jitsu athletes alike in a furious dance of capitalism, where political fervor intertwined seamlessly with the wish to grapple within the recesses of a compact vehicle—a sport dubbed with as much enthusiasm as derision. It appeared that just like the old worlds of romance and purpose, even friendships were legally binding now as “Bestimonies”^2, but at least they offered snacks during the ceremony. If you didn’t celebrate, what were you doing? You were merely wasting precious time in a populated universe of diminishing sunlight and diminishing attention spans.\n",
      "\n",
      "In the midst of this chaotic beauty, a nimble reporter was gathering her notes, her mind entangled with the echoes of discussions about digital manipulation. “Careful scrutiny of the banter around you,” she reminded herself, aware that every potential bond could also be a political landmine, especially as a generative AI named CamoGPT emerged, focusing on airbrushing diversity from the military’s handbook and creating a new world crafted more for a theater of war than for the human spirit. Just another thread in a quilt patched from aspirations and ulterior motives, that reeked of irony. Would she find meaning anywhere except in the minimalistic packaging that promised nostalgia and delivered only disappointment? All those cutesy brands celebrating the mortifying joys of consumerism were old hat, a kind of theater meant to distract from the binary realities of existence.^3\n",
      "\n",
      "Yet, amid the smoke and raw absurdity, rays of genuine innovation flickered—green energy courses from the Australian deserts to the high-rises in Singapore, changed lives but not without the cumbersome undertaking of supply chains, politics, and civic duties. An exhalation about water—the most critical resource—dripped down from economists, peers criticizing the shift toward digital water management. Who would have thought that tomorrow’s plumbing would come wrapped in algorithms?\n",
      "\n",
      "As the sun set, the young conservatives raised their flutes of spritzy cocktails, toasting to the blended vision of spontaneity and structure, their hopes anchored in a future that felt stitched from contradictions like the devices shuttered in their pockets. They might be sharing their investments in the next carjitsu bout, ready to fold camaraderie into elaborate contracts with their buddies, or plotting the steps toward their future-free regions. They understood very little of the damage it could incur or how society may evolve into smaller garrisons for human connection; they were just wrestling for control in a world where silence was no longer golden, but merely illustrative of imminent scarcity.^4\n",
      "\n",
      "And so, as the heavens rained fireballs, cities crowded with car occupants engaging in the combat sport of life, a thin veil of laughter hung over the often exhausting but exhilarating chaos. In a time where the very essence of humanity was so finely tinged with irony, absurdity reigned supreme, leaving a question at the forefront: what does it mean to really connect in a world where sincerity had donned the vestments of a meme? They picked up their drones and the scattered pieces of their dreams, ready to launch into some other burning reality—literate enough to navigate the haze but knowing, in their marrow, it was always a matter of perspective.^5 \n",
      "\n",
      "---\n",
      "\n",
      "1. Do you think anyone really cared about the ozone layer anymore? \n",
      "2. Perhaps someone should craft a brand around that.\n",
      "3. I can only imagine how many missed UPS packages those 'outdoor spaces' would soon claim!\n",
      "4. If one could make a buck without being tethered to someone else's ideology, that could become quite the niche market.\n",
      "5. And, it’s comforting to consider that as long as they could tweet through it, they’d always be justifies in their surreal existence!\n"
     ]
    }
   ],
   "source": [
    "print(f.getStory(\"20250413d\"))"
   ]
  },
  {
   "cell_type": "code",
   "execution_count": 18,
   "metadata": {},
   "outputs": [
    {
     "name": "stdout",
     "output_type": "stream",
     "text": [
      "## Digital Dreams and Neighborhood Legends\n",
      "\n",
      "Morrison had long believed that true power lay in the hands of those who could turn the unseen into the seen, and in the quaint yet cluttered town of Staines-on-Thames, his efforts were about to pay off—quite literally. Armed with a comprehensive understanding of urban development, he had single-handedly convinced the local council that a sprawling data centre filled with perovskite LEDs could save them from the impending doom of groundwater flooding. The decision hinged not on whether it was feasible, but if it would look good on paper (and of course, the occasional brochure) in their quest to maintain the town’s aesthetic charm. \n",
      "\n",
      "“Perovskite!” he would shout at council meetings, his eyes gleaming like a contestant on a game show, “Think cheaper, longer-lasting lights with vibrant colors! And, much to our delight, if we replace those pesky gold materials with, oh, let’s say copper, the environment will cheer too!”*^1 His colleagues' approval was as instantaneous as a cat's disdain for taking a bath.\n",
      "\n",
      "Yet, what he hadn’t anticipated was that along with LEDs, the data centre needed an expansive online infrastructure—as vast as the ocean—to operate efficiently. He was duly informed that aggressive AI web crawlers, resembling lumbering dinosaurs of the digital world, left SourceHut engineers scrambling like panicked ants. The very data he needed to showcase his project had been relentlessly scraped away. “Much like a hen trying to lay an egg without a bulldozer around,” he pondered aloud at his cluttered desk. \n",
      "\n",
      "But Morrison had an idea: leveraging reality capture techniques to transform their entire development plan into a 3D digital wonderland. With a few clicks and a plethora of 360-degree camera images, Staines could become the poster child of future urban resilience. He envisioned drone tours whirling above his town while tourists gazed upon virtual models—once they turned off the sound from their own handheld devices, of course—filming uncomfortably close views and hoping to catch that perfect angle of the town hall. \n",
      "\n",
      "While he spun digital fantasies, the realities of climate change loomed closer. The town had seen eras of uninvited “temporary” flooding, causing Morrison to realize how ill-equipped they were. The same borough council that once resisted his requests due to 'aesthetic reasons' now stood on the brink of fencing their gardens against the tides of climate discontent. “Unfortunately, the growth of lovely fauna,” he fumed at the council’s latest memo, “may not be as sustainable as your new block of perfectly uniform lawns!”*^2 \n",
      "\n",
      "Simultaneously, a whisper of bureaucracy caught him unawares. Steeped in tradition like the exquisite art of origami, the local homeowners’ association had started resurrecting the archaic debates surrounding lawn shapes. “All at a time when we should be debating sustainable landscaping, not illustrations of conformity!” Morrison lamented. If the town was to survive both climate change and overzealous regulations, it had to evolve faster than bureaucratic inertia could allow.\n",
      "\n",
      "Thus, amid his aluminum foil hats and good intentions, Morrison began tapping into local archives. He was inspired by a recent layer of humor cut from neighborhood lore, collecting lai see from jubilant festivals that capture the beauty of community—a vivid tapestry of history highlighting community resilience over the aesthetics of singularity. It all fell into place until he proposed a small gathering of neighbors at which they could sway the courts of public opinion while indexing the town’s unique heritage. \n",
      "\n",
      "Yet, just as Morrison began to re-engage with the wave of his past presented before him, a brief moment led him to question: was it possible that if one collected enough memories—like those tiny lai see envelopes—they could potentially archive a future worth saving? And in this mix of troubled waters, various physical and digital elements, bridging the chasms of their present challenges, would they inadvertently cultivate Staines’ own patch of biodiversity amid manicured grass lawn wars? \n",
      "\n",
      "As he peered through his 3D glasses, ready to embrace the potential of a ridiculous yet real future, he smiled, “Let's see what memories we can build, shall we?” The laughter and chaos from his neighbours echoed back against the noise of an overburdened digital age, and perhaps just beyond that, a faint spark of hope emerged, shimmering like a perovskite LED in the dark.  \n",
      "___\n",
      "*^1 Can you hear the environment cheering? It sounds suspiciously like a flock of angry sparrows demanding attention.  \n",
      "*^2 An ego trip for lawns—traditional habitats of ants and the occasional confused cat, perhaps?\n"
     ]
    }
   ],
   "source": [
    "print(f.getStory(\"20250420d\"))"
   ]
  },
  {
   "cell_type": "code",
   "execution_count": 19,
   "metadata": {},
   "outputs": [
    {
     "name": "stdout",
     "output_type": "stream",
     "text": [
      "## Parrots and Paranoia: A Chaotic Symphony\n",
      "\n",
      "The city hummed with the sporadic cries of wild parrots, vibrant streaks of green and yellow flitting through the gray urban landscape. This wasn’t a nature documentary, but a reality since the rose-ringed parakeets had decided that the warm corners of London were simply too tempting to resist. Every morning, people stared slack-jawed at these avian anomalies, baffled that misfit pets had gone rogue, forming their own raucous society. Much like Matt Zajack's quirky Traffic Monitor that counted cyclists and pedestrians with the same zeal they displayed when attempting to cross the street *while arguing about the existence of God and bus timetables*, these parrots seemed determined to define the traffic patterns of the sky. \n",
      "\n",
      "Beneath all this avian splendor, a much darker narrative was unfolding. Jeffrey, a tech-savvy journalist whose phone screen glowed as if warning him of pending doom, had just received sensitive military communications via a distressed Signal group chat. “Is this a joke?” he mumbled, unsure if he was watching a dystopian film or living in it. The chat included an astounding variety of characters; members of the U.S. administration discussing strikes against Houthi targets—somehow his smartphone had transformed into little more than an electronic version of a cheap gossip column—alarming and absurd. His ensuing disbelief morphed into a rush to publish, bringing ethics into question faster than the parakeets could outsmart checkered cabs.\n",
      "\n",
      "Meanwhile, overlooking Jeffrey's frantic typing, a Swiss startup called Oxyle was resolutely dismantling the very chemicals that were slowly poisoning Europe. The piezoelectric catalyst they showcased could eliminate 99% of PFAS from wastewater streams. “We can clean the world!” their press release proclaimed, like a medieval squire boasting of dragon-slaying prowess. But with national security on the near horizon, who could afford to be that optimistic?\n",
      "\n",
      "Back at the bustling plaza, where one could see the Traffic Monitor and its crowd of enthusiasts preaching the virtues of biking before 10 AM, an alarming rise of hidden cameras were catching them mid-speech. They were flanked by law enforcement more interested in facial recognition stats than improving the community. “It's like being on reality TV, except all you get is a raise in paranoia,” laughed an unlikely, but determined, participant who claimed to communicate telepathically with the parrots, forming mental alliances that would take over the traffic system—one chirp at a time.\n",
      "\n",
      "And just when life felt overwhelming and too intertwined with the absurd, the oceans—mysterious and alarmingly expansive—were beckoning. The newly minted SWOT satellite was promising to reveal wonders and disasters lurking beneath the waves, from thriving coral ecosystems nestled under melting glaciers to the lost treasure of environmental significance. Jeffrey thought, perhaps, it would be safer to stay underwater, amidst the octopuses and icefish, where military chats and government surveillance could do no harm.\n",
      "\n",
      "As the sun dipped below the city skyline, casting an illusion of tranquility, Jeffrey sent the signal: a thumbs-up emoji, a neutralizing agent in his chaotic existence, hinting at a shift—where might and mischief couldn’t drown out the inevitable collective drive for understanding. Little did he know, while he was merely reacting to echoes from his phone, wild parrots outside were crafting their own intricate social networks, spawning deeper meanings of community amidst an absurdly chaotic world. \n",
      "\n",
      "*Footnote: One could argue that if they were like the parrots—adoringly loud but rather clueless—maybe humanity would have less to worry about; after all, ignorance must be bliss, especially if your only concern is finding the best breadcrumb in town.*\n"
     ]
    }
   ],
   "source": [
    "print(f.getStory(\"20250427d\"))"
   ]
  }
 ],
 "metadata": {
  "kernelspec": {
   "display_name": ".venv",
   "language": "python",
   "name": "python3"
  },
  "language_info": {
   "codemirror_mode": {
    "name": "ipython",
    "version": 3
   },
   "file_extension": ".py",
   "mimetype": "text/x-python",
   "name": "python",
   "nbconvert_exporter": "python",
   "pygments_lexer": "ipython3",
   "version": "3.10.12"
  }
 },
 "nbformat": 4,
 "nbformat_minor": 4
}
