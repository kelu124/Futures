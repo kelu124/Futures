{
 "cells": [
  {
   "cell_type": "code",
   "execution_count": 1,
   "metadata": {},
   "outputs": [],
   "source": [
    "%load_ext autoreload\n",
    "%autoreload 2"
   ]
  },
  {
   "cell_type": "code",
   "execution_count": 2,
   "metadata": {},
   "outputs": [],
   "source": [
    "from futures.llm import LLM\n",
    "from futures.futurist import Futurist\n",
    "from futures.db import DB\n",
    "from futures.substack import SubstackManager\n",
    " "
   ]
  },
  {
   "cell_type": "code",
   "execution_count": 3,
   "metadata": {},
   "outputs": [],
   "source": [
    "sm = SubstackManager()"
   ]
  },
  {
   "cell_type": "code",
   "execution_count": 4,
   "metadata": {},
   "outputs": [],
   "source": [
    "pages = sm.download_pages()"
   ]
  },
  {
   "cell_type": "code",
   "execution_count": 5,
   "metadata": {},
   "outputs": [
    {
     "name": "stdout",
     "output_type": "stream",
     "text": [
      "# Substack manager starts\n",
      "- Substack manager:  20250629 exists\n",
      "- Substack manager:  20250518 exists\n",
      "- Substack manager:  20250727 exists\n",
      "- Substack manager:  20250713 exists\n",
      "- Substack manager:  20250621 exists\n",
      "- Substack manager:  20250608 exists\n",
      "- Substack manager:  20250525 exists\n",
      "- Substack manager:  20250601 exists\n",
      "- Substack manager:  20250615 exists\n",
      "- Substack manager:  20250720 exists\n",
      "- Substack manager:  20250511 exists\n",
      "- Substack manager:  20250706 exists\n",
      "# Saving links from the substack pages\n"
     ]
    }
   ],
   "source": [
    "sm.getPages() # 25seconds"
   ]
  },
  {
   "cell_type": "code",
   "execution_count": 6,
   "metadata": {},
   "outputs": [],
   "source": [
    "# Let's initialise our AI and our futurist\n",
    "llm = LLM(datastore=\"data/\")\n",
    "f = Futurist(llm)"
   ]
  },
  {
   "cell_type": "code",
   "execution_count": 7,
   "metadata": {},
   "outputs": [
    {
     "name": "stdout",
     "output_type": "stream",
     "text": [
      "# Doing get_weaksignals processing\n",
      "IDs identifiees \t 2871 \t get_weaksignals\n",
      "--- Function call:\t 2025-08-02 22:37:07\n",
      "# Doing get_summary processing\n",
      "IDs identifiees \t 2872 \t get_summary\n",
      "# Doing get_emergingissues processing\n",
      "IDs identifiees \t 2872 \t get_emergingissues\n",
      "# Doing get_emergingtechnologies processing\n",
      "IDs identifiees \t 2868 \t get_emergingtechnologies\n",
      "--- Function call:\t 2025-08-02 22:37:10\n",
      "--- Function call:\t 2025-08-02 22:37:10\n",
      "--- Function call:\t 2025-08-02 22:37:10\n",
      "--- Function call:\t 2025-08-02 22:37:10\n",
      "# Doing get_emergingbehaviors processing\n",
      "IDs identifiees \t 2872 \t get_emergingbehaviors\n",
      "# Doing get_emergingconcerns processing\n",
      "IDs identifiees \t 2872 \t get_emergingconcerns\n",
      "# Doing metas processing\n"
     ]
    },
    {
     "data": {
      "text/html": [
       "<div>\n",
       "<style scoped>\n",
       "    .dataframe tbody tr th:only-of-type {\n",
       "        vertical-align: middle;\n",
       "    }\n",
       "\n",
       "    .dataframe tbody tr th {\n",
       "        vertical-align: top;\n",
       "    }\n",
       "\n",
       "    .dataframe thead th {\n",
       "        text-align: right;\n",
       "    }\n",
       "</style>\n",
       "<table border=\"1\" class=\"dataframe\">\n",
       "  <thead>\n",
       "    <tr style=\"text-align: right;\">\n",
       "      <th></th>\n",
       "      <th>type</th>\n",
       "      <th>themes</th>\n",
       "      <th>category</th>\n",
       "      <th>keywords</th>\n",
       "      <th>src</th>\n",
       "      <th>path</th>\n",
       "      <th>url</th>\n",
       "      <th>content</th>\n",
       "      <th>LEN</th>\n",
       "      <th>origin</th>\n",
       "    </tr>\n",
       "  </thead>\n",
       "  <tbody>\n",
       "    <tr>\n",
       "      <th>0</th>\n",
       "      <td>news</td>\n",
       "      <td>cybersecurity, artificial intelligence, vulner...</td>\n",
       "      <td>technology</td>\n",
       "      <td>Xbow, HackerOne, AI chatbot, vulnerabilities, ...</td>\n",
       "      <td>8f69e7bae0b7871d4fd09375a6f4cfdd</td>\n",
       "      <td>./substack_cache/substack/20250713</td>\n",
       "      <td>b'https://www.csoonline.com/article/4012801/th...</td>\n",
       "      <td>Chatbot “Xbow” tops the leaderboard on HackerO...</td>\n",
       "      <td>6069</td>\n",
       "      <td>6069.0</td>\n",
       "    </tr>\n",
       "    <tr>\n",
       "      <th>1</th>\n",
       "      <td>blog post</td>\n",
       "      <td>meditation, mindfulness, seeking, nature, ment...</td>\n",
       "      <td>science</td>\n",
       "      <td>meditation, mindfulness, seeking, nature, ment...</td>\n",
       "      <td>6baa5e7c702f9608bef8029fe7db9156</td>\n",
       "      <td>drafts/20250817d.md</td>\n",
       "      <td>b'https://www.huffpost.com/entry/downtime-for-...</td>\n",
       "      <td>Recently, I found a meditation retreat center ...</td>\n",
       "      <td>14071</td>\n",
       "      <td>14071.0</td>\n",
       "    </tr>\n",
       "    <tr>\n",
       "      <th>2</th>\n",
       "      <td>news</td>\n",
       "      <td>teenagers, AI, mental health, social interacti...</td>\n",
       "      <td>science</td>\n",
       "      <td>AI, teenagers, Common Sense Media, digital fri...</td>\n",
       "      <td>43924b182fd09138a38642c6f8ecb9d8</td>\n",
       "      <td>drafts/20250817d.md</td>\n",
       "      <td>b'https://www.npr.org/2025/07/20/nx-s1-5471268...</td>\n",
       "      <td>Most teens have used AI to flirt and chat — bu...</td>\n",
       "      <td>3267</td>\n",
       "      <td>3267.0</td>\n",
       "    </tr>\n",
       "    <tr>\n",
       "      <th>3</th>\n",
       "      <td>video</td>\n",
       "      <td>machine learning, physics, artificial intellig...</td>\n",
       "      <td>science</td>\n",
       "      <td>machine learning, quantum physics, experiment ...</td>\n",
       "      <td>f46e3ffd618b6a2499dd998c77821b40</td>\n",
       "      <td>drafts/20250817d.md</td>\n",
       "      <td>b'https://aeon.co/videos/a-future-in-which-art...</td>\n",
       "      <td>Mario Krenn has a unique job in the field of p...</td>\n",
       "      <td>1728</td>\n",
       "      <td>1728.0</td>\n",
       "    </tr>\n",
       "    <tr>\n",
       "      <th>4</th>\n",
       "      <td>research article</td>\n",
       "      <td>AI, lab automation, materials discovery, machi...</td>\n",
       "      <td>science</td>\n",
       "      <td>self-driving lab, materials discovery, automat...</td>\n",
       "      <td>b4b7faf3246e17ab25812dd76eddbb98</td>\n",
       "      <td>drafts/20250817d.md</td>\n",
       "      <td>b'https://www.sciencedaily.com/releases/2025/0...</td>\n",
       "      <td>This AI-powered lab runs itself—and discovers ...</td>\n",
       "      <td>6811</td>\n",
       "      <td>6811.0</td>\n",
       "    </tr>\n",
       "    <tr>\n",
       "      <th>...</th>\n",
       "      <td>...</td>\n",
       "      <td>...</td>\n",
       "      <td>...</td>\n",
       "      <td>...</td>\n",
       "      <td>...</td>\n",
       "      <td>...</td>\n",
       "      <td>...</td>\n",
       "      <td>...</td>\n",
       "      <td>...</td>\n",
       "      <td>...</td>\n",
       "    </tr>\n",
       "    <tr>\n",
       "      <th>2937</th>\n",
       "      <td>research article</td>\n",
       "      <td>robotics, neuroscience, human augmentation, br...</td>\n",
       "      <td>science</td>\n",
       "      <td>robotic limbs, brain control, human enhancemen...</td>\n",
       "      <td>faad51d1f885af1db9dee5e5ce52b46e</td>\n",
       "      <td>./substack_cache/substack/20230205</td>\n",
       "      <td>b'https://spectrum.ieee.org/human-augmentation'</td>\n",
       "      <td>Roboticists Want to Give You a Third Arm\\nUnus...</td>\n",
       "      <td>18549</td>\n",
       "      <td>20230205</td>\n",
       "    </tr>\n",
       "    <tr>\n",
       "      <th>2938</th>\n",
       "      <td>error message</td>\n",
       "      <td>404 error, website navigation</td>\n",
       "      <td>others</td>\n",
       "      <td>404, error, not found, navigation</td>\n",
       "      <td>a98477873581dec082fb879c3f7904e1</td>\n",
       "      <td>./substack_cache/substack/20230205</td>\n",
       "      <td>b'https://metaphysic.ai/ai-hollywood-miramax-h...</td>\n",
       "      <td>404\\nGo back home</td>\n",
       "      <td>16</td>\n",
       "      <td>20230205</td>\n",
       "    </tr>\n",
       "    <tr>\n",
       "      <th>2939</th>\n",
       "      <td>news</td>\n",
       "      <td>AI, machine learning, data scarcity, technolog...</td>\n",
       "      <td>technology</td>\n",
       "      <td>AI chatbots, training data, machine learning, ...</td>\n",
       "      <td>85ca2591053db7e76f0d273c63fee1b0</td>\n",
       "      <td>./substack_cache/substack/20230205</td>\n",
       "      <td>b'https://www.newscientist.com/article/2353751...</td>\n",
       "      <td>AI chatbots could hit a ceiling after 2026 as ...</td>\n",
       "      <td>660</td>\n",
       "      <td>20230205</td>\n",
       "    </tr>\n",
       "    <tr>\n",
       "      <th>2940</th>\n",
       "      <td>article</td>\n",
       "      <td>automotive industry, corporate fraud, short se...</td>\n",
       "      <td>technology</td>\n",
       "      <td>Nikola, Trevor Milton, Hindenburg Research, co...</td>\n",
       "      <td>fcd0d8f2b79472618822acb86fccea35</td>\n",
       "      <td>./substack_cache/substack/20230205</td>\n",
       "      <td>b'https://nymag.com/intelligencer/2022/01/nath...</td>\n",
       "      <td>This article was featured in One Great Story, ...</td>\n",
       "      <td>39810</td>\n",
       "      <td>20230205</td>\n",
       "    </tr>\n",
       "    <tr>\n",
       "      <th>2941</th>\n",
       "      <td>blog post</td>\n",
       "      <td>paper maps, digital navigation, millennials, g...</td>\n",
       "      <td>technology</td>\n",
       "      <td>paper maps, Google Maps, navigation, millennia...</td>\n",
       "      <td>70c5542aafd26bb4b293f2bfaa80c61d</td>\n",
       "      <td>./substack_cache/substack/20230205</td>\n",
       "      <td>b'https://www.wsj.com/articles/why-paper-map-s...</td>\n",
       "      <td>Forget Google Maps: Why Paper Map Sales Are Bo...</td>\n",
       "      <td>1090</td>\n",
       "      <td>20230205</td>\n",
       "    </tr>\n",
       "  </tbody>\n",
       "</table>\n",
       "<p>2942 rows × 10 columns</p>\n",
       "</div>"
      ],
      "text/plain": [
       "                  type                                             themes  \\\n",
       "0                 news  cybersecurity, artificial intelligence, vulner...   \n",
       "1            blog post  meditation, mindfulness, seeking, nature, ment...   \n",
       "2                 news  teenagers, AI, mental health, social interacti...   \n",
       "3                video  machine learning, physics, artificial intellig...   \n",
       "4     research article  AI, lab automation, materials discovery, machi...   \n",
       "...                ...                                                ...   \n",
       "2937  research article  robotics, neuroscience, human augmentation, br...   \n",
       "2938     error message                      404 error, website navigation   \n",
       "2939              news  AI, machine learning, data scarcity, technolog...   \n",
       "2940           article  automotive industry, corporate fraud, short se...   \n",
       "2941         blog post  paper maps, digital navigation, millennials, g...   \n",
       "\n",
       "        category                                           keywords  \\\n",
       "0     technology  Xbow, HackerOne, AI chatbot, vulnerabilities, ...   \n",
       "1        science  meditation, mindfulness, seeking, nature, ment...   \n",
       "2        science  AI, teenagers, Common Sense Media, digital fri...   \n",
       "3        science  machine learning, quantum physics, experiment ...   \n",
       "4        science  self-driving lab, materials discovery, automat...   \n",
       "...          ...                                                ...   \n",
       "2937     science  robotic limbs, brain control, human enhancemen...   \n",
       "2938      others                  404, error, not found, navigation   \n",
       "2939  technology  AI chatbots, training data, machine learning, ...   \n",
       "2940  technology  Nikola, Trevor Milton, Hindenburg Research, co...   \n",
       "2941  technology  paper maps, Google Maps, navigation, millennia...   \n",
       "\n",
       "                                   src                                path  \\\n",
       "0     8f69e7bae0b7871d4fd09375a6f4cfdd  ./substack_cache/substack/20250713   \n",
       "1     6baa5e7c702f9608bef8029fe7db9156                 drafts/20250817d.md   \n",
       "2     43924b182fd09138a38642c6f8ecb9d8                 drafts/20250817d.md   \n",
       "3     f46e3ffd618b6a2499dd998c77821b40                 drafts/20250817d.md   \n",
       "4     b4b7faf3246e17ab25812dd76eddbb98                 drafts/20250817d.md   \n",
       "...                                ...                                 ...   \n",
       "2937  faad51d1f885af1db9dee5e5ce52b46e  ./substack_cache/substack/20230205   \n",
       "2938  a98477873581dec082fb879c3f7904e1  ./substack_cache/substack/20230205   \n",
       "2939  85ca2591053db7e76f0d273c63fee1b0  ./substack_cache/substack/20230205   \n",
       "2940  fcd0d8f2b79472618822acb86fccea35  ./substack_cache/substack/20230205   \n",
       "2941  70c5542aafd26bb4b293f2bfaa80c61d  ./substack_cache/substack/20230205   \n",
       "\n",
       "                                                    url  \\\n",
       "0     b'https://www.csoonline.com/article/4012801/th...   \n",
       "1     b'https://www.huffpost.com/entry/downtime-for-...   \n",
       "2     b'https://www.npr.org/2025/07/20/nx-s1-5471268...   \n",
       "3     b'https://aeon.co/videos/a-future-in-which-art...   \n",
       "4     b'https://www.sciencedaily.com/releases/2025/0...   \n",
       "...                                                 ...   \n",
       "2937    b'https://spectrum.ieee.org/human-augmentation'   \n",
       "2938  b'https://metaphysic.ai/ai-hollywood-miramax-h...   \n",
       "2939  b'https://www.newscientist.com/article/2353751...   \n",
       "2940  b'https://nymag.com/intelligencer/2022/01/nath...   \n",
       "2941  b'https://www.wsj.com/articles/why-paper-map-s...   \n",
       "\n",
       "                                                content    LEN    origin  \n",
       "0     Chatbot “Xbow” tops the leaderboard on HackerO...   6069    6069.0  \n",
       "1     Recently, I found a meditation retreat center ...  14071   14071.0  \n",
       "2     Most teens have used AI to flirt and chat — bu...   3267    3267.0  \n",
       "3     Mario Krenn has a unique job in the field of p...   1728    1728.0  \n",
       "4     This AI-powered lab runs itself—and discovers ...   6811    6811.0  \n",
       "...                                                 ...    ...       ...  \n",
       "2937  Roboticists Want to Give You a Third Arm\\nUnus...  18549  20230205  \n",
       "2938                                  404\\nGo back home     16  20230205  \n",
       "2939  AI chatbots could hit a ceiling after 2026 as ...    660  20230205  \n",
       "2940  This article was featured in One Great Story, ...  39810  20230205  \n",
       "2941  Forget Google Maps: Why Paper Map Sales Are Bo...   1090  20230205  \n",
       "\n",
       "[2942 rows x 10 columns]"
      ]
     },
     "execution_count": 7,
     "metadata": {},
     "output_type": "execute_result"
    }
   ],
   "source": [
    "nb_articles = 30000\n",
    "# Creating seeds\n",
    "f.createSeeds(n=nb_articles)\n",
    "# Creating metas\n",
    "f.moreIntel(n=nb_articles)\n",
    "# Creating metas\n",
    "f.doMeta(n=nb_articles)"
   ]
  },
  {
   "cell_type": "code",
   "execution_count": 8,
   "metadata": {},
   "outputs": [
    {
     "name": "stdout",
     "output_type": "stream",
     "text": [
      "# Doing get_emergingconcerns processing\n",
      "IDs identifiees \t 2872 \t get_emergingconcerns\n"
     ]
    }
   ],
   "source": [
    "f.doProcessing(category=\"get_emergingconcerns\", minL=1500, maxL=30000, n=30000)"
   ]
  },
  {
   "cell_type": "code",
   "execution_count": 9,
   "metadata": {},
   "outputs": [],
   "source": [
    "f.writeAllStories()"
   ]
  },
  {
   "cell_type": "markdown",
   "metadata": {},
   "source": [
    "# Using the vectorDB"
   ]
  },
  {
   "cell_type": "code",
   "execution_count": 10,
   "metadata": {},
   "outputs": [
    {
     "name": "stdout",
     "output_type": "stream",
     "text": [
      "client=<openai.resources.embeddings.Embeddings object at 0x7b8803189b10> async_client=<openai.resources.embeddings.AsyncEmbeddings object at 0x7b88045199c0> model='text-embedding-ada-002' dimensions=None deployment='text-embedding-ada-002' openai_api_version=None openai_api_base=None openai_api_type=None openai_proxy=None embedding_ctx_length=8191 openai_api_key=SecretStr('**********') openai_organization=None allowed_special=None disallowed_special=None chunk_size=1000 max_retries=2 request_timeout=None headers=None tiktoken_enabled=True tiktoken_model_name=None show_progress_bar=False model_kwargs={} skip_empty=False default_headers=None default_query=None retry_min_seconds=4 retry_max_seconds=20 http_client=None http_async_client=None check_embedding_ctx_length=True\n"
     ]
    }
   ],
   "source": [
    "db= DB(llm)"
   ]
  },
  {
   "cell_type": "code",
   "execution_count": 11,
   "metadata": {},
   "outputs": [
    {
     "name": "stdout",
     "output_type": "stream",
     "text": [
      "# VectorDB: continue on the DB\n",
      "- VectorDB:  3716 elements already stored.\n",
      "- VectorDB: adding 2872 documents.\n"
     ]
    }
   ],
   "source": [
    "vectordb = db.createDB()"
   ]
  },
  {
   "cell_type": "code",
   "execution_count": 12,
   "metadata": {},
   "outputs": [],
   "source": [
    "from futures.pages import PagesWriter"
   ]
  },
  {
   "cell_type": "code",
   "execution_count": 13,
   "metadata": {},
   "outputs": [],
   "source": [
    "pw = PagesWriter(db=db)"
   ]
  },
  {
   "cell_type": "code",
   "execution_count": 14,
   "metadata": {},
   "outputs": [],
   "source": [
    "df, signals = pw.createPages_metaPrep(longtest=False)"
   ]
  },
  {
   "cell_type": "code",
   "execution_count": 15,
   "metadata": {},
   "outputs": [],
   "source": [
    "pw.createPages()\n",
    "pw.createPagesIndex()"
   ]
  },
  {
   "cell_type": "markdown",
   "metadata": {},
   "source": [
    "# Stories"
   ]
  },
  {
   "cell_type": "code",
   "execution_count": 16,
   "metadata": {},
   "outputs": [],
   "source": [
    "# Doing the imports\n",
    "from futures.llm import LLM\n",
    "from futures.futurist import Futurist\n",
    "# Let's initialise our AI and our futurist\n",
    "llm = LLM(datastore=\"data/\")\n",
    "f = Futurist(llm)"
   ]
  },
  {
   "cell_type": "code",
   "execution_count": 17,
   "metadata": {},
   "outputs": [
    {
     "data": {
      "text/html": [
       "<div>\n",
       "<style scoped>\n",
       "    .dataframe tbody tr th:only-of-type {\n",
       "        vertical-align: middle;\n",
       "    }\n",
       "\n",
       "    .dataframe tbody tr th {\n",
       "        vertical-align: top;\n",
       "    }\n",
       "\n",
       "    .dataframe thead th {\n",
       "        text-align: right;\n",
       "    }\n",
       "</style>\n",
       "<table border=\"1\" class=\"dataframe\">\n",
       "  <thead>\n",
       "    <tr style=\"text-align: right;\">\n",
       "      <th></th>\n",
       "      <th>src</th>\n",
       "      <th>title</th>\n",
       "      <th>story</th>\n",
       "    </tr>\n",
       "  </thead>\n",
       "  <tbody>\n",
       "    <tr>\n",
       "      <th>0</th>\n",
       "      <td>20250302</td>\n",
       "      <td>The Pickle Revolution</td>\n",
       "      <td>The last vestiges of human touch in the sprawl...</td>\n",
       "    </tr>\n",
       "    <tr>\n",
       "      <th>1</th>\n",
       "      <td>20250223</td>\n",
       "      <td>Threads of Tomorrow</td>\n",
       "      <td>The air hummed with the promises of the future...</td>\n",
       "    </tr>\n",
       "    <tr>\n",
       "      <th>2</th>\n",
       "      <td>20230927</td>\n",
       "      <td>Navigating the Jangled Nexus</td>\n",
       "      <td>“The AI consultant was three seconds away from...</td>\n",
       "    </tr>\n",
       "    <tr>\n",
       "      <th>3</th>\n",
       "      <td>20230612</td>\n",
       "      <td>Harvesting Bytes in Snailbrook</td>\n",
       "      <td>In Snailbrook, Texas—a quaint town, where peop...</td>\n",
       "    </tr>\n",
       "    <tr>\n",
       "      <th>4</th>\n",
       "      <td>20230616</td>\n",
       "      <td>Chaotic Symphony of the Green</td>\n",
       "      <td>In a world where digital landscapes blurred th...</td>\n",
       "    </tr>\n",
       "    <tr>\n",
       "      <th>...</th>\n",
       "      <td>...</td>\n",
       "      <td>...</td>\n",
       "      <td>...</td>\n",
       "    </tr>\n",
       "    <tr>\n",
       "      <th>176</th>\n",
       "      <td>20250824d</td>\n",
       "      <td>\"Bytes of Life\"</td>\n",
       "      <td>The dim light of the corner café flickered, ca...</td>\n",
       "    </tr>\n",
       "    <tr>\n",
       "      <th>177</th>\n",
       "      <td>20250810d</td>\n",
       "      <td>Digital Cat and Mouse</td>\n",
       "      <td>Marcus had never intended to be a data savior,...</td>\n",
       "    </tr>\n",
       "    <tr>\n",
       "      <th>178</th>\n",
       "      <td>20250713</td>\n",
       "      <td>Embracing Chaos: The Art of Information Detox</td>\n",
       "      <td>In a world where it seemed the sum total of hu...</td>\n",
       "    </tr>\n",
       "    <tr>\n",
       "      <th>179</th>\n",
       "      <td>20250720</td>\n",
       "      <td>Navigating the Storm of Connectivity</td>\n",
       "      <td>The morning haze settled into the nook of down...</td>\n",
       "    </tr>\n",
       "    <tr>\n",
       "      <th>180</th>\n",
       "      <td>20250727</td>\n",
       "      <td>The Festival of Futures Unplugged</td>\n",
       "      <td>In the uncommonly sunny labyrinthine streets o...</td>\n",
       "    </tr>\n",
       "  </tbody>\n",
       "</table>\n",
       "<p>181 rows × 3 columns</p>\n",
       "</div>"
      ],
      "text/plain": [
       "           src                                          title  \\\n",
       "0     20250302                          The Pickle Revolution   \n",
       "1     20250223                            Threads of Tomorrow   \n",
       "2     20230927                   Navigating the Jangled Nexus   \n",
       "3     20230612                 Harvesting Bytes in Snailbrook   \n",
       "4     20230616                  Chaotic Symphony of the Green   \n",
       "..         ...                                            ...   \n",
       "176  20250824d                                \"Bytes of Life\"   \n",
       "177  20250810d                          Digital Cat and Mouse   \n",
       "178   20250713  Embracing Chaos: The Art of Information Detox   \n",
       "179   20250720           Navigating the Storm of Connectivity   \n",
       "180   20250727              The Festival of Futures Unplugged   \n",
       "\n",
       "                                                 story  \n",
       "0    The last vestiges of human touch in the sprawl...  \n",
       "1    The air hummed with the promises of the future...  \n",
       "2    “The AI consultant was three seconds away from...  \n",
       "3    In Snailbrook, Texas—a quaint town, where peop...  \n",
       "4    In a world where digital landscapes blurred th...  \n",
       "..                                                 ...  \n",
       "176  The dim light of the corner café flickered, ca...  \n",
       "177  Marcus had never intended to be a data savior,...  \n",
       "178  In a world where it seemed the sum total of hu...  \n",
       "179  The morning haze settled into the nook of down...  \n",
       "180  In the uncommonly sunny labyrinthine streets o...  \n",
       "\n",
       "[181 rows x 3 columns]"
      ]
     },
     "execution_count": 17,
     "metadata": {},
     "output_type": "execute_result"
    }
   ],
   "source": [
    "import pandas as pd\n",
    "pd.read_parquet(\"data/stories.parquet.gzip\")"
   ]
  },
  {
   "cell_type": "code",
   "execution_count": 18,
   "metadata": {},
   "outputs": [],
   "source": [
    "f.writeAllStories()"
   ]
  },
  {
   "cell_type": "code",
   "execution_count": 19,
   "metadata": {},
   "outputs": [
    {
     "name": "stdout",
     "output_type": "stream",
     "text": [
      "## Digital Cat and Mouse\n",
      "\n",
      "Marcus had never intended to be a data savior, yet there he was, in the dimly lit corner of the office, grappling with an evil (and very poorly spelled) demand from a group both unknown and uninvited: the cyberpunks, or as they styled themselves, Akira. A ransomware attack had brought KNP, his transport company, to its knees, decrypting their vital operations with the ease of a child picking candy from a bowl. It wasn’t even personal; they just wanted some pocket change—£5 million, to be exact. Unfortunately, KNP, not famed for its financial prudence, could not muster more than a heroine-sized stash of coin.*\n",
      "\n",
      "Defeated by despair, Marcus leaned back and stared at his computer's swirling screen, where Big Sleep—the AI he had helped develop—was advising him on how best to negotiate with digital extortionists. “Just find a good vulnerability,” it chirped, its mechanical voice smoother than silk, “and wham bam! Penetrate their defenses.” He could almost hear the wink in its binary tone as he wondered if AI had a sense of humor. \n",
      "\n",
      "Meanwhile, the world outside his office had blossomed into a unique hybrid of culture and commerce. Netflix had just released a sci-fi series using generative AI—El Eternauta they'd called it—showing how the digital could enhance the dynamic, while Ryanair was on the verge of rewarding employees for spotting oversized cabin bags with a small fortune.* Competition was becoming a ridiculous form of modern art, where the absurdity of the rules was only matched by the stories behind them. Marcus could only shake his head at the thought of being broke in a world where AI was spinning golden narratives. \n",
      "\n",
      "As he realized this conundrum—the money puzzle amidst evolving technology—Marcus recalled the super-resolution microscopy that had allowed researchers to visualize proteins dancing in the dark recesses of living cells. He started contemplating what would happen if he could visualize the inner workings of Akira's demands, bringing their intricacies into sharper focus. What if he could exploit the gaps within their demands like someone making a homomorphic encryption of love notes in a spy thriller? An idea blossomed—if he could utilize his insights from his own experiences, while collaborating with brilliant minds, he might just create a counter-strategy more profound than a high school algebra exam.\n",
      "\n",
      "Drawing from this unlikely revelation, he tapped into the skills required for survival in this new AI era: Collaboration and cunning, mixed with a sprinkle of creativity. After all, he mused, \"savers save the day!\" With a grin that rivaled the Cheshire Cat, he set to work, joining forces with an old professor, who had been lamenting the decline of critical thinking in the age of swift solutions via ChatGPT.*\n",
      "\n",
      "Together, they crafted a plan, melding ethics with skill—a sort of “Prompting-Managing Impact Equivalence Principle”—to outsmart Akira. What came next was more exciting than any future archetype or corporate lawsuit over cabin baggage rules. They would hack the hackers, playing a game of digital cat and mouse that would draw upon all that was uniquely human, employing aesthetics and spontaneity as their weapons. \n",
      "\n",
      "They made the decision to send a twisted version of a ransom note—a beautifully crafted piece reflecting both a challenge and an invitation to a chess match in cyberspace. The night was charged as they hit send, pooling data and dreams together; perhaps, in their brains and the digital ether, humanity could combat the encroaching coldness of automation. \n",
      "\n",
      "And as they waited, Marcus couldn’t help but think: if AI was the future, then the future promised light-hearted mischief wrapped in layers of encoded hope. Or maybe he had just drank far too much coffee. Either way, as he chuckled to himself, there was a certain sweetness about turning the tables in a world where the absurd seemed all too often only a keystroke away. \n",
      "\n",
      "*If you're wondering how a company like KNP could go from a vintage transport company to being taken by cyber-pirates, just remember: even the mightiest vessels can sink if plundered by naught but bad code and worse intentions.\n"
     ]
    }
   ],
   "source": [
    "print(f.getStory(\"20250810d\"))"
   ]
  },
  {
   "cell_type": "code",
   "execution_count": 20,
   "metadata": {},
   "outputs": [
    {
     "name": "stdout",
     "output_type": "stream",
     "text": [
      "## The Alchemy of Progress\n",
      "\n",
      "In a world where self-driving labs churned out discoveries faster than a caffeinated squirrel at the state fair, Dr. Minerva Lark was adamant that not all progress was created equal. Her colleagues at North Carolina State University had revolutionized material discovery; however, as the autonomous lab hummed with machine learning algorithms, Minerva still longed for the tactile sensation of a beaker in her hand, the visceral explosion of a scientific error where the roundworm was supposed to be. \n",
      "\n",
      "\"Efficiency is a slippery slope,\" she mused to her fellow researchers, who looked at her as if she’d just suggested wearing socks with sandals — a culinary breach of etiquette regrettably all too familiar. These dynamic flow experiments were great, sure, but Minerva had a penchant for thinking outside of her automated box. She suspected something was amiss when the lab’s readings hinted at a new metal alloy that handsome robots could wear with the grace of yesteryear's cabaret dancers. “What if we could harness this data to manage our ecological footprint instead?” \n",
      "\n",
      "Her dream was shared, albeit reluctantly, by Roger, a neo-luddite in sneakers, who believed humanity could only lose by handing everything over to machines. “It’s a rabbit hole, Minerva! First, they’ll analyze our ideas, and then... well, I don’t blink at the end result, do I?” he gestured vaguely towards the protests outside, where placards announced “Save Us From Matrix Machines!” Meanwhile, she had half a mind to ask him what he thought of a potential large-scale hydroelectric project like the Grand Inga Dam, which might transform energy access across Africa. But there’d be time for that over tea... preferably brewed with human hands.\n",
      "\n",
      "As she cranked her creative gears, Minerva’s eyes darted to the latest press release: Taiwan Semiconductor Manufacturing Co (TSMC) was planning four new plants to produce state-of-the-art semiconductors—2-nanometers, whatever that meant—despite the threat of each chip being as tantalizingly fragile as a soap bubble on a windy day. Ah, innovation! It was as refreshing as a splash of cold water on too-hot enthusiasm. Yet she couldn’t help but think of the bison populations back home, herbivorous power brokers that threatened to thwart an ecosystem recovery as meaningful as optimistic teenagers deciding that screen time should be capped.\n",
      "\n",
      "Exiting the lab, she felt a raucous optimism, one perfected by the success of the AI systems handling human queries with near-precision as they crept into the fluid dynamics of life, aided by curated data streams. The only downside was that while many teens admitted to flirting via text-to-speech AI, they remained startlingly behind the curve when it came to genuine face-to-face interaction. “Would they think me less mad if I recommended a simple supper of mashed potatoes instead of artificial companions?” she wondered.\n",
      "\n",
      "Amidst this backdrop of seemingly imminent change, rumors stirred regarding President Macron's recognition of a Palestinian state, as paradoxical as a cat enjoying a bath, the implications of which spread ripples in the political landscape. After all, wasn’t it through the embrace of peace—however slow like the growth of aspen trees—that such innovations might finally take root?\n",
      "\n",
      "“Life is an experiment,” she muttered, walking past the metal fences and newly thewed aspen bark back to her lab, revitalized by ecology and understanding that sometimes, it requires only a single push, from a didactic small predator, to restore balance. In her quickening thoughts, she imagined what other kind of harmonious breakthroughs there might still sprout from the chaotic soil of life—and just how many guidelines would be needed for the AI Advisory Forum she was dreading to attend.\n",
      "\n",
      "As she entered the lab, the buzzing of machines filled her ears—a sound that, when paired with her caffeine buzz, just felt right. With optimism that echoed through her bones like the distant howls of those long-gone wolves, she chose to embrace the chaos of discovery rather than flag it as a threat. After all, in the grand scheme of neurons and algorithms, life would continue to be violated by its own absurdities... and maybe that’s what made it all worthwhile.\n"
     ]
    }
   ],
   "source": [
    "print(f.getStory(\"20250817d\"))"
   ]
  },
  {
   "cell_type": "code",
   "execution_count": 21,
   "metadata": {},
   "outputs": [
    {
     "name": "stdout",
     "output_type": "stream",
     "text": [
      "## \"Bytes of Life\"\n",
      "\n",
      "The dim light of the corner café flickered, casting surreal shadows on the patrons buried in their screens, desperately seeking an escape from realities far more boring than their newest AI companions. Most were oblivious to the oppressive wave of heat outside, fist-bumping the thermometer at a lazy 110°F, or as it’s referred by the more poetic: “corn sweat season.” The aroma of petrichor wafted through the cracked window, eliciting faint murmurs of nostalgia for rain that seemed to have forgotten how to reach the city. \n",
      "\n",
      "At a corner table, Max, a budding software engineer with ambitions of revolutionizing fast-food applications, fidgeted with his device. Recent headlines loomed over him: an AI chatbot from a well-known burger chain had leaked millions of applicants' sensitive info. “Brilliant,” he muttered with the kind of irony only a techie can appreciate. Maybe \"Olivia\" was simply their not-so-friendly neighborhood overseer when it came to job applications. But for Max, such mishaps didn’t deter his aspiration; he was convinced his AI overlord could be taught to serve fries and life advice simultaneously—wasn’t that what technology was made for? \n",
      "\n",
      "The sputtering of raindrops against the window broke his concentration. A web application he'd created, “Your Life in Weeks,” urged him to pause and reflect on his life's timeline, each week a box, each box calling for absurdity to fill it. “Sparse moments of brilliance or plain apathy?” he pondered, thinking of the countless hours he'd spent optimizing code rather than optimizing his life choices. The poignancy of his choices twisted around him like ghosts of decisions made over long nights coding under a neon glow.\n",
      "\n",
      "He pulled up the latest reports from the Higher School of Economics—the world had shifted in ways more bizarre than the weather. Students were now training to navigate a landscape peppered with sanctions, Bitcoin, and advanced quantum cryptography. “Perhaps they could run an app too? 'Escape Ransom: the Freedom Initiative'!” he chuckled, thinking how it might draw in the kind of customers who were tired of politics and poverty mixed with tech.\n",
      "\n",
      "Across the café, a meeting for Internet Addicts Anonymous unfolded, openly discussing their struggles with dependency on AI tools. One brave soul shared, “I found myself refreshing job boards instead of applying. It’s like getting caught in a black hole of scrolling!” Laughter erupted, and Max wondered if they understood that their plight mirrored his own—both chained to technology, yet yearning for something richer. \n",
      "\n",
      "If only they could embed resilience into the web applications of their lives as easily as cryptographers were now intertwining puzzles that could thwart the cleverest hackers! Max could feel the magnetism of duality: the tension between emerging possibilities and a world reluctant yet desperate for change. It echoed through the lives that gathered here, waiting for breakthroughs that often seemed as elusive as the rain they longed for. \n",
      "\n",
      "Just as he was about to close his laptop and dive into the human connection sitting at the table next to him—two people sharing a piece of real fruit rather than pixels—an alert flashed across his screen. One of the algorithms had successfully decrypted a riddle he’d embedded in his life-timeline app. “Dare I link this one, ‘Riddles of Existence’ for those who long for context?” he pondered, lifting his head as rain suddenly poured outside, drenching the asphalt in fleeting, glossy reflectivity.\n",
      "\n",
      "As he watched, for a moment, the world outside felt a little less static, a bit more alive. It was a reminder that amidst the clamor of bits and bytes, life, in all its messy unpredictability, continued to be the greatest adventure of all.\n"
     ]
    }
   ],
   "source": [
    "print(f.getStory(\"20250824d\"))"
   ]
  }
 ],
 "metadata": {
  "kernelspec": {
   "display_name": "futures-py3.10",
   "language": "python",
   "name": "python3"
  },
  "language_info": {
   "codemirror_mode": {
    "name": "ipython",
    "version": 3
   },
   "file_extension": ".py",
   "mimetype": "text/x-python",
   "name": "python",
   "nbconvert_exporter": "python",
   "pygments_lexer": "ipython3",
   "version": "3.10.12"
  }
 },
 "nbformat": 4,
 "nbformat_minor": 4
}
