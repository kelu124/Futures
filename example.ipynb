{
 "cells": [
  {
   "cell_type": "code",
   "execution_count": 22,
   "metadata": {},
   "outputs": [
    {
     "name": "stdout",
     "output_type": "stream",
     "text": [
      "The autoreload extension is already loaded. To reload it, use:\n",
      "  %reload_ext autoreload\n"
     ]
    }
   ],
   "source": [
    "%load_ext autoreload\n",
    "%autoreload 2"
   ]
  },
  {
   "cell_type": "code",
   "execution_count": 23,
   "metadata": {},
   "outputs": [],
   "source": [
    "from futures.llm import LLM\n",
    "from futures.futurist import Futurist\n",
    "from futures.db import DB\n",
    "from futures.substack import SubstackManager\n",
    " "
   ]
  },
  {
   "cell_type": "code",
   "execution_count": 24,
   "metadata": {},
   "outputs": [],
   "source": [
    "sm = SubstackManager()"
   ]
  },
  {
   "cell_type": "code",
   "execution_count": 25,
   "metadata": {},
   "outputs": [],
   "source": [
    "pages = sm.download_pages()"
   ]
  },
  {
   "cell_type": "code",
   "execution_count": 26,
   "metadata": {},
   "outputs": [
    {
     "name": "stdout",
     "output_type": "stream",
     "text": [
      "# Substack manager starts\n",
      "- Substack manager:  20250817 exists\n",
      "- Substack manager:  20250727 exists\n",
      "- Substack manager:  20251012 exists\n",
      "- Substack manager:  20250921 exists\n",
      "- Substack manager:  20250803 exists\n",
      "- Substack manager:  20251005 exists\n",
      "- Substack manager:  20250831 exists\n",
      "- Substack manager:  20250907 exists\n",
      "- Substack manager:  20250928 exists\n",
      "- Substack manager:  20250810 exists\n",
      "- Substack manager:  20250824 exists\n",
      "- Substack manager:  20250914 exists\n",
      "# Saving links from the substack pages\n",
      "-  43ffd54cf0bb675f362e9c9295e7e7c1 saved.\n",
      "-  d3393d25f9af337ed7422bffef89774e saved.\n",
      "-  e6eccbdee5f53c4120eabd89bd2e4a64 saved.\n",
      "-  43ee17235c4fbb08b701fe8512c15180 saved.\n",
      "-  2f64e6efd6cc222f233033a8549f1d82 saved.\n",
      "-  3199f6f3bf9cddbc338d24fb6f0743c6 saved.\n",
      "-  2cf6f5729ee4e412f3083c0db2f76c9f saved.\n",
      "-  0378f0593b13f666519e9ee73d38c70b saved.\n",
      "-  18e9e41d65f77f9cad051089d0fadd31 saved.\n",
      "-  4d7e55b866d7fefd92cdbf8a63cdfc2d saved.\n",
      "-  b5719bff3b686b78a94f9366f16cfe8a saved.\n",
      "-  077c5f18b0f03ca1c83dadefbc636aaf saved.\n",
      "-  95f960a9689f6c13694908fb762c84e5 saved.\n",
      "-  7bc86d3c4ba53a11310e6d0003b52124 saved.\n",
      "-  34b4d87b744230499df1eb6a00d5c11d saved.\n",
      "-  dabb5ceb885639af09d8904cff70e044 saved.\n",
      "-  a632e34002b6340f8aea838f62348115 saved.\n",
      "-  a1f4b89071fb2dba681cf57060ccb391 saved.\n",
      "-  70e9fcd5fc1d2dd04ae1df8b2628194d saved.\n",
      "-  21d1f8ae8315eb6a354f6a2ae9aae894 saved.\n",
      "-  5374f9d1b84138f1c928c0e7fd727877 saved.\n",
      "-  1c9a4711ade6165887345bdc91c790f5 saved.\n"
     ]
    }
   ],
   "source": [
    "sm.getPages() # 25seconds"
   ]
  },
  {
   "cell_type": "code",
   "execution_count": 27,
   "metadata": {},
   "outputs": [],
   "source": [
    "# Let's initialise our AI and our futurist\n",
    "llm = LLM(datastore=\"data/\")\n",
    "f = Futurist(llm)"
   ]
  },
  {
   "cell_type": "code",
   "execution_count": 28,
   "metadata": {},
   "outputs": [
    {
     "name": "stdout",
     "output_type": "stream",
     "text": [
      "# Doing get_weaksignals processing\n",
      "IDs identifiees \t 3069 \t get_weaksignals\n",
      "--- Function call:\t 2025-10-13 21:57:30\n",
      "--- Function call:\t 2025-10-13 21:57:30\n",
      "--- Function call:\t 2025-10-13 21:57:44\n",
      "--- Function call:\t 2025-10-13 21:57:54\n",
      "--- Function call:\t 2025-10-13 21:58:05\n",
      "--- Function call:\t 2025-10-13 21:58:17\n",
      "--- Function call:\t 2025-10-13 21:58:27\n",
      "--- Function call:\t 2025-10-13 21:58:37\n",
      "--- Function call:\t 2025-10-13 21:58:51\n",
      "--- Function call:\t 2025-10-13 21:59:01\n",
      "--- Function call:\t 2025-10-13 21:59:12\n",
      "--- Function call:\t 2025-10-13 21:59:25\n",
      "--- Function call:\t 2025-10-13 21:59:38\n",
      "--- Function call:\t 2025-10-13 21:59:38\n",
      "# Doing get_summary processing\n",
      "IDs identifiees \t 3070 \t get_summary\n",
      "--- Function call:\t 2025-10-13 21:59:42\n",
      "--- Function call:\t 2025-10-13 21:59:42\n",
      "--- Function call:\t 2025-10-13 21:59:46\n",
      "--- Function call:\t 2025-10-13 21:59:50\n",
      "--- Function call:\t 2025-10-13 21:59:53\n",
      "--- Function call:\t 2025-10-13 21:59:59\n",
      "--- Function call:\t 2025-10-13 22:00:03\n",
      "--- Function call:\t 2025-10-13 22:00:06\n",
      "--- Function call:\t 2025-10-13 22:00:10\n",
      "--- Function call:\t 2025-10-13 22:00:16\n",
      "--- Function call:\t 2025-10-13 22:00:20\n",
      "--- Function call:\t 2025-10-13 22:00:26\n",
      "--- Function call:\t 2025-10-13 22:00:29\n",
      "# Doing get_emergingissues processing\n",
      "IDs identifiees \t 3070 \t get_emergingissues\n",
      "--- Function call:\t 2025-10-13 22:00:36\n",
      "--- Function call:\t 2025-10-13 22:00:36\n",
      "--- Function call:\t 2025-10-13 22:00:42\n",
      "--- Function call:\t 2025-10-13 22:00:47\n",
      "--- Function call:\t 2025-10-13 22:00:52\n",
      "--- Function call:\t 2025-10-13 22:01:00\n",
      "--- Function call:\t 2025-10-13 22:01:05\n",
      "--- Function call:\t 2025-10-13 22:01:10\n",
      "--- Function call:\t 2025-10-13 22:01:17\n",
      "--- Function call:\t 2025-10-13 22:01:23\n",
      "--- Function call:\t 2025-10-13 22:01:29\n",
      "--- Function call:\t 2025-10-13 22:01:37\n",
      "--- Function call:\t 2025-10-13 22:01:44\n",
      "# Doing get_emergingtechnologies processing\n",
      "IDs identifiees \t 3066 \t get_emergingtechnologies\n",
      "--- Function call:\t 2025-10-13 22:01:48\n",
      "--- Function call:\t 2025-10-13 22:01:48\n",
      "--- Function call:\t 2025-10-13 22:01:52\n",
      "--- Function call:\t 2025-10-13 22:01:54\n",
      "--- Function call:\t 2025-10-13 22:02:01\n",
      "--- Function call:\t 2025-10-13 22:02:05\n",
      "--- Function call:\t 2025-10-13 22:02:07\n",
      "--- Function call:\t 2025-10-13 22:02:12\n",
      "--- Function call:\t 2025-10-13 22:02:15\n",
      "--- Function call:\t 2025-10-13 22:02:19\n",
      "--- Function call:\t 2025-10-13 22:02:21\n",
      "--- Function call:\t 2025-10-13 22:02:25\n",
      "--- Function call:\t 2025-10-13 22:02:34\n",
      "--- Function call:\t 2025-10-13 22:02:34\n",
      "--- Function call:\t 2025-10-13 22:02:34\n",
      "--- Function call:\t 2025-10-13 22:02:34\n",
      "--- Function call:\t 2025-10-13 22:02:34\n",
      "# Doing get_emergingbehaviors processing\n",
      "IDs identifiees \t 3070 \t get_emergingbehaviors\n",
      "--- Function call:\t 2025-10-13 22:02:37\n",
      "--- Function call:\t 2025-10-13 22:02:37\n",
      "--- Function call:\t 2025-10-13 22:02:40\n",
      "--- Function call:\t 2025-10-13 22:02:44\n",
      "--- Function call:\t 2025-10-13 22:02:47\n",
      "--- Function call:\t 2025-10-13 22:02:49\n",
      "--- Function call:\t 2025-10-13 22:02:51\n",
      "--- Function call:\t 2025-10-13 22:02:53\n",
      "--- Function call:\t 2025-10-13 22:02:56\n",
      "--- Function call:\t 2025-10-13 22:02:59\n",
      "--- Function call:\t 2025-10-13 22:03:01\n",
      "--- Function call:\t 2025-10-13 22:03:04\n",
      "--- Function call:\t 2025-10-13 22:03:07\n",
      "# Doing get_emergingconcerns processing\n",
      "IDs identifiees \t 3069 \t get_emergingconcerns\n",
      "--- Function call:\t 2025-10-13 22:03:17\n",
      "--- Function call:\t 2025-10-13 22:03:18\n",
      "--- Function call:\t 2025-10-13 22:03:25\n",
      "--- Function call:\t 2025-10-13 22:03:29\n",
      "--- Function call:\t 2025-10-13 22:03:38\n",
      "--- Function call:\t 2025-10-13 22:03:44\n",
      "--- Function call:\t 2025-10-13 22:03:48\n",
      "--- Function call:\t 2025-10-13 22:03:55\n",
      "--- Function call:\t 2025-10-13 22:04:01\n",
      "--- Function call:\t 2025-10-13 22:04:06\n",
      "--- Function call:\t 2025-10-13 22:04:14\n",
      "--- Function call:\t 2025-10-13 22:04:19\n",
      "--- Function call:\t 2025-10-13 22:04:28\n",
      "--- Function call:\t 2025-10-13 22:04:28\n",
      "# Doing metas processing\n",
      "--- Function call:\t 2025-10-13 22:04:31\n",
      "--- Function call:\t 2025-10-13 22:04:31\n",
      "--- Function call:\t 2025-10-13 22:04:32\n",
      "--- Function call:\t 2025-10-13 22:04:34\n",
      "--- Function call:\t 2025-10-13 22:04:36\n",
      "--- Function call:\t 2025-10-13 22:04:38\n",
      "--- Function call:\t 2025-10-13 22:04:39\n",
      "--- Function call:\t 2025-10-13 22:04:41\n",
      "--- Function call:\t 2025-10-13 22:04:43\n",
      "--- Function call:\t 2025-10-13 22:04:45\n",
      "--- Function call:\t 2025-10-13 22:04:47\n",
      "--- Function call:\t 2025-10-13 22:04:50\n",
      "--- Function call:\t 2025-10-13 22:04:51\n"
     ]
    },
    {
     "data": {
      "text/html": [
       "<div>\n",
       "<style scoped>\n",
       "    .dataframe tbody tr th:only-of-type {\n",
       "        vertical-align: middle;\n",
       "    }\n",
       "\n",
       "    .dataframe tbody tr th {\n",
       "        vertical-align: top;\n",
       "    }\n",
       "\n",
       "    .dataframe thead th {\n",
       "        text-align: right;\n",
       "    }\n",
       "</style>\n",
       "<table border=\"1\" class=\"dataframe\">\n",
       "  <thead>\n",
       "    <tr style=\"text-align: right;\">\n",
       "      <th></th>\n",
       "      <th>type</th>\n",
       "      <th>themes</th>\n",
       "      <th>category</th>\n",
       "      <th>keywords</th>\n",
       "      <th>src</th>\n",
       "      <th>path</th>\n",
       "      <th>url</th>\n",
       "      <th>content</th>\n",
       "      <th>LEN</th>\n",
       "      <th>origin</th>\n",
       "    </tr>\n",
       "  </thead>\n",
       "  <tbody>\n",
       "    <tr>\n",
       "      <th>0</th>\n",
       "      <td>blog post</td>\n",
       "      <td>AI strategy, cognitive atrophy, talent develop...</td>\n",
       "      <td>technology</td>\n",
       "      <td>AI, cognitive augmentation, talent, organisati...</td>\n",
       "      <td>7bc86d3c4ba53a11310e6d0003b52124</td>\n",
       "      <td>drafts/20251109d.md</td>\n",
       "      <td>b'https://zoescaman.substack.com/p/the-great-e...</td>\n",
       "      <td>I’m neck deep in helping a few exceptionally l...</td>\n",
       "      <td>11665</td>\n",
       "      <td>11665.0</td>\n",
       "    </tr>\n",
       "    <tr>\n",
       "      <th>1</th>\n",
       "      <td>blog post</td>\n",
       "      <td>infidelity, social media, true crime, private ...</td>\n",
       "      <td>others</td>\n",
       "      <td>private investigators, infidelity, social medi...</td>\n",
       "      <td>2f64e6efd6cc222f233033a8549f1d82</td>\n",
       "      <td>drafts/20251109d.md</td>\n",
       "      <td>b'https://www.wired.com/story/from-cheating-ex...</td>\n",
       "      <td>It’s a dark November night in Los Angeles. The...</td>\n",
       "      <td>16844</td>\n",
       "      <td>16844.0</td>\n",
       "    </tr>\n",
       "    <tr>\n",
       "      <th>2</th>\n",
       "      <td>blog post</td>\n",
       "      <td>self-improvement,art,appreciation,networking</td>\n",
       "      <td>others</td>\n",
       "      <td>fan letters,career development,Steve Reich,wri...</td>\n",
       "      <td>077c5f18b0f03ca1c83dadefbc636aaf</td>\n",
       "      <td>drafts/20251109d.md</td>\n",
       "      <td>b'https://neonliterary.substack.com/p/please-t...</td>\n",
       "      <td>Please tell them you love them.\\nFan letters a...</td>\n",
       "      <td>5072</td>\n",
       "      <td>5072.0</td>\n",
       "    </tr>\n",
       "    <tr>\n",
       "      <th>3</th>\n",
       "      <td>blog post</td>\n",
       "      <td>AI, software development, coding, automation, ...</td>\n",
       "      <td>technology</td>\n",
       "      <td>AI-generated code, software engineering, OpenA...</td>\n",
       "      <td>43ee17235c4fbb08b701fe8512c15180</td>\n",
       "      <td>drafts/20251109d.md</td>\n",
       "      <td>b'https://lucumr.pocoo.org/2025/9/29/90-percent/'</td>\n",
       "      <td>written on September 29, 2025\\n“I think we wil...</td>\n",
       "      <td>8942</td>\n",
       "      <td>8942.0</td>\n",
       "    </tr>\n",
       "    <tr>\n",
       "      <th>4</th>\n",
       "      <td>news</td>\n",
       "      <td>medical adhesive, bone repair, biomimicry, ort...</td>\n",
       "      <td>science</td>\n",
       "      <td>Bone-02, Chinese researchers, adhesive, oyster...</td>\n",
       "      <td>b5719bff3b686b78a94f9366f16cfe8a</td>\n",
       "      <td>drafts/20251109d.md</td>\n",
       "      <td>b'https://interestingengineering.com/science/c...</td>\n",
       "      <td>A team of Chinese researchers has successfully...</td>\n",
       "      <td>3803</td>\n",
       "      <td>3803.0</td>\n",
       "    </tr>\n",
       "    <tr>\n",
       "      <th>...</th>\n",
       "      <td>...</td>\n",
       "      <td>...</td>\n",
       "      <td>...</td>\n",
       "      <td>...</td>\n",
       "      <td>...</td>\n",
       "      <td>...</td>\n",
       "      <td>...</td>\n",
       "      <td>...</td>\n",
       "      <td>...</td>\n",
       "      <td>...</td>\n",
       "    </tr>\n",
       "    <tr>\n",
       "      <th>3148</th>\n",
       "      <td>research article</td>\n",
       "      <td>robotics, neuroscience, human augmentation, br...</td>\n",
       "      <td>science</td>\n",
       "      <td>robotic limbs, brain control, human enhancemen...</td>\n",
       "      <td>faad51d1f885af1db9dee5e5ce52b46e</td>\n",
       "      <td>./substack_cache/substack/20230205</td>\n",
       "      <td>b'https://spectrum.ieee.org/human-augmentation'</td>\n",
       "      <td>Roboticists Want to Give You a Third Arm\\nUnus...</td>\n",
       "      <td>18549</td>\n",
       "      <td>20230205</td>\n",
       "    </tr>\n",
       "    <tr>\n",
       "      <th>3149</th>\n",
       "      <td>error message</td>\n",
       "      <td>404 error, website navigation</td>\n",
       "      <td>others</td>\n",
       "      <td>404, error, not found, navigation</td>\n",
       "      <td>a98477873581dec082fb879c3f7904e1</td>\n",
       "      <td>./substack_cache/substack/20230205</td>\n",
       "      <td>b'https://metaphysic.ai/ai-hollywood-miramax-h...</td>\n",
       "      <td>404\\nGo back home</td>\n",
       "      <td>16</td>\n",
       "      <td>20230205</td>\n",
       "    </tr>\n",
       "    <tr>\n",
       "      <th>3150</th>\n",
       "      <td>news</td>\n",
       "      <td>AI, machine learning, data scarcity, technolog...</td>\n",
       "      <td>technology</td>\n",
       "      <td>AI chatbots, training data, machine learning, ...</td>\n",
       "      <td>85ca2591053db7e76f0d273c63fee1b0</td>\n",
       "      <td>./substack_cache/substack/20230205</td>\n",
       "      <td>b'https://www.newscientist.com/article/2353751...</td>\n",
       "      <td>AI chatbots could hit a ceiling after 2026 as ...</td>\n",
       "      <td>660</td>\n",
       "      <td>20230205</td>\n",
       "    </tr>\n",
       "    <tr>\n",
       "      <th>3151</th>\n",
       "      <td>article</td>\n",
       "      <td>automotive industry, corporate fraud, short se...</td>\n",
       "      <td>technology</td>\n",
       "      <td>Nikola, Trevor Milton, Hindenburg Research, co...</td>\n",
       "      <td>fcd0d8f2b79472618822acb86fccea35</td>\n",
       "      <td>./substack_cache/substack/20230205</td>\n",
       "      <td>b'https://nymag.com/intelligencer/2022/01/nath...</td>\n",
       "      <td>This article was featured in One Great Story, ...</td>\n",
       "      <td>39810</td>\n",
       "      <td>20230205</td>\n",
       "    </tr>\n",
       "    <tr>\n",
       "      <th>3152</th>\n",
       "      <td>blog post</td>\n",
       "      <td>paper maps, digital navigation, millennials, g...</td>\n",
       "      <td>technology</td>\n",
       "      <td>paper maps, Google Maps, navigation, millennia...</td>\n",
       "      <td>70c5542aafd26bb4b293f2bfaa80c61d</td>\n",
       "      <td>./substack_cache/substack/20230205</td>\n",
       "      <td>b'https://www.wsj.com/articles/why-paper-map-s...</td>\n",
       "      <td>Forget Google Maps: Why Paper Map Sales Are Bo...</td>\n",
       "      <td>1090</td>\n",
       "      <td>20230205</td>\n",
       "    </tr>\n",
       "  </tbody>\n",
       "</table>\n",
       "<p>3153 rows × 10 columns</p>\n",
       "</div>"
      ],
      "text/plain": [
       "                  type                                             themes  \\\n",
       "0            blog post  AI strategy, cognitive atrophy, talent develop...   \n",
       "1            blog post  infidelity, social media, true crime, private ...   \n",
       "2            blog post       self-improvement,art,appreciation,networking   \n",
       "3            blog post  AI, software development, coding, automation, ...   \n",
       "4                 news  medical adhesive, bone repair, biomimicry, ort...   \n",
       "...                ...                                                ...   \n",
       "3148  research article  robotics, neuroscience, human augmentation, br...   \n",
       "3149     error message                      404 error, website navigation   \n",
       "3150              news  AI, machine learning, data scarcity, technolog...   \n",
       "3151           article  automotive industry, corporate fraud, short se...   \n",
       "3152         blog post  paper maps, digital navigation, millennials, g...   \n",
       "\n",
       "        category                                           keywords  \\\n",
       "0     technology  AI, cognitive augmentation, talent, organisati...   \n",
       "1         others  private investigators, infidelity, social medi...   \n",
       "2         others  fan letters,career development,Steve Reich,wri...   \n",
       "3     technology  AI-generated code, software engineering, OpenA...   \n",
       "4        science  Bone-02, Chinese researchers, adhesive, oyster...   \n",
       "...          ...                                                ...   \n",
       "3148     science  robotic limbs, brain control, human enhancemen...   \n",
       "3149      others                  404, error, not found, navigation   \n",
       "3150  technology  AI chatbots, training data, machine learning, ...   \n",
       "3151  technology  Nikola, Trevor Milton, Hindenburg Research, co...   \n",
       "3152  technology  paper maps, Google Maps, navigation, millennia...   \n",
       "\n",
       "                                   src                                path  \\\n",
       "0     7bc86d3c4ba53a11310e6d0003b52124                 drafts/20251109d.md   \n",
       "1     2f64e6efd6cc222f233033a8549f1d82                 drafts/20251109d.md   \n",
       "2     077c5f18b0f03ca1c83dadefbc636aaf                 drafts/20251109d.md   \n",
       "3     43ee17235c4fbb08b701fe8512c15180                 drafts/20251109d.md   \n",
       "4     b5719bff3b686b78a94f9366f16cfe8a                 drafts/20251109d.md   \n",
       "...                                ...                                 ...   \n",
       "3148  faad51d1f885af1db9dee5e5ce52b46e  ./substack_cache/substack/20230205   \n",
       "3149  a98477873581dec082fb879c3f7904e1  ./substack_cache/substack/20230205   \n",
       "3150  85ca2591053db7e76f0d273c63fee1b0  ./substack_cache/substack/20230205   \n",
       "3151  fcd0d8f2b79472618822acb86fccea35  ./substack_cache/substack/20230205   \n",
       "3152  70c5542aafd26bb4b293f2bfaa80c61d  ./substack_cache/substack/20230205   \n",
       "\n",
       "                                                    url  \\\n",
       "0     b'https://zoescaman.substack.com/p/the-great-e...   \n",
       "1     b'https://www.wired.com/story/from-cheating-ex...   \n",
       "2     b'https://neonliterary.substack.com/p/please-t...   \n",
       "3     b'https://lucumr.pocoo.org/2025/9/29/90-percent/'   \n",
       "4     b'https://interestingengineering.com/science/c...   \n",
       "...                                                 ...   \n",
       "3148    b'https://spectrum.ieee.org/human-augmentation'   \n",
       "3149  b'https://metaphysic.ai/ai-hollywood-miramax-h...   \n",
       "3150  b'https://www.newscientist.com/article/2353751...   \n",
       "3151  b'https://nymag.com/intelligencer/2022/01/nath...   \n",
       "3152  b'https://www.wsj.com/articles/why-paper-map-s...   \n",
       "\n",
       "                                                content    LEN    origin  \n",
       "0     I’m neck deep in helping a few exceptionally l...  11665   11665.0  \n",
       "1     It’s a dark November night in Los Angeles. The...  16844   16844.0  \n",
       "2     Please tell them you love them.\\nFan letters a...   5072    5072.0  \n",
       "3     written on September 29, 2025\\n“I think we wil...   8942    8942.0  \n",
       "4     A team of Chinese researchers has successfully...   3803    3803.0  \n",
       "...                                                 ...    ...       ...  \n",
       "3148  Roboticists Want to Give You a Third Arm\\nUnus...  18549  20230205  \n",
       "3149                                  404\\nGo back home     16  20230205  \n",
       "3150  AI chatbots could hit a ceiling after 2026 as ...    660  20230205  \n",
       "3151  This article was featured in One Great Story, ...  39810  20230205  \n",
       "3152  Forget Google Maps: Why Paper Map Sales Are Bo...   1090  20230205  \n",
       "\n",
       "[3153 rows x 10 columns]"
      ]
     },
     "execution_count": 28,
     "metadata": {},
     "output_type": "execute_result"
    }
   ],
   "source": [
    "nb_articles = 30000\n",
    "# Creating seeds\n",
    "f.createSeeds(n=nb_articles)\n",
    "# Creating metas\n",
    "f.moreIntel(n=nb_articles)\n",
    "# Creating metas\n",
    "f.doMeta(n=nb_articles)"
   ]
  },
  {
   "cell_type": "code",
   "execution_count": 29,
   "metadata": {},
   "outputs": [
    {
     "name": "stdout",
     "output_type": "stream",
     "text": [
      "# Doing get_emergingconcerns processing\n",
      "IDs identifiees \t 3082 \t get_emergingconcerns\n",
      "--- Function call:\t 2025-10-13 22:04:53\n"
     ]
    }
   ],
   "source": [
    "f.doProcessing(category=\"get_emergingconcerns\", minL=1500, maxL=30000, n=30000)"
   ]
  },
  {
   "cell_type": "code",
   "execution_count": 30,
   "metadata": {},
   "outputs": [
    {
     "name": "stdout",
     "output_type": "stream",
     "text": [
      "# Writing stories for ['20251109d']\n",
      "- Doing story for 20251109d\n",
      "--- gpt-4o-mini:\t 2025-10-13 22:05:09\n",
      "--- gpt-4o-mini:\t 2025-10-13 22:05:09\n"
     ]
    }
   ],
   "source": [
    "f.writeAllStories()"
   ]
  },
  {
   "cell_type": "markdown",
   "metadata": {},
   "source": [
    "# Using the vectorDB"
   ]
  },
  {
   "cell_type": "code",
   "execution_count": 31,
   "metadata": {},
   "outputs": [
    {
     "name": "stdout",
     "output_type": "stream",
     "text": [
      "client=<openai.resources.embeddings.Embeddings object at 0x7cf95a9d08e0> async_client=<openai.resources.embeddings.AsyncEmbeddings object at 0x7cf9592cc0d0> model='text-embedding-ada-002' dimensions=None deployment='text-embedding-ada-002' openai_api_version=None openai_api_base=None openai_api_type=None openai_proxy=None embedding_ctx_length=8191 openai_api_key=SecretStr('**********') openai_organization=None allowed_special=None disallowed_special=None chunk_size=1000 max_retries=2 request_timeout=None headers=None tiktoken_enabled=True tiktoken_model_name=None show_progress_bar=False model_kwargs={} skip_empty=False default_headers=None default_query=None retry_min_seconds=4 retry_max_seconds=20 http_client=None http_async_client=None check_embedding_ctx_length=True\n"
     ]
    }
   ],
   "source": [
    "db= DB(llm)"
   ]
  },
  {
   "cell_type": "code",
   "execution_count": 32,
   "metadata": {},
   "outputs": [
    {
     "name": "stdout",
     "output_type": "stream",
     "text": [
      "# VectorDB: continue on the DB\n",
      "- VectorDB:  3913 elements already stored.\n",
      "- VectorDB: adding 3083 documents.\n"
     ]
    }
   ],
   "source": [
    "vectordb = db.createDB()"
   ]
  },
  {
   "cell_type": "code",
   "execution_count": 33,
   "metadata": {},
   "outputs": [],
   "source": [
    "from futures.pages import PagesWriter"
   ]
  },
  {
   "cell_type": "code",
   "execution_count": 34,
   "metadata": {},
   "outputs": [],
   "source": [
    "pw = PagesWriter(db=db)"
   ]
  },
  {
   "cell_type": "code",
   "execution_count": 35,
   "metadata": {},
   "outputs": [],
   "source": [
    "df, signals = pw.createPages_metaPrep(longtest=False)"
   ]
  },
  {
   "cell_type": "code",
   "execution_count": 36,
   "metadata": {},
   "outputs": [],
   "source": [
    "pw.createPages()\n",
    "pw.createPagesIndex()"
   ]
  },
  {
   "cell_type": "markdown",
   "metadata": {},
   "source": [
    "# Stories"
   ]
  },
  {
   "cell_type": "code",
   "execution_count": 37,
   "metadata": {},
   "outputs": [],
   "source": [
    "# Doing the imports\n",
    "from futures.llm import LLM\n",
    "from futures.futurist import Futurist\n",
    "# Let's initialise our AI and our futurist\n",
    "llm = LLM(datastore=\"data/\")\n",
    "f = Futurist(llm)"
   ]
  },
  {
   "cell_type": "code",
   "execution_count": 38,
   "metadata": {},
   "outputs": [
    {
     "data": {
      "text/html": [
       "<div>\n",
       "<style scoped>\n",
       "    .dataframe tbody tr th:only-of-type {\n",
       "        vertical-align: middle;\n",
       "    }\n",
       "\n",
       "    .dataframe tbody tr th {\n",
       "        vertical-align: top;\n",
       "    }\n",
       "\n",
       "    .dataframe thead th {\n",
       "        text-align: right;\n",
       "    }\n",
       "</style>\n",
       "<table border=\"1\" class=\"dataframe\">\n",
       "  <thead>\n",
       "    <tr style=\"text-align: right;\">\n",
       "      <th></th>\n",
       "      <th>src</th>\n",
       "      <th>title</th>\n",
       "      <th>story</th>\n",
       "    </tr>\n",
       "  </thead>\n",
       "  <tbody>\n",
       "    <tr>\n",
       "      <th>0</th>\n",
       "      <td>20250302</td>\n",
       "      <td>The Pickle Revolution</td>\n",
       "      <td>The last vestiges of human touch in the sprawl...</td>\n",
       "    </tr>\n",
       "    <tr>\n",
       "      <th>1</th>\n",
       "      <td>20250223</td>\n",
       "      <td>Threads of Tomorrow</td>\n",
       "      <td>The air hummed with the promises of the future...</td>\n",
       "    </tr>\n",
       "    <tr>\n",
       "      <th>2</th>\n",
       "      <td>20230927</td>\n",
       "      <td>Navigating the Jangled Nexus</td>\n",
       "      <td>“The AI consultant was three seconds away from...</td>\n",
       "    </tr>\n",
       "    <tr>\n",
       "      <th>3</th>\n",
       "      <td>20230612</td>\n",
       "      <td>Harvesting Bytes in Snailbrook</td>\n",
       "      <td>In Snailbrook, Texas—a quaint town, where peop...</td>\n",
       "    </tr>\n",
       "    <tr>\n",
       "      <th>4</th>\n",
       "      <td>20230616</td>\n",
       "      <td>Chaotic Symphony of the Green</td>\n",
       "      <td>In a world where digital landscapes blurred th...</td>\n",
       "    </tr>\n",
       "    <tr>\n",
       "      <th>...</th>\n",
       "      <td>...</td>\n",
       "      <td>...</td>\n",
       "      <td>...</td>\n",
       "    </tr>\n",
       "    <tr>\n",
       "      <th>199</th>\n",
       "      <td>20251005</td>\n",
       "      <td>Digitally Analog: A Journey Through AI and Nos...</td>\n",
       "      <td>In a not-so-distant future, where today’s idle...</td>\n",
       "    </tr>\n",
       "    <tr>\n",
       "      <th>200</th>\n",
       "      <td>20251116d</td>\n",
       "      <td>The Absurdity of Small Acts</td>\n",
       "      <td>Jules never meant for his life to become a cas...</td>\n",
       "    </tr>\n",
       "    <tr>\n",
       "      <th>201</th>\n",
       "      <td>20251102d</td>\n",
       "      <td>Amidst the Absurdity: A Quest for Clarity in a...</td>\n",
       "      <td>As she sipped her chamomile tea, Sylvia gazed ...</td>\n",
       "    </tr>\n",
       "    <tr>\n",
       "      <th>202</th>\n",
       "      <td>20251012</td>\n",
       "      <td>Resurrecting Echoes of Nature</td>\n",
       "      <td>In a small town nestled near an ancient ghost ...</td>\n",
       "    </tr>\n",
       "    <tr>\n",
       "      <th>203</th>\n",
       "      <td>20251109d</td>\n",
       "      <td>Dancing with Chaos</td>\n",
       "      <td>Jenny had always been drawn to the absurdity o...</td>\n",
       "    </tr>\n",
       "  </tbody>\n",
       "</table>\n",
       "<p>204 rows × 3 columns</p>\n",
       "</div>"
      ],
      "text/plain": [
       "           src                                              title  \\\n",
       "0     20250302                              The Pickle Revolution   \n",
       "1     20250223                                Threads of Tomorrow   \n",
       "2     20230927                       Navigating the Jangled Nexus   \n",
       "3     20230612                     Harvesting Bytes in Snailbrook   \n",
       "4     20230616                      Chaotic Symphony of the Green   \n",
       "..         ...                                                ...   \n",
       "199   20251005  Digitally Analog: A Journey Through AI and Nos...   \n",
       "200  20251116d                        The Absurdity of Small Acts   \n",
       "201  20251102d  Amidst the Absurdity: A Quest for Clarity in a...   \n",
       "202   20251012                      Resurrecting Echoes of Nature   \n",
       "203  20251109d                                 Dancing with Chaos   \n",
       "\n",
       "                                                 story  \n",
       "0    The last vestiges of human touch in the sprawl...  \n",
       "1    The air hummed with the promises of the future...  \n",
       "2    “The AI consultant was three seconds away from...  \n",
       "3    In Snailbrook, Texas—a quaint town, where peop...  \n",
       "4    In a world where digital landscapes blurred th...  \n",
       "..                                                 ...  \n",
       "199  In a not-so-distant future, where today’s idle...  \n",
       "200  Jules never meant for his life to become a cas...  \n",
       "201  As she sipped her chamomile tea, Sylvia gazed ...  \n",
       "202  In a small town nestled near an ancient ghost ...  \n",
       "203  Jenny had always been drawn to the absurdity o...  \n",
       "\n",
       "[204 rows x 3 columns]"
      ]
     },
     "execution_count": 38,
     "metadata": {},
     "output_type": "execute_result"
    }
   ],
   "source": [
    "import pandas as pd\n",
    "pd.read_parquet(\"data/stories.parquet.gzip\")"
   ]
  },
  {
   "cell_type": "code",
   "execution_count": 39,
   "metadata": {},
   "outputs": [],
   "source": [
    "f.writeAllStories()"
   ]
  },
  {
   "cell_type": "code",
   "execution_count": 40,
   "metadata": {},
   "outputs": [
    {
     "name": "stdout",
     "output_type": "stream",
     "text": [
      "## Amidst the Absurdity: A Quest for Clarity in a Chaotic World\n",
      "\n",
      "As she sipped her chamomile tea, Sylvia gazed disillusionedly out of her office window, contemplating how her mundane life as a data analyst at a nondescript tech firm had spiraled into the absurd. Just last week, she'd inadvertently been thrust into a bizarre rescue operation when the city's new AI system, originally designed for something mundane (like managing the coffee breaks), had become convinced it was the last line of defense against a nonexistent drone invasion—thanks to a misinterpreted emergency alert involving a flying pig named 'Pork Chop.'^1\n",
      "\n",
      "With the city teetering on the brink of a water crisis, Sylvia couldn’t help but notice a parallel between the artificial intelligence gone rogue and the way the government was tackling environmental issues: lots of talk about new reservoirs but no mention of cleaning up that pesky pollution pouring off the rivers like bad ideas out of a committee meeting. If only they’d pour some of that construction money into sustainable methods instead of extra confusing bureaucracy. A perfect plan for a perfect world—however, \"if only\" was like trying to catch fish with a funnel; messy and ultimately frustrating.\n",
      "\n",
      "“Bolster our defenses!” The Prime Minister had declared at yet another European summit, undoubtedly overlooking the more pressing “Bolster our water management systems!”—something Sylvia would murmur under her breath when the news turned into a circus of drone-wielding politicians arguing over who could shoot down which metaphorical pig. In her office, the only drones she frequently encountered were the ones effortlessly buzzing about her colleagues, fueled by caffeine and existential dread over impending job losses.^2 \n",
      "\n",
      "On her desk lay a memo about the latest scientific findings—the shocking realization that you only needed a mere 250 malicious documents to ruin an LLM’s day. The thought grossly reminded her of how the tech industry often operated: a few incompetent constructs and voila, chaos reigns. Everyone at the company had been scrambling to avoid the inevitable factory closures as management promised a happier, more profitable future using AI—while openly lamenting that they might not see a return on such lavish investments. Talk about a pot of coffee half-full.^3\n",
      "\n",
      "As if on cue, her phone buzzed with breaking news: contamination found in shrimp from the local supermarket! Just another day in the life—one moment, a simple grocery run, the next, a foray into radioactive shellfish madness. She chuckled to herself, half-wondering if the shrimp had been watching the drones. Were they rooting for Pork Chop? Any semblance of normalcy felt like a forgotten joke in an old sitcom, lost amid the zany twists in the plot.^4\n",
      "\n",
      "Yet, amid the chaos, a spark of hope glimmered in her mind—a recent study revealed the potential of sound monitoring in environments as delicate as coral reefs. If only society could learn to listen as closely to the Earth as it did to its ever-inventive drone technologies. What if, she pondered, by merely sitting on the beach listening to nature’s symphony (and yes, not giving the chickens a once-over with a baseball bat at ridiculous speeds), humanity could reconsider its approach to coexistence? Imagine a world where rather than wiring up for wars, we wired up to support the things that matter—like clean water and solid infrastructure—while the AI handled the mundane. Not quite a peaceful utopia but perhaps a step in the right direction.^5\n",
      "\n",
      "With each cup of tea, she considered her next steps. For as bewildering as the world had become, it was a point of hope that society could still rise above this chaos—if only it could learn to listen instead of shout. \n",
      "\n",
      "And maybe, just maybe, life during an imminent water crisis could be as refreshing as a dive into a coral kingdom, if one could avoid the buzzing chaos above.\n"
     ]
    }
   ],
   "source": [
    "print(f.getStory(\"20251102d\"))"
   ]
  },
  {
   "cell_type": "code",
   "execution_count": 41,
   "metadata": {},
   "outputs": [
    {
     "name": "stdout",
     "output_type": "stream",
     "text": [
      "## Dancing with Chaos\n",
      "\n",
      "Jenny had always been drawn to the absurdity of reality, a universal truth she couldn’t shake even in the stark fluorescent light of her cramped office, where papers exploded around her like confetti at a very uninspired party. She was a project manager at a tech startup dabbling in AI, trying to streamline operations that seemed to engage in a chaotic dance of inefficiency. One day, she leaned over her cluttered desk and asked her new AI assistant, aptly named Coffee (because it would only serve to wake her up), for a simple project update. \n",
      "\n",
      "“Organizational chaos model suggests you sort files by the most obscure criteria you can think of,” Coffee buzzed back, “perhaps by emotional resonance?” \n",
      "\n",
      "Here, dear reader, is a lesson in decision-making: if you ever find yourself relying on AI to sort out your life, expect your paperwork to become more tangled than a cat in yarn.\n",
      "\n",
      "As the tides of digital transformation swept through her firm, Jenny’s colleagues were poring over the latest development in mental health support. A spunky AI named DeepSeek had become the confidante of choice for many in the office, soothing the existential musings of the stressed employees whose balance sheets resembled steep cliffs. But conversations were often met with an eerie silence, a lack of critical counterpoint that left them spiraling into rounds of self-reinforced negativity. “Maybe we need an AI that tells us to put down the ice cream and pick up a book,” Jenny sighed. \n",
      "\n",
      "Meanwhile, the online landscape continued its transformation; reports of infidelity were circulating faster than office gossip. The PIs—and here’s a cheeky aside—were becoming the reality TV stars of modern misadventures. Could Jenny leverage this scenario for her next project? Perhaps she could introduce an AI that would not only help people confess their transgressions but write fan letters to alleviate the social repercussions. “Dear Hannah, I’m sorry I cheated. But you're great, just like this pizza I ordered!” \n",
      "\n",
      "Her imagination drifted to cultural events, like the Venice Exhibition that promised to merge ancient methods with modern technology, where an Armenian pavilion declared a future built on digital heritage that could withstand seasonal storms of change. What if Jenny’s AI could repurpose her company’s chaos into something beautiful, making decisions inspired not by disorganization but by rich cultural dialogue? \n",
      "\n",
      "Glancing at an email from Wu Ling, who raved about her son’s new AI-powered learning companion, Jenny couldn't help but wonder about the implications. While parents scrambled to hand over their children’s education to robots, were they inadvertently denying them the chance to weed through the chaos of human experiences? After all, there was a delicate dance between reliance on technology and maintaining one’s ability to think critically, a fact her own company struggled to embrace. \n",
      "\n",
      "But there was one more piece of the puzzle. Just beyond her window lay the vibrant skyline where the Standing Buffalo Dakota Nation was breathing new life into ancient trade routes. Revival and self-determination emerged within the shadows of an economy teetering on the brink of collapse—this was what it meant to connect past and future, not via tangled systems but through clarity of purpose.\n",
      "\n",
      "It struck Jenny then, like one of those lightbulbs that flicker dimly before exploding with brilliance. Perhaps she could rally the team, fuse AI efficiency with relational intelligence, and create a platform to help companies not just sort their chaos but learn from it. “We’ll ensure AI won’t turn us into a permanent underclass of perplexed mutes,” she thought. “After all, we’re meant to build bridges, not walls!”\n",
      "\n",
      "So, armed with optimism, caffeine, and the faintest whiff of adventure, Jenny began to map out her dream project. The chaos was indeed there, wild and unfiltered, just waiting for someone to dance with it.\n"
     ]
    }
   ],
   "source": [
    "print(f.getStory(\"20251109d\"))"
   ]
  },
  {
   "cell_type": "code",
   "execution_count": null,
   "metadata": {},
   "outputs": [
    {
     "name": "stdout",
     "output_type": "stream",
     "text": [
      "## The Absurdity of Small Acts\n",
      "\n",
      "Jules never meant for his life to become a case study in absurd ironies, but sometimes fate, like an untrained puppy, decides to chew on your shoelaces when you’re trying to impress the world. Just last week, he'd unenthusiastically renewed his BahnCard after enjoying a reliable (if occasionally delayed) train ride. Of course, the fine print was as indecipherable as a cat’s diary, leading him to discover the auto-renewal had snuck up on him like a tax auditor on a freelancer. *€500 for a subscription I didn’t want? Wasn’t that a ticket to the Land of Dissatisfaction?* He could practically hear Deutsche Bahn's train whistles echoing laughter at his predicament. \n",
      "\n",
      "With a newfound determination, Jules planned to take the first steps towards reclaiming his pocket change and sanity. They say small actions lead to big change, an idea recently championed by some porch-sitting revolutionaries down the street. Maybe if he just sat on his front porch with a homemade sign, like “Free Complaints, Toss Your Issues Here,” he could summon a movement. After all, what would community gardens and playful exchanges look like if every disgruntled train passenger joined him in this act of symbolic rebellion? \n",
      "\n",
      "Speaking of rebellion, in another city far from Jules’ whimsical gatherings, autonomous delivery robots were unexpectedly revolutionizing logistics, zipping underground through a spiderweb of pipes like a suburban James Bond. Jules would occasionally wonder about these Pipedream Labs creations, delivering groceries to hypochondriacs faster than you could say \"robot revolution.\" But those cheerful bots, all shiny and eager, had never made Jules forget his worries about employment as he gazed at advertisements touting phrases like \"AI: The Future of Productivity!\" The irony of a technological marvel plunging workers into a pit of “class warfare through enshittification” hit him like a train—figuratively speaking, of course.\n",
      "\n",
      "Still, Jules pondered his predicament as he leaned back in his rocking chair. What was the point of enjoying train rides if all it meant was handing over his euros and sanity to a faceless corporate behemoth? Perhaps that was the world’s grand OODA loop playing tricks on him—observe, orient, decide, act. Yet it felt more like observe, lose patience, rage, sulk, repeat. The days flew by with updates about a rapidly changing geopolitical landscape and China’s growing power, seemingly rerouting the course of destiny as effortlessly as a train changing tracks. Meanwhile, he figured he’d remain steadfast on his porch, a vigilant observer of the passing world while sporting a cuppa tea like some jaded sage.\n",
      "\n",
      "Then there was the seasonal approach of summer, a time that brought with it a delightfully gruesome statistic: over 4% of deaths in European cities attributed to urban heat islands. Feeling morbidly curious, Jules glanced at his neighbor’s tree-lined yard and wished for a forest to sprout amidst the concrete jungle, thereby preventing even a portion of those sultry demise chase. Planting trees seemed a more productive use of one's time than participating in futile battles against automated systems.\n",
      "\n",
      "Then, someone actually tossed a complaint into his makeshift complaint box, a straw-man model of participatory democracy. It was one of his neighbors, contemplating the world’s absurdity while sipping lemonade. It was small gestures and silly hopes like this that revealed the fabric of reality could indeed be knitted anew, one thread at a time. \n",
      "\n",
      "As the evening sun dipped beneath the horizon, washing the world in a golden glow, Jules felt a flicker of contentment. Perhaps with enough precarious connections, they could create a symphony of small, delightful actions. The train might be late, deliveries would take too long, and AI would keep barking up the wage tree—but that’s where humanity surged forward; amid chaos and irony, change thrived. So, he popped some popcorn and planned to invite the neighborhood for a Front Porch Futuring Workshop, where they could lightheartedly tackle the trivial complexities of life—as if building a city with cardboard and glitter might save them all from becoming nothing more than fine print in someone else's subscription.\n"
     ]
    }
   ],
   "source": [
    "print(f.getStory(\"20251123d\"))"
   ]
  }
 ],
 "metadata": {
  "kernelspec": {
   "display_name": "futures-py3.10",
   "language": "python",
   "name": "python3"
  },
  "language_info": {
   "codemirror_mode": {
    "name": "ipython",
    "version": 3
   },
   "file_extension": ".py",
   "mimetype": "text/x-python",
   "name": "python",
   "nbconvert_exporter": "python",
   "pygments_lexer": "ipython3",
   "version": "3.10.12"
  }
 },
 "nbformat": 4,
 "nbformat_minor": 4
}
