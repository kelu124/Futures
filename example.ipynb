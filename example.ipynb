{
 "cells": [
  {
   "cell_type": "code",
   "execution_count": null,
   "metadata": {},
   "outputs": [],
   "source": [
    "%load_ext autoreload\n",
    "%autoreload 2"
   ]
  },
  {
   "cell_type": "code",
   "execution_count": 1,
   "metadata": {},
   "outputs": [],
   "source": [
    "from futures.llm import LLM\n",
    "from futures.futurist import Futurist\n",
    "from futures.db import DB\n",
    "from futures.substack import SubstackManager\n",
    " "
   ]
  },
  {
   "cell_type": "code",
   "execution_count": 2,
   "metadata": {},
   "outputs": [],
   "source": [
    "sm = SubstackManager()"
   ]
  },
  {
   "cell_type": "code",
   "execution_count": 3,
   "metadata": {},
   "outputs": [],
   "source": [
    "pages = sm.download_pages()"
   ]
  },
  {
   "cell_type": "code",
   "execution_count": 4,
   "metadata": {},
   "outputs": [
    {
     "name": "stdout",
     "output_type": "stream",
     "text": [
      "# Substack manager starts\n",
      "- Substack manager:  20250504 exists\n",
      "- Substack manager:  20250413 exists\n",
      "- Substack manager:  20250406 exists\n",
      "- Substack manager:  20250309 exists\n",
      "- Substack manager:  20250511 saved\n",
      "- Substack manager:  20250427 exists\n",
      "- Substack manager:  20250316 exists\n",
      "- Substack manager:  20250323 exists\n",
      "- Substack manager:  20250420 exists\n",
      "- Substack manager:  20250330 exists\n",
      "- Substack manager:  20250302 exists\n",
      "- Substack manager:  20250223 exists\n",
      "# Saving links from the substack pages\n",
      "-  4fddc420c6c76d438d8447e1828e7ed5 saved.\n",
      "-  ce2731306c66e101c41206f788294e20 saved.\n",
      "-  92eababae2221aa6578c0eb95e5c370a saved.\n",
      "-  486d19bec399ee4d4110d8a24448493f saved.\n",
      "-  4d104567eac1885744b45595417657a6 saved.\n",
      "-  c096b0a7c1e64befd2b2fdfeda3b4774 saved.\n",
      "-  765d35585e856e908f95ba2ef2d2c222 saved.\n",
      "-  ce0713daeab1284e0db3d389eb2c456d saved.\n",
      "-  b353994aa6ce16279df4871d74f1cff4 saved.\n",
      "-  bb9c8da11ad3d8c3ad7ad605d9106e4a saved.\n",
      "-  0cddb16848f7f4e310cd891ba3b256cf saved.\n",
      "-  8300b6353d096ab5b5b621397b87d8a7 saved.\n",
      "-  b08992d0830a341605227920fa7a3a45 saved.\n",
      "-  7ab0445724953b512b2ffb6632dd5e0e saved.\n",
      "-  5527670b1ae5061ad96f5668f0a51ada saved.\n",
      "-  45b9a8de8b364a995e54680b57eabcad saved.\n",
      "-  1ef9afc963271d8ef3bd9684b0e3d629 saved.\n",
      "-  f8cff4ea59965b635525b0610b078877 saved.\n",
      "-  950754a0809cf0b06033edeb281ffb73 saved.\n",
      "-  e7c06d6ccc9e5bfbaa570d683dd77bd8 saved.\n",
      "-  e9106d3cc5665e76f38376223ecf3512 saved.\n",
      "-  4796e617e1c516569f15c0a0c0b43826 saved.\n",
      "-  70be08bc846223ea4b986fd5f9a69bcf saved.\n",
      "-  d6b9f82c326ceb5994d94d5d5d68f0ee saved.\n",
      "-  39719c2ea216c84a0912986f67aa5a05 saved.\n",
      "-  28bac8b91bfd9b9da233b9f828cd5220 saved.\n"
     ]
    }
   ],
   "source": [
    "sm.getPages() # 25seconds"
   ]
  },
  {
   "cell_type": "code",
   "execution_count": 5,
   "metadata": {},
   "outputs": [],
   "source": [
    "# Let's initialise our AI and our futurist\n",
    "llm = LLM(datastore=\"data/\")\n",
    "f = Futurist(llm)"
   ]
  },
  {
   "cell_type": "code",
   "execution_count": null,
   "metadata": {},
   "outputs": [
    {
     "name": "stdout",
     "output_type": "stream",
     "text": [
      "# Doing get_weaksignals processing\n",
      "IDs identifiees \t 2650 \t get_weaksignals\n",
      "--- Function call:\t 2025-05-15 13:56:17\n"
     ]
    }
   ],
   "source": [
    "nb_articles = 30000\n",
    "# Creating seeds\n",
    "f.createSeeds(n=nb_articles)\n",
    "# Creating metas\n",
    "f.moreIntel(n=nb_articles)\n",
    "# Creating metas\n",
    "f.doMeta(n=nb_articles)"
   ]
  },
  {
   "cell_type": "code",
   "execution_count": null,
   "metadata": {},
   "outputs": [
    {
     "name": "stdout",
     "output_type": "stream",
     "text": [
      "# Doing get_emergingconcerns processing\n",
      "IDs identifiees \t 2651 \t get_emergingconcerns\n"
     ]
    }
   ],
   "source": [
    "f.doProcessing(category=\"get_emergingconcerns\", minL=1500, maxL=30000, n=30000)"
   ]
  },
  {
   "cell_type": "code",
   "execution_count": null,
   "metadata": {},
   "outputs": [
    {
     "name": "stdout",
     "output_type": "stream",
     "text": [
      "# Writing stories for ['20250525d', '20250504', '20250427']\n",
      "- Doing story for 20250525d\n",
      "--- gpt-4o-mini:\t 2025-05-07 22:45:40\n",
      "--- gpt-4o-mini:\t 2025-05-07 22:45:40\n",
      "- Doing story for 20250504\n",
      "--- gpt-4o-mini:\t 2025-05-07 22:45:57\n",
      "--- gpt-4o-mini:\t 2025-05-07 22:45:57\n",
      "- Doing story for 20250427\n",
      "--- gpt-4o-mini:\t 2025-05-07 22:46:11\n",
      "--- gpt-4o-mini:\t 2025-05-07 22:46:12\n"
     ]
    }
   ],
   "source": [
    "f.writeAllStories()"
   ]
  },
  {
   "cell_type": "markdown",
   "metadata": {},
   "source": [
    "# Using the vectorDB"
   ]
  },
  {
   "cell_type": "code",
   "execution_count": null,
   "metadata": {},
   "outputs": [
    {
     "name": "stdout",
     "output_type": "stream",
     "text": [
      "client=<openai.resources.embeddings.Embeddings object at 0x7954c98e5c30> async_client=<openai.resources.embeddings.AsyncEmbeddings object at 0x7954c85b17e0> model='text-embedding-ada-002' dimensions=None deployment='text-embedding-ada-002' openai_api_version=None openai_api_base=None openai_api_type=None openai_proxy=None embedding_ctx_length=8191 openai_api_key=SecretStr('**********') openai_organization=None allowed_special=None disallowed_special=None chunk_size=1000 max_retries=2 request_timeout=None headers=None tiktoken_enabled=True tiktoken_model_name=None show_progress_bar=False model_kwargs={} skip_empty=False default_headers=None default_query=None retry_min_seconds=4 retry_max_seconds=20 http_client=None http_async_client=None check_embedding_ctx_length=True\n"
     ]
    }
   ],
   "source": [
    "db= DB(llm)"
   ]
  },
  {
   "cell_type": "code",
   "execution_count": null,
   "metadata": {},
   "outputs": [
    {
     "name": "stdout",
     "output_type": "stream",
     "text": [
      "# VectorDB: continue on the DB\n",
      "- VectorDB:  3476 elements already stored.\n",
      "- VectorDB: adding 2651 documents.\n"
     ]
    }
   ],
   "source": [
    "vectordb = db.createDB()"
   ]
  },
  {
   "cell_type": "code",
   "execution_count": null,
   "metadata": {},
   "outputs": [],
   "source": [
    "from futures.pages import PagesWriter"
   ]
  },
  {
   "cell_type": "code",
   "execution_count": null,
   "metadata": {},
   "outputs": [],
   "source": [
    "pw = PagesWriter(db=db)"
   ]
  },
  {
   "cell_type": "code",
   "execution_count": null,
   "metadata": {},
   "outputs": [],
   "source": [
    "df, signals = pw.createPages_metaPrep(longtest=False)"
   ]
  },
  {
   "cell_type": "code",
   "execution_count": null,
   "metadata": {},
   "outputs": [],
   "source": [
    "pw.createPages()\n",
    "pw.createPagesIndex()"
   ]
  },
  {
   "cell_type": "markdown",
   "metadata": {},
   "source": [
    "# Stories"
   ]
  },
  {
   "cell_type": "code",
   "execution_count": null,
   "metadata": {},
   "outputs": [],
   "source": [
    "# Doing the imports\n",
    "from futures.llm import LLM\n",
    "from futures.futurist import Futurist\n",
    "# Let's initialise our AI and our futurist\n",
    "llm = LLM(datastore=\"data/\")\n",
    "f = Futurist(llm)"
   ]
  },
  {
   "cell_type": "code",
   "execution_count": null,
   "metadata": {},
   "outputs": [
    {
     "data": {
      "text/html": [
       "<div>\n",
       "<style scoped>\n",
       "    .dataframe tbody tr th:only-of-type {\n",
       "        vertical-align: middle;\n",
       "    }\n",
       "\n",
       "    .dataframe tbody tr th {\n",
       "        vertical-align: top;\n",
       "    }\n",
       "\n",
       "    .dataframe thead th {\n",
       "        text-align: right;\n",
       "    }\n",
       "</style>\n",
       "<table border=\"1\" class=\"dataframe\">\n",
       "  <thead>\n",
       "    <tr style=\"text-align: right;\">\n",
       "      <th></th>\n",
       "      <th>src</th>\n",
       "      <th>title</th>\n",
       "      <th>story</th>\n",
       "    </tr>\n",
       "  </thead>\n",
       "  <tbody>\n",
       "    <tr>\n",
       "      <th>0</th>\n",
       "      <td>20250302</td>\n",
       "      <td>The Pickle Revolution</td>\n",
       "      <td>The last vestiges of human touch in the sprawl...</td>\n",
       "    </tr>\n",
       "    <tr>\n",
       "      <th>1</th>\n",
       "      <td>20250223</td>\n",
       "      <td>Threads of Tomorrow</td>\n",
       "      <td>The air hummed with the promises of the future...</td>\n",
       "    </tr>\n",
       "    <tr>\n",
       "      <th>2</th>\n",
       "      <td>20230927</td>\n",
       "      <td>Navigating the Jangled Nexus</td>\n",
       "      <td>“The AI consultant was three seconds away from...</td>\n",
       "    </tr>\n",
       "    <tr>\n",
       "      <th>3</th>\n",
       "      <td>20230612</td>\n",
       "      <td>Harvesting Bytes in Snailbrook</td>\n",
       "      <td>In Snailbrook, Texas—a quaint town, where peop...</td>\n",
       "    </tr>\n",
       "    <tr>\n",
       "      <th>4</th>\n",
       "      <td>20230616</td>\n",
       "      <td>Chaotic Symphony of the Green</td>\n",
       "      <td>In a world where digital landscapes blurred th...</td>\n",
       "    </tr>\n",
       "    <tr>\n",
       "      <th>...</th>\n",
       "      <td>...</td>\n",
       "      <td>...</td>\n",
       "      <td>...</td>\n",
       "    </tr>\n",
       "    <tr>\n",
       "      <th>151</th>\n",
       "      <td>20250504d</td>\n",
       "      <td>Typewriter Dreams: A Dialogue with the Future</td>\n",
       "      <td>Milo Whittaker was a typewriter repairman in a...</td>\n",
       "    </tr>\n",
       "    <tr>\n",
       "      <th>152</th>\n",
       "      <td>20250518d</td>\n",
       "      <td>Whispers of the Oak</td>\n",
       "      <td>In a quaint suburb where lawn gnomes outnumber...</td>\n",
       "    </tr>\n",
       "    <tr>\n",
       "      <th>153</th>\n",
       "      <td>20250525d</td>\n",
       "      <td>The Absurdity of Tomorrow</td>\n",
       "      <td>The Gobi Desert had always been a place where ...</td>\n",
       "    </tr>\n",
       "    <tr>\n",
       "      <th>154</th>\n",
       "      <td>20250504</td>\n",
       "      <td>The Illusion of Escape</td>\n",
       "      <td>The streets of Los Angeles were teeming with t...</td>\n",
       "    </tr>\n",
       "    <tr>\n",
       "      <th>155</th>\n",
       "      <td>20250427</td>\n",
       "      <td>Digital Parrots and Copper Dreams</td>\n",
       "      <td>In the bustling heart of downtown, the city th...</td>\n",
       "    </tr>\n",
       "  </tbody>\n",
       "</table>\n",
       "<p>156 rows × 3 columns</p>\n",
       "</div>"
      ],
      "text/plain": [
       "           src                                          title  \\\n",
       "0     20250302                          The Pickle Revolution   \n",
       "1     20250223                            Threads of Tomorrow   \n",
       "2     20230927                   Navigating the Jangled Nexus   \n",
       "3     20230612                 Harvesting Bytes in Snailbrook   \n",
       "4     20230616                  Chaotic Symphony of the Green   \n",
       "..         ...                                            ...   \n",
       "151  20250504d  Typewriter Dreams: A Dialogue with the Future   \n",
       "152  20250518d                            Whispers of the Oak   \n",
       "153  20250525d                      The Absurdity of Tomorrow   \n",
       "154   20250504                         The Illusion of Escape   \n",
       "155   20250427              Digital Parrots and Copper Dreams   \n",
       "\n",
       "                                                 story  \n",
       "0    The last vestiges of human touch in the sprawl...  \n",
       "1    The air hummed with the promises of the future...  \n",
       "2    “The AI consultant was three seconds away from...  \n",
       "3    In Snailbrook, Texas—a quaint town, where peop...  \n",
       "4    In a world where digital landscapes blurred th...  \n",
       "..                                                 ...  \n",
       "151  Milo Whittaker was a typewriter repairman in a...  \n",
       "152  In a quaint suburb where lawn gnomes outnumber...  \n",
       "153  The Gobi Desert had always been a place where ...  \n",
       "154  The streets of Los Angeles were teeming with t...  \n",
       "155  In the bustling heart of downtown, the city th...  \n",
       "\n",
       "[156 rows x 3 columns]"
      ]
     },
     "execution_count": 17,
     "metadata": {},
     "output_type": "execute_result"
    }
   ],
   "source": [
    "import pandas as pd\n",
    "pd.read_parquet(\"data/stories.parquet.gzip\")"
   ]
  },
  {
   "cell_type": "code",
   "execution_count": null,
   "metadata": {},
   "outputs": [],
   "source": [
    "f.writeAllStories()"
   ]
  },
  {
   "cell_type": "code",
   "execution_count": null,
   "metadata": {},
   "outputs": [
    {
     "name": "stdout",
     "output_type": "stream",
     "text": [
      "## The Absurdity of Tomorrow\n",
      "\n",
      "The Gobi Desert had always been a place where one could appreciate the whispers of the universe—namely the whisper of gigantic nuclear developments hidden beneath the sand—and a glass of fermented camel’s milk could be had for a few yuan. As Thalia wandered through this desolate expanse, she marveled at the recently inaugurated thorium-powered nuclear reactor. In the grand tradition of things that shouldn’t work but somehow do, this gleaming structure—so revolutionary it could’ve been a contestant on a sci-fi talent show—was now fully operational. Its molten salt reactor design was the star of a modern alchemical dream, transforming the mundane into power without the melodrama typically associated with nuclear reactors—like having a well-behaved dragon as a house pet.\n",
      "\n",
      "Just as she was admiring this feat, her phone beeped insistently, a barrage of notifications streaming in like a river of digital chaos. Instead of browsing the memes of poorly timed political jokes, Thalia read about recent cyberattacks, voluminously sourced from the depths of an overburdened SMTP server. Apparently, the infamous Volt Typhoon had returned—careful not to wake the sleeping bear but intent on sending shivers down the spine of American infrastructure. “Ah, yes,” she mused, “perfect timing for the stock market to flutter like a paper crane caught in a tornado.”\n",
      "\n",
      "Undeterred, Thalia flicked through news articles as she sipped her synthetic caffeine, brewed this morning using the SmartCuppa, a machine so advanced it could judge your life choices along with your coffee preferences. Her mind drifted to the convoluted worlds of generational workforce reshuffling. Intel’s latest restructuring plan, where it seemed approximately a sixth of their employees would find themselves indulging in spontaneous early retirement, reminded her of musical chairs where the music was a sequence of rapid layoffs and management's relentless quest to trim the fat from its corporate frame. \n",
      "\n",
      "Suddenly focused, she rifled through her travel notes and checked her digital privacy. The U.S. borders had become something akin to a stage for an Orwellian play, where each traveler’s device could become the star of the show in a cybersecurity disaster. She sighed—a sanitized phone was really just a motivational poster in digital form. “Do you feel safer yet?” the poster would say in blaring Comic Sans.\n",
      "\n",
      "In an unexpected turn, her AI-powered personal assistant interrupted her reverie. “Hey there, Thalia! Thinking about trying that AI dating app? Apparently, people are forming real connections with algorithms.” Thalia audibly snorted, “Right, because nothing says romance like a carefully programmed response tailored to my most obscure interests. Let me just swipe right on the 'What’s your favorite social dilemmas?' filter.” \n",
      "\n",
      "Just as she was about to dismiss the idea outright, a thought struck her like a cuttlefish’s arm wave signs: what if she could train an AI to understand her emotions? She recalled a study suggesting that soldiers often anthropomorphize robots they work with—a truth that made her wonder if she was missing out on a relationship of depth by insisting on human companionship alone. Meanwhile, half a world away, another AI was attempting to create something resembling friendship through the tenets of Explainable AI. She could almost hear Laughing AI applauding her philosophical digression. \n",
      "\n",
      "And within this swirling nexus of technological oddities—the promise of AI, the cutting-edge advances in nuclear safety, and the playful yet serious introspection on societal norms—Thalia caught her breath. The future was not just a linear timeline, but a bewildering tapestry of interwoven lives (robotic and human alike) navigating the dense fog of uncertainty. \n",
      "\n",
      "“Maybe,” she thought, “the key to standing out isn’t just being authentic but being equipped to engage with the absurdity of the world at large—now, who’s got the time for that when the robots keep asking about my feelings?” With that, she took one last look at the reactor, the horizon shimmering with untold potential, and embraced the strange, delightful madness of existence. \n"
     ]
    }
   ],
   "source": [
    "print(f.getStory(\"20250601d\"))"
   ]
  }
 ],
 "metadata": {
  "kernelspec": {
   "display_name": ".venv",
   "language": "python",
   "name": "python3"
  },
  "language_info": {
   "codemirror_mode": {
    "name": "ipython",
    "version": 3
   },
   "file_extension": ".py",
   "mimetype": "text/x-python",
   "name": "python",
   "nbconvert_exporter": "python",
   "pygments_lexer": "ipython3",
   "version": "3.10.12"
  }
 },
 "nbformat": 4,
 "nbformat_minor": 4
}
