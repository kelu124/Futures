{
 "cells": [
  {
   "cell_type": "code",
   "execution_count": 1,
   "metadata": {},
   "outputs": [],
   "source": [
    "%load_ext autoreload\n",
    "%autoreload 2"
   ]
  },
  {
   "cell_type": "code",
   "execution_count": 2,
   "metadata": {},
   "outputs": [],
   "source": [
    "from futures.llm import LLM\n",
    "from futures.futurist import Futurist\n",
    "from futures.db import DB\n",
    "from futures.substack import SubstackManager\n",
    " "
   ]
  },
  {
   "cell_type": "code",
   "execution_count": 3,
   "metadata": {},
   "outputs": [],
   "source": [
    "sm = SubstackManager()"
   ]
  },
  {
   "cell_type": "code",
   "execution_count": 4,
   "metadata": {},
   "outputs": [],
   "source": [
    "pages = sm.download_pages()"
   ]
  },
  {
   "cell_type": "code",
   "execution_count": 5,
   "metadata": {},
   "outputs": [
    {
     "name": "stdout",
     "output_type": "stream",
     "text": [
      "# Substack manager starts\n",
      "- Substack manager:  20250119 exists\n",
      "- Substack manager:  20250209 exists\n",
      "- Substack manager:  20241222 exists\n",
      "- Substack manager:  20250223 exists\n",
      "- Substack manager:  20250202 exists\n",
      "- Substack manager:  20241229 exists\n",
      "- Substack manager:  20250216 exists\n",
      "- Substack manager:  20250302 exists\n",
      "- Substack manager:  20250126 exists\n",
      "- Substack manager:  20241215 exists\n",
      "- Substack manager:  20250105 exists\n",
      "- Substack manager:  20250112 exists\n",
      "# Saving links from the substack pages\n"
     ]
    }
   ],
   "source": [
    "sm.getPages() # 25seconds"
   ]
  },
  {
   "cell_type": "code",
   "execution_count": 6,
   "metadata": {},
   "outputs": [],
   "source": [
    "# Let's initialise our AI and our futurist\n",
    "llm = LLM(datastore=\"data/\")\n",
    "f = Futurist(llm)"
   ]
  },
  {
   "cell_type": "code",
   "execution_count": null,
   "metadata": {},
   "outputs": [
    {
     "name": "stdout",
     "output_type": "stream",
     "text": [
      "# Doing get_weaksignals processing\n",
      "IDs identifiees \t 2427 \t get_weaksignals\n",
      "--- Function call:\t 2025-03-08 19:24:48\n",
      "# Doing get_summary processing\n",
      "IDs identifiees \t 2428 \t get_summary\n",
      "# Doing get_emergingissues processing\n",
      "IDs identifiees \t 2428 \t get_emergingissues\n",
      "# Doing get_emergingtechnologies processing\n",
      "IDs identifiees \t 2426 \t get_emergingtechnologies\n",
      "--- Function call:\t 2025-03-08 19:25:01\n",
      "--- Function call:\t 2025-03-08 19:25:02\n"
     ]
    }
   ],
   "source": [
    "nb_articles = 30000\n",
    "# Creating seeds\n",
    "f.createSeeds(n=nb_articles)\n",
    "# Creating metas\n",
    "f.moreIntel(n=nb_articles)\n",
    "# Creating metas\n",
    "f.doMeta(n=nb_articles)"
   ]
  },
  {
   "cell_type": "code",
   "execution_count": null,
   "metadata": {},
   "outputs": [],
   "source": [
    "f.doProcessing(category=\"get_emergingconcerns\", minL=1500, maxL=30000, n=30000)"
   ]
  },
  {
   "cell_type": "code",
   "execution_count": 8,
   "metadata": {},
   "outputs": [],
   "source": [
    "f.writeAllStories()"
   ]
  },
  {
   "cell_type": "markdown",
   "metadata": {},
   "source": [
    "# Using the vectorDB"
   ]
  },
  {
   "cell_type": "code",
   "execution_count": 9,
   "metadata": {},
   "outputs": [],
   "source": [
    "db= DB(llm)"
   ]
  },
  {
   "cell_type": "code",
   "execution_count": 10,
   "metadata": {},
   "outputs": [
    {
     "name": "stdout",
     "output_type": "stream",
     "text": [
      "# VectorDB: continue on the DB\n",
      "- VectorDB:  3274 elements already stored.\n",
      "- VectorDB: adding 2428 documents.\n"
     ]
    }
   ],
   "source": [
    "vectordb = db.createDB()"
   ]
  },
  {
   "cell_type": "code",
   "execution_count": 11,
   "metadata": {},
   "outputs": [],
   "source": [
    "from futures.pages import PagesWriter"
   ]
  },
  {
   "cell_type": "code",
   "execution_count": 12,
   "metadata": {},
   "outputs": [],
   "source": [
    "pw = PagesWriter(db=db)"
   ]
  },
  {
   "cell_type": "code",
   "execution_count": 13,
   "metadata": {},
   "outputs": [],
   "source": [
    "df, signals = pw.createPages_metaPrep(longtest=False)"
   ]
  },
  {
   "cell_type": "code",
   "execution_count": 14,
   "metadata": {},
   "outputs": [],
   "source": [
    "pw.createPages()\n",
    "pw.createPagesIndex()"
   ]
  },
  {
   "cell_type": "markdown",
   "metadata": {},
   "source": [
    "# Stories"
   ]
  },
  {
   "cell_type": "code",
   "execution_count": 15,
   "metadata": {},
   "outputs": [],
   "source": [
    "# Doing the imports\n",
    "from futures.llm import LLM\n",
    "from futures.futurist import Futurist\n",
    "# Let's initialise our AI and our futurist\n",
    "llm = LLM(datastore=\"data/\")\n",
    "f = Futurist(llm)"
   ]
  },
  {
   "cell_type": "code",
   "execution_count": 16,
   "metadata": {},
   "outputs": [
    {
     "name": "stdout",
     "output_type": "stream",
     "text": [
      "## Connections Amidst the Silicon Skyline\n",
      "\n",
      "In a not-so-distant reality, in a city humming with AI-generated optimism and beleaguered by the shadows of its tech-laden skyscrapers, there existed a peculiar course offered by the WHO—aptly named “How to Develop and Sustain a Healthy City in 20 Steps.” County officials undertook it religiously, their laptops glowing like oracles of sustainability^1. Apparently, gathering city officials was the new political sexy, or at least the kind of thing that might earn you a spiffy badge on LinkedIn.\n",
      "\n",
      "Mira, a bright-eyed urban planner and part-time conspiracy enthusiast, found herself leading a team that was now adept at deploying Artificial Intelligence to manage everything from trash collection to predictive hurricane modeling. However, after multiple layoffs at NOAA stripped her team of seasoned storm whisperers, the reliability of such forecasts began to resemble Mira's afternoon espresso—fuzzy at best^2. \"Don't worry,\" her intern chirped, paging through AI-generated research like it was a children's book. “All you need is big data! Big data solves everything!” Even she felt the absurdity of preaching the gospel of zeros and ones while ignoring the swath of resources being gutted. \n",
      "\n",
      "Meanwhile, in her own community, an Indigenous leader named Tainá was harnessing the wisdom of an AI chatbot designed to mirror her peoples’ stories back to them. Reports flooded in from Brazil, where technology served as both anchor and lifeboat for cultural preservation^3. It was a melodramatic contrast to Mira’s struggle for authenticity amid the synthesized echoes of city initiatives. \n",
      "\n",
      "What amused Mira was how politicians embraced “strategic fact reserves” that seemed more like secret vaults for misfit data: pick and choose only the useful nuggets while leaving the rest to wither, much like last week's salad in a forgotten fridge^4. She chuckled as she contemplated the origins of ART, the ‘Agentic Business Objects’ responsible for processing city invoices. She imagined them trumpeting, “We are not just passive data; we are alive!” She was beginning to picture how her spreadsheets might throw a raucous party—everything being audited by the specter of romantic Excel^5.\n",
      "\n",
      "But then, like a sudden storm cloud, a new technology emerged from a conglomeration of protocols predominantly ruled by AI whims. Podunk Industries decided to invest a hefty chunk of change into voice-matching software for their underpaid call agents in India. The goal? To erase accents like artists manipulating a canvas, aiming for commercial perfection amidst a cacophony of cultural authenticity^6. “Isn't it delightful?” her colleague remarked, oblivious to the condescending veil of the initiative. “Robotics meets cultural homogenization!”^7\n",
      "\n",
      "With the city on the verge of health metrics imploding and people in communities bereft of authentic interactions due to a tech-vexed culture, Mira slipped into her favorite café, stirring her coffee. It hit her suddenly—what struck her as absurd was actually the fringes of absurdity forming the core of unfiltered reality. Perhaps, she pondered, in a world where the line between human and AI blurred like her grandmother’s watercolor paintings, the true essence of a healthy city lay not in strident tech solutions, but in the art of connection, in rooting out the invasive weeds of isolation—whatever AI had come to deem as necessary. \n",
      "\n",
      "As she prepared a pitch to integrate community storytelling back into city initiatives^8, Mira felt a surge of excitement. No, she wasn’t mad enough to think a chatbot could stir the heart of humanity, yet perhaps, amidst the predictive analytics and agentic systems, there lay a path to craft a city where laughter, love, and transcendent connections could exist—bizarrely and beautifully—side by side with the steel and silicon^9. \n",
      "\n",
      "And who knows? Maybe they’d even earn a badge along the way.\n",
      "\n",
      "---\n",
      "\n",
      "^1 They also used lots of bright colors in their PowerPoint.\n",
      "\n",
      "^2 Meanwhile, meteorologists were placing bets on the next hurricane hitting New Orleans—should we really trust AI to understand wind patterns?\n",
      "\n",
      "^3 Asked Siri how to brew herbal tea, got an eloquent history on plant curing.\n",
      "\n",
      "^4 A Black Mirror episode waiting to happen, obviously.\n",
      "\n",
      "^5 Imagine accounting software hosting karaoke nights—why not? \n",
      "\n",
      "^6 “Hello! Thank you for calling Teleperformance where accents go to be ‘improved.’”\n",
      "\n",
      "^7 A new Instagram filter? \n",
      "\n",
      "^8 She did wonder if her own audio reports should come with an accent disclaimer.\n",
      "\n",
      "^9 A lot like America, really—diverse, bewildering, yet somehow still managing to function.\n"
     ]
    }
   ],
   "source": [
    "print(f.getStory(\"20250323d\"))"
   ]
  },
  {
   "cell_type": "code",
   "execution_count": 17,
   "metadata": {},
   "outputs": [
    {
     "name": "stdout",
     "output_type": "stream",
     "text": [
      "## Beneath the Buzz\n",
      "\n",
      "The drone swarm hovered above the city like an army of hyperactive bees, each lightweight unit buzzing silently in formation. Clara, the controller, sipped her lukewarm coffee, her eyes darting between the screens displaying their intricate patterns. *“Good morning,”* she murmured as if they could respond, though she sometimes fancied that the whir of rotors was their own version of small talk. Thanks to a DARPA study, she’d learned that one human could efficiently oversee over a hundred of these mechanical minions without completely losing her marbles; a mere 3% of the time, she operated in a state of delightful chaos, like a librarian attempting to assist patrons during a tornado.\n",
      "\n",
      "Down below, the human world was less organized than her buzzing assistants. Recent headlines screamed about a mysterious illness that had emerged in Congo—“an outbreak stronger than a fast-food container's grip on morality,” Clara joked bitterly to herself. The thought of zoonotic diseases had once been abstract, but the reality of microbial horrors was catching up faster than society’s attempt to cycle through synthetic clothing. An alarming spike in such cases had many experts scratching their heads, worried about a future where fast food might be the only thing recognizable in the technofossils left behind. \n",
      "\n",
      "Meanwhile, in her quiet corner of the techy ecosystem, there was chatter about AI rewriting the rules of chip design, turning engineers into mere spectators. Clara pondered whether she, too, might find her job snatched away by some soulless algorithm optimized for human inefficiencies. After all, the average pay for KPMG partners had risen sharply, but at what cost? The winds of change seemed unfriendly to middle-class earners like her, desperate for a break from exorbitant housing costs. She could almost hear her dreams being sold off to the highest bidder.\n",
      "\n",
      "With a sigh, she refocused on her screens. It was funny, really; these drones were designed to solve logistical problems, yet they offered no true pathways away from a market that incentivized layoffs in the face of record profits. Sure, profits were trending up, but the \"people problem\" remained, like a stubborn grain of sand in one's shoe—uncomfortable but mostly ignored. \n",
      "\n",
      "Oh, and the news on cryptocurrency? Rumors of taxpayer dollars being funneled into digital coins had become a kind of online soap opera. “Exactly what we need,” she muttered dryly. “Taxpayers buying a slice of financial pie that doesn't even exist in the physical realm!” She half-expected her drone swarm to start issuing their own financial news.\n",
      "\n",
      "As she simultaneously monitored a drone's learning algorithm, Clara couldn’t help but trace a metaphorical map of her own life’s bifurcations. *This way leads to economic ruin, but the other way leads to… well, potentially just as many problems but perhaps with a side of adventure?* The notion made her chuckle. How easy it would be to get lost in increasingly absurd fates, like being swept away by a river bifurcation—stuck between choices, hoping for the best.\n",
      "\n",
      "Just then, an alert flashed across her screen: *“Drone swarm encountering a problem.”* \n",
      "\n",
      "“Great,” she murmured, foreshadowing an afternoon of operational firefighting. Somehow, managing robots seemed far less exhausting than contemplating her place between a collapsing economy, burgeoning technology, and attention-grabbing diseases. But she’d manage. After all, she could still sort the chaos of life as if she were organizing a library. With a caffeinated sigh, she reset her posture for the task ahead—a mix of acceptance and absurdity beckoning her forward like a beacon in the swirling storm of tomorrow.\n"
     ]
    }
   ],
   "source": [
    "print(f.getStory(\"20250316d\"))"
   ]
  }
 ],
 "metadata": {
  "kernelspec": {
   "display_name": ".venv",
   "language": "python",
   "name": "python3"
  },
  "language_info": {
   "codemirror_mode": {
    "name": "ipython",
    "version": 3
   },
   "file_extension": ".py",
   "mimetype": "text/x-python",
   "name": "python",
   "nbconvert_exporter": "python",
   "pygments_lexer": "ipython3",
   "version": "3.10.12"
  }
 },
 "nbformat": 4,
 "nbformat_minor": 4
}
