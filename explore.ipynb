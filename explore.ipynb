{
 "cells": [
  {
   "cell_type": "code",
   "execution_count": 1,
   "metadata": {},
   "outputs": [],
   "source": [
    "%load_ext autoreload\n",
    "%autoreload 2"
   ]
  },
  {
   "cell_type": "code",
   "execution_count": null,
   "metadata": {},
   "outputs": [],
   "source": [
    "from futures.llm import LLM\n",
    "from futures.futurist import Futurist\n",
    "from futures.db import DB\n",
    "#from futures.substack import SubstackManager\n",
    "import pandas as pd"
   ]
  },
  {
   "cell_type": "code",
   "execution_count": 81,
   "metadata": {},
   "outputs": [
    {
     "name": "stdout",
     "output_type": "stream",
     "text": [
      "client=<openai.resources.embeddings.Embeddings object at 0x75afe1738310> async_client=<openai.resources.embeddings.AsyncEmbeddings object at 0x75afe0fee290> model='text-embedding-ada-002' dimensions=None deployment='text-embedding-ada-002' openai_api_version=None openai_api_base=None openai_api_type=None openai_proxy=None embedding_ctx_length=8191 openai_api_key=SecretStr('**********') openai_organization=None allowed_special=None disallowed_special=None chunk_size=1000 max_retries=2 request_timeout=None headers=None tiktoken_enabled=True tiktoken_model_name=None show_progress_bar=False model_kwargs={} skip_empty=False default_headers=None default_query=None retry_min_seconds=4 retry_max_seconds=20 http_client=None http_async_client=None check_embedding_ctx_length=True\n",
      "# VectorDB: continue on the DB\n",
      "- VectorDB:  3311 elements already stored.\n",
      "- VectorDB: adding 2465 documents.\n"
     ]
    }
   ],
   "source": [
    "# Let's initialise our AI and our futurist\n",
    "llm = LLM(datastore=\"data/\")\n",
    "f = Futurist(llm)\n",
    "db = DB(llm)\n",
    "vectordb = db.createDB()"
   ]
  },
  {
   "cell_type": "code",
   "execution_count": 87,
   "metadata": {},
   "outputs": [
    {
     "name": "stdout",
     "output_type": "stream",
     "text": [
      "10\n",
      "10\n",
      "Generated card: docs/imgs/card_fa2b7cfb27abd7c16c62ac1a987c4099.png\n",
      "Generated card: docs/imgs/card_c2b4366d76e67b3ba40e4a2873a64a91.png\n",
      "Generated card: docs/imgs/card_214218d3f582ddb859eb3bc39ebcaf50.png\n",
      "Generated card: docs/imgs/card_371b23e6b03a5dc6410f7c6e3afafc00.png\n",
      "Generated card: docs/imgs/card_f15905609bfed656a7f65a81f7de3c1c.png\n",
      "Generated card: docs/imgs/card_52e65cb9e9bf761046f9834a7fff358e.png\n",
      "Generated card: docs/imgs/card_dfd1d6efc46fc9e2966a2500207c83ba.png\n",
      "Generated card: docs/imgs/card_29a7a983d4ed63e92ad26c2d0077f525.png\n",
      "Generated card: docs/imgs/card_c3b297ad895460aaab8784b5d9f51a54.png\n",
      "Generated card: docs/imgs/card_e99ebe3eb8213e1847477d4a2cc28eb1.png\n",
      "Generated grid image: data/explorations/Concern.png\n",
      "Generated card: docs/imgs/card_72eb56a84d65d81cebd0a3d111788003.png\n",
      "Generated card: docs/imgs/card_7874b8e8f34cf7581497916e298b3762.png\n",
      "Generated card: docs/imgs/card_7a563482612ac2e95ded625c676d63d1.png\n",
      "Generated card: docs/imgs/card_6a0e24ddfb33cc6ef96fab5d1941bee9.png\n",
      "Generated card: docs/imgs/card_af8698371b184008c382a0d6fec6e438.png\n",
      "Generated card: docs/imgs/card_1ef468f8be4e33822c1821b791d713b7.png\n",
      "Generated card: docs/imgs/card_20c8b1873129fb9ac0b14fd49f5b0c70.png\n",
      "Generated card: docs/imgs/card_167ba1e9d1b6517361a938103166977d.png\n",
      "Generated card: docs/imgs/card_6fdd8a22fcc9d3dfb09e82683830b387.png\n",
      "Generated card: docs/imgs/card_fb2f986100333f8bc6ad7e5d621e2bbd.png\n",
      "Generated grid image: data/explorations/Behavior.png\n",
      "Generated card: docs/imgs/card_48e084f644a5dca00e90c66d93faece9.png\n",
      "Generated card: docs/imgs/card_741ec51d0a34434fb5487bbfbb4c9f9f.png\n",
      "Generated card: docs/imgs/card_f6f7b3985b6e49a3020794f71cd594b2.png\n",
      "Generated card: docs/imgs/card_acfd597dedcc59058a6cbf3deabd9f19.png\n",
      "Generated card: docs/imgs/card_0a2086ebc770976a267465c3204ff446.png\n",
      "Generated card: docs/imgs/card_37016104fa82785b2cb350c943910743.png\n",
      "Generated card: docs/imgs/card_8d008d024b697ea47b935f36a53d2acb.png\n",
      "Generated card: docs/imgs/card_f779de922e89a275c011b70f07115944.png\n",
      "Generated card: docs/imgs/card_fef1b4d45fac47f195a65a3aff7273b9.png\n",
      "Generated card: docs/imgs/card_c64593adf25d015227f21352af6a150a.png\n",
      "Generated grid image: data/explorations/Issue.png\n",
      "Generated card: docs/imgs/card_eb972d79e5620968ddd833e2fc78a3a4.png\n",
      "Generated card: docs/imgs/card_73d7d3b1de27ead6d329bf1939ab0825.png\n",
      "Generated card: docs/imgs/card_25ddfb9b9fa2c36aa65adc1db99866a5.png\n",
      "Generated card: docs/imgs/card_6c911409256319071b4b966e3c129a79.png\n",
      "Generated card: docs/imgs/card_915fdb6cab691d963ff3989041831fd3.png\n",
      "Generated card: docs/imgs/card_603df1c3cc29e06b2128b76de42d6ab5.png\n",
      "Generated card: docs/imgs/card_236cf96f5a4b833bffab1d59890acde4.png\n",
      "Generated card: docs/imgs/card_8e5303504ff118bce358e46ef01360fe.png\n",
      "Generated card: docs/imgs/card_a1031ed9f5275617242e8fc857ef43c6.png\n",
      "Generated card: docs/imgs/card_6f90159a73186b501d7f9ca535db03a2.png\n",
      "Generated grid image: data/explorations/Technology.png\n"
     ]
    }
   ],
   "source": [
    "topic = \"AI in infrastructure companies\"\n",
    "MD = db.writeOracleTopic( topic,path = \"data/explorations/\", name=\"AIInfra\", k=30)\n"
   ]
  }
 ],
 "metadata": {
  "kernelspec": {
   "display_name": ".venv",
   "language": "python",
   "name": "python3"
  },
  "language_info": {
   "codemirror_mode": {
    "name": "ipython",
    "version": 3
   },
   "file_extension": ".py",
   "mimetype": "text/x-python",
   "name": "python",
   "nbconvert_exporter": "python",
   "pygments_lexer": "ipython3",
   "version": "3.10.12"
  }
 },
 "nbformat": 4,
 "nbformat_minor": 2
}
