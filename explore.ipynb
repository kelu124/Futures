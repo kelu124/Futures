{
 "cells": [
  {
   "cell_type": "code",
   "execution_count": 1,
   "metadata": {},
   "outputs": [],
   "source": [
    "%load_ext autoreload\n",
    "%autoreload 2"
   ]
  },
  {
   "cell_type": "code",
   "execution_count": 2,
   "metadata": {},
   "outputs": [],
   "source": [
    "from futures.llm import LLM\n",
    "from futures.futurist import Futurist\n",
    "from futures.db import DB\n",
    "#from futures.substack import SubstackManager\n",
    " "
   ]
  },
  {
   "cell_type": "code",
   "execution_count": 3,
   "metadata": {},
   "outputs": [
    {
     "name": "stdout",
     "output_type": "stream",
     "text": [
      "# VectorDB: continue on the DB\n",
      "- VectorDB:  3274 elements already stored.\n",
      "- VectorDB: adding 2428 documents.\n"
     ]
    }
   ],
   "source": [
    "# Let's initialise our AI and our futurist\n",
    "llm = LLM(datastore=\"data/\")\n",
    "f = Futurist(llm)\n",
    "db = DB(llm)\n",
    "vectordb = db.createDB()"
   ]
  },
  {
   "cell_type": "code",
   "execution_count": 4,
   "metadata": {},
   "outputs": [
    {
     "name": "stdout",
     "output_type": "stream",
     "text": [
      "The rapid advancement of artificial intelligence (AI) is reshaping various sectors, from national security to architecture, and is prompting significant changes in organizational structures and job markets. Governments and corporations are increasingly recognizing the need for Strategic Fact Reserves to secure reliable training data for AI development. This is seen as essential for maintaining national security and competitive advantage, especially as AI becomes integral to infrastructure and decision-making processes.\n",
      "\n",
      "In the realm of national security, agencies like the NSA are leveraging AI to detect and counteract cyber threats, particularly from foreign adversaries. The use of AI tools to identify anomalous behavior highlights the technology's role in safeguarding critical infrastructure. However, the potential for AI to disrupt job markets is also a pressing concern. As AI automates routine tasks, organizations are shifting towards flatter hierarchies and hybrid teams, necessitating workforce reskilling and the creation of dedicated AI leadership roles.\n",
      "\n",
      "The architecture industry faces a dual challenge: while AI can enhance design capabilities and efficiency, it also poses a risk of reducing the demand for human architects. AI's ability to generate designs autonomously raises questions about the future of the profession and the need for architects to adapt to these technological advancements. Similarly, the construction sector is experiencing a transformation through AI-driven project management tools that optimize workflows and enhance safety protocols.\n",
      "\n",
      "The ethical implications of AI are increasingly under scrutiny. Critics argue that AI often reinforces existing power structures and lacks the necessary ethical considerations in its design. New models, such as Public Diffusion, aim to promote responsible AI use by emphasizing ethical data sourcing and encouraging meaningful engagement from artists and creators. This reflects a broader call for conscious design choices that respect cultural and social values.\n",
      "\n",
      "AI's potential to drive social good is also a significant theme. Applications of AI are being explored in areas such as health, education, and environmental protection, aligning with the UN Sustainable Development Goals. However, challenges such as funding disparities and biases in AI systems remain. Collaboration among stakeholders is essential to harness AI's capabilities for positive societal impact.\n",
      "\n",
      "The integration of AI into government operations is another area of focus. Agencies are adopting AI technologies to improve efficiency and productivity, as seen with the IRS's implementation of AI for fraud detection and process streamlining. Despite the promise of AI to enhance government performance, challenges persist in scaling applications and addressing the talent shortage in the public sector.\n",
      "\n",
      "Finally, the discourse surrounding AI often includes concerns about its environmental impact and the need for responsible management. Critics argue that AI's proliferation, driven by commercial interests, can lead to excessive energy consumption and a lack of genuine necessity for many applications. This calls for a more measured approach to AI development, balancing innovation with sustainability and ethical considerations.\n"
     ]
    }
   ],
   "source": [
    "topic = \"AI in infrastructure companies\"\n",
    "txt, lst = db.getSummary(topic, 30)\n",
    "print(txt)"
   ]
  },
  {
   "cell_type": "code",
   "execution_count": 6,
   "metadata": {},
   "outputs": [
    {
     "name": "stdout",
     "output_type": "stream",
     "text": [
      "10\n",
      "10\n"
     ]
    }
   ],
   "source": [
    "a,b,c,d = db.getCards(lst, topic=topic, top_k=5)"
   ]
  },
  {
   "cell_type": "code",
   "execution_count": 8,
   "metadata": {},
   "outputs": [],
   "source": [
    "MD = \"# *Topic*: \"+topic+\"\\n\\n\"\n",
    "MD += \"# Summary\\n\\n\"+txt+\"\\n\\n\"\n",
    "MD += \"# Seeds\\n\\n\"+a.to_markdown()+\"\\n\\n\"\n",
    "MD += \"# Behaviors\\n\\n\"+b.to_markdown()+\"\\n\\n\"\n",
    "MD += \"# Issues\\n\\n\"+c.to_markdown()+\"\\n\\n\"\n",
    "MD += \"# Technologies\\n\\n\"+d.to_markdown()+\"\\n\\n\""
   ]
  },
  {
   "cell_type": "code",
   "execution_count": 9,
   "metadata": {},
   "outputs": [
    {
     "name": "stdout",
     "output_type": "stream",
     "text": [
      "# *Topic*: AI in infrastructure companies\n",
      "\n",
      "# Summary\n",
      "\n",
      "The rapid advancement of artificial intelligence (AI) is reshaping various sectors, from national security to architecture, and is prompting significant changes in organizational structures and job markets. Governments and corporations are increasingly recognizing the need for Strategic Fact Reserves to secure reliable training data for AI development. This is seen as essential for maintaining national security and competitive advantage, especially as AI becomes integral to infrastructure and decision-making processes.\n",
      "\n",
      "In the realm of national security, agencies like the NSA are leveraging AI to detect and counteract cyber threats, particularly from foreign adversaries. The use of AI tools to identify anomalous behavior highlights the technology's role in safeguarding critical infrastructure. However, the potential for AI to disrupt job markets is also a pressing concern. As AI automates routine tasks, organizations are shifting towards flatter hierarchies and hybrid teams, necessitating workforce reskilling and the creation of dedicated AI leadership roles.\n",
      "\n",
      "The architecture industry faces a dual challenge: while AI can enhance design capabilities and efficiency, it also poses a risk of reducing the demand for human architects. AI's ability to generate designs autonomously raises questions about the future of the profession and the need for architects to adapt to these technological advancements. Similarly, the construction sector is experiencing a transformation through AI-driven project management tools that optimize workflows and enhance safety protocols.\n",
      "\n",
      "The ethical implications of AI are increasingly under scrutiny. Critics argue that AI often reinforces existing power structures and lacks the necessary ethical considerations in its design. New models, such as Public Diffusion, aim to promote responsible AI use by emphasizing ethical data sourcing and encouraging meaningful engagement from artists and creators. This reflects a broader call for conscious design choices that respect cultural and social values.\n",
      "\n",
      "AI's potential to drive social good is also a significant theme. Applications of AI are being explored in areas such as health, education, and environmental protection, aligning with the UN Sustainable Development Goals. However, challenges such as funding disparities and biases in AI systems remain. Collaboration among stakeholders is essential to harness AI's capabilities for positive societal impact.\n",
      "\n",
      "The integration of AI into government operations is another area of focus. Agencies are adopting AI technologies to improve efficiency and productivity, as seen with the IRS's implementation of AI for fraud detection and process streamlining. Despite the promise of AI to enhance government performance, challenges persist in scaling applications and addressing the talent shortage in the public sector.\n",
      "\n",
      "Finally, the discourse surrounding AI often includes concerns about its environmental impact and the need for responsible management. Critics argue that AI's proliferation, driven by commercial interests, can lead to excessive energy consumption and a lack of genuine necessity for many applications. This calls for a more measured approach to AI development, balancing innovation with sustainability and ethical considerations.\n",
      "\n",
      "# Seeds\n",
      "\n",
      "|    | name                                  | description                                                                                           | change                                                                                       | 10-year                                                                                        | driving-force                                                                                     |\n",
      "|---:|:--------------------------------------|:------------------------------------------------------------------------------------------------------|:---------------------------------------------------------------------------------------------|:-----------------------------------------------------------------------------------------------|:--------------------------------------------------------------------------------------------------|\n",
      "|  0 | AI as Fundamental Infrastructure      | AI is increasingly recognized as vital as traditional infrastructures like energy and food.           | From AI seen as optional to being classified as critical infrastructure.                     | AI will be a core part of national infrastructure, akin to energy or transportation.           | The integration of AI into everyday productivity and governance will necessitate this change.     |\n",
      "|  1 | Job Transformation in Creative Fields | AI's role is changing the job landscape for architects and designers.                                 | From traditional roles to new collaborative roles with AI tools.                             | Creative jobs will evolve, with AI as a common collaborator rather than a replacement.         | The integration of AI into design practices necessitating new skill sets.                         |\n",
      "|  2 | AI-Driven Project Management          | AI tools are streamlining project management processes in construction.                               | From manual project management to AI-enhanced systems that optimize operations.              | Project management will be fully automated, with AI making real-time decisions for efficiency. | The need for increased productivity and cost-effectiveness in construction.                       |\n",
      "|  3 | Materials Optimization with AI        | AI is helping select sustainable and cost-effective construction materials.                           | From traditional material selection to data-driven, optimized choices.                       | Construction will rely on AI for sustainable material sourcing and waste reduction.            | The push towards sustainability and environmental responsibility in construction.                 |\n",
      "|  4 | Future of Construction Robotics       | AI integration with robotics offers new possibilities in construction.                                | From human labor-intensive tasks to automated, efficient robotic assistance.                 | Robots will handle most construction tasks, increasing speed and precision.                    | The need for efficiency and innovation in the construction workforce.                             |\n",
      "|  5 | AI-Driven Quality Control             | AI systems enhance quality control in construction projects.                                          | From manual oversight to continuous AI-powered quality monitoring.                           | Quality assurance will be radically improved, with fewer errors and rework.                    | The demand for higher standards and reduced human error in construction.                          |\n",
      "|  6 | AI as a Design Prosthesis             | AI is seen as a tool that can augment an architect's capabilities.                                    | Shift from traditional design methods to AI-assisted design processes.                       | The design process may be entirely redefined through AI collaboration.                         | The desire for greater efficiency and innovation in architectural design.                         |\n",
      "|  7 | AI in Climate Action                  | AI's role in addressing climate change and environmental issues.                                      | From reactive measures to proactive AI-driven solutions for climate resilience.              | AI will play a crucial role in developing strategies for sustainable practices worldwide.      | The urgent need to combat climate change and its disproportionate effects on the poor.            |\n",
      "|  8 | New Business Models Around AI         | Emerging business models are focusing on AI applications in various sectors, transforming industries. | Shift from traditional business models to ones centered around AI capabilities and services. | Industries may fully evolve to integrate AI as a core component of business strategies.        | The demand for innovative solutions and efficiency is encouraging new AI-centric business models. |\n",
      "|  9 | AI in Climate Action                  | AI's role in addressing climate change and environmental issues.                                      | From reactive measures to proactive AI-driven solutions for climate resilience.              | AI will play a crucial role in developing strategies for sustainable practices worldwide.      | The urgent need to combat climate change and its disproportionate effects on the poor.            |\n",
      "\n",
      "# Behaviors\n",
      "\n",
      "|    | name                                           | description                                                                                                                                |\n",
      "|---:|:-----------------------------------------------|:-------------------------------------------------------------------------------------------------------------------------------------------|\n",
      "|  0 | Commercial and National Security Intersections | AI advancements becoming crucial for both corporate competitiveness and national security considerations.                                  |\n",
      "|  1 | AI as a Competitive Tool                       | Architects are urged to embrace AI tools to enhance their competitiveness in the industry.                                                 |\n",
      "|  2 | Investment in AI Infrastructure                | Significant investments are being made in AI infrastructure, including cloud computing capabilities, to support generative AI initiatives. |\n",
      "|  3 | Access to Large-Scale Computing for SMEs       | Efforts to ensure smaller companies can utilize advanced AI computing resources.                                                           |\n",
      "|  4 | AI as a productivity enhancer                  | AI is being integrated into workplaces to assist with tasks, thereby improving overall productivity and efficiency.                        |\n",
      "|  5 | AI's role in decision-making                   | AI systems are being designed to assist in decision-making processes across various sectors.                                               |\n",
      "|  6 | AI-Enhanced Productivity                       | AI tools will drastically reduce project completion times, enhancing productivity across various sectors.                                  |\n",
      "|  7 | AI as a Commodity                              | AI technology may become a common ingredient, leading smaller companies to gain competitive advantages over larger ones.                   |\n",
      "|  8 | AI as a Project Companion                      | AI is becoming a companion in project management, assisting with routine tasks and improving overall workflow.                             |\n",
      "|  9 | AI as a productivity enhancer                  | AI is being integrated into workplaces to assist with tasks, thereby improving overall productivity and efficiency.                        |\n",
      "| 10 | AI's role in decision-making                   | AI systems are being designed to assist in decision-making processes across various sectors.                                               |\n",
      "\n",
      "# Issues\n",
      "\n",
      "|    | name                               | description                                                                                                                                 |\n",
      "|---:|:-----------------------------------|:--------------------------------------------------------------------------------------------------------------------------------------------|\n",
      "|  0 | AI as Cognitive Infrastructure     | AI to be viewed as essential infrastructure, potentially on par with GPS, transforming decision-making and productivity.                    |\n",
      "|  1 | Evolution of Architectural Design  | AI's influence on architectural design processes may redefine traditional roles and workflows in the industry.                              |\n",
      "|  2 | AI in Construction                 | The increasing integration of AI technologies in construction, transforming project management, safety, and efficiency.                     |\n",
      "|  3 | Sustainable Materials Optimization | AI's role in selecting durable and sustainable materials aims to reduce waste and environmental impact in construction projects.            |\n",
      "|  4 | AI-Driven Quality Control          | AI systems in quality control promise to reduce human error and ensure construction projects meet high standards.                           |\n",
      "|  5 | AI in Design Processes             | AI's ability to assist in the entire design process could redefine the role of architects, leading to a need for adaptation and new skills. |\n",
      "|  6 | Investment in AI Infrastructure    | Europe is mobilizing significant funds for AI development, indicating a growing emphasis on AI infrastructure and capabilities.             |\n",
      "|  7 | Access to AI Computing Power       | The focus on providing smaller companies access to large-scale computing resources may democratize AI development.                          |\n",
      "|  8 | Data-Driven Decision Making        | AI's capability to process large data sets for better predictions is becoming crucial in project planning and execution.                    |\n",
      "|  9 | New Business Models in AI          | Potential for new business models focused on AI services, similar to fabless semiconductor companies, may emerge.                           |\n",
      "\n",
      "# Technologies\n",
      "\n",
      "|    | name                                         | description                                                                                                                          |\n",
      "|---:|:---------------------------------------------|:-------------------------------------------------------------------------------------------------------------------------------------|\n",
      "|  0 | AI as Cognitive Infrastructure               | AI is becoming an essential infrastructure comparable to energy and education systems, facilitating automation in various sectors.   |\n",
      "|  1 | Artificial Intelligence (AI)                 | AI's rapid advancements enable large-scale deployment across various sectors to promote social good and address challenges.          |\n",
      "|  2 | Artificial Intelligence (AI) in Construction | AI is transforming project management, predictive maintenance, and quality control in construction, enhancing efficiency and safety. |\n",
      "|  3 | Artificial Intelligence (AI)                 | AI technologies are rapidly advancing, capable of generating architectural designs autonomously, revolutionizing the industry.       |\n",
      "|  4 | Artificial Intelligence (AI)                 | AI is becoming a core factor of production, enabling tasks like content creation and data analysis at unprecedented speeds.          |\n",
      "|  5 | AI-driven Startups                           | Emerging companies utilizing AI technologies to innovate in various fields, including life sciences and safety research.             |\n",
      "|  6 | Cloud Computing Resources for Research       | Utilization of cloud services from major tech companies to support AI research and public initiatives.                               |\n",
      "|  7 | AI in Computer Vision                        | AI's role in automating tasks involving vision, with a focus on economic viability for workplace integration.                        |\n",
      "|  8 | AI-as-a-Service                              | Platforms providing AI solutions as a service, democratizing access for smaller businesses and enabling new business models.         |\n",
      "|  9 | Smart City Initiatives                       | AI integration in urban services for improved operational efficiency and customer satisfaction.                                      |\n",
      "\n",
      "\n"
     ]
    }
   ],
   "source": [
    "print(MD)"
   ]
  }
 ],
 "metadata": {
  "kernelspec": {
   "display_name": ".venv",
   "language": "python",
   "name": "python3"
  },
  "language_info": {
   "codemirror_mode": {
    "name": "ipython",
    "version": 3
   },
   "file_extension": ".py",
   "mimetype": "text/x-python",
   "name": "python",
   "nbconvert_exporter": "python",
   "pygments_lexer": "ipython3",
   "version": "3.11.0rc1"
  }
 },
 "nbformat": 4,
 "nbformat_minor": 2
}
