{
 "cells": [
  {
   "cell_type": "code",
   "execution_count": 18,
   "metadata": {},
   "outputs": [],
   "source": [
    "t = list(pd.read_parquet(\"data/pages_metatags_with_closest.parquet.gzip\").themes)"
   ]
  },
  {
   "cell_type": "code",
   "execution_count": 24,
   "metadata": {},
   "outputs": [
    {
     "name": "stdout",
     "output_type": "stream",
     "text": [
      "3546\n"
     ]
    }
   ],
   "source": [
    "T = [\",\".join(x) for x in t]\n",
    "T = [x.strip().title() for x in \",\".join(T).split(\",\")]\n",
    "T = list(set(T))\n",
    "print(len(T))"
   ]
  },
  {
   "cell_type": "code",
   "execution_count": null,
   "metadata": {},
   "outputs": [],
   "source": [
    "h = OAI.Helper(\"local_seeds\") "
   ]
  },
  {
   "cell_type": "code",
   "execution_count": 39,
   "metadata": {},
   "outputs": [],
   "source": []
  },
  {
   "cell_type": "code",
   "execution_count": 65,
   "metadata": {},
   "outputs": [
    {
     "name": "stdout",
     "output_type": "stream",
     "text": [
      "Processing with gpt-4o-mini :\t 10/24/2024, 19:55:34 --> 10/24/2024, 19:55:36\n",
      "Processing with gpt-4o-mini :\t 10/24/2024, 19:55:36 --> 10/24/2024, 19:55:39\n",
      "Processing with gpt-4o-mini :\t 10/24/2024, 19:55:39 --> 10/24/2024, 19:55:40\n",
      "Processing with gpt-4o-mini :\t 10/24/2024, 19:55:40 --> 10/24/2024, 19:55:46\n",
      "Processing with gpt-4o-mini :\t 10/24/2024, 19:55:47 --> 10/24/2024, 19:55:48\n"
     ]
    }
   ],
   "source": [
    "themes = []\n",
    "for k in range(5):\n",
    "    prompt  = \"You are given a list below. Answer with a comma separated list (only a comma separated list) of the different topics covered by the list, the topics can be for example Politics, Geography, Science, Innovation, ...\\n\\n\"\n",
    "    L = \"* \"+\"\\n* \".join(random.sample(T,100))\n",
    "    for theme in h.ask(prompt,L,src=\"localSeedsStep3\",v=\"gpt-4o-mini\").split(\",\"):\n",
    "        themes.append(theme.strip())"
   ]
  },
  {
   "cell_type": "code",
   "execution_count": 68,
   "metadata": {},
   "outputs": [
    {
     "name": "stdout",
     "output_type": "stream",
     "text": [
      "Processing with gpt-4o-mini :\t 10/24/2024, 19:56:18 --> 10/24/2024, 19:56:19\n"
     ]
    },
    {
     "data": {
      "text/plain": [
       "['Espionage',\n",
       " 'Law',\n",
       " 'Economics',\n",
       " 'Technology',\n",
       " 'Health Care',\n",
       " 'Society',\n",
       " 'Innovation',\n",
       " 'Environment',\n",
       " 'Business',\n",
       " 'Politics',\n",
       " 'Culture',\n",
       " 'Sustainability',\n",
       " 'Data Privacy',\n",
       " 'Education',\n",
       " 'Public Health',\n",
       " 'Marketing',\n",
       " 'Cybersecurity',\n",
       " 'Psychology',\n",
       " 'Urban Planning',\n",
       " 'Human Rights']"
      ]
     },
     "execution_count": 68,
     "metadata": {},
     "output_type": "execute_result"
    }
   ],
   "source": [
    "L = \"* \"+\"\\n* \".join(list(set(list([x.strip().title() for x in themes]))))\n",
    "prompt  = \"You  are given a list below.   Then answer  with a comma separated list (only a comma separated list) of no more than 20 topics covered by the list, the topics can be for example Politics, Geography, Science, Innovation, ...\\n\\n\"\n",
    "what = [x.strip().title() for x in h.ask(prompt,L,src=\"localSeedsStep3\",v=\"gpt-4o-mini\").split(\",\")]\n"
   ]
  },
  {
   "cell_type": "code",
   "execution_count": 71,
   "metadata": {},
   "outputs": [
    {
     "data": {
      "text/plain": [
       "['Health',\n",
       " 'Policy',\n",
       " 'Intellectual Property',\n",
       " 'Sport',\n",
       " 'Economics',\n",
       " 'Security',\n",
       " 'Programming',\n",
       " 'Work',\n",
       " 'Business',\n",
       " 'Personal Development',\n",
       " 'Agriculture',\n",
       " 'Globalisation',\n",
       " 'Technology',\n",
       " 'Climate Change',\n",
       " 'Futures',\n",
       " 'Sociology',\n",
       " 'Cities',\n",
       " 'Culture',\n",
       " 'Artificial Intelligence',\n",
       " 'Marketing',\n",
       " 'Innovation',\n",
       " 'Consumer',\n",
       " 'Inequality',\n",
       " 'Education',\n",
       " 'Global Issue',\n",
       " 'Psychology']"
      ]
     },
     "execution_count": 71,
     "metadata": {},
     "output_type": "execute_result"
    }
   ],
   "source": [
    "THEMES = list(set([\"Work\",\"Economics\",\"Inequality\",\"Agriculture\",\"Intellectual Property\",\"Global Issue\",\"Climate Change\",\"Education\",\"Psychology\",\"Marketing\",\"Business\",\"Consumer\",\"Security\",\"Business\",\"Technology\",'Culture',\"Policy\",\"Health\",\"Futures\",\"Innovation\",\"Sport\",\"Artificial Intelligence\",\"Globalisation\",\"Programming\",\"Cities\",\"Sociology\",\"Personal Development\"]))\n",
    "THEMES"
   ]
  }
 ],
 "metadata": {
  "kernelspec": {
   "display_name": "venv",
   "language": "python",
   "name": "python3"
  },
  "language_info": {
   "codemirror_mode": {
    "name": "ipython",
    "version": 3
   },
   "file_extension": ".py",
   "mimetype": "text/x-python",
   "name": "python",
   "nbconvert_exporter": "python",
   "pygments_lexer": "ipython3",
   "version": "3.11.0rc1"
  }
 },
 "nbformat": 4,
 "nbformat_minor": 2
}
